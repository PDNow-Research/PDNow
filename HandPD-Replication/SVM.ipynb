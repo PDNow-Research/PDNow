{
  "nbformat": 4,
  "nbformat_minor": 0,
  "metadata": {
    "colab": {
      "name": "SVM.ipynb",
      "provenance": [],
      "collapsed_sections": [],
      "authorship_tag": "ABX9TyO8uvD3unf6qpwsSjARhkUV",
      "include_colab_link": true
    },
    "kernelspec": {
      "name": "python3",
      "display_name": "Python 3"
    },
    "language_info": {
      "name": "python"
    }
  },
  "cells": [
    {
      "cell_type": "markdown",
      "metadata": {
        "id": "view-in-github",
        "colab_type": "text"
      },
      "source": [
        "<a href=\"https://colab.research.google.com/github/PDNow-Research/PDNow/blob/main/HandPD-Replication/SVM.ipynb\" target=\"_parent\"><img src=\"https://colab.research.google.com/assets/colab-badge.svg\" alt=\"Open In Colab\"/></a>"
      ]
    },
    {
      "cell_type": "code",
      "metadata": {
        "colab": {
          "base_uri": "https://localhost:8080/"
        },
        "id": "QE4ruysJCQn7",
        "outputId": "68e1259f-d0f5-49b9-90fb-34404282c186"
      },
      "source": [
        "from google.colab import drive\n",
        "drive.mount(\"/content/drive\")"
      ],
      "execution_count": 2,
      "outputs": [
        {
          "output_type": "stream",
          "text": [
            "Mounted at /content/drive\n"
          ],
          "name": "stdout"
        }
      ]
    },
    {
      "cell_type": "code",
      "metadata": {
        "id": "v9Y4RF0dDEV2"
      },
      "source": [
        "# Data Science\n",
        "import re\n",
        "import csv\n",
        "import json\n",
        "import itertools\n",
        "from tqdm import tqdm\n",
        "import numpy as np\n",
        "import pandas as pd\n",
        "import seaborn as sns\n",
        "import matplotlib.pyplot as plt\n",
        "\n",
        "# General\n",
        "import os\n",
        "import sys\n",
        "import time\n",
        "import math\n",
        "import random\n",
        "from datetime import date\n",
        "import warnings\n",
        "current_date = date.today()\n",
        "warnings.filterwarnings(\"ignore\")\n",
        "\n",
        "# SVM\n",
        "from sklearn.svm import SVC\n",
        "from sklearn.preprocessing import StandardScaler\n",
        "from sklearn.pipeline import make_pipeline\n",
        "from sklearn.model_selection import train_test_split\n",
        "from sklearn.metrics import confusion_matrix, average_precision_score, classification_report"
      ],
      "execution_count": 3,
      "outputs": []
    },
    {
      "cell_type": "code",
      "metadata": {
        "id": "-ZTgvIpSDSKk"
      },
      "source": [
        "spiral_df = pd.read_csv('/content/drive/My Drive/Data/HandPD-Replication/Spiral_HandPD.txt', delimiter=' ', index_col=0, names=['Patient', 'Label', 'RMS', 'Max_dist', 'Min_dist', 'SD', 'MRT', 'Max_ET', 'Min_ET', 'SD_ET', 'HT_ET_Diff'])"
      ],
      "execution_count": 4,
      "outputs": []
    },
    {
      "cell_type": "code",
      "metadata": {
        "colab": {
          "base_uri": "https://localhost:8080/",
          "height": 237
        },
        "id": "OtmJKzOdEQMU",
        "outputId": "01b3fce5-9260-4454-dda2-3379b139c02a"
      },
      "source": [
        "spiral_df.head()"
      ],
      "execution_count": 5,
      "outputs": [
        {
          "output_type": "execute_result",
          "data": {
            "text/html": [
              "<div>\n",
              "<style scoped>\n",
              "    .dataframe tbody tr th:only-of-type {\n",
              "        vertical-align: middle;\n",
              "    }\n",
              "\n",
              "    .dataframe tbody tr th {\n",
              "        vertical-align: top;\n",
              "    }\n",
              "\n",
              "    .dataframe thead th {\n",
              "        text-align: right;\n",
              "    }\n",
              "</style>\n",
              "<table border=\"1\" class=\"dataframe\">\n",
              "  <thead>\n",
              "    <tr style=\"text-align: right;\">\n",
              "      <th></th>\n",
              "      <th>Label</th>\n",
              "      <th>RMS</th>\n",
              "      <th>Max_dist</th>\n",
              "      <th>Min_dist</th>\n",
              "      <th>SD</th>\n",
              "      <th>MRT</th>\n",
              "      <th>Max_ET</th>\n",
              "      <th>Min_ET</th>\n",
              "      <th>SD_ET</th>\n",
              "      <th>HT_ET_Diff</th>\n",
              "    </tr>\n",
              "    <tr>\n",
              "      <th>Patient</th>\n",
              "      <th></th>\n",
              "      <th></th>\n",
              "      <th></th>\n",
              "      <th></th>\n",
              "      <th></th>\n",
              "      <th></th>\n",
              "      <th></th>\n",
              "      <th></th>\n",
              "      <th></th>\n",
              "      <th></th>\n",
              "    </tr>\n",
              "  </thead>\n",
              "  <tbody>\n",
              "    <tr>\n",
              "      <th>1</th>\n",
              "      <td>1</td>\n",
              "      <td>3521.258301</td>\n",
              "      <td>6247.052734</td>\n",
              "      <td>30801.99219</td>\n",
              "      <td>0.014133</td>\n",
              "      <td>26.785328</td>\n",
              "      <td>176.600113</td>\n",
              "      <td>0.002130</td>\n",
              "      <td>1781.795898</td>\n",
              "      <td>0.250000</td>\n",
              "    </tr>\n",
              "    <tr>\n",
              "      <th>2</th>\n",
              "      <td>1</td>\n",
              "      <td>4098.876465</td>\n",
              "      <td>6032.535156</td>\n",
              "      <td>34369.70313</td>\n",
              "      <td>0.022838</td>\n",
              "      <td>26.529615</td>\n",
              "      <td>168.352737</td>\n",
              "      <td>0.084960</td>\n",
              "      <td>1443.217529</td>\n",
              "      <td>0.273585</td>\n",
              "    </tr>\n",
              "    <tr>\n",
              "      <th>3</th>\n",
              "      <td>1</td>\n",
              "      <td>3854.601807</td>\n",
              "      <td>6453.114746</td>\n",
              "      <td>34709.44531</td>\n",
              "      <td>0.000251</td>\n",
              "      <td>23.670755</td>\n",
              "      <td>180.898300</td>\n",
              "      <td>0.009303</td>\n",
              "      <td>1621.750000</td>\n",
              "      <td>0.256329</td>\n",
              "    </tr>\n",
              "    <tr>\n",
              "      <th>4</th>\n",
              "      <td>1</td>\n",
              "      <td>4069.221924</td>\n",
              "      <td>6844.231445</td>\n",
              "      <td>32181.26367</td>\n",
              "      <td>0.000168</td>\n",
              "      <td>23.456329</td>\n",
              "      <td>179.116043</td>\n",
              "      <td>0.021419</td>\n",
              "      <td>1454.390137</td>\n",
              "      <td>0.249221</td>\n",
              "    </tr>\n",
              "    <tr>\n",
              "      <th>5</th>\n",
              "      <td>1</td>\n",
              "      <td>4104.271973</td>\n",
              "      <td>6949.925293</td>\n",
              "      <td>36444.95313</td>\n",
              "      <td>0.004731</td>\n",
              "      <td>22.488258</td>\n",
              "      <td>188.256210</td>\n",
              "      <td>0.000000</td>\n",
              "      <td>1553.536499</td>\n",
              "      <td>0.214511</td>\n",
              "    </tr>\n",
              "  </tbody>\n",
              "</table>\n",
              "</div>"
            ],
            "text/plain": [
              "         Label          RMS     Max_dist  ...    Min_ET        SD_ET  HT_ET_Diff\n",
              "Patient                                   ...                                   \n",
              "1            1  3521.258301  6247.052734  ...  0.002130  1781.795898    0.250000\n",
              "2            1  4098.876465  6032.535156  ...  0.084960  1443.217529    0.273585\n",
              "3            1  3854.601807  6453.114746  ...  0.009303  1621.750000    0.256329\n",
              "4            1  4069.221924  6844.231445  ...  0.021419  1454.390137    0.249221\n",
              "5            1  4104.271973  6949.925293  ...  0.000000  1553.536499    0.214511\n",
              "\n",
              "[5 rows x 10 columns]"
            ]
          },
          "metadata": {
            "tags": []
          },
          "execution_count": 5
        }
      ]
    },
    {
      "cell_type": "code",
      "metadata": {
        "id": "2Ka51zlVEk7r"
      },
      "source": [
        ""
      ],
      "execution_count": null,
      "outputs": []
    },
    {
      "cell_type": "markdown",
      "metadata": {
        "id": "b1QF9geMGuV2"
      },
      "source": [
        "##**SVM IMPLEMENTATION**"
      ]
    },
    {
      "cell_type": "markdown",
      "metadata": {
        "id": "eNE1zJE5Ru7-"
      },
      "source": [
        "DAY 1 Process\n",
        "1. Import extracted features. No normalization procedures performed (doesn't seem as if extracted features have been normalized yet either). Run model. Complete overfitting - predicts all to be class for 81% accuracy.\n",
        "2. Try normalization with StandardScaler from sklearn. Didn't work very well. Same overfitting problem.\n",
        "3. Tried weighting classes with class_weight='balanced' property since we had many more PD data than non-PD (class-balance). Better results - not overfitting so extremely. 62% accuracy, with 24 false negatives (and 4 false positives)\n",
        "\n",
        "Next Steps: Try the paper's normalization method. Try to see why we have: 10/14 control rows predicted right. 36/60 PD rows predicted right. Also, important to consider than while we have 368 images for spirals, each patient drew 4, so technically we are predicting per 1 image, not per patient. (And we might be unable to predict per patient anyway, since we think we may lack their indexes/don't know which images belong to a specific patient.)"
      ]
    },
    {
      "cell_type": "code",
      "metadata": {
        "id": "hX5-ZM5twVUw"
      },
      "source": [
        "X = spiral_df[['RMS', 'Max_dist', 'Min_dist', 'SD', 'MRT', 'Max_ET', 'Min_ET', 'SD_ET', 'HT_ET_Diff']]\n",
        "y = spiral_df['Label']"
      ],
      "execution_count": 14,
      "outputs": []
    },
    {
      "cell_type": "code",
      "metadata": {
        "id": "Xt8QtOF-wVOO"
      },
      "source": [
        "# scaler = StandardScaler().fit(X_train)\n",
        "# using the paper's suggested normalization method: (fi - ui)/oi\n",
        "\n",
        "avgdev = X.mad(axis=0)\n",
        "stddev = X.std(axis=0)"
      ],
      "execution_count": 15,
      "outputs": []
    },
    {
      "cell_type": "code",
      "metadata": {
        "id": "ySvtZXYEOh_C",
        "colab": {
          "base_uri": "https://localhost:8080/",
          "height": 455
        },
        "outputId": "1936a6ab-a43e-43e6-b566-520c02957193"
      },
      "source": [
        "X.sub(avgdev)\n",
        "X.divide(stddev)"
      ],
      "execution_count": 16,
      "outputs": [
        {
          "output_type": "execute_result",
          "data": {
            "text/html": [
              "<div>\n",
              "<style scoped>\n",
              "    .dataframe tbody tr th:only-of-type {\n",
              "        vertical-align: middle;\n",
              "    }\n",
              "\n",
              "    .dataframe tbody tr th {\n",
              "        vertical-align: top;\n",
              "    }\n",
              "\n",
              "    .dataframe thead th {\n",
              "        text-align: right;\n",
              "    }\n",
              "</style>\n",
              "<table border=\"1\" class=\"dataframe\">\n",
              "  <thead>\n",
              "    <tr style=\"text-align: right;\">\n",
              "      <th></th>\n",
              "      <th>RMS</th>\n",
              "      <th>Max_dist</th>\n",
              "      <th>Min_dist</th>\n",
              "      <th>SD</th>\n",
              "      <th>MRT</th>\n",
              "      <th>Max_ET</th>\n",
              "      <th>Min_ET</th>\n",
              "      <th>SD_ET</th>\n",
              "      <th>HT_ET_Diff</th>\n",
              "    </tr>\n",
              "    <tr>\n",
              "      <th>Patient</th>\n",
              "      <th></th>\n",
              "      <th></th>\n",
              "      <th></th>\n",
              "      <th></th>\n",
              "      <th></th>\n",
              "      <th></th>\n",
              "      <th></th>\n",
              "      <th></th>\n",
              "      <th></th>\n",
              "    </tr>\n",
              "  </thead>\n",
              "  <tbody>\n",
              "    <tr>\n",
              "      <th>1</th>\n",
              "      <td>4.729041</td>\n",
              "      <td>8.290428</td>\n",
              "      <td>9.106523</td>\n",
              "      <td>0.023608</td>\n",
              "      <td>9.812717</td>\n",
              "      <td>30.333172</td>\n",
              "      <td>0.073786</td>\n",
              "      <td>8.346760</td>\n",
              "      <td>5.324048</td>\n",
              "    </tr>\n",
              "    <tr>\n",
              "      <th>2</th>\n",
              "      <td>5.504781</td>\n",
              "      <td>8.005743</td>\n",
              "      <td>10.161307</td>\n",
              "      <td>0.038149</td>\n",
              "      <td>9.719037</td>\n",
              "      <td>28.916587</td>\n",
              "      <td>2.943137</td>\n",
              "      <td>6.760702</td>\n",
              "      <td>5.826319</td>\n",
              "    </tr>\n",
              "    <tr>\n",
              "      <th>3</th>\n",
              "      <td>5.176721</td>\n",
              "      <td>8.563891</td>\n",
              "      <td>10.261751</td>\n",
              "      <td>0.000419</td>\n",
              "      <td>8.671703</td>\n",
              "      <td>31.071437</td>\n",
              "      <td>0.322269</td>\n",
              "      <td>7.597031</td>\n",
              "      <td>5.458832</td>\n",
              "    </tr>\n",
              "    <tr>\n",
              "      <th>4</th>\n",
              "      <td>5.464955</td>\n",
              "      <td>9.082940</td>\n",
              "      <td>9.514301</td>\n",
              "      <td>0.000281</td>\n",
              "      <td>8.593149</td>\n",
              "      <td>30.765313</td>\n",
              "      <td>0.741985</td>\n",
              "      <td>6.813039</td>\n",
              "      <td>5.307459</td>\n",
              "    </tr>\n",
              "    <tr>\n",
              "      <th>5</th>\n",
              "      <td>5.512027</td>\n",
              "      <td>9.223206</td>\n",
              "      <td>10.774849</td>\n",
              "      <td>0.007903</td>\n",
              "      <td>8.238499</td>\n",
              "      <td>32.335246</td>\n",
              "      <td>0.000000</td>\n",
              "      <td>7.277487</td>\n",
              "      <td>4.568268</td>\n",
              "    </tr>\n",
              "    <tr>\n",
              "      <th>...</th>\n",
              "      <td>...</td>\n",
              "      <td>...</td>\n",
              "      <td>...</td>\n",
              "      <td>...</td>\n",
              "      <td>...</td>\n",
              "      <td>...</td>\n",
              "      <td>...</td>\n",
              "      <td>...</td>\n",
              "      <td>...</td>\n",
              "    </tr>\n",
              "    <tr>\n",
              "      <th>364</th>\n",
              "      <td>7.511675</td>\n",
              "      <td>10.613706</td>\n",
              "      <td>10.753051</td>\n",
              "      <td>0.000317</td>\n",
              "      <td>9.878282</td>\n",
              "      <td>30.757736</td>\n",
              "      <td>2.076824</td>\n",
              "      <td>8.831221</td>\n",
              "      <td>4.230553</td>\n",
              "    </tr>\n",
              "    <tr>\n",
              "      <th>365</th>\n",
              "      <td>10.725576</td>\n",
              "      <td>9.949403</td>\n",
              "      <td>8.842628</td>\n",
              "      <td>4.365838</td>\n",
              "      <td>8.161527</td>\n",
              "      <td>34.998053</td>\n",
              "      <td>1.156054</td>\n",
              "      <td>7.811570</td>\n",
              "      <td>5.140454</td>\n",
              "    </tr>\n",
              "    <tr>\n",
              "      <th>366</th>\n",
              "      <td>6.248353</td>\n",
              "      <td>9.655240</td>\n",
              "      <td>11.670796</td>\n",
              "      <td>0.401849</td>\n",
              "      <td>7.921156</td>\n",
              "      <td>34.132516</td>\n",
              "      <td>0.000000</td>\n",
              "      <td>6.884646</td>\n",
              "      <td>6.388858</td>\n",
              "    </tr>\n",
              "    <tr>\n",
              "      <th>367</th>\n",
              "      <td>6.962033</td>\n",
              "      <td>10.669915</td>\n",
              "      <td>10.445904</td>\n",
              "      <td>0.034589</td>\n",
              "      <td>9.980789</td>\n",
              "      <td>31.276993</td>\n",
              "      <td>0.628465</td>\n",
              "      <td>8.357919</td>\n",
              "      <td>4.919698</td>\n",
              "    </tr>\n",
              "    <tr>\n",
              "      <th>368</th>\n",
              "      <td>6.870487</td>\n",
              "      <td>9.198111</td>\n",
              "      <td>10.498812</td>\n",
              "      <td>0.125537</td>\n",
              "      <td>8.391005</td>\n",
              "      <td>32.215524</td>\n",
              "      <td>0.000000</td>\n",
              "      <td>8.254392</td>\n",
              "      <td>3.608214</td>\n",
              "    </tr>\n",
              "  </tbody>\n",
              "</table>\n",
              "<p>368 rows × 9 columns</p>\n",
              "</div>"
            ],
            "text/plain": [
              "               RMS   Max_dist   Min_dist  ...    Min_ET     SD_ET  HT_ET_Diff\n",
              "Patient                                   ...                                \n",
              "1         4.729041   8.290428   9.106523  ...  0.073786  8.346760    5.324048\n",
              "2         5.504781   8.005743  10.161307  ...  2.943137  6.760702    5.826319\n",
              "3         5.176721   8.563891  10.261751  ...  0.322269  7.597031    5.458832\n",
              "4         5.464955   9.082940   9.514301  ...  0.741985  6.813039    5.307459\n",
              "5         5.512027   9.223206  10.774849  ...  0.000000  7.277487    4.568268\n",
              "...            ...        ...        ...  ...       ...       ...         ...\n",
              "364       7.511675  10.613706  10.753051  ...  2.076824  8.831221    4.230553\n",
              "365      10.725576   9.949403   8.842628  ...  1.156054  7.811570    5.140454\n",
              "366       6.248353   9.655240  11.670796  ...  0.000000  6.884646    6.388858\n",
              "367       6.962033  10.669915  10.445904  ...  0.628465  8.357919    4.919698\n",
              "368       6.870487   9.198111  10.498812  ...  0.000000  8.254392    3.608214\n",
              "\n",
              "[368 rows x 9 columns]"
            ]
          },
          "metadata": {
            "tags": []
          },
          "execution_count": 16
        }
      ]
    },
    {
      "cell_type": "code",
      "metadata": {
        "id": "FTBt2of2I2Vm"
      },
      "source": [
        "y_label = y.to_numpy()\n",
        "X_train, X_test, y_train, y_test = train_test_split(X, y, random_state = 0, test_size = 0.2, stratify = y_label)"
      ],
      "execution_count": 17,
      "outputs": []
    },
    {
      "cell_type": "code",
      "metadata": {
        "id": "54NNZaxGJpQW"
      },
      "source": [
        "X_train = X_train.reset_index(drop = True)\n",
        "X_test = X_test.reset_index(drop = True)"
      ],
      "execution_count": 19,
      "outputs": []
    },
    {
      "cell_type": "code",
      "metadata": {
        "id": "dzmGJ3zcKV6v"
      },
      "source": [
        "y_train = y_train.reset_index(drop = True)\n",
        "y_test = y_test.reset_index(drop = True)"
      ],
      "execution_count": 20,
      "outputs": []
    },
    {
      "cell_type": "code",
      "metadata": {
        "colab": {
          "base_uri": "https://localhost:8080/"
        },
        "id": "UvM6vqR6Ko52",
        "outputId": "f66484c4-c098-47df-d185-c96e3839c7da"
      },
      "source": [
        "y_train.value_counts()"
      ],
      "execution_count": 21,
      "outputs": [
        {
          "output_type": "execute_result",
          "data": {
            "text/plain": [
              "2    236\n",
              "1     58\n",
              "Name: Label, dtype: int64"
            ]
          },
          "metadata": {
            "tags": []
          },
          "execution_count": 21
        }
      ]
    },
    {
      "cell_type": "code",
      "metadata": {
        "colab": {
          "base_uri": "https://localhost:8080/"
        },
        "id": "b783Fe5KKqXX",
        "outputId": "d6fec4d7-938b-46e8-83e1-0b2de38b094b"
      },
      "source": [
        "y_test.value_counts()"
      ],
      "execution_count": 22,
      "outputs": [
        {
          "output_type": "execute_result",
          "data": {
            "text/plain": [
              "2    60\n",
              "1    14\n",
              "Name: Label, dtype: int64"
            ]
          },
          "metadata": {
            "tags": []
          },
          "execution_count": 22
        }
      ]
    },
    {
      "cell_type": "code",
      "metadata": {
        "id": "7vpTfqLuIkBT",
        "colab": {
          "base_uri": "https://localhost:8080/"
        },
        "outputId": "5e103fa0-0182-453f-ed68-04c4f1d615d2"
      },
      "source": [
        "clf = SVC(kernel='rbf', probability=True, class_weight='balanced')\n",
        "clf.fit(X_train, y_train)"
      ],
      "execution_count": 23,
      "outputs": [
        {
          "output_type": "execute_result",
          "data": {
            "text/plain": [
              "SVC(C=1.0, break_ties=False, cache_size=200, class_weight='balanced', coef0=0.0,\n",
              "    decision_function_shape='ovr', degree=3, gamma='scale', kernel='rbf',\n",
              "    max_iter=-1, probability=True, random_state=None, shrinking=True, tol=0.001,\n",
              "    verbose=False)"
            ]
          },
          "metadata": {
            "tags": []
          },
          "execution_count": 23
        }
      ]
    },
    {
      "cell_type": "code",
      "metadata": {
        "id": "hzs7YGmBGwm9"
      },
      "source": [
        "y_pred = clf.predict(X_test)\n",
        "y_proba = clf.predict_proba(X_test)"
      ],
      "execution_count": 24,
      "outputs": []
    },
    {
      "cell_type": "code",
      "metadata": {
        "colab": {
          "base_uri": "https://localhost:8080/"
        },
        "id": "su5RMaC_MaPF",
        "outputId": "1a24866f-cc04-40a6-d691-aad7da46853f"
      },
      "source": [
        "clf.score(X_test, y_test)"
      ],
      "execution_count": 25,
      "outputs": [
        {
          "output_type": "execute_result",
          "data": {
            "text/plain": [
              "0.7567567567567568"
            ]
          },
          "metadata": {
            "tags": []
          },
          "execution_count": 25
        }
      ]
    },
    {
      "cell_type": "code",
      "metadata": {
        "id": "8sgC95rQPQJ2"
      },
      "source": [
        "y_pred = pd.Series(y_pred)"
      ],
      "execution_count": 26,
      "outputs": []
    },
    {
      "cell_type": "code",
      "metadata": {
        "colab": {
          "base_uri": "https://localhost:8080/"
        },
        "id": "S1RUwr2GPTuu",
        "outputId": "242c61f0-bb56-4314-e7c3-b69ac354292c"
      },
      "source": [
        "type(y_test)"
      ],
      "execution_count": 27,
      "outputs": [
        {
          "output_type": "execute_result",
          "data": {
            "text/plain": [
              "pandas.core.series.Series"
            ]
          },
          "metadata": {
            "tags": []
          },
          "execution_count": 27
        }
      ]
    },
    {
      "cell_type": "code",
      "metadata": {
        "id": "wZf0iMccM767"
      },
      "source": [
        "target_names = ['Control', 'PD']\n",
        "results = classification_report(y_test, y_pred, target_names = target_names, output_dict=True)\n",
        "results = pd.DataFrame(results).transpose()\n",
        "conf_mat = confusion_matrix(y_test, y_pred)"
      ],
      "execution_count": 28,
      "outputs": []
    },
    {
      "cell_type": "code",
      "metadata": {
        "colab": {
          "base_uri": "https://localhost:8080/",
          "height": 206
        },
        "id": "thzR3k3lMz31",
        "outputId": "eab5bf87-d660-48ab-e961-c34fbd674913"
      },
      "source": [
        "results"
      ],
      "execution_count": 29,
      "outputs": [
        {
          "output_type": "execute_result",
          "data": {
            "text/html": [
              "<div>\n",
              "<style scoped>\n",
              "    .dataframe tbody tr th:only-of-type {\n",
              "        vertical-align: middle;\n",
              "    }\n",
              "\n",
              "    .dataframe tbody tr th {\n",
              "        vertical-align: top;\n",
              "    }\n",
              "\n",
              "    .dataframe thead th {\n",
              "        text-align: right;\n",
              "    }\n",
              "</style>\n",
              "<table border=\"1\" class=\"dataframe\">\n",
              "  <thead>\n",
              "    <tr style=\"text-align: right;\">\n",
              "      <th></th>\n",
              "      <th>precision</th>\n",
              "      <th>recall</th>\n",
              "      <th>f1-score</th>\n",
              "      <th>support</th>\n",
              "    </tr>\n",
              "  </thead>\n",
              "  <tbody>\n",
              "    <tr>\n",
              "      <th>Control</th>\n",
              "      <td>0.357143</td>\n",
              "      <td>0.357143</td>\n",
              "      <td>0.357143</td>\n",
              "      <td>14.000000</td>\n",
              "    </tr>\n",
              "    <tr>\n",
              "      <th>PD</th>\n",
              "      <td>0.850000</td>\n",
              "      <td>0.850000</td>\n",
              "      <td>0.850000</td>\n",
              "      <td>60.000000</td>\n",
              "    </tr>\n",
              "    <tr>\n",
              "      <th>accuracy</th>\n",
              "      <td>0.756757</td>\n",
              "      <td>0.756757</td>\n",
              "      <td>0.756757</td>\n",
              "      <td>0.756757</td>\n",
              "    </tr>\n",
              "    <tr>\n",
              "      <th>macro avg</th>\n",
              "      <td>0.603571</td>\n",
              "      <td>0.603571</td>\n",
              "      <td>0.603571</td>\n",
              "      <td>74.000000</td>\n",
              "    </tr>\n",
              "    <tr>\n",
              "      <th>weighted avg</th>\n",
              "      <td>0.756757</td>\n",
              "      <td>0.756757</td>\n",
              "      <td>0.756757</td>\n",
              "      <td>74.000000</td>\n",
              "    </tr>\n",
              "  </tbody>\n",
              "</table>\n",
              "</div>"
            ],
            "text/plain": [
              "              precision    recall  f1-score    support\n",
              "Control        0.357143  0.357143  0.357143  14.000000\n",
              "PD             0.850000  0.850000  0.850000  60.000000\n",
              "accuracy       0.756757  0.756757  0.756757   0.756757\n",
              "macro avg      0.603571  0.603571  0.603571  74.000000\n",
              "weighted avg   0.756757  0.756757  0.756757  74.000000"
            ]
          },
          "metadata": {
            "tags": []
          },
          "execution_count": 29
        }
      ]
    },
    {
      "cell_type": "code",
      "metadata": {
        "colab": {
          "base_uri": "https://localhost:8080/"
        },
        "id": "zAXqc2uPNeq5",
        "outputId": "c39432ff-936c-449b-c7dc-ceea90b3dad1"
      },
      "source": [
        "conf_mat"
      ],
      "execution_count": 30,
      "outputs": [
        {
          "output_type": "execute_result",
          "data": {
            "text/plain": [
              "array([[ 5,  9],\n",
              "       [ 9, 51]])"
            ]
          },
          "metadata": {
            "tags": []
          },
          "execution_count": 30
        }
      ]
    },
    {
      "cell_type": "code",
      "metadata": {
        "colab": {
          "base_uri": "https://localhost:8080/"
        },
        "id": "vwthqW4OQD2z",
        "outputId": "61a98a8b-b333-4c4e-a938-eebbe1347262"
      },
      "source": [
        "TN, FP, FN, TP = conf_mat.ravel()\n",
        "\n",
        "# Sensitivity, hit rate, recall, or true positive rate\n",
        "TPR = TP/(TP+FN)\n",
        "\n",
        "# Specificity or true negative rate\n",
        "TNR = TN/(TN+FP) \n",
        "\n",
        "# Precision or positive predictive value\n",
        "PPV = TP/(TP+FP)\n",
        "\n",
        "# Negative predictive value\n",
        "NPV = TN/(TN+FN)\n",
        "\n",
        "# Fall out or false positive rate\n",
        "FPR = FP/(FP+TN)\n",
        "\n",
        "# False negative rate\n",
        "FNR = FN/(TP+FN)\n",
        "\n",
        "# False discovery rate\n",
        "FDR = FP/(TP+FP)\n",
        "\n",
        "print(\"TP: \", TP)\n",
        "print(\"TN: \", TN)\n",
        "print(\"FP: \", FP)\n",
        "print(\"FN: \", FN)\n",
        "\n",
        "print(\"Sensitivity: \", TPR)\n",
        "print(\"Specificity: \", TNR)\n",
        "print(\"NPV: \", NPV)\n",
        "print(\"PPV: \", PPV)"
      ],
      "execution_count": 31,
      "outputs": [
        {
          "output_type": "stream",
          "text": [
            "TP:  51\n",
            "TN:  5\n",
            "FP:  9\n",
            "FN:  9\n",
            "Sensitivity:  0.85\n",
            "Specificity:  0.35714285714285715\n",
            "NPV:  0.35714285714285715\n",
            "PPV:  0.85\n"
          ],
          "name": "stdout"
        }
      ]
    }
  ]
}