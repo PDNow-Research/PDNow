{
  "nbformat": 4,
  "nbformat_minor": 0,
  "metadata": {
    "colab": {
      "name": "NN_Numerical.ipynb",
      "provenance": [],
      "collapsed_sections": [],
      "authorship_tag": "ABX9TyPBVsp3qeZhOsjW1ShucfBB",
      "include_colab_link": true
    },
    "kernelspec": {
      "name": "python3",
      "display_name": "Python 3"
    },
    "language_info": {
      "name": "python"
    },
    "accelerator": "GPU"
  },
  "cells": [
    {
      "cell_type": "markdown",
      "metadata": {
        "id": "view-in-github",
        "colab_type": "text"
      },
      "source": [
        "<a href=\"https://colab.research.google.com/github/PDNow-Research/PDNow/blob/main/HandPD/NeuralNets/NN_Numerical.ipynb\" target=\"_parent\"><img src=\"https://colab.research.google.com/assets/colab-badge.svg\" alt=\"Open In Colab\"/></a>"
      ]
    },
    {
      "cell_type": "code",
      "metadata": {
        "id": "TkGertFcjmEM",
        "colab": {
          "base_uri": "https://localhost:8080/"
        },
        "outputId": "cf8bc5d9-cf56-458b-ee99-01b50ea6063c"
      },
      "source": [
        "from google.colab import drive\n",
        "drive.mount(\"/content/drive\")"
      ],
      "execution_count": 76,
      "outputs": [
        {
          "output_type": "stream",
          "text": [
            "Drive already mounted at /content/drive; to attempt to forcibly remount, call drive.mount(\"/content/drive\", force_remount=True).\n"
          ],
          "name": "stdout"
        }
      ]
    },
    {
      "cell_type": "markdown",
      "metadata": {
        "id": "Ps9pOrBx_4cC"
      },
      "source": [
        "We are going to take text-based features and apply a simple, fully-connected neural network to them. Atually, let's use images - that's what the tutorial does. Let's only consider Meander for the time being."
      ]
    },
    {
      "cell_type": "code",
      "metadata": {
        "id": "x3eF1D-LjzNr"
      },
      "source": [
        "# General\n",
        "import numpy as np\n",
        "import matplotlib.pyplot as plt\n",
        "from io import BytesIO\n",
        "import PIL\n",
        "from PIL import Image\n",
        "import pandas as pd\n",
        "import os\n",
        "import math\n",
        "\n",
        "# Image Reading\n",
        "import cv2\n",
        "import glob\n",
        "\n",
        "# Other ML Preprocessing\n",
        "from sklearn.model_selection import train_test_split\n",
        "from sklearn.metrics import confusion_matrix\n",
        "\n",
        "# Torch General\n",
        "import torch\n",
        "import torchvision\n",
        "from torch.utils.data import Dataset, DataLoader, Subset\n",
        "import torch.nn as nn # loss functions, neural network type (convolutional, linear, etc.)\n",
        "import torch.optim as optim # optimization functions (sgd)\n",
        "import torch.nn.functional as F # functions without parameters - activation functions (Relu, etc.) (also included in nn package, could use, but functional package is \"better\")\n",
        "from torch.utils.data import DataLoader\n",
        "import torchvision.datasets as datasets # torch has a LOT LOT LOT of standard datasets (ImageNet, MNIST, etc.)\n",
        "import torchvision.transforms as transforms # transformations for dataset\n",
        "from torch.utils.data.sampler import SubsetRandomSampler # PyTorch train test split"
      ],
      "execution_count": 77,
      "outputs": []
    },
    {
      "cell_type": "markdown",
      "metadata": {
        "id": "VvwBQmamlFeR"
      },
      "source": [
        "First to load the data."
      ]
    },
    {
      "cell_type": "markdown",
      "metadata": {
        "id": "F8FL-1eHknDM"
      },
      "source": [
        "## Load Data"
      ]
    },
    {
      "cell_type": "markdown",
      "metadata": {
        "id": "TG5gu2CV-kn8"
      },
      "source": [
        "### Preprocessing"
      ]
    },
    {
      "cell_type": "code",
      "metadata": {
        "id": "6QSHyNkXuZAX"
      },
      "source": [
        "# Fix Duplicates\n",
        "# Our duplicates are 5, 23, 31 patient_ids\n",
        "def fix_duplicate_ids(df, patient_ids, exam_ids, new_ids):\n",
        "\n",
        "  df = df.copy()\n",
        "  \n",
        "  for i in range(len(patient_ids)): # don't need the actually patient_id numbers, but important that user knows what they are\n",
        "    df[\"ID_PATIENT\"][df[\"_ID_EXAM\"] == exam_ids[i]] = new_ids[i]\n",
        "\n",
        "  return df"
      ],
      "execution_count": 78,
      "outputs": []
    },
    {
      "cell_type": "code",
      "metadata": {
        "id": "8P6s3QrYpvRN"
      },
      "source": [
        "def feature_normalization(df):\n",
        "\n",
        "  avg_dev = df.mad(axis = 0)\n",
        "  std_dev = df.std(axis = 0)\n",
        "\n",
        "  df = df.sub(avg_dev)\n",
        "  df = df.divide(std_dev)\n",
        "\n",
        "  return df"
      ],
      "execution_count": 79,
      "outputs": []
    },
    {
      "cell_type": "code",
      "metadata": {
        "id": "LeTuX0ihosiD"
      },
      "source": [
        "class PDDataset(Dataset):\n",
        "  def __init__(self):\n",
        "    # Data loading\n",
        "    spiral_df = pd.read_csv('/content/drive/My Drive/Data/HandPD-Replication/NewSpiral.csv')\n",
        "    meander_df = pd.read_csv('/content/drive/My Drive/Data/HandPD-Replication/NewMeander.csv')\n",
        "\n",
        "    data_all = pd.concat((spiral_df, meander_df))\n",
        "    data_all = fix_duplicate_ids(data_all, [5, 23, 31], ['P25', 'P3', 'P26'], [500, 501, 502])\n",
        "\n",
        "    # Normalization\n",
        "    X = data_all[['RMS', 'MAX_BETWEEN_ET_HT', 'MIN_BETWEEN_ET_HT', 'STD_DEVIATION_ET_HT', 'MRT', 'MAX_HT', 'MIN_HT','STD_HT', 'CHANGES_FROM_NEGATIVE_TO_POSITIVE_BETWEEN_ET_HT']]\n",
        "    X = feature_normalization(X)\n",
        "    \n",
        "    # We must avoid shuffling the data now. It should stay in order all throughout the process\n",
        "    X = X.to_numpy(dtype=float)\n",
        "    y = data_all['CLASS_TYPE'].to_numpy()\n",
        "    \n",
        "    y = y - 1 # so we have labels 0 and 1, not 1 and 2\n",
        "\n",
        "    self.n_samples = data_all.shape[0]\n",
        "\n",
        "    self.x = torch.from_numpy(X).float() # creates tensor from numpy array, making it float as expected by model\n",
        "    self.y = torch.from_numpy(y).long() # y_all is numpy array too, making it a long as expected by model\n",
        "  \n",
        "  # support indexing such that dataset[i] can be used to get i-th sample\n",
        "  def __getitem__(self, index):\n",
        "        return self.x[index], self.y[index]\n",
        "\n",
        "  # to return size\n",
        "  def __len__(self):\n",
        "    return self.n_samples"
      ],
      "execution_count": 80,
      "outputs": []
    },
    {
      "cell_type": "code",
      "metadata": {
        "id": "F5rlj-zaatPD",
        "colab": {
          "base_uri": "https://localhost:8080/"
        },
        "outputId": "2f053d91-1d20-47d4-cf6b-4110619c624f"
      },
      "source": [
        "dataset = PDDataset() # Meander Dataset object\n",
        "\n",
        "# Why the warning?"
      ],
      "execution_count": 81,
      "outputs": [
        {
          "output_type": "stream",
          "text": [
            "/usr/local/lib/python3.7/dist-packages/ipykernel_launcher.py:8: SettingWithCopyWarning: \n",
            "A value is trying to be set on a copy of a slice from a DataFrame\n",
            "\n",
            "See the caveats in the documentation: https://pandas.pydata.org/pandas-docs/stable/user_guide/indexing.html#returning-a-view-versus-a-copy\n",
            "  \n"
          ],
          "name": "stderr"
        }
      ]
    },
    {
      "cell_type": "code",
      "metadata": {
        "colab": {
          "base_uri": "https://localhost:8080/"
        },
        "id": "uOCtKHuXv33-",
        "outputId": "3c357a1f-3187-490b-c7c3-89d15f1f2ed3"
      },
      "source": [
        "first_row = dataset[0]\n",
        "feature0, label0 = first_row\n",
        "print(feature0, label0)"
      ],
      "execution_count": 82,
      "outputs": [
        {
          "output_type": "stream",
          "text": [
            "tensor([ 7.1436,  7.8385,  3.2998, -0.1434,  4.7975,  8.7665, -0.2707,  4.8289,\n",
            "         0.8604]) tensor(0)\n"
          ],
          "name": "stdout"
        }
      ]
    },
    {
      "cell_type": "code",
      "metadata": {
        "colab": {
          "base_uri": "https://localhost:8080/"
        },
        "id": "zy4NmhAIIwV-",
        "outputId": "c9a177a5-2bbb-4cfe-a6e6-ed713cd53fac"
      },
      "source": [
        "len(dataset) # make sense, 264 * 2"
      ],
      "execution_count": 83,
      "outputs": [
        {
          "output_type": "execute_result",
          "data": {
            "text/plain": [
              "528"
            ]
          },
          "metadata": {},
          "execution_count": 83
        }
      ]
    },
    {
      "cell_type": "markdown",
      "metadata": {
        "id": "CzYiS7yNNxBQ"
      },
      "source": [
        "### DataLoader\n"
      ]
    },
    {
      "cell_type": "code",
      "metadata": {
        "id": "3AYxhzwoMiga"
      },
      "source": [
        "# Dataloader to load whole dataset\n",
        "# Shuffle: no shuffle should happen! We don't want to mix up the data, since patient info must correspond with the proper labels for diagnosis\n",
        "# num_workers: faster loading with multiple subprocesses simultaneously, set to 0 if error occurs when loading"
      ],
      "execution_count": 89,
      "outputs": []
    },
    {
      "cell_type": "code",
      "metadata": {
        "id": "2Vfo8yMzBh_b"
      },
      "source": [
        "# To perform train test split, we'll use sklearn... https://stackoverflow.com/questions/50544730/how-do-i-split-a-custom-dataset-into-training-and-test-datasets\n",
        "\n",
        "# generate indices: instead of the actual data we pass in integers instead\n",
        "train_indices, test_indices, _ , _ = train_test_split(\n",
        "    range(len(dataset)),\n",
        "    dataset.y,\n",
        "    stratify=dataset.y,\n",
        "    test_size=test_size,\n",
        "    random_state=seed\n",
        ")"
      ],
      "execution_count": 90,
      "outputs": []
    },
    {
      "cell_type": "code",
      "metadata": {
        "id": "zk9e_kh9JPcR"
      },
      "source": [
        "# train_indices is indices of the training values while test_indices is indicies of the testing values. Let's split our data like such.\n",
        "\n",
        "# can I concatenate to a dataset object??? we wont worry about it right now. This is for patient level diagnosis...\n",
        "\n",
        "# generate subset based on indices\n",
        "train_dataset = Subset(dataset, train_indices)\n",
        "test_dataset = Subset(dataset, test_indices)"
      ],
      "execution_count": 91,
      "outputs": []
    },
    {
      "cell_type": "code",
      "metadata": {
        "colab": {
          "base_uri": "https://localhost:8080/"
        },
        "id": "5j3h00VAeRqe",
        "outputId": "c98c8dfc-7e59-4013-94ee-728d558d0b32"
      },
      "source": [
        "train_dataset"
      ],
      "execution_count": 92,
      "outputs": [
        {
          "output_type": "execute_result",
          "data": {
            "text/plain": [
              "<torch.utils.data.dataset.Subset at 0x7ff154fb74d0>"
            ]
          },
          "metadata": {},
          "execution_count": 92
        }
      ]
    },
    {
      "cell_type": "code",
      "metadata": {
        "colab": {
          "base_uri": "https://localhost:8080/"
        },
        "id": "B0NNckzyJgiR",
        "outputId": "b4d905cd-f1fd-4869-927d-6c7fae414e94"
      },
      "source": [
        "len(train_dataset), len(test_dataset)"
      ],
      "execution_count": 93,
      "outputs": [
        {
          "output_type": "execute_result",
          "data": {
            "text/plain": [
              "(396, 132)"
            ]
          },
          "metadata": {},
          "execution_count": 93
        }
      ]
    },
    {
      "cell_type": "code",
      "metadata": {
        "id": "Djy29psB1Z8L"
      },
      "source": [
        "train_loader = DataLoader(dataset = train_dataset, batch_size = batch_size, shuffle = True, num_workers =2)\n",
        "test_loader = DataLoader(dataset = test_dataset, batch_size = batch_size, shuffle = True, num_workers =2)"
      ],
      "execution_count": 94,
      "outputs": []
    },
    {
      "cell_type": "markdown",
      "metadata": {
        "id": "6G2v9AbplQ3_"
      },
      "source": [
        "## Defining the Network"
      ]
    },
    {
      "cell_type": "markdown",
      "metadata": {
        "id": "VUNYEAhmT3Zd"
      },
      "source": [
        "ACTIVATION FUNCTION DECIDES WHAT IS SENT TO THE NEXT LAYER - IT IS between LAYERS."
      ]
    },
    {
      "cell_type": "markdown",
      "metadata": {
        "id": "nRGjWjPnA2w3"
      },
      "source": [
        "Now to create the fully connected network."
      ]
    },
    {
      "cell_type": "code",
      "metadata": {
        "id": "_16mfP3JkKp9"
      },
      "source": [
        "class NN(nn.Module):\n",
        "  def __init__(self, input_size, output_size): # input-size = 9, num_classes = 2 (PD/no PD), which is the output size for each row\n",
        "\n",
        "    super(NN, self).__init__() # initializes the NN class that we're defining\n",
        "    self.fc1 = nn.Linear(input_size, 64) # 5000 nodes - WAYY too much\n",
        "    self.dt1 = nn.Dropout(0.1, inplace=False)\n",
        "    self.fc2 = nn.Linear(64, 16)\n",
        "    self.fc3 = nn.Linear(16, output_size)\n",
        "    #self.hd1 = nn.Linear(32, hidden_size1)\n",
        "    \n",
        "    #self.hd2 = nn.Linear(hidden_size1, hidden_size2)\n",
        "    \n",
        "\n",
        "  def forward(self, x): # run on some input x, which is the images which we run through fc1 and fc2 layers created above (and add the reLU activation function it between)\n",
        "    x = F.relu(self.fc1(x))\n",
        "    # x = F.relu(self.hd1(x))\n",
        "    x = self.dt1(x)\n",
        "    x = torch.sigmoid(self.fc2(x)) # functional library.sigmoid is deprecated\n",
        "    # x = F.relu(self.hd2(x))\n",
        "    x = self.fc3(x)\n",
        "    return x"
      ],
      "execution_count": 119,
      "outputs": []
    },
    {
      "cell_type": "markdown",
      "metadata": {
        "id": "5hJ98iivMqS6"
      },
      "source": [
        "### Quick Test\n",
        "\n",
        "What the model should output it something of shape [264 (140 + 124), 2]. For each image, it should predict the probability of it being in class 1 or 2 and return both of those."
      ]
    },
    {
      "cell_type": "markdown",
      "metadata": {
        "id": "f7oC7YSPkdtG"
      },
      "source": [
        "## Set Device + Init Hyperparams"
      ]
    },
    {
      "cell_type": "code",
      "metadata": {
        "id": "ajJcm8-PNalT",
        "colab": {
          "base_uri": "https://localhost:8080/"
        },
        "outputId": "0d49add4-5354-43db-cefc-25e347ec8bdb"
      },
      "source": [
        "# Device set \n",
        "device = torch.device('cuda' if torch.cuda.is_available() else 'cpu') # google colab provides cuda gpu\n",
        "print (device)"
      ],
      "execution_count": 120,
      "outputs": [
        {
          "output_type": "stream",
          "text": [
            "cuda\n"
          ],
          "name": "stdout"
        }
      ]
    },
    {
      "cell_type": "code",
      "metadata": {
        "id": "C3nthTPetEQf"
      },
      "source": [
        "# Hyperparams\n",
        "input_size = 9 # size of 1 row of data\n",
        "num_classes = 2 # which is output_size\n",
        "\n",
        "# tunables\n",
        "test_size = 0.25\n",
        "learning_rate = 0.01\n",
        "batch_size = 256\n",
        "num_epochs = 150\n",
        "seed = 0 # just random state to start at"
      ],
      "execution_count": 121,
      "outputs": []
    },
    {
      "cell_type": "code",
      "metadata": {
        "colab": {
          "base_uri": "https://localhost:8080/"
        },
        "id": "AHUZ9XHGEaVa",
        "outputId": "8cce96a0-4c2c-4aa1-adb3-d128f352da42"
      },
      "source": [
        "# input-size really refers to the size of 1 row of data.\n",
        "# batch-size is the number of rows being fed to the model at one time\n",
        "\n",
        "model = NN(9, 2) \n",
        "print (model)\n",
        "\n",
        "# 264 spiral, 264 meander images\n",
        "# 35 non PD patients, 31 PD patients, each who drew 4 spirals and 4 meanders\n",
        "x = torch.randn(64, 9) # 64 batch size, 9 x 1 is the size of 1 row of data. This is the shape of what will be fed to the model at one time. (2D array of 64 x 9)\n",
        "print (model(x).shape)"
      ],
      "execution_count": 122,
      "outputs": [
        {
          "output_type": "stream",
          "text": [
            "NN(\n",
            "  (fc1): Linear(in_features=9, out_features=64, bias=True)\n",
            "  (dt1): Dropout(p=0.1, inplace=False)\n",
            "  (fc2): Linear(in_features=64, out_features=16, bias=True)\n",
            "  (fc3): Linear(in_features=16, out_features=2, bias=True)\n",
            ")\n",
            "torch.Size([64, 2])\n"
          ],
          "name": "stdout"
        }
      ]
    },
    {
      "cell_type": "markdown",
      "metadata": {
        "id": "rTx3jhOBK8Ns"
      },
      "source": [
        "## Initialize Network"
      ]
    },
    {
      "cell_type": "code",
      "metadata": {
        "id": "mP-SEtZyLAUE"
      },
      "source": [
        "model = NN(input_size = input_size, output_size = num_classes).to(device) # input-size??"
      ],
      "execution_count": 135,
      "outputs": []
    },
    {
      "cell_type": "code",
      "metadata": {
        "id": "SUS61pUBLFvk"
      },
      "source": [
        "# Loss + Optimizer\n",
        "criterion = nn.GaussianNLLLoss() # loss function\n",
        "optimizer = optim.Adam(model.parameters(), lr = learning_rate) # optimizer function"
      ],
      "execution_count": 138,
      "outputs": []
    },
    {
      "cell_type": "markdown",
      "metadata": {
        "id": "bO7z25t4KIWY"
      },
      "source": [
        "## Train Network"
      ]
    },
    {
      "cell_type": "code",
      "metadata": {
        "colab": {
          "base_uri": "https://localhost:8080/",
          "height": 1000
        },
        "id": "CCNdQnCYKKxk",
        "outputId": "e2aa5f73-3bac-40fb-a78d-176fff86fd13"
      },
      "source": [
        "# epochs: number of times network sees images. 1 epoch - seen all images once\n",
        "loss_values = [] * 1\n",
        "\n",
        "for epoch in range(num_epochs):\n",
        "    for batch_idx, (data, targets) in enumerate(train_loader): # parts of the train_loader, (data,targets) in tuple together, batch_idx there before\n",
        "        \n",
        "        # Get data to cuda (that's our device, if it's possible)\n",
        "        data = data.to(device=device)\n",
        "\n",
        "        targets = targets.to(device=device)\n",
        "\n",
        "        # print (data.shape)\n",
        "\n",
        "        # Get to correct shape, which is a 2D matrix of 64 x 9, because model(x) of shape should be 64 x 2?\n",
        "        # Data is already in this correct shape, examine why?\n",
        "        # data = data.reshape(64, 9])\n",
        "\n",
        "        # by looking at this, we see we have 7 batches: 6 of size 64, 1 of size 38.\n",
        "\n",
        "        # forward propagation\n",
        "        scores = model(data)\n",
        "\n",
        "        # print(targets.shape)\n",
        "\n",
        "        targets = np.reshape(targets.to(device=torch.device('cpu')), [targets.shape[0], 1])\n",
        "        targets = targets.to(device=device)\n",
        "        \n",
        "        var = torch.ones(scores.shape[0], requires_grad = False)\n",
        "        var = np.reshape(var.to(device=torch.device('cpu')), [targets.shape[0], 1])\n",
        "        var = var.to(device=device)\n",
        "\n",
        "        # print (scores.shape, targets.shape, var.shape)\n",
        "\n",
        "        loss = criterion(scores, targets, var)\n",
        "\n",
        "        # backward propagation\n",
        "        optimizer.zero_grad() # set all gradients to 0 for each batch so it doesnt store calculation from previous batch\n",
        "        loss.backward()\n",
        "\n",
        "        # gradient descent or adam step\n",
        "        optimizer.step()\n",
        "\n",
        "    loss_values.append(loss) # loss after each epoch\n",
        "\n",
        "plt.plot(np.array(loss_values), 'r')"
      ],
      "execution_count": 152,
      "outputs": [
        {
          "output_type": "stream",
          "text": [
            "torch.Size([256])\n",
            "torch.Size([256, 2]) torch.Size([256, 1]) torch.Size([256, 1])\n",
            "torch.Size([140])\n",
            "torch.Size([140, 2]) torch.Size([140, 1]) torch.Size([140, 1])\n",
            "torch.Size([256])\n",
            "torch.Size([256, 2]) torch.Size([256, 1]) torch.Size([256, 1])\n",
            "torch.Size([140])\n",
            "torch.Size([140, 2]) torch.Size([140, 1]) torch.Size([140, 1])\n",
            "torch.Size([256])\n",
            "torch.Size([256, 2]) torch.Size([256, 1]) torch.Size([256, 1])\n",
            "torch.Size([140])\n",
            "torch.Size([140, 2]) torch.Size([140, 1]) torch.Size([140, 1])\n",
            "torch.Size([256])\n",
            "torch.Size([256, 2]) torch.Size([256, 1]) torch.Size([256, 1])\n",
            "torch.Size([140])\n",
            "torch.Size([140, 2]) torch.Size([140, 1]) torch.Size([140, 1])\n",
            "torch.Size([256])\n",
            "torch.Size([256, 2]) torch.Size([256, 1]) torch.Size([256, 1])\n",
            "torch.Size([140])\n",
            "torch.Size([140, 2]) torch.Size([140, 1]) torch.Size([140, 1])\n",
            "torch.Size([256])\n",
            "torch.Size([256, 2]) torch.Size([256, 1]) torch.Size([256, 1])\n",
            "torch.Size([140])\n",
            "torch.Size([140, 2]) torch.Size([140, 1]) torch.Size([140, 1])\n",
            "torch.Size([256])\n",
            "torch.Size([256, 2]) torch.Size([256, 1]) torch.Size([256, 1])\n",
            "torch.Size([140])\n",
            "torch.Size([140, 2]) torch.Size([140, 1]) torch.Size([140, 1])\n",
            "torch.Size([256])\n",
            "torch.Size([256, 2]) torch.Size([256, 1]) torch.Size([256, 1])\n",
            "torch.Size([140])\n",
            "torch.Size([140, 2]) torch.Size([140, 1]) torch.Size([140, 1])\n",
            "torch.Size([256])\n",
            "torch.Size([256, 2]) torch.Size([256, 1]) torch.Size([256, 1])\n",
            "torch.Size([140])\n",
            "torch.Size([140, 2]) torch.Size([140, 1]) torch.Size([140, 1])\n",
            "torch.Size([256])\n",
            "torch.Size([256, 2]) torch.Size([256, 1]) torch.Size([256, 1])\n",
            "torch.Size([140])\n",
            "torch.Size([140, 2]) torch.Size([140, 1]) torch.Size([140, 1])\n",
            "torch.Size([256])\n",
            "torch.Size([256, 2]) torch.Size([256, 1]) torch.Size([256, 1])\n",
            "torch.Size([140])\n",
            "torch.Size([140, 2]) torch.Size([140, 1]) torch.Size([140, 1])\n",
            "torch.Size([256])\n",
            "torch.Size([256, 2]) torch.Size([256, 1]) torch.Size([256, 1])\n",
            "torch.Size([140])\n",
            "torch.Size([140, 2]) torch.Size([140, 1]) torch.Size([140, 1])\n",
            "torch.Size([256])\n",
            "torch.Size([256, 2]) torch.Size([256, 1]) torch.Size([256, 1])\n",
            "torch.Size([140])\n",
            "torch.Size([140, 2]) torch.Size([140, 1]) torch.Size([140, 1])\n",
            "torch.Size([256])\n",
            "torch.Size([256, 2]) torch.Size([256, 1]) torch.Size([256, 1])\n",
            "torch.Size([140])\n",
            "torch.Size([140, 2]) torch.Size([140, 1]) torch.Size([140, 1])\n",
            "torch.Size([256])\n",
            "torch.Size([256, 2]) torch.Size([256, 1]) torch.Size([256, 1])\n",
            "torch.Size([140])\n",
            "torch.Size([140, 2]) torch.Size([140, 1]) torch.Size([140, 1])\n",
            "torch.Size([256])\n",
            "torch.Size([256, 2]) torch.Size([256, 1]) torch.Size([256, 1])\n",
            "torch.Size([140])\n",
            "torch.Size([140, 2]) torch.Size([140, 1]) torch.Size([140, 1])\n",
            "torch.Size([256])\n",
            "torch.Size([256, 2]) torch.Size([256, 1]) torch.Size([256, 1])\n",
            "torch.Size([140])\n",
            "torch.Size([140, 2]) torch.Size([140, 1]) torch.Size([140, 1])\n",
            "torch.Size([256])\n",
            "torch.Size([256, 2]) torch.Size([256, 1]) torch.Size([256, 1])\n",
            "torch.Size([140])\n",
            "torch.Size([140, 2]) torch.Size([140, 1]) torch.Size([140, 1])\n",
            "torch.Size([256])\n",
            "torch.Size([256, 2]) torch.Size([256, 1]) torch.Size([256, 1])\n",
            "torch.Size([140])\n",
            "torch.Size([140, 2]) torch.Size([140, 1]) torch.Size([140, 1])\n",
            "torch.Size([256])\n",
            "torch.Size([256, 2]) torch.Size([256, 1]) torch.Size([256, 1])\n",
            "torch.Size([140])\n",
            "torch.Size([140, 2]) torch.Size([140, 1]) torch.Size([140, 1])\n",
            "torch.Size([256])\n",
            "torch.Size([256, 2]) torch.Size([256, 1]) torch.Size([256, 1])\n",
            "torch.Size([140])\n",
            "torch.Size([140, 2]) torch.Size([140, 1]) torch.Size([140, 1])\n",
            "torch.Size([256])\n",
            "torch.Size([256, 2]) torch.Size([256, 1]) torch.Size([256, 1])\n",
            "torch.Size([140])\n",
            "torch.Size([140, 2]) torch.Size([140, 1]) torch.Size([140, 1])\n",
            "torch.Size([256])\n",
            "torch.Size([256, 2]) torch.Size([256, 1]) torch.Size([256, 1])\n",
            "torch.Size([140])\n",
            "torch.Size([140, 2]) torch.Size([140, 1]) torch.Size([140, 1])\n",
            "torch.Size([256])\n",
            "torch.Size([256, 2]) torch.Size([256, 1]) torch.Size([256, 1])\n",
            "torch.Size([140])\n",
            "torch.Size([140, 2]) torch.Size([140, 1]) torch.Size([140, 1])\n",
            "torch.Size([256])\n",
            "torch.Size([256, 2]) torch.Size([256, 1]) torch.Size([256, 1])\n",
            "torch.Size([140])\n",
            "torch.Size([140, 2]) torch.Size([140, 1]) torch.Size([140, 1])\n",
            "torch.Size([256])\n",
            "torch.Size([256, 2]) torch.Size([256, 1]) torch.Size([256, 1])\n",
            "torch.Size([140])\n",
            "torch.Size([140, 2]) torch.Size([140, 1]) torch.Size([140, 1])\n",
            "torch.Size([256])\n",
            "torch.Size([256, 2]) torch.Size([256, 1]) torch.Size([256, 1])\n",
            "torch.Size([140])\n",
            "torch.Size([140, 2]) torch.Size([140, 1]) torch.Size([140, 1])\n",
            "torch.Size([256])\n",
            "torch.Size([256, 2]) torch.Size([256, 1]) torch.Size([256, 1])\n",
            "torch.Size([140])\n",
            "torch.Size([140, 2]) torch.Size([140, 1]) torch.Size([140, 1])\n",
            "torch.Size([256])\n",
            "torch.Size([256, 2]) torch.Size([256, 1]) torch.Size([256, 1])\n",
            "torch.Size([140])\n",
            "torch.Size([140, 2]) torch.Size([140, 1]) torch.Size([140, 1])\n",
            "torch.Size([256])\n",
            "torch.Size([256, 2]) torch.Size([256, 1]) torch.Size([256, 1])\n",
            "torch.Size([140])\n",
            "torch.Size([140, 2]) torch.Size([140, 1]) torch.Size([140, 1])\n",
            "torch.Size([256])\n",
            "torch.Size([256, 2]) torch.Size([256, 1]) torch.Size([256, 1])\n",
            "torch.Size([140])\n",
            "torch.Size([140, 2]) torch.Size([140, 1]) torch.Size([140, 1])\n",
            "torch.Size([256])\n",
            "torch.Size([256, 2]) torch.Size([256, 1]) torch.Size([256, 1])\n",
            "torch.Size([140])\n",
            "torch.Size([140, 2]) torch.Size([140, 1]) torch.Size([140, 1])\n",
            "torch.Size([256])\n",
            "torch.Size([256, 2]) torch.Size([256, 1]) torch.Size([256, 1])\n",
            "torch.Size([140])\n",
            "torch.Size([140, 2]) torch.Size([140, 1]) torch.Size([140, 1])\n",
            "torch.Size([256])\n",
            "torch.Size([256, 2]) torch.Size([256, 1]) torch.Size([256, 1])\n",
            "torch.Size([140])\n",
            "torch.Size([140, 2]) torch.Size([140, 1]) torch.Size([140, 1])\n",
            "torch.Size([256])\n",
            "torch.Size([256, 2]) torch.Size([256, 1]) torch.Size([256, 1])\n",
            "torch.Size([140])\n",
            "torch.Size([140, 2]) torch.Size([140, 1]) torch.Size([140, 1])\n",
            "torch.Size([256])\n",
            "torch.Size([256, 2]) torch.Size([256, 1]) torch.Size([256, 1])\n",
            "torch.Size([140])\n",
            "torch.Size([140, 2]) torch.Size([140, 1]) torch.Size([140, 1])\n",
            "torch.Size([256])\n",
            "torch.Size([256, 2]) torch.Size([256, 1]) torch.Size([256, 1])\n",
            "torch.Size([140])\n",
            "torch.Size([140, 2]) torch.Size([140, 1]) torch.Size([140, 1])\n",
            "torch.Size([256])\n",
            "torch.Size([256, 2]) torch.Size([256, 1]) torch.Size([256, 1])\n",
            "torch.Size([140])\n",
            "torch.Size([140, 2]) torch.Size([140, 1]) torch.Size([140, 1])\n",
            "torch.Size([256])\n",
            "torch.Size([256, 2]) torch.Size([256, 1]) torch.Size([256, 1])\n",
            "torch.Size([140])\n",
            "torch.Size([140, 2]) torch.Size([140, 1]) torch.Size([140, 1])\n",
            "torch.Size([256])\n",
            "torch.Size([256, 2]) torch.Size([256, 1]) torch.Size([256, 1])\n",
            "torch.Size([140])\n",
            "torch.Size([140, 2]) torch.Size([140, 1]) torch.Size([140, 1])\n",
            "torch.Size([256])\n",
            "torch.Size([256, 2]) torch.Size([256, 1]) torch.Size([256, 1])\n",
            "torch.Size([140])\n",
            "torch.Size([140, 2]) torch.Size([140, 1]) torch.Size([140, 1])\n",
            "torch.Size([256])\n",
            "torch.Size([256, 2]) torch.Size([256, 1]) torch.Size([256, 1])\n",
            "torch.Size([140])\n",
            "torch.Size([140, 2]) torch.Size([140, 1]) torch.Size([140, 1])\n",
            "torch.Size([256])\n",
            "torch.Size([256, 2]) torch.Size([256, 1]) torch.Size([256, 1])\n",
            "torch.Size([140])\n",
            "torch.Size([140, 2]) torch.Size([140, 1]) torch.Size([140, 1])\n",
            "torch.Size([256])\n",
            "torch.Size([256, 2]) torch.Size([256, 1]) torch.Size([256, 1])\n",
            "torch.Size([140])\n",
            "torch.Size([140, 2]) torch.Size([140, 1]) torch.Size([140, 1])\n",
            "torch.Size([256])\n",
            "torch.Size([256, 2]) torch.Size([256, 1]) torch.Size([256, 1])\n",
            "torch.Size([140])\n",
            "torch.Size([140, 2]) torch.Size([140, 1]) torch.Size([140, 1])\n",
            "torch.Size([256])\n",
            "torch.Size([256, 2]) torch.Size([256, 1]) torch.Size([256, 1])\n",
            "torch.Size([140])\n",
            "torch.Size([140, 2]) torch.Size([140, 1]) torch.Size([140, 1])\n",
            "torch.Size([256])\n",
            "torch.Size([256, 2]) torch.Size([256, 1]) torch.Size([256, 1])\n",
            "torch.Size([140])\n",
            "torch.Size([140, 2]) torch.Size([140, 1]) torch.Size([140, 1])\n",
            "torch.Size([256])\n",
            "torch.Size([256, 2]) torch.Size([256, 1]) torch.Size([256, 1])\n",
            "torch.Size([140])\n",
            "torch.Size([140, 2]) torch.Size([140, 1]) torch.Size([140, 1])\n",
            "torch.Size([256])\n",
            "torch.Size([256, 2]) torch.Size([256, 1]) torch.Size([256, 1])\n",
            "torch.Size([140])\n",
            "torch.Size([140, 2]) torch.Size([140, 1]) torch.Size([140, 1])\n",
            "torch.Size([256])\n",
            "torch.Size([256, 2]) torch.Size([256, 1]) torch.Size([256, 1])\n",
            "torch.Size([140])\n",
            "torch.Size([140, 2]) torch.Size([140, 1]) torch.Size([140, 1])\n",
            "torch.Size([256])\n",
            "torch.Size([256, 2]) torch.Size([256, 1]) torch.Size([256, 1])\n",
            "torch.Size([140])\n",
            "torch.Size([140, 2]) torch.Size([140, 1]) torch.Size([140, 1])\n",
            "torch.Size([256])\n",
            "torch.Size([256, 2]) torch.Size([256, 1]) torch.Size([256, 1])\n",
            "torch.Size([140])\n",
            "torch.Size([140, 2]) torch.Size([140, 1]) torch.Size([140, 1])\n",
            "torch.Size([256])\n",
            "torch.Size([256, 2]) torch.Size([256, 1]) torch.Size([256, 1])\n",
            "torch.Size([140])\n",
            "torch.Size([140, 2]) torch.Size([140, 1]) torch.Size([140, 1])\n",
            "torch.Size([256])\n",
            "torch.Size([256, 2]) torch.Size([256, 1]) torch.Size([256, 1])\n",
            "torch.Size([140])\n",
            "torch.Size([140, 2]) torch.Size([140, 1]) torch.Size([140, 1])\n",
            "torch.Size([256])\n",
            "torch.Size([256, 2]) torch.Size([256, 1]) torch.Size([256, 1])\n",
            "torch.Size([140])\n",
            "torch.Size([140, 2]) torch.Size([140, 1]) torch.Size([140, 1])\n",
            "torch.Size([256])\n",
            "torch.Size([256, 2]) torch.Size([256, 1]) torch.Size([256, 1])\n",
            "torch.Size([140])\n",
            "torch.Size([140, 2]) torch.Size([140, 1]) torch.Size([140, 1])\n",
            "torch.Size([256])\n",
            "torch.Size([256, 2]) torch.Size([256, 1]) torch.Size([256, 1])\n",
            "torch.Size([140])\n",
            "torch.Size([140, 2]) torch.Size([140, 1]) torch.Size([140, 1])\n",
            "torch.Size([256])\n",
            "torch.Size([256, 2]) torch.Size([256, 1]) torch.Size([256, 1])\n",
            "torch.Size([140])\n",
            "torch.Size([140, 2]) torch.Size([140, 1]) torch.Size([140, 1])\n",
            "torch.Size([256])\n",
            "torch.Size([256, 2]) torch.Size([256, 1]) torch.Size([256, 1])\n",
            "torch.Size([140])\n",
            "torch.Size([140, 2]) torch.Size([140, 1]) torch.Size([140, 1])\n",
            "torch.Size([256])\n",
            "torch.Size([256, 2]) torch.Size([256, 1]) torch.Size([256, 1])\n",
            "torch.Size([140])\n",
            "torch.Size([140, 2]) torch.Size([140, 1]) torch.Size([140, 1])\n",
            "torch.Size([256])\n",
            "torch.Size([256, 2]) torch.Size([256, 1]) torch.Size([256, 1])\n",
            "torch.Size([140])\n",
            "torch.Size([140, 2]) torch.Size([140, 1]) torch.Size([140, 1])\n",
            "torch.Size([256])\n",
            "torch.Size([256, 2]) torch.Size([256, 1]) torch.Size([256, 1])\n",
            "torch.Size([140])\n",
            "torch.Size([140, 2]) torch.Size([140, 1]) torch.Size([140, 1])\n",
            "torch.Size([256])\n",
            "torch.Size([256, 2]) torch.Size([256, 1]) torch.Size([256, 1])\n",
            "torch.Size([140])\n",
            "torch.Size([140, 2]) torch.Size([140, 1]) torch.Size([140, 1])\n",
            "torch.Size([256])\n",
            "torch.Size([256, 2]) torch.Size([256, 1]) torch.Size([256, 1])\n",
            "torch.Size([140])\n",
            "torch.Size([140, 2]) torch.Size([140, 1]) torch.Size([140, 1])\n",
            "torch.Size([256])\n",
            "torch.Size([256, 2]) torch.Size([256, 1]) torch.Size([256, 1])\n",
            "torch.Size([140])\n",
            "torch.Size([140, 2]) torch.Size([140, 1]) torch.Size([140, 1])\n",
            "torch.Size([256])\n",
            "torch.Size([256, 2]) torch.Size([256, 1]) torch.Size([256, 1])\n",
            "torch.Size([140])\n",
            "torch.Size([140, 2]) torch.Size([140, 1]) torch.Size([140, 1])\n",
            "torch.Size([256])\n",
            "torch.Size([256, 2]) torch.Size([256, 1]) torch.Size([256, 1])\n",
            "torch.Size([140])\n",
            "torch.Size([140, 2]) torch.Size([140, 1]) torch.Size([140, 1])\n",
            "torch.Size([256])\n",
            "torch.Size([256, 2]) torch.Size([256, 1]) torch.Size([256, 1])\n",
            "torch.Size([140])\n",
            "torch.Size([140, 2]) torch.Size([140, 1]) torch.Size([140, 1])\n",
            "torch.Size([256])\n",
            "torch.Size([256, 2]) torch.Size([256, 1]) torch.Size([256, 1])\n",
            "torch.Size([140])\n",
            "torch.Size([140, 2]) torch.Size([140, 1]) torch.Size([140, 1])\n",
            "torch.Size([256])\n",
            "torch.Size([256, 2]) torch.Size([256, 1]) torch.Size([256, 1])\n",
            "torch.Size([140])\n",
            "torch.Size([140, 2]) torch.Size([140, 1]) torch.Size([140, 1])\n",
            "torch.Size([256])\n",
            "torch.Size([256, 2]) torch.Size([256, 1]) torch.Size([256, 1])\n",
            "torch.Size([140])\n",
            "torch.Size([140, 2]) torch.Size([140, 1]) torch.Size([140, 1])\n",
            "torch.Size([256])\n",
            "torch.Size([256, 2]) torch.Size([256, 1]) torch.Size([256, 1])\n",
            "torch.Size([140])\n",
            "torch.Size([140, 2]) torch.Size([140, 1]) torch.Size([140, 1])\n",
            "torch.Size([256])\n",
            "torch.Size([256, 2]) torch.Size([256, 1]) torch.Size([256, 1])\n",
            "torch.Size([140])\n",
            "torch.Size([140, 2]) torch.Size([140, 1]) torch.Size([140, 1])\n",
            "torch.Size([256])\n",
            "torch.Size([256, 2]) torch.Size([256, 1]) torch.Size([256, 1])\n",
            "torch.Size([140])\n",
            "torch.Size([140, 2]) torch.Size([140, 1]) torch.Size([140, 1])\n",
            "torch.Size([256])\n",
            "torch.Size([256, 2]) torch.Size([256, 1]) torch.Size([256, 1])\n",
            "torch.Size([140])\n",
            "torch.Size([140, 2]) torch.Size([140, 1]) torch.Size([140, 1])\n",
            "torch.Size([256])\n",
            "torch.Size([256, 2]) torch.Size([256, 1]) torch.Size([256, 1])\n",
            "torch.Size([140])\n",
            "torch.Size([140, 2]) torch.Size([140, 1]) torch.Size([140, 1])\n",
            "torch.Size([256])\n",
            "torch.Size([256, 2]) torch.Size([256, 1]) torch.Size([256, 1])\n",
            "torch.Size([140])\n",
            "torch.Size([140, 2]) torch.Size([140, 1]) torch.Size([140, 1])\n",
            "torch.Size([256])\n",
            "torch.Size([256, 2]) torch.Size([256, 1]) torch.Size([256, 1])\n",
            "torch.Size([140])\n",
            "torch.Size([140, 2]) torch.Size([140, 1]) torch.Size([140, 1])\n",
            "torch.Size([256])\n",
            "torch.Size([256, 2]) torch.Size([256, 1]) torch.Size([256, 1])\n",
            "torch.Size([140])\n",
            "torch.Size([140, 2]) torch.Size([140, 1]) torch.Size([140, 1])\n",
            "torch.Size([256])\n",
            "torch.Size([256, 2]) torch.Size([256, 1]) torch.Size([256, 1])\n",
            "torch.Size([140])\n",
            "torch.Size([140, 2]) torch.Size([140, 1]) torch.Size([140, 1])\n",
            "torch.Size([256])\n",
            "torch.Size([256, 2]) torch.Size([256, 1]) torch.Size([256, 1])\n",
            "torch.Size([140])\n",
            "torch.Size([140, 2]) torch.Size([140, 1]) torch.Size([140, 1])\n",
            "torch.Size([256])\n",
            "torch.Size([256, 2]) torch.Size([256, 1]) torch.Size([256, 1])\n",
            "torch.Size([140])\n",
            "torch.Size([140, 2]) torch.Size([140, 1]) torch.Size([140, 1])\n",
            "torch.Size([256])\n",
            "torch.Size([256, 2]) torch.Size([256, 1]) torch.Size([256, 1])\n",
            "torch.Size([140])\n",
            "torch.Size([140, 2]) torch.Size([140, 1]) torch.Size([140, 1])\n",
            "torch.Size([256])\n",
            "torch.Size([256, 2]) torch.Size([256, 1]) torch.Size([256, 1])\n",
            "torch.Size([140])\n",
            "torch.Size([140, 2]) torch.Size([140, 1]) torch.Size([140, 1])\n",
            "torch.Size([256])\n",
            "torch.Size([256, 2]) torch.Size([256, 1]) torch.Size([256, 1])\n",
            "torch.Size([140])\n",
            "torch.Size([140, 2]) torch.Size([140, 1]) torch.Size([140, 1])\n",
            "torch.Size([256])\n",
            "torch.Size([256, 2]) torch.Size([256, 1]) torch.Size([256, 1])\n",
            "torch.Size([140])\n",
            "torch.Size([140, 2]) torch.Size([140, 1]) torch.Size([140, 1])\n",
            "torch.Size([256])\n",
            "torch.Size([256, 2]) torch.Size([256, 1]) torch.Size([256, 1])\n",
            "torch.Size([140])\n",
            "torch.Size([140, 2]) torch.Size([140, 1]) torch.Size([140, 1])\n",
            "torch.Size([256])\n",
            "torch.Size([256, 2]) torch.Size([256, 1]) torch.Size([256, 1])\n",
            "torch.Size([140])\n",
            "torch.Size([140, 2]) torch.Size([140, 1]) torch.Size([140, 1])\n",
            "torch.Size([256])\n",
            "torch.Size([256, 2]) torch.Size([256, 1]) torch.Size([256, 1])\n",
            "torch.Size([140])\n",
            "torch.Size([140, 2]) torch.Size([140, 1]) torch.Size([140, 1])\n",
            "torch.Size([256])\n",
            "torch.Size([256, 2]) torch.Size([256, 1]) torch.Size([256, 1])\n",
            "torch.Size([140])\n",
            "torch.Size([140, 2]) torch.Size([140, 1]) torch.Size([140, 1])\n",
            "torch.Size([256])\n",
            "torch.Size([256, 2]) torch.Size([256, 1]) torch.Size([256, 1])\n",
            "torch.Size([140])\n",
            "torch.Size([140, 2]) torch.Size([140, 1]) torch.Size([140, 1])\n",
            "torch.Size([256])\n",
            "torch.Size([256, 2]) torch.Size([256, 1]) torch.Size([256, 1])\n",
            "torch.Size([140])\n",
            "torch.Size([140, 2]) torch.Size([140, 1]) torch.Size([140, 1])\n",
            "torch.Size([256])\n",
            "torch.Size([256, 2]) torch.Size([256, 1]) torch.Size([256, 1])\n",
            "torch.Size([140])\n",
            "torch.Size([140, 2]) torch.Size([140, 1]) torch.Size([140, 1])\n",
            "torch.Size([256])\n",
            "torch.Size([256, 2]) torch.Size([256, 1]) torch.Size([256, 1])\n",
            "torch.Size([140])\n",
            "torch.Size([140, 2]) torch.Size([140, 1]) torch.Size([140, 1])\n",
            "torch.Size([256])\n",
            "torch.Size([256, 2]) torch.Size([256, 1]) torch.Size([256, 1])\n",
            "torch.Size([140])\n",
            "torch.Size([140, 2]) torch.Size([140, 1]) torch.Size([140, 1])\n",
            "torch.Size([256])\n",
            "torch.Size([256, 2]) torch.Size([256, 1]) torch.Size([256, 1])\n",
            "torch.Size([140])\n",
            "torch.Size([140, 2]) torch.Size([140, 1]) torch.Size([140, 1])\n",
            "torch.Size([256])\n",
            "torch.Size([256, 2]) torch.Size([256, 1]) torch.Size([256, 1])\n",
            "torch.Size([140])\n",
            "torch.Size([140, 2]) torch.Size([140, 1]) torch.Size([140, 1])\n",
            "torch.Size([256])\n",
            "torch.Size([256, 2]) torch.Size([256, 1]) torch.Size([256, 1])\n",
            "torch.Size([140])\n",
            "torch.Size([140, 2]) torch.Size([140, 1]) torch.Size([140, 1])\n",
            "torch.Size([256])\n",
            "torch.Size([256, 2]) torch.Size([256, 1]) torch.Size([256, 1])\n",
            "torch.Size([140])\n",
            "torch.Size([140, 2]) torch.Size([140, 1]) torch.Size([140, 1])\n",
            "torch.Size([256])\n",
            "torch.Size([256, 2]) torch.Size([256, 1]) torch.Size([256, 1])\n",
            "torch.Size([140])\n",
            "torch.Size([140, 2]) torch.Size([140, 1]) torch.Size([140, 1])\n",
            "torch.Size([256])\n",
            "torch.Size([256, 2]) torch.Size([256, 1]) torch.Size([256, 1])\n",
            "torch.Size([140])\n",
            "torch.Size([140, 2]) torch.Size([140, 1]) torch.Size([140, 1])\n",
            "torch.Size([256])\n",
            "torch.Size([256, 2]) torch.Size([256, 1]) torch.Size([256, 1])\n",
            "torch.Size([140])\n",
            "torch.Size([140, 2]) torch.Size([140, 1]) torch.Size([140, 1])\n",
            "torch.Size([256])\n",
            "torch.Size([256, 2]) torch.Size([256, 1]) torch.Size([256, 1])\n",
            "torch.Size([140])\n",
            "torch.Size([140, 2]) torch.Size([140, 1]) torch.Size([140, 1])\n",
            "torch.Size([256])\n",
            "torch.Size([256, 2]) torch.Size([256, 1]) torch.Size([256, 1])\n",
            "torch.Size([140])\n",
            "torch.Size([140, 2]) torch.Size([140, 1]) torch.Size([140, 1])\n",
            "torch.Size([256])\n",
            "torch.Size([256, 2]) torch.Size([256, 1]) torch.Size([256, 1])\n",
            "torch.Size([140])\n",
            "torch.Size([140, 2]) torch.Size([140, 1]) torch.Size([140, 1])\n",
            "torch.Size([256])\n",
            "torch.Size([256, 2]) torch.Size([256, 1]) torch.Size([256, 1])\n",
            "torch.Size([140])\n",
            "torch.Size([140, 2]) torch.Size([140, 1]) torch.Size([140, 1])\n",
            "torch.Size([256])\n",
            "torch.Size([256, 2]) torch.Size([256, 1]) torch.Size([256, 1])\n",
            "torch.Size([140])\n",
            "torch.Size([140, 2]) torch.Size([140, 1]) torch.Size([140, 1])\n",
            "torch.Size([256])\n",
            "torch.Size([256, 2]) torch.Size([256, 1]) torch.Size([256, 1])\n",
            "torch.Size([140])\n",
            "torch.Size([140, 2]) torch.Size([140, 1]) torch.Size([140, 1])\n",
            "torch.Size([256])\n",
            "torch.Size([256, 2]) torch.Size([256, 1]) torch.Size([256, 1])\n",
            "torch.Size([140])\n",
            "torch.Size([140, 2]) torch.Size([140, 1]) torch.Size([140, 1])\n",
            "torch.Size([256])\n",
            "torch.Size([256, 2]) torch.Size([256, 1]) torch.Size([256, 1])\n",
            "torch.Size([140])\n",
            "torch.Size([140, 2]) torch.Size([140, 1]) torch.Size([140, 1])\n",
            "torch.Size([256])\n",
            "torch.Size([256, 2]) torch.Size([256, 1]) torch.Size([256, 1])\n",
            "torch.Size([140])\n",
            "torch.Size([140, 2]) torch.Size([140, 1]) torch.Size([140, 1])\n",
            "torch.Size([256])\n",
            "torch.Size([256, 2]) torch.Size([256, 1]) torch.Size([256, 1])\n",
            "torch.Size([140])\n",
            "torch.Size([140, 2]) torch.Size([140, 1]) torch.Size([140, 1])\n",
            "torch.Size([256])\n",
            "torch.Size([256, 2]) torch.Size([256, 1]) torch.Size([256, 1])\n",
            "torch.Size([140])\n",
            "torch.Size([140, 2]) torch.Size([140, 1]) torch.Size([140, 1])\n",
            "torch.Size([256])\n",
            "torch.Size([256, 2]) torch.Size([256, 1]) torch.Size([256, 1])\n",
            "torch.Size([140])\n",
            "torch.Size([140, 2]) torch.Size([140, 1]) torch.Size([140, 1])\n",
            "torch.Size([256])\n",
            "torch.Size([256, 2]) torch.Size([256, 1]) torch.Size([256, 1])\n",
            "torch.Size([140])\n",
            "torch.Size([140, 2]) torch.Size([140, 1]) torch.Size([140, 1])\n",
            "torch.Size([256])\n",
            "torch.Size([256, 2]) torch.Size([256, 1]) torch.Size([256, 1])\n",
            "torch.Size([140])\n",
            "torch.Size([140, 2]) torch.Size([140, 1]) torch.Size([140, 1])\n",
            "torch.Size([256])\n",
            "torch.Size([256, 2]) torch.Size([256, 1]) torch.Size([256, 1])\n",
            "torch.Size([140])\n",
            "torch.Size([140, 2]) torch.Size([140, 1]) torch.Size([140, 1])\n",
            "torch.Size([256])\n",
            "torch.Size([256, 2]) torch.Size([256, 1]) torch.Size([256, 1])\n",
            "torch.Size([140])\n",
            "torch.Size([140, 2]) torch.Size([140, 1]) torch.Size([140, 1])\n",
            "torch.Size([256])\n",
            "torch.Size([256, 2]) torch.Size([256, 1]) torch.Size([256, 1])\n",
            "torch.Size([140])\n",
            "torch.Size([140, 2]) torch.Size([140, 1]) torch.Size([140, 1])\n",
            "torch.Size([256])\n",
            "torch.Size([256, 2]) torch.Size([256, 1]) torch.Size([256, 1])\n",
            "torch.Size([140])\n",
            "torch.Size([140, 2]) torch.Size([140, 1]) torch.Size([140, 1])\n",
            "torch.Size([256])\n",
            "torch.Size([256, 2]) torch.Size([256, 1]) torch.Size([256, 1])\n",
            "torch.Size([140])\n",
            "torch.Size([140, 2]) torch.Size([140, 1]) torch.Size([140, 1])\n",
            "torch.Size([256])\n",
            "torch.Size([256, 2]) torch.Size([256, 1]) torch.Size([256, 1])\n",
            "torch.Size([140])\n",
            "torch.Size([140, 2]) torch.Size([140, 1]) torch.Size([140, 1])\n",
            "torch.Size([256])\n",
            "torch.Size([256, 2]) torch.Size([256, 1]) torch.Size([256, 1])\n",
            "torch.Size([140])\n",
            "torch.Size([140, 2]) torch.Size([140, 1]) torch.Size([140, 1])\n",
            "torch.Size([256])\n",
            "torch.Size([256, 2]) torch.Size([256, 1]) torch.Size([256, 1])\n",
            "torch.Size([140])\n",
            "torch.Size([140, 2]) torch.Size([140, 1]) torch.Size([140, 1])\n",
            "torch.Size([256])\n",
            "torch.Size([256, 2]) torch.Size([256, 1]) torch.Size([256, 1])\n",
            "torch.Size([140])\n",
            "torch.Size([140, 2]) torch.Size([140, 1]) torch.Size([140, 1])\n",
            "torch.Size([256])\n",
            "torch.Size([256, 2]) torch.Size([256, 1]) torch.Size([256, 1])\n",
            "torch.Size([140])\n",
            "torch.Size([140, 2]) torch.Size([140, 1]) torch.Size([140, 1])\n",
            "torch.Size([256])\n",
            "torch.Size([256, 2]) torch.Size([256, 1]) torch.Size([256, 1])\n",
            "torch.Size([140])\n",
            "torch.Size([140, 2]) torch.Size([140, 1]) torch.Size([140, 1])\n",
            "torch.Size([256])\n",
            "torch.Size([256, 2]) torch.Size([256, 1]) torch.Size([256, 1])\n",
            "torch.Size([140])\n",
            "torch.Size([140, 2]) torch.Size([140, 1]) torch.Size([140, 1])\n",
            "torch.Size([256])\n",
            "torch.Size([256, 2]) torch.Size([256, 1]) torch.Size([256, 1])\n",
            "torch.Size([140])\n",
            "torch.Size([140, 2]) torch.Size([140, 1]) torch.Size([140, 1])\n",
            "torch.Size([256])\n",
            "torch.Size([256, 2]) torch.Size([256, 1]) torch.Size([256, 1])\n",
            "torch.Size([140])\n",
            "torch.Size([140, 2]) torch.Size([140, 1]) torch.Size([140, 1])\n",
            "torch.Size([256])\n",
            "torch.Size([256, 2]) torch.Size([256, 1]) torch.Size([256, 1])\n",
            "torch.Size([140])\n",
            "torch.Size([140, 2]) torch.Size([140, 1]) torch.Size([140, 1])\n",
            "torch.Size([256])\n",
            "torch.Size([256, 2]) torch.Size([256, 1]) torch.Size([256, 1])\n",
            "torch.Size([140])\n",
            "torch.Size([140, 2]) torch.Size([140, 1]) torch.Size([140, 1])\n",
            "torch.Size([256])\n",
            "torch.Size([256, 2]) torch.Size([256, 1]) torch.Size([256, 1])\n",
            "torch.Size([140])\n",
            "torch.Size([140, 2]) torch.Size([140, 1]) torch.Size([140, 1])\n",
            "torch.Size([256])\n",
            "torch.Size([256, 2]) torch.Size([256, 1]) torch.Size([256, 1])\n",
            "torch.Size([140])\n",
            "torch.Size([140, 2]) torch.Size([140, 1]) torch.Size([140, 1])\n",
            "torch.Size([256])\n",
            "torch.Size([256, 2]) torch.Size([256, 1]) torch.Size([256, 1])\n",
            "torch.Size([140])\n",
            "torch.Size([140, 2]) torch.Size([140, 1]) torch.Size([140, 1])\n",
            "torch.Size([256])\n",
            "torch.Size([256, 2]) torch.Size([256, 1]) torch.Size([256, 1])\n",
            "torch.Size([140])\n",
            "torch.Size([140, 2]) torch.Size([140, 1]) torch.Size([140, 1])\n",
            "torch.Size([256])\n",
            "torch.Size([256, 2]) torch.Size([256, 1]) torch.Size([256, 1])\n",
            "torch.Size([140])\n",
            "torch.Size([140, 2]) torch.Size([140, 1]) torch.Size([140, 1])\n",
            "torch.Size([256])\n",
            "torch.Size([256, 2]) torch.Size([256, 1]) torch.Size([256, 1])\n",
            "torch.Size([140])\n",
            "torch.Size([140, 2]) torch.Size([140, 1]) torch.Size([140, 1])\n",
            "torch.Size([256])\n",
            "torch.Size([256, 2]) torch.Size([256, 1]) torch.Size([256, 1])\n",
            "torch.Size([140])\n",
            "torch.Size([140, 2]) torch.Size([140, 1]) torch.Size([140, 1])\n",
            "torch.Size([256])\n",
            "torch.Size([256, 2]) torch.Size([256, 1]) torch.Size([256, 1])\n",
            "torch.Size([140])\n",
            "torch.Size([140, 2]) torch.Size([140, 1]) torch.Size([140, 1])\n",
            "torch.Size([256])\n",
            "torch.Size([256, 2]) torch.Size([256, 1]) torch.Size([256, 1])\n",
            "torch.Size([140])\n",
            "torch.Size([140, 2]) torch.Size([140, 1]) torch.Size([140, 1])\n",
            "torch.Size([256])\n",
            "torch.Size([256, 2]) torch.Size([256, 1]) torch.Size([256, 1])\n",
            "torch.Size([140])\n",
            "torch.Size([140, 2]) torch.Size([140, 1]) torch.Size([140, 1])\n",
            "torch.Size([256])\n",
            "torch.Size([256, 2]) torch.Size([256, 1]) torch.Size([256, 1])\n",
            "torch.Size([140])\n",
            "torch.Size([140, 2]) torch.Size([140, 1]) torch.Size([140, 1])\n",
            "torch.Size([256])\n",
            "torch.Size([256, 2]) torch.Size([256, 1]) torch.Size([256, 1])\n",
            "torch.Size([140])\n",
            "torch.Size([140, 2]) torch.Size([140, 1]) torch.Size([140, 1])\n",
            "torch.Size([256])\n",
            "torch.Size([256, 2]) torch.Size([256, 1]) torch.Size([256, 1])\n",
            "torch.Size([140])\n",
            "torch.Size([140, 2]) torch.Size([140, 1]) torch.Size([140, 1])\n",
            "torch.Size([256])\n",
            "torch.Size([256, 2]) torch.Size([256, 1]) torch.Size([256, 1])\n",
            "torch.Size([140])\n",
            "torch.Size([140, 2]) torch.Size([140, 1]) torch.Size([140, 1])\n",
            "torch.Size([256])\n",
            "torch.Size([256, 2]) torch.Size([256, 1]) torch.Size([256, 1])\n",
            "torch.Size([140])\n",
            "torch.Size([140, 2]) torch.Size([140, 1]) torch.Size([140, 1])\n",
            "torch.Size([256])\n",
            "torch.Size([256, 2]) torch.Size([256, 1]) torch.Size([256, 1])\n",
            "torch.Size([140])\n",
            "torch.Size([140, 2]) torch.Size([140, 1]) torch.Size([140, 1])\n",
            "torch.Size([256])\n",
            "torch.Size([256, 2]) torch.Size([256, 1]) torch.Size([256, 1])\n",
            "torch.Size([140])\n",
            "torch.Size([140, 2]) torch.Size([140, 1]) torch.Size([140, 1])\n",
            "torch.Size([256])\n",
            "torch.Size([256, 2]) torch.Size([256, 1]) torch.Size([256, 1])\n",
            "torch.Size([140])\n",
            "torch.Size([140, 2]) torch.Size([140, 1]) torch.Size([140, 1])\n"
          ],
          "name": "stdout"
        },
        {
          "output_type": "execute_result",
          "data": {
            "text/plain": [
              "[<matplotlib.lines.Line2D at 0x7ff1549985d0>]"
            ]
          },
          "metadata": {},
          "execution_count": 152
        },
        {
          "output_type": "display_data",
          "data": {
            "image/png": "[encoded data removed]",
            "text/plain": [
              "<Figure size 432x288 with 1 Axes>"
            ]
          },
          "metadata": {
            "needs_background": "light"
          }
        }
      ]
    },
    {
      "cell_type": "markdown",
      "metadata": {
        "id": "gfBJOAYXNn38"
      },
      "source": [
        "## Check Accuracy"
      ]
    },
    {
      "cell_type": "code",
      "metadata": {
        "id": "trgWgMQdNpMe"
      },
      "source": [
        "def check_accuracy(loader, model):\n",
        "  \"\"\" if loader.dataset.train: # if this is true, then it is loading and checking training data\n",
        "    print ('Checking accuracy on training data')\n",
        "  else: \n",
        "    print ('Checking accuracy on testing data')\n",
        "\n",
        "  Appears to be error with this code  \n",
        "  \"\"\"\n",
        "\n",
        "  # initializing\n",
        "  num_correct = 0\n",
        "  num_samples = 0\n",
        "  y_pred = [] * 1\n",
        "  y_true = [] * 1\n",
        "\n",
        "  model.eval() # why this specifically?\n",
        "\n",
        "  with torch.no_grad(): # so we don't have to compute gradients for accuracy\n",
        "    for x, y in loader:\n",
        "      x = x.to(device=device)\n",
        "      y = y.to(device=device)\n",
        "\n",
        "      y_true.append(y)\n",
        "      \n",
        "      # reshape useless here\n",
        "      # x = x.reshape(x.shape[0], -1)\n",
        "\n",
        "      scores = model(x)\n",
        "\n",
        "      # print (scores) # this returns 6 arrays of 64 x 2 and 1 of 38 x 2\n",
        "\n",
        "      # _, is don't store this part in anything\n",
        "      _, prediction = scores.max(1) # gives us index of maximum score value (max along second dimension, reason for the 1) in predictions variable each time\n",
        "      \n",
        "      y_pred.append(prediction)\n",
        "      \n",
        "      num_correct += (prediction == y).sum()\n",
        "      num_samples += prediction.size(0)\n",
        "\n",
        "  model.train()\n",
        "  acc = num_correct/num_samples\n",
        "  return acc, y_true, y_pred"
      ],
      "execution_count": 153,
      "outputs": []
    },
    {
      "cell_type": "code",
      "metadata": {
        "id": "va66YK0T5Kin"
      },
      "source": [
        "# running check_accuracy on training and test set\n",
        "train_acc, y_train, train_pred = check_accuracy(train_loader, model)\n",
        "test_acc, y_test, test_pred = check_accuracy(test_loader, model)"
      ],
      "execution_count": 154,
      "outputs": []
    },
    {
      "cell_type": "code",
      "metadata": {
        "colab": {
          "base_uri": "https://localhost:8080/"
        },
        "id": "OsjzCJUyGHaU",
        "outputId": "a27666d0-618d-4198-d6f5-b5fd6506aa47"
      },
      "source": [
        "print(train_acc, test_acc)"
      ],
      "execution_count": 155,
      "outputs": [
        {
          "output_type": "stream",
          "text": [
            "tensor(0.4318, device='cuda:0') tensor(0.5152, device='cuda:0')\n"
          ],
          "name": "stdout"
        }
      ]
    },
    {
      "cell_type": "code",
      "metadata": {
        "colab": {
          "base_uri": "https://localhost:8080/"
        },
        "id": "-ACg9G0g5UZ_",
        "outputId": "a9cab0c3-3c1e-49e8-f5fa-d4d18f4e7312"
      },
      "source": [
        "# The reason test_pred has two tensors is because it is 106 data, and 64 is batch size, so it happens in 1 batch of 64 and 1 batch of 42\n",
        "test_pred"
      ],
      "execution_count": 129,
      "outputs": [
        {
          "output_type": "execute_result",
          "data": {
            "text/plain": [
              "[tensor([1, 1, 1, 1, 1, 1, 0, 1, 1, 1, 1, 0, 1, 1, 1, 1, 0, 0, 1, 1, 0, 0, 1, 1,\n",
              "         0, 1, 0, 1, 1, 1, 0, 0, 1, 1, 1, 0, 1, 0, 1, 1, 0, 1, 0, 1, 1, 0, 1, 0,\n",
              "         0, 1, 0, 1, 0, 1, 1, 0, 0, 1, 0, 1, 1, 0, 1, 1, 1, 1, 0, 0, 0, 1, 1, 0,\n",
              "         0, 1, 0, 0, 1, 1, 1, 1, 0, 1, 1, 0, 0, 1, 0, 1, 0, 1, 0, 1, 0, 1, 0, 1,\n",
              "         0, 1, 0, 1, 1, 1, 0, 0, 1, 1, 1, 1, 1, 1, 1, 1, 1, 1, 1, 1, 1, 1, 1, 1,\n",
              "         0, 1, 0, 1, 1, 1, 0, 0, 1, 1, 1, 0], device='cuda:0')]"
            ]
          },
          "metadata": {},
          "execution_count": 129
        }
      ]
    },
    {
      "cell_type": "code",
      "metadata": {
        "id": "1je8nVNhAyhM"
      },
      "source": [
        "# consider if change batch size\n",
        "if (device == torch.device('cuda')):\n",
        "  test_pred = test_pred[0].to(device=cpu_device)\n",
        "  y_test = y_test[0].to(device=cpu_device)\n"
      ],
      "execution_count": 130,
      "outputs": []
    },
    {
      "cell_type": "code",
      "metadata": {
        "id": "EhdqINChHEOW"
      },
      "source": [
        "# 256 batch size means no need to concatenate\n",
        "\n",
        "# test_pred = torch.cat(test_pred) # \n",
        "# y_test = torch.cat(y_test) # move tensor y_test to cpu for concatenation, gpu can't do that computationally"
      ],
      "execution_count": 131,
      "outputs": []
    },
    {
      "cell_type": "code",
      "metadata": {
        "id": "uFxWaU-x3msW"
      },
      "source": [
        "conf_mat = confusion_matrix(y_test, test_pred)"
      ],
      "execution_count": 132,
      "outputs": []
    },
    {
      "cell_type": "code",
      "metadata": {
        "id": "bFfxcVS9I6ID"
      },
      "source": [
        "tn, fp, fn, tp = conf_mat.ravel()"
      ],
      "execution_count": 133,
      "outputs": []
    },
    {
      "cell_type": "code",
      "metadata": {
        "colab": {
          "base_uri": "https://localhost:8080/"
        },
        "id": "or_CoFhyI86d",
        "outputId": "f8548ac5-d9fe-47af-8150-48fa7a13fd4d"
      },
      "source": [
        "tp, fn, tn, fp"
      ],
      "execution_count": 134,
      "outputs": [
        {
          "output_type": "execute_result",
          "data": {
            "text/plain": [
              "(56, 6, 41, 29)"
            ]
          },
          "metadata": {},
          "execution_count": 134
        }
      ]
    },
    {
      "cell_type": "markdown",
      "metadata": {
        "id": "EgF5DH6YJ4En"
      },
      "source": [
        "True positive + false negative = number of PD patients\n",
        "\n",
        "True negative + false positive = number of control patients"
      ]
    }
  ]
}