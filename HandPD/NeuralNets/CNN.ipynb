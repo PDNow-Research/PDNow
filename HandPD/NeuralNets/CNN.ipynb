{
  "nbformat": 4,
  "nbformat_minor": 0,
  "metadata": {
    "colab": {
      "name": "CNN.ipynb",
      "provenance": [],
      "collapsed_sections": [],
      "authorship_tag": "ABX9TyOURqwpaEzz+sH5W15allGN",
      "include_colab_link": true
    },
    "kernelspec": {
      "name": "python3",
      "display_name": "Python 3"
    },
    "language_info": {
      "name": "python"
    }
  },
  "cells": [
    {
      "cell_type": "markdown",
      "metadata": {
        "id": "view-in-github",
        "colab_type": "text"
      },
      "source": [
        "<a href=\"https://colab.research.google.com/github/PDNow-Research/PDNow/blob/main/HandPD/NeuralNets/CNN.ipynb\" target=\"_parent\"><img src=\"https://colab.research.google.com/assets/colab-badge.svg\" alt=\"Open In Colab\"/></a>"
      ]
    },
    {
      "cell_type": "code",
      "metadata": {
        "colab": {
          "base_uri": "https://localhost:8080/"
        },
        "id": "TkGertFcjmEM",
        "outputId": "f49a954b-428a-40ff-b8aa-8774591fb5bc"
      },
      "source": [
        "from google.colab import drive\n",
        "drive.mount(\"/content/drive\")"
      ],
      "execution_count": null,
      "outputs": [
        {
          "output_type": "stream",
          "text": [
            "Mounted at /content/drive\n"
          ],
          "name": "stdout"
        }
      ]
    },
    {
      "cell_type": "code",
      "metadata": {
        "id": "x3eF1D-LjzNr"
      },
      "source": [
        "import numpy as np\n",
        "import random\n",
        "import os\n",
        "import matplotlib.pyplot as plt\n",
        "import matplotlib.image as mpimg\n",
        "import tensorflow as tf\n",
        "import sys\n",
        "from tensorflow.keras.preprocessing.image import img_to_array, load_img\n",
        "from keras.preprocessing import image\n",
        "from tensorflow.keras.preprocessing.image import ImageDataGenerator\n",
        "from tensorflow.keras.optimizers import RMSprop\n",
        "from PIL import Image\n",
        "import Image\n",
        "print(Image.__file__)"
      ],
      "execution_count": 4,
      "outputs": []
    },
    {
      "cell_type": "code",
      "metadata": {
        "id": "P6SpyU68APNz"
      },
      "source": [
        "# when preprocessing resize to (100, 100) --> https://www.holisticseo.digital/python-seo/resize-image/"
      ],
      "execution_count": null,
      "outputs": []
    },
    {
      "cell_type": "code",
      "metadata": {
        "id": "VkZnwE8CAhMK"
      },
      "source": [
        "WIDTH = 100\n",
        "HEIGHT = 100"
      ],
      "execution_count": null,
      "outputs": []
    },
    {
      "cell_type": "code",
      "metadata": {
        "id": "_16mfP3JkKp9"
      },
      "source": [
        "train_data = ImageDataGenerator()\n",
        "val_data = ImageDataGenerator()\n",
        "test_data = ImageDataGenerator()\n",
        "\n",
        "train_generator = train_data.flow_from_directory(\n",
        "    train_dir, \n",
        "    target_size = (WIDTH, HEIGHT), \n",
        "    batch_size = 4, \n",
        "    class_mode = 'binary' \n",
        ")\n",
        "\n",
        "val_generator = val_data.flow_from_directory(\n",
        "    val_dir, \n",
        "    target_size = (WIDTH, HEIGHT), \n",
        "    batch_size = 4, \n",
        "    class_mode = 'binary' \n",
        ")\n",
        "\n",
        "test_generator = test_data.flow_from_directory(\n",
        "    test_dir, \n",
        "    target_size = (WIDTH, HEIGHT), \n",
        "    batch_size = 4, \n",
        "    class_mode = 'binary' \n",
        ")"
      ],
      "execution_count": null,
      "outputs": []
    },
    {
      "cell_type": "code",
      "metadata": {
        "id": "-8gx5VmzA5vz"
      },
      "source": [
        "model = tf.keras.models.Sequential([\n",
        "    #conv net part\n",
        "    tf.keras.layers.Conv2D(16, (3,3), activation='relu', input_shape=(300, 300, 3)), #3 is for rgb color channels\n",
        "    tf.keras.layers.MaxPooling2D(2, 2),\n",
        "    \n",
        "    # The second convolution\n",
        "    tf.keras.layers.Conv2D(32, (3,3), activation='relu'),\n",
        "    tf.keras.layers.MaxPooling2D(2,2),\n",
        "    \n",
        "    # The third convolution\n",
        "    tf.keras.layers.Conv2D(64, (3,3), activation='relu'),\n",
        "    tf.keras.layers.MaxPooling2D(2,2),\n",
        "    \n",
        "    # The fourth convolution\n",
        "    tf.keras.layers.Conv2D(64, (3,3), activation='relu'),\n",
        "    tf.keras.layers.MaxPooling2D(2,2),\n",
        "    \n",
        "    # The fifth convolution\n",
        "    tf.keras.layers.Conv2D(64, (3,3), activation='relu'),\n",
        "    tf.keras.layers.MaxPooling2D(2,2),\n",
        "    \n",
        "    #dnn part\n",
        "    tf.keras.layers.Flatten(),\n",
        "   \n",
        "    tf.keras.layers.Dense(512, activation='relu'),\n",
        "    tf.keras.layers.Dense(128, activation='relu'),\n",
        "    tf.keras.layers.Dense(32, activation='relu'),\n",
        "\n",
        "    # Only 1 output neuron. It will contain a value from 0-1 where 0 for 1 class ('horses') and 1 for the other ('humans')\n",
        "    tf.keras.layers.Dense(1, activation='sigmoid')\n",
        "])\n",
        "model.summary()"
      ],
      "execution_count": null,
      "outputs": []
    },
    {
      "cell_type": "code",
      "metadata": {
        "id": "G4NaZoG3BVH9"
      },
      "source": [
        "class callback(tf.keras.callbacks.Callback):\n",
        "    def on_epoch_end(self, epoch, logs={}):\n",
        "    #creating a callback function that activates if the accuracy is greater than 60%\n",
        "        if (logs.get('accuracy') > 0.96):\n",
        "          print(\"Stopping Training\")\n",
        "          self.model.stop_training = True\n",
        "            \n",
        "callbacks = callback()"
      ],
      "execution_count": null,
      "outputs": []
    },
    {
      "cell_type": "code",
      "metadata": {
        "id": "azk-mfAaA9Wl"
      },
      "source": [
        "model.compile(loss='binary_crossentropy',\n",
        "              optimizer=RMSprop(lr = 0.0001),\n",
        "              metrics=['accuracy'])"
      ],
      "execution_count": null,
      "outputs": []
    },
    {
      "cell_type": "code",
      "metadata": {
        "id": "fYJXw-VoBPdT"
      },
      "source": [
        "#training model after loading data in using an image generator\n",
        "history = model.fit (\n",
        "    #training part\n",
        "    train_generator,\n",
        "    steps_per_epoch = 4, \n",
        "    epochs = 15,\n",
        "    \n",
        "    #testing part\n",
        "    validation_data = val_generator,\n",
        "    validation_steps = 4,\n",
        "    callbacks =[callbacks],\n",
        "    verbose = 1\n",
        ")"
      ],
      "execution_count": null,
      "outputs": []
    }
  ]
}