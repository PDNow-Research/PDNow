{
  "nbformat": 4,
  "nbformat_minor": 0,
  "metadata": {
    "colab": {
      "name": "SVM_Exact_Replication_Experiment2.ipynb",
      "provenance": [],
      "collapsed_sections": [],
      "authorship_tag": "ABX9TyNF/ONVpVm5iRV8khBJbWHb",
      "include_colab_link": true
    },
    "kernelspec": {
      "name": "python3",
      "display_name": "Python 3"
    },
    "language_info": {
      "name": "python"
    }
  },
  "cells": [
    {
      "cell_type": "markdown",
      "metadata": {
        "id": "view-in-github",
        "colab_type": "text"
      },
      "source": [
        "<a href=\"https://colab.research.google.com/github/PDNow-Research/PDNow/blob/main/HandPD/SVM_Exact_Replication_Experiment2.ipynb\" target=\"_parent\"><img src=\"https://colab.research.google.com/assets/colab-badge.svg\" alt=\"Open In Colab\"/></a>"
      ]
    },
    {
      "cell_type": "code",
      "metadata": {
        "colab": {
          "base_uri": "https://localhost:8080/"
        },
        "id": "QE4ruysJCQn7",
        "outputId": "887b1d81-d65d-4823-c057-8f42092ddbf3"
      },
      "source": [
        "from google.colab import drive\n",
        "drive.mount(\"/content/drive\")"
      ],
      "execution_count": 1,
      "outputs": [
        {
          "output_type": "stream",
          "text": [
            "Mounted at /content/drive\n"
          ],
          "name": "stdout"
        }
      ]
    },
    {
      "cell_type": "code",
      "metadata": {
        "id": "v9Y4RF0dDEV2"
      },
      "source": [
        "# Data Science\n",
        "import re\n",
        "import csv\n",
        "import json\n",
        "import itertools\n",
        "from tqdm import tqdm\n",
        "import numpy as np\n",
        "import pandas as pd\n",
        "import seaborn as sns\n",
        "import matplotlib.pyplot as plt\n",
        "\n",
        "# General\n",
        "import os\n",
        "import sys\n",
        "import time\n",
        "import math\n",
        "import random\n",
        "from datetime import date\n",
        "import warnings\n",
        "current_date = date.today()\n",
        "warnings.filterwarnings(\"ignore\")\n",
        "\n",
        "# SVM\n",
        "from sklearn.svm import SVC\n",
        "from sklearn.preprocessing import StandardScaler\n",
        "from sklearn.pipeline import make_pipeline\n",
        "from sklearn.model_selection import train_test_split\n",
        "\n",
        "# Results/Scoring\n",
        "from sklearn.model_selection import cross_validate\n",
        "from sklearn.model_selection import cross_val_predict\n",
        "from sklearn.model_selection import cross_val_score\n",
        "from sklearn.metrics import confusion_matrix, average_precision_score, classification_report\n",
        "from sklearn.model_selection import ShuffleSplit"
      ],
      "execution_count": 38,
      "outputs": []
    },
    {
      "cell_type": "code",
      "metadata": {
        "id": "-ZTgvIpSDSKk"
      },
      "source": [
        "#NewSpiral is from the new HandPD dataset. The new one also comes with images and such, but we are using the data that has the exact same features from old HandPd dataset, except also includes patient ID.\n",
        "spiral_df = pd.read_csv('/content/drive/My Drive/Data/HandPD-Replication/NewSpiral.csv')"
      ],
      "execution_count": 8,
      "outputs": []
    },
    {
      "cell_type": "code",
      "metadata": {
        "colab": {
          "base_uri": "https://localhost:8080/"
        },
        "id": "RsaVCT9v8rvE",
        "outputId": "f840dfee-583a-44a8-d21f-a4e048f8bae2"
      },
      "source": [
        "spiral_df.shape"
      ],
      "execution_count": 9,
      "outputs": [
        {
          "output_type": "execute_result",
          "data": {
            "text/plain": [
              "(264, 16)"
            ]
          },
          "metadata": {
            "tags": []
          },
          "execution_count": 9
        }
      ]
    },
    {
      "cell_type": "code",
      "metadata": {
        "colab": {
          "base_uri": "https://localhost:8080/"
        },
        "id": "7z1jjSTTpaVK",
        "outputId": "729ef799-a483-4927-b659-fae54e815669"
      },
      "source": [
        "spiral_df['CLASS_TYPE'].value_counts()"
      ],
      "execution_count": 10,
      "outputs": [
        {
          "output_type": "execute_result",
          "data": {
            "text/plain": [
              "1    140\n",
              "2    124\n",
              "Name: CLASS_TYPE, dtype: int64"
            ]
          },
          "metadata": {
            "tags": []
          },
          "execution_count": 10
        }
      ]
    },
    {
      "cell_type": "code",
      "metadata": {
        "id": "2Ka51zlVEk7r"
      },
      "source": [
        "meander_df = pd.read_csv('/content/drive/My Drive/Data/HandPD-Replication/NewMeander.csv')"
      ],
      "execution_count": 11,
      "outputs": []
    },
    {
      "cell_type": "code",
      "metadata": {
        "id": "y7kFWVRl5fv0"
      },
      "source": [
        "meander_df['ID_PATIENT'][meander_df['_ID_EXAM'] == \"P26\"] = 32"
      ],
      "execution_count": 12,
      "outputs": []
    },
    {
      "cell_type": "code",
      "metadata": {
        "id": "lA93lE-IwPMp"
      },
      "source": [
        "spiral_df['ID_PATIENT'][spiral_df['_ID_EXAM'] == \"P26\"] = 32"
      ],
      "execution_count": 13,
      "outputs": []
    },
    {
      "cell_type": "markdown",
      "metadata": {
        "id": "UYbNZkMjkfdw"
      },
      "source": [
        "##**Preprocessing**"
      ]
    },
    {
      "cell_type": "markdown",
      "metadata": {
        "id": "WcwtQpQfktl7"
      },
      "source": [
        "###Normalization\n",
        "\n",
        "fi' = (fi - avg)/std"
      ]
    },
    {
      "cell_type": "code",
      "metadata": {
        "id": "VTfbmKgjjFEt"
      },
      "source": [
        "# normalization with the paper's method (formula above)\n",
        "def feature_normalization(df):\n",
        "  df_dup = df.copy()\n",
        "\n",
        "  df1 = df_dup[['RMS', 'MAX_BETWEEN_ET_HT',\n",
        "       'MIN_BETWEEN_ET_HT', 'STD_DEVIATION_ET_HT', 'MRT', 'MAX_HT', 'MIN_HT',\n",
        "       'STD_HT', 'CHANGES_FROM_NEGATIVE_TO_POSITIVE_BETWEEN_ET_HT']]\n",
        "\n",
        "  df2 = df_dup[['_ID_EXAM', 'IMAGE_NAME', 'ID_PATIENT', 'CLASS_TYPE', 'GENDER',\n",
        "       'RIGH/LEFT-HANDED', 'AGE']]\n",
        "  avg_dev = df1.mad(axis = 0)\n",
        "  std_dev = df1.std(axis = 0)\n",
        "\n",
        "  df1 = df1.sub(avg_dev)\n",
        "  df1 = df1.divide(std_dev)\n",
        "\n",
        "  return df2, df1"
      ],
      "execution_count": 55,
      "outputs": []
    },
    {
      "cell_type": "code",
      "metadata": {
        "id": "U4px6A393Q__"
      },
      "source": [
        "# normalizing spiral_df\n",
        "spiral_df = pd.concat(feature_normalization(spiral_df), axis = 1)"
      ],
      "execution_count": 56,
      "outputs": []
    },
    {
      "cell_type": "code",
      "metadata": {
        "colab": {
          "base_uri": "https://localhost:8080/"
        },
        "id": "70aOxKqmfPMY",
        "outputId": "6dd6f40e-cafe-4c1c-9a3b-0a14744db733"
      },
      "source": [
        "spiral_df.columns"
      ],
      "execution_count": 57,
      "outputs": [
        {
          "output_type": "execute_result",
          "data": {
            "text/plain": [
              "Index(['_ID_EXAM', 'IMAGE_NAME', 'ID_PATIENT', 'CLASS_TYPE', 'GENDER',\n",
              "       'RIGH/LEFT-HANDED', 'AGE', 'RMS', 'MAX_BETWEEN_ET_HT',\n",
              "       'MIN_BETWEEN_ET_HT', 'STD_DEVIATION_ET_HT', 'MRT', 'MAX_HT', 'MIN_HT',\n",
              "       'STD_HT', 'CHANGES_FROM_NEGATIVE_TO_POSITIVE_BETWEEN_ET_HT'],\n",
              "      dtype='object')"
            ]
          },
          "metadata": {
            "tags": []
          },
          "execution_count": 57
        }
      ]
    },
    {
      "cell_type": "code",
      "metadata": {
        "id": "WM9Gn1JMfUUl"
      },
      "source": [
        "X_spiral = spiral_df[['RMS', 'MAX_BETWEEN_ET_HT',\n",
        "       'MIN_BETWEEN_ET_HT', 'STD_DEVIATION_ET_HT', 'MRT', 'MAX_HT', 'MIN_HT',\n",
        "       'STD_HT', 'CHANGES_FROM_NEGATIVE_TO_POSITIVE_BETWEEN_ET_HT']]"
      ],
      "execution_count": 58,
      "outputs": []
    },
    {
      "cell_type": "code",
      "metadata": {
        "id": "1c9pJGfkfhf1"
      },
      "source": [
        "y_spiral = spiral_df['CLASS_TYPE'] # 1 bracket so we make series instead of dataframe"
      ],
      "execution_count": 59,
      "outputs": []
    },
    {
      "cell_type": "code",
      "metadata": {
        "id": "Yi7MJQt53h3-"
      },
      "source": [
        "# normalizing X_meander\n",
        "meander_df =  pd.concat(feature_normalization(meander_df), axis = 1)"
      ],
      "execution_count": 60,
      "outputs": []
    },
    {
      "cell_type": "markdown",
      "metadata": {
        "id": "b1QF9geMGuV2"
      },
      "source": [
        "##**SVM Implementation**"
      ]
    },
    {
      "cell_type": "markdown",
      "metadata": {
        "id": "I_gFuMTHnkSU"
      },
      "source": [
        "###**Training with Cross-Val**"
      ]
    },
    {
      "cell_type": "code",
      "metadata": {
        "id": "aIye3DbQd9Xz"
      },
      "source": [
        "clf = SVC(kernel = 'rbf', probability = True, class_weight = 'balanced')\n",
        "cv = ShuffleSplit(n_splits=20, test_size = 0.25, random_state=0)\n",
        "\n",
        "scores = cross_val_score(clf, X_spiral, y_spiral, cv=cv)"
      ],
      "execution_count": 40,
      "outputs": []
    },
    {
      "cell_type": "code",
      "metadata": {
        "colab": {
          "base_uri": "https://localhost:8080/"
        },
        "id": "yfR3ueXXgN9P",
        "outputId": "0f84b09e-27e2-4220-9a76-150a45638ef1"
      },
      "source": [
        "scores"
      ],
      "execution_count": 41,
      "outputs": [
        {
          "output_type": "execute_result",
          "data": {
            "text/plain": [
              "array([0.6969697 , 0.62121212, 0.59090909, 0.65151515, 0.59090909,\n",
              "       0.65151515, 0.60606061, 0.65151515, 0.62121212, 0.6969697 ,\n",
              "       0.59090909, 0.66666667, 0.63636364, 0.63636364, 0.60606061,\n",
              "       0.6969697 , 0.53030303, 0.62121212, 0.63636364, 0.74242424])"
            ]
          },
          "metadata": {
            "tags": []
          },
          "execution_count": 41
        }
      ]
    },
    {
      "cell_type": "code",
      "metadata": {
        "colab": {
          "base_uri": "https://localhost:8080/"
        },
        "id": "11A1mk8XkzaR",
        "outputId": "0d0c1253-946e-4de8-a3c6-085946a81e18"
      },
      "source": [
        "scores.mean()"
      ],
      "execution_count": 62,
      "outputs": [
        {
          "output_type": "execute_result",
          "data": {
            "text/plain": [
              "0.6371212121212121"
            ]
          },
          "metadata": {
            "tags": []
          },
          "execution_count": 62
        }
      ]
    },
    {
      "cell_type": "code",
      "metadata": {
        "colab": {
          "base_uri": "https://localhost:8080/"
        },
        "id": "b3rHAzLak1fE",
        "outputId": "8b920e5c-17d1-4e93-ca9b-e0a9e6d6d72f"
      },
      "source": [
        "scores.std()"
      ],
      "execution_count": 63,
      "outputs": [
        {
          "output_type": "execute_result",
          "data": {
            "text/plain": [
              "0.046816710774182965"
            ]
          },
          "metadata": {
            "tags": []
          },
          "execution_count": 63
        }
      ]
    },
    {
      "cell_type": "code",
      "metadata": {
        "id": "hG63Z_zUjCGw"
      },
      "source": [
        ""
      ],
      "execution_count": null,
      "outputs": []
    },
    {
      "cell_type": "code",
      "metadata": {
        "colab": {
          "base_uri": "https://localhost:8080/"
        },
        "id": "IefqpE8VjDhT",
        "outputId": "46ea2968-cc34-48a0-91b0-e14b166f2a7f"
      },
      "source": [
        "# using cross_val_predict to get confusion matrix\n",
        "\n",
        "y_pred = cross_val_predict(clf, X_spiral, y_spiral, cv=20)\n",
        "conf_mat = confusion_matrix(y_spiral, y_pred)\n",
        "\n",
        "print (conf_mat)"
      ],
      "execution_count": 61,
      "outputs": [
        {
          "output_type": "stream",
          "text": [
            "[[ 54  86]\n",
            " [  7 117]]\n"
          ],
          "name": "stdout"
        }
      ]
    },
    {
      "cell_type": "code",
      "metadata": {
        "id": "1iu3U5rekvj4"
      },
      "source": [
        ""
      ],
      "execution_count": null,
      "outputs": []
    },
    {
      "cell_type": "markdown",
      "metadata": {
        "id": "y1SDNLlenfUX"
      },
      "source": [
        "##**Results**"
      ]
    },
    {
      "cell_type": "markdown",
      "metadata": {
        "id": "uwxR8fPlNEz5"
      },
      "source": [
        "#### Deviance of probabilites from 100/0 depending on class"
      ]
    },
    {
      "cell_type": "code",
      "metadata": {
        "id": "WQpRxLEUHJT8"
      },
      "source": [
        "# flattening y_meander_proba & removing the second percentage we don't need\n",
        "\n",
        "y_meander_proba = [x for list in y_meander_proba for x in list]\n",
        "y_meander_proba = y_meander_proba[0::2] # takes every other element starting from the first element"
      ],
      "execution_count": null,
      "outputs": []
    },
    {
      "cell_type": "code",
      "metadata": {
        "colab": {
          "base_uri": "https://localhost:8080/",
          "height": 129
        },
        "id": "3xPExxC_JnIK",
        "outputId": "d0065d0d-57f8-464b-9d86-421d8719beae"
      },
      "source": [
        "testing = y_meander_proba[i for i in y_meander_proba if i < 0.2775]"
      ],
      "execution_count": null,
      "outputs": [
        {
          "output_type": "error",
          "ename": "SyntaxError",
          "evalue": "ignored",
          "traceback": [
            "\u001b[0;36m  File \u001b[0;32m\"<ipython-input-37-21a47cbb45cb>\"\u001b[0;36m, line \u001b[0;32m1\u001b[0m\n\u001b[0;31m    testing = y_spiral_proba[i for i in y_spiral_proba if i < 0.2775]\u001b[0m\n\u001b[0m                                 ^\u001b[0m\n\u001b[0;31mSyntaxError\u001b[0m\u001b[0;31m:\u001b[0m invalid syntax\n"
          ]
        }
      ]
    },
    {
      "cell_type": "code",
      "metadata": {
        "id": "ldWFn6RYHiAH"
      },
      "source": [
        "len(y_meander_proba)"
      ],
      "execution_count": null,
      "outputs": []
    },
    {
      "cell_type": "code",
      "metadata": {
        "id": "vOO5v94vDEvn"
      },
      "source": [
        "# calculating standard dev \n",
        "\n",
        "proba1 = [i for i in y_meander_proba if i > 0.77]\n",
        "proba2 = [i for i in y_meander_proba if i < 0.77]"
      ],
      "execution_count": null,
      "outputs": []
    },
    {
      "cell_type": "code",
      "metadata": {
        "id": "FxvDJVFPendh"
      },
      "source": [
        "len(proba2)"
      ],
      "execution_count": null,
      "outputs": []
    },
    {
      "cell_type": "code",
      "metadata": {
        "id": "yQIobQ4PMco1"
      },
      "source": [
        "print(proba2)"
      ],
      "execution_count": null,
      "outputs": []
    },
    {
      "cell_type": "code",
      "metadata": {
        "id": "_RQmDMxeIwV9"
      },
      "source": [
        "meanval =0\n",
        "\n",
        "for i in proba1:\n",
        "  meanval += (i)\n",
        "\n",
        "meanval /= len(proba1)\n",
        "\n",
        "meanval"
      ],
      "execution_count": null,
      "outputs": []
    },
    {
      "cell_type": "code",
      "metadata": {
        "id": "Dquv-ArUI_Ls"
      },
      "source": [
        "len(proba2)"
      ],
      "execution_count": null,
      "outputs": []
    },
    {
      "cell_type": "markdown",
      "metadata": {
        "id": "BI-rcWuANPfE"
      },
      "source": [
        "#### Y Meander Results"
      ]
    },
    {
      "cell_type": "code",
      "metadata": {
        "id": "SLrbKO744X8b"
      },
      "source": [
        "# y_meander_test = y_meander_test['CLASS_TYPE'].astype(str).astype(int)"
      ],
      "execution_count": null,
      "outputs": []
    },
    {
      "cell_type": "code",
      "metadata": {
        "colab": {
          "base_uri": "https://localhost:8080/"
        },
        "id": "wcz85pZi6YjR",
        "outputId": "40e6aca3-dbf9-488d-9889-bc04b76a4c13"
      },
      "source": [
        "y_meander_test.dtypes"
      ],
      "execution_count": null,
      "outputs": [
        {
          "output_type": "execute_result",
          "data": {
            "text/plain": [
              "CLASS_TYPE    int64\n",
              "dtype: object"
            ]
          },
          "metadata": {
            "tags": []
          },
          "execution_count": 40
        }
      ]
    },
    {
      "cell_type": "code",
      "metadata": {
        "colab": {
          "base_uri": "https://localhost:8080/"
        },
        "id": "su5RMaC_MaPF",
        "outputId": "1ab29bbb-9afc-4325-8b46-86c04bd615f0"
      },
      "source": [
        "clf.score(X_meander_test, y_meander_test)"
      ],
      "execution_count": null,
      "outputs": [
        {
          "output_type": "execute_result",
          "data": {
            "text/plain": [
              "0.6212121212121212"
            ]
          },
          "metadata": {
            "tags": []
          },
          "execution_count": 41
        }
      ]
    },
    {
      "cell_type": "code",
      "metadata": {
        "id": "wZf0iMccM767"
      },
      "source": [
        "target_names = ['Control', 'PD']\n",
        "results = classification_report(y_meander_test, y_meander_pred, target_names = target_names, output_dict=True)\n",
        "results = pd.DataFrame(results).transpose()\n",
        "conf_mat = confusion_matrix(y_meander_test, y_meander_pred)"
      ],
      "execution_count": null,
      "outputs": []
    },
    {
      "cell_type": "code",
      "metadata": {
        "colab": {
          "base_uri": "https://localhost:8080/",
          "height": 204
        },
        "id": "thzR3k3lMz31",
        "outputId": "e608442f-63ae-40c9-e69c-e866447033cf"
      },
      "source": [
        "results"
      ],
      "execution_count": null,
      "outputs": [
        {
          "output_type": "execute_result",
          "data": {
            "text/html": [
              "<div>\n",
              "<style scoped>\n",
              "    .dataframe tbody tr th:only-of-type {\n",
              "        vertical-align: middle;\n",
              "    }\n",
              "\n",
              "    .dataframe tbody tr th {\n",
              "        vertical-align: top;\n",
              "    }\n",
              "\n",
              "    .dataframe thead th {\n",
              "        text-align: right;\n",
              "    }\n",
              "</style>\n",
              "<table border=\"1\" class=\"dataframe\">\n",
              "  <thead>\n",
              "    <tr style=\"text-align: right;\">\n",
              "      <th></th>\n",
              "      <th>precision</th>\n",
              "      <th>recall</th>\n",
              "      <th>f1-score</th>\n",
              "      <th>support</th>\n",
              "    </tr>\n",
              "  </thead>\n",
              "  <tbody>\n",
              "    <tr>\n",
              "      <th>Control</th>\n",
              "      <td>0.916667</td>\n",
              "      <td>0.314286</td>\n",
              "      <td>0.468085</td>\n",
              "      <td>35.000000</td>\n",
              "    </tr>\n",
              "    <tr>\n",
              "      <th>PD</th>\n",
              "      <td>0.555556</td>\n",
              "      <td>0.967742</td>\n",
              "      <td>0.705882</td>\n",
              "      <td>31.000000</td>\n",
              "    </tr>\n",
              "    <tr>\n",
              "      <th>accuracy</th>\n",
              "      <td>0.621212</td>\n",
              "      <td>0.621212</td>\n",
              "      <td>0.621212</td>\n",
              "      <td>0.621212</td>\n",
              "    </tr>\n",
              "    <tr>\n",
              "      <th>macro avg</th>\n",
              "      <td>0.736111</td>\n",
              "      <td>0.641014</td>\n",
              "      <td>0.586984</td>\n",
              "      <td>66.000000</td>\n",
              "    </tr>\n",
              "    <tr>\n",
              "      <th>weighted avg</th>\n",
              "      <td>0.747054</td>\n",
              "      <td>0.621212</td>\n",
              "      <td>0.579778</td>\n",
              "      <td>66.000000</td>\n",
              "    </tr>\n",
              "  </tbody>\n",
              "</table>\n",
              "</div>"
            ],
            "text/plain": [
              "              precision    recall  f1-score    support\n",
              "Control        0.916667  0.314286  0.468085  35.000000\n",
              "PD             0.555556  0.967742  0.705882  31.000000\n",
              "accuracy       0.621212  0.621212  0.621212   0.621212\n",
              "macro avg      0.736111  0.641014  0.586984  66.000000\n",
              "weighted avg   0.747054  0.621212  0.579778  66.000000"
            ]
          },
          "metadata": {
            "tags": []
          },
          "execution_count": 43
        }
      ]
    },
    {
      "cell_type": "code",
      "metadata": {
        "colab": {
          "base_uri": "https://localhost:8080/"
        },
        "id": "zAXqc2uPNeq5",
        "outputId": "445da109-6e29-4ac1-ee42-82ed5e7852a5"
      },
      "source": [
        "conf_mat"
      ],
      "execution_count": null,
      "outputs": [
        {
          "output_type": "execute_result",
          "data": {
            "text/plain": [
              "array([[11, 24],\n",
              "       [ 1, 30]])"
            ]
          },
          "metadata": {
            "tags": []
          },
          "execution_count": 44
        }
      ]
    },
    {
      "cell_type": "code",
      "metadata": {
        "colab": {
          "base_uri": "https://localhost:8080/"
        },
        "id": "vwthqW4OQD2z",
        "outputId": "7b739de6-a719-42e6-de24-8916051f328f"
      },
      "source": [
        "TN, FP, FN, TP = conf_mat.ravel()\n",
        "\n",
        "# Sensitivity, hit rate, recall, or true positive rate\n",
        "TPR = TP/(TP+FN)\n",
        "\n",
        "# Specificity or true negative rate\n",
        "TNR = TN/(TN+FP) \n",
        "\n",
        "# Precision or positive predictive value\n",
        "PPV = TP/(TP+FP)\n",
        "\n",
        "# Negative predictive value\n",
        "NPV = TN/(TN+FN)\n",
        "\n",
        "# Fall out or false positive rate\n",
        "FPR = FP/(FP+TN)\n",
        "\n",
        "# False negative rate\n",
        "FNR = FN/(TP+FN)\n",
        "\n",
        "# False discovery rate\n",
        "FDR = FP/(TP+FP)\n",
        "\n",
        "print(\"TP: \", TP)\n",
        "print(\"TN: \", TN)\n",
        "print(\"FP: \", FP)\n",
        "print(\"FN: \", FN)\n",
        "\n",
        "print(\"Sensitivity: \", TPR)\n",
        "print(\"Specificity: \", TNR)\n",
        "print(\"NPV: \", NPV)\n",
        "print(\"PPV: \", PPV)"
      ],
      "execution_count": null,
      "outputs": [
        {
          "output_type": "stream",
          "text": [
            "TP:  30\n",
            "TN:  11\n",
            "FP:  24\n",
            "FN:  1\n",
            "Sensitivity:  0.967741935483871\n",
            "Specificity:  0.3142857142857143\n",
            "NPV:  0.9166666666666666\n",
            "PPV:  0.5555555555555556\n"
          ],
          "name": "stdout"
        }
      ]
    },
    {
      "cell_type": "markdown",
      "metadata": {
        "id": "6q-82qHV56E3"
      },
      "source": [
        "Can we somehow get the weights for the model to learn which features are considered most useful?"
      ]
    }
  ]
}