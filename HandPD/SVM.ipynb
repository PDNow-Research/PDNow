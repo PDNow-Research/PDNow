{
  "nbformat": 4,
  "nbformat_minor": 0,
  "metadata": {
    "colab": {
      "name": "SVM.ipynb",
      "provenance": [],
      "collapsed_sections": [],
      "authorship_tag": "ABX9TyPCe7DBrery/M9ij9X4Fi+J",
      "include_colab_link": true
    },
    "kernelspec": {
      "name": "python3",
      "display_name": "Python 3"
    },
    "language_info": {
      "name": "python"
    }
  },
  "cells": [
    {
      "cell_type": "markdown",
      "metadata": {
        "id": "view-in-github",
        "colab_type": "text"
      },
      "source": [
        "<a href=\"https://colab.research.google.com/github/PDNow-Research/PDNow/blob/main/HandPD/SVM.ipynb\" target=\"_parent\"><img src=\"https://colab.research.google.com/assets/colab-badge.svg\" alt=\"Open In Colab\"/></a>"
      ]
    },
    {
      "cell_type": "code",
      "metadata": {
        "id": "QE4ruysJCQn7",
        "colab": {
          "base_uri": "https://localhost:8080/"
        },
        "outputId": "17fb0925-a10c-4ba1-d0b2-218338555f0c"
      },
      "source": [
        "from google.colab import drive\n",
        "drive.mount(\"/content/drive\")"
      ],
      "execution_count": 1,
      "outputs": [
        {
          "output_type": "stream",
          "name": "stdout",
          "text": [
            "Drive already mounted at /content/drive; to attempt to forcibly remount, call drive.mount(\"/content/drive\", force_remount=True).\n"
          ]
        }
      ]
    },
    {
      "cell_type": "code",
      "metadata": {
        "id": "v9Y4RF0dDEV2"
      },
      "source": [
        "# Data Science\n",
        "import re\n",
        "import csv\n",
        "import json\n",
        "import itertools\n",
        "from tqdm import tqdm\n",
        "import numpy as np\n",
        "import pandas as pd\n",
        "import seaborn as sns\n",
        "import matplotlib.pyplot as plt\n",
        "\n",
        "# General\n",
        "import os\n",
        "import sys\n",
        "import time\n",
        "import math\n",
        "import random\n",
        "from datetime import date\n",
        "import warnings\n",
        "current_date = date.today()\n",
        "warnings.filterwarnings(\"ignore\")\n",
        "\n",
        "# SVM\n",
        "from sklearn.svm import SVC\n",
        "from sklearn.linear_model import LogisticRegression\n",
        "from sklearn.preprocessing import StandardScaler\n",
        "from sklearn.pipeline import make_pipeline\n",
        "from sklearn.model_selection import train_test_split\n",
        "from sklearn.model_selection import cross_validate\n",
        "from sklearn.metrics import confusion_matrix, average_precision_score, classification_report, accuracy_score\n",
        "from sklearn.model_selection import StratifiedKFold, KFold\n"
      ],
      "execution_count": 2,
      "outputs": []
    },
    {
      "cell_type": "markdown",
      "metadata": {
        "id": "KiYJUXkvb5o4"
      },
      "source": [
        "Here's the plan. \n",
        "\n",
        "To train the model, we're going to combine a BUNCH of data. Data from Meander && Spiral from Old Hand PD and New Hand PD. Just to see how it goes. Then we'll try more detailed extraction.\n",
        "\n",
        "Also, try only on new with age?\n",
        "\n",
        "Run simple SVM based on output of neural network model and age and some other stats :)"
      ]
    },
    {
      "cell_type": "markdown",
      "metadata": {
        "id": "9QeSebGfnM4l"
      },
      "source": [
        "CAN POSSIBLY: just extract 5 PD patients and 5 control patients for testing from new hand pd set and just train on everything else. That should be fine...... Then ez to test, just pass those in and evaluate results per patient, perhaps reach 90% accuracy with this \n",
        "\n",
        "We also do cross validation/validation set? then.\n",
        "\n",
        "also, hyperparameter tuning? Can get above 90% accuracy maybe with that!\n",
        "\n",
        "Discuss more with TT"
      ]
    },
    {
      "cell_type": "markdown",
      "metadata": {
        "id": "WcwtQpQfktl7"
      },
      "source": [
        "###**Normalization**\n",
        "\n",
        "fi' = (fi - avg)/std"
      ]
    },
    {
      "cell_type": "code",
      "metadata": {
        "id": "VTfbmKgjjFEt"
      },
      "source": [
        "# normalization with the paper's method (formula above)\n",
        "def feature_normalization(df):\n",
        "  avg_dev = df.mad(axis = 0)\n",
        "  std_dev = df.std(axis = 0)\n",
        "\n",
        "  df = df.sub(avg_dev)\n",
        "  df = df.divide(std_dev)\n",
        "\n",
        "  return df"
      ],
      "execution_count": 3,
      "outputs": []
    },
    {
      "cell_type": "markdown",
      "metadata": {
        "id": "TxETajX6baom"
      },
      "source": [
        "### Extracting from Old Hand PD"
      ]
    },
    {
      "cell_type": "code",
      "metadata": {
        "id": "-ZTgvIpSDSKk"
      },
      "source": [
        "spiral_df = pd.read_csv('/content/drive/My Drive/Data/HandPD-Replication/Spiral_HandPD.csv', index_col=None, skiprows = 1, names=['ID_EXAM', 'Image', 'ID_PATIENT', 'Label', 'GENDER', 'HANDEDNESS', 'AGE', 'RMS', 'Max_dist', 'Min_dist', 'SD', 'MRT', 'Max_ET', 'Min_ET', 'SD_ET', 'HT_ET_Diff'])"
      ],
      "execution_count": 4,
      "outputs": []
    },
    {
      "cell_type": "code",
      "metadata": {
        "colab": {
          "base_uri": "https://localhost:8080/"
        },
        "id": "S-wXrWJC95kU",
        "outputId": "17077c22-13d8-459f-d436-51be248bb361"
      },
      "source": [
        "spiral_df.shape"
      ],
      "execution_count": 5,
      "outputs": [
        {
          "output_type": "execute_result",
          "data": {
            "text/plain": [
              "(368, 16)"
            ]
          },
          "metadata": {},
          "execution_count": 5
        }
      ]
    },
    {
      "cell_type": "code",
      "metadata": {
        "colab": {
          "base_uri": "https://localhost:8080/",
          "height": 0
        },
        "id": "CRn1D5IWgZVN",
        "outputId": "1bd687af-1cde-467f-c9ab-33eb74b1f10b"
      },
      "source": [
        "spiral_df.head()"
      ],
      "execution_count": 6,
      "outputs": [
        {
          "output_type": "execute_result",
          "data": {
            "text/html": [
              "<div>\n",
              "<style scoped>\n",
              "    .dataframe tbody tr th:only-of-type {\n",
              "        vertical-align: middle;\n",
              "    }\n",
              "\n",
              "    .dataframe tbody tr th {\n",
              "        vertical-align: top;\n",
              "    }\n",
              "\n",
              "    .dataframe thead th {\n",
              "        text-align: right;\n",
              "    }\n",
              "</style>\n",
              "<table border=\"1\" class=\"dataframe\">\n",
              "  <thead>\n",
              "    <tr style=\"text-align: right;\">\n",
              "      <th></th>\n",
              "      <th>ID_EXAM</th>\n",
              "      <th>Image</th>\n",
              "      <th>ID_PATIENT</th>\n",
              "      <th>Label</th>\n",
              "      <th>GENDER</th>\n",
              "      <th>HANDEDNESS</th>\n",
              "      <th>AGE</th>\n",
              "      <th>RMS</th>\n",
              "      <th>Max_dist</th>\n",
              "      <th>Min_dist</th>\n",
              "      <th>SD</th>\n",
              "      <th>MRT</th>\n",
              "      <th>Max_ET</th>\n",
              "      <th>Min_ET</th>\n",
              "      <th>SD_ET</th>\n",
              "      <th>HT_ET_Diff</th>\n",
              "    </tr>\n",
              "  </thead>\n",
              "  <tbody>\n",
              "    <tr>\n",
              "      <th>0</th>\n",
              "      <td>68</td>\n",
              "      <td>0068-1.jpg</td>\n",
              "      <td>1</td>\n",
              "      <td>1</td>\n",
              "      <td>F</td>\n",
              "      <td>L</td>\n",
              "      <td>28</td>\n",
              "      <td>2446.759108</td>\n",
              "      <td>5388.771096</td>\n",
              "      <td>3.343540e+04</td>\n",
              "      <td>0.0</td>\n",
              "      <td>26.849731</td>\n",
              "      <td>183.854351</td>\n",
              "      <td>0.017068</td>\n",
              "      <td>1779.550502</td>\n",
              "      <td>0.216138</td>\n",
              "    </tr>\n",
              "    <tr>\n",
              "      <th>1</th>\n",
              "      <td>68</td>\n",
              "      <td>0068-2.jpg</td>\n",
              "      <td>1</td>\n",
              "      <td>1</td>\n",
              "      <td>F</td>\n",
              "      <td>L</td>\n",
              "      <td>28</td>\n",
              "      <td>2159.220559</td>\n",
              "      <td>4617.939790</td>\n",
              "      <td>3.442829e+04</td>\n",
              "      <td>0.0</td>\n",
              "      <td>26.758489</td>\n",
              "      <td>186.609895</td>\n",
              "      <td>0.000000</td>\n",
              "      <td>1885.340368</td>\n",
              "      <td>0.184438</td>\n",
              "    </tr>\n",
              "    <tr>\n",
              "      <th>2</th>\n",
              "      <td>68</td>\n",
              "      <td>0068-3.jpg</td>\n",
              "      <td>1</td>\n",
              "      <td>1</td>\n",
              "      <td>F</td>\n",
              "      <td>L</td>\n",
              "      <td>28</td>\n",
              "      <td>1740.390711</td>\n",
              "      <td>4260.973134</td>\n",
              "      <td>3.363295e+07</td>\n",
              "      <td>0.0</td>\n",
              "      <td>30.973944</td>\n",
              "      <td>183.868389</td>\n",
              "      <td>0.006510</td>\n",
              "      <td>2197.159165</td>\n",
              "      <td>0.181287</td>\n",
              "    </tr>\n",
              "    <tr>\n",
              "      <th>3</th>\n",
              "      <td>68</td>\n",
              "      <td>0068-4.jpg</td>\n",
              "      <td>1</td>\n",
              "      <td>1</td>\n",
              "      <td>F</td>\n",
              "      <td>L</td>\n",
              "      <td>28</td>\n",
              "      <td>2047.900847</td>\n",
              "      <td>4286.241318</td>\n",
              "      <td>3.241294e+04</td>\n",
              "      <td>0.0</td>\n",
              "      <td>28.165933</td>\n",
              "      <td>186.055214</td>\n",
              "      <td>0.025942</td>\n",
              "      <td>1875.711604</td>\n",
              "      <td>0.193084</td>\n",
              "    </tr>\n",
              "    <tr>\n",
              "      <th>4</th>\n",
              "      <td>92</td>\n",
              "      <td>0092-1.jpg</td>\n",
              "      <td>2</td>\n",
              "      <td>1</td>\n",
              "      <td>M</td>\n",
              "      <td>R</td>\n",
              "      <td>37</td>\n",
              "      <td>2059.220895</td>\n",
              "      <td>4733.016802</td>\n",
              "      <td>3.543708e+04</td>\n",
              "      <td>0.0</td>\n",
              "      <td>22.091342</td>\n",
              "      <td>186.092103</td>\n",
              "      <td>0.000000</td>\n",
              "      <td>1625.325851</td>\n",
              "      <td>0.193642</td>\n",
              "    </tr>\n",
              "  </tbody>\n",
              "</table>\n",
              "</div>"
            ],
            "text/plain": [
              "   ID_EXAM       Image  ID_PATIENT  ...    Min_ET        SD_ET HT_ET_Diff\n",
              "0       68  0068-1.jpg           1  ...  0.017068  1779.550502   0.216138\n",
              "1       68  0068-2.jpg           1  ...  0.000000  1885.340368   0.184438\n",
              "2       68  0068-3.jpg           1  ...  0.006510  2197.159165   0.181287\n",
              "3       68  0068-4.jpg           1  ...  0.025942  1875.711604   0.193084\n",
              "4       92  0092-1.jpg           2  ...  0.000000  1625.325851   0.193642\n",
              "\n",
              "[5 rows x 16 columns]"
            ]
          },
          "metadata": {},
          "execution_count": 6
        }
      ]
    },
    {
      "cell_type": "code",
      "metadata": {
        "id": "k8GfG8Od97zF",
        "colab": {
          "base_uri": "https://localhost:8080/"
        },
        "outputId": "903b588d-30a0-4fbf-81a8-4e7c749a8f1d"
      },
      "source": [
        "spiral_df['Label'].value_counts()"
      ],
      "execution_count": 7,
      "outputs": [
        {
          "output_type": "execute_result",
          "data": {
            "text/plain": [
              "2    296\n",
              "1     72\n",
              "Name: Label, dtype: int64"
            ]
          },
          "metadata": {},
          "execution_count": 7
        }
      ]
    },
    {
      "cell_type": "code",
      "metadata": {
        "colab": {
          "base_uri": "https://localhost:8080/"
        },
        "id": "W0xamWY3fRY_",
        "outputId": "463232c9-cf36-4986-ee7d-db072659bbe3"
      },
      "source": [
        "spiral_df.dtypes"
      ],
      "execution_count": 8,
      "outputs": [
        {
          "output_type": "execute_result",
          "data": {
            "text/plain": [
              "ID_EXAM         int64\n",
              "Image          object\n",
              "ID_PATIENT      int64\n",
              "Label           int64\n",
              "GENDER         object\n",
              "HANDEDNESS     object\n",
              "AGE             int64\n",
              "RMS           float64\n",
              "Max_dist      float64\n",
              "Min_dist      float64\n",
              "SD            float64\n",
              "MRT           float64\n",
              "Max_ET        float64\n",
              "Min_ET        float64\n",
              "SD_ET         float64\n",
              "HT_ET_Diff    float64\n",
              "dtype: object"
            ]
          },
          "metadata": {},
          "execution_count": 8
        }
      ]
    },
    {
      "cell_type": "code",
      "metadata": {
        "id": "2Ka51zlVEk7r"
      },
      "source": [
        "meander_df = pd.read_csv('/content/drive/My Drive/Data/HandPD-Replication/Meander_HandPD.csv', index_col=None, skiprows = 1, names=['ID_EXAM', 'Image', 'ID_PATIENT', 'Label', 'GENDER', 'HANDEDNESS', 'AGE', 'RMS', 'Max_dist', 'Min_dist', 'SD', 'MRT', 'Max_ET', 'Min_ET', 'SD_ET', 'HT_ET_Diff'])"
      ],
      "execution_count": 9,
      "outputs": []
    },
    {
      "cell_type": "code",
      "metadata": {
        "colab": {
          "base_uri": "https://localhost:8080/"
        },
        "id": "JCbwMDV1EuCh",
        "outputId": "543bbc4e-7cd3-4d2f-daa4-acce1f04bd31"
      },
      "source": [
        "meander_df.shape"
      ],
      "execution_count": 10,
      "outputs": [
        {
          "output_type": "execute_result",
          "data": {
            "text/plain": [
              "(368, 16)"
            ]
          },
          "metadata": {},
          "execution_count": 10
        }
      ]
    },
    {
      "cell_type": "code",
      "metadata": {
        "colab": {
          "base_uri": "https://localhost:8080/"
        },
        "id": "tr-12febcL_-",
        "outputId": "fe2b5d3a-1078-4030-a2b5-b875ebd9e3f2"
      },
      "source": [
        "spiral_df['Label'].value_counts()"
      ],
      "execution_count": 11,
      "outputs": [
        {
          "output_type": "execute_result",
          "data": {
            "text/plain": [
              "2    296\n",
              "1     72\n",
              "Name: Label, dtype: int64"
            ]
          },
          "metadata": {},
          "execution_count": 11
        }
      ]
    },
    {
      "cell_type": "code",
      "metadata": {
        "id": "jmMbVt8doypy"
      },
      "source": [
        "spiral_normalize = spiral_df[['RMS', 'Max_dist', 'Min_dist', 'SD', 'MRT', 'Max_ET', 'Min_ET', 'SD_ET', 'HT_ET_Diff']]\n",
        "meander_normalize = meander_df[['RMS', 'Max_dist', 'Min_dist', 'SD', 'MRT', 'Max_ET', 'Min_ET', 'SD_ET', 'HT_ET_Diff']]\n",
        "\n",
        "spiral_df = spiral_df[['ID_EXAM', 'Image', 'ID_PATIENT', 'Label', 'GENDER', 'HANDEDNESS', 'AGE']]\n",
        "meander_df = meander_df[['ID_EXAM', 'Image', 'ID_PATIENT', 'Label', 'GENDER', 'HANDEDNESS', 'AGE']]\n",
        "\n",
        "spiral_normalize = feature_normalization(spiral_normalize)\n",
        "meander_normalize = feature_normalization(meander_normalize)\n",
        "\n",
        "spiral_df = pd.concat([spiral_df, spiral_normalize], axis =1)\n",
        "meander_df = pd.concat([meander_df, meander_normalize], axis =1)"
      ],
      "execution_count": 12,
      "outputs": []
    },
    {
      "cell_type": "code",
      "metadata": {
        "id": "jmCZd_DLs-K1"
      },
      "source": [
        "# Fixing ID_EXAMs\n",
        "\n",
        "def append_to_ids(df):\n",
        "  # df = df.astype({'ID_EXAM': 'object'})\n",
        "\n",
        "  id_list = [] * 1\n",
        "\n",
        "  for i in range(df.shape[0]):\n",
        "    label = df.loc[i]['Label']\n",
        "    if (label == 1):\n",
        "      label = 'H'\n",
        "    elif (label == 2):\n",
        "      label = 'P'\n",
        "\n",
        "    id_exam = df.loc[i, 'ID_EXAM']\n",
        "    id_exam = str(int(id_exam))\n",
        "    new_id = label + id_exam\n",
        "    id_list.append(new_id)\n",
        "\n",
        "  df1 = pd.DataFrame(id_list, columns=['EXAM_ID'])\n",
        "\n",
        "  df['ID_EXAM'] = df1 \n",
        "\n",
        "  return df"
      ],
      "execution_count": 13,
      "outputs": []
    },
    {
      "cell_type": "code",
      "metadata": {
        "id": "8jB0utw_zwtp"
      },
      "source": [
        "spiral_df = append_to_ids(spiral_df)\n",
        "meander_df = append_to_ids(meander_df)"
      ],
      "execution_count": 14,
      "outputs": []
    },
    {
      "cell_type": "code",
      "metadata": {
        "colab": {
          "base_uri": "https://localhost:8080/",
          "height": 0
        },
        "id": "RkX8Jy6QzejR",
        "outputId": "7addcb90-0da2-45e6-d8f8-26daa720253b"
      },
      "source": [
        "meander_df.head()"
      ],
      "execution_count": 15,
      "outputs": [
        {
          "output_type": "execute_result",
          "data": {
            "text/html": [
              "<div>\n",
              "<style scoped>\n",
              "    .dataframe tbody tr th:only-of-type {\n",
              "        vertical-align: middle;\n",
              "    }\n",
              "\n",
              "    .dataframe tbody tr th {\n",
              "        vertical-align: top;\n",
              "    }\n",
              "\n",
              "    .dataframe thead th {\n",
              "        text-align: right;\n",
              "    }\n",
              "</style>\n",
              "<table border=\"1\" class=\"dataframe\">\n",
              "  <thead>\n",
              "    <tr style=\"text-align: right;\">\n",
              "      <th></th>\n",
              "      <th>ID_EXAM</th>\n",
              "      <th>Image</th>\n",
              "      <th>ID_PATIENT</th>\n",
              "      <th>Label</th>\n",
              "      <th>GENDER</th>\n",
              "      <th>HANDEDNESS</th>\n",
              "      <th>AGE</th>\n",
              "      <th>RMS</th>\n",
              "      <th>Max_dist</th>\n",
              "      <th>Min_dist</th>\n",
              "      <th>SD</th>\n",
              "      <th>MRT</th>\n",
              "      <th>Max_ET</th>\n",
              "      <th>Min_ET</th>\n",
              "      <th>SD_ET</th>\n",
              "      <th>HT_ET_Diff</th>\n",
              "    </tr>\n",
              "  </thead>\n",
              "  <tbody>\n",
              "    <tr>\n",
              "      <th>0</th>\n",
              "      <td>H68</td>\n",
              "      <td>0068-1.jpg</td>\n",
              "      <td>1</td>\n",
              "      <td>1</td>\n",
              "      <td>F</td>\n",
              "      <td>L</td>\n",
              "      <td>28</td>\n",
              "      <td>2.035144</td>\n",
              "      <td>5.311181</td>\n",
              "      <td>-0.255407</td>\n",
              "      <td>-0.117522</td>\n",
              "      <td>5.578080</td>\n",
              "      <td>9.536084</td>\n",
              "      <td>-0.072344</td>\n",
              "      <td>-0.131805</td>\n",
              "      <td>5.507089</td>\n",
              "    </tr>\n",
              "    <tr>\n",
              "      <th>1</th>\n",
              "      <td>H68</td>\n",
              "      <td>0068-2.jpg</td>\n",
              "      <td>1</td>\n",
              "      <td>1</td>\n",
              "      <td>F</td>\n",
              "      <td>L</td>\n",
              "      <td>28</td>\n",
              "      <td>1.672964</td>\n",
              "      <td>4.595817</td>\n",
              "      <td>-0.255749</td>\n",
              "      <td>-0.117615</td>\n",
              "      <td>5.801352</td>\n",
              "      <td>9.019807</td>\n",
              "      <td>-0.102808</td>\n",
              "      <td>-0.129246</td>\n",
              "      <td>4.587913</td>\n",
              "    </tr>\n",
              "    <tr>\n",
              "      <th>2</th>\n",
              "      <td>H68</td>\n",
              "      <td>0068-3.jpg</td>\n",
              "      <td>1</td>\n",
              "      <td>1</td>\n",
              "      <td>F</td>\n",
              "      <td>L</td>\n",
              "      <td>28</td>\n",
              "      <td>1.928166</td>\n",
              "      <td>4.839952</td>\n",
              "      <td>-0.256261</td>\n",
              "      <td>-0.117612</td>\n",
              "      <td>5.914914</td>\n",
              "      <td>9.499587</td>\n",
              "      <td>-0.104707</td>\n",
              "      <td>-0.128171</td>\n",
              "      <td>4.496546</td>\n",
              "    </tr>\n",
              "    <tr>\n",
              "      <th>3</th>\n",
              "      <td>H68</td>\n",
              "      <td>0068-4.jpg</td>\n",
              "      <td>1</td>\n",
              "      <td>1</td>\n",
              "      <td>F</td>\n",
              "      <td>L</td>\n",
              "      <td>28</td>\n",
              "      <td>1.539729</td>\n",
              "      <td>5.217562</td>\n",
              "      <td>-0.254365</td>\n",
              "      <td>-0.117615</td>\n",
              "      <td>8.247279</td>\n",
              "      <td>9.949876</td>\n",
              "      <td>-0.028813</td>\n",
              "      <td>-0.108332</td>\n",
              "      <td>4.838613</td>\n",
              "    </tr>\n",
              "    <tr>\n",
              "      <th>4</th>\n",
              "      <td>H92</td>\n",
              "      <td>0092-1.jpg</td>\n",
              "      <td>2</td>\n",
              "      <td>1</td>\n",
              "      <td>M</td>\n",
              "      <td>R</td>\n",
              "      <td>37</td>\n",
              "      <td>2.149770</td>\n",
              "      <td>4.421324</td>\n",
              "      <td>-0.256954</td>\n",
              "      <td>-0.117523</td>\n",
              "      <td>4.674067</td>\n",
              "      <td>8.280392</td>\n",
              "      <td>-0.089623</td>\n",
              "      <td>-0.136281</td>\n",
              "      <td>4.854793</td>\n",
              "    </tr>\n",
              "  </tbody>\n",
              "</table>\n",
              "</div>"
            ],
            "text/plain": [
              "  ID_EXAM       Image  ID_PATIENT  ...    Min_ET     SD_ET HT_ET_Diff\n",
              "0     H68  0068-1.jpg           1  ... -0.072344 -0.131805   5.507089\n",
              "1     H68  0068-2.jpg           1  ... -0.102808 -0.129246   4.587913\n",
              "2     H68  0068-3.jpg           1  ... -0.104707 -0.128171   4.496546\n",
              "3     H68  0068-4.jpg           1  ... -0.028813 -0.108332   4.838613\n",
              "4     H92  0092-1.jpg           2  ... -0.089623 -0.136281   4.854793\n",
              "\n",
              "[5 rows x 16 columns]"
            ]
          },
          "metadata": {},
          "execution_count": 15
        }
      ]
    },
    {
      "cell_type": "markdown",
      "metadata": {
        "id": "c_cUPCHZbdd5"
      },
      "source": [
        "### Extracting from New HandPD\n",
        "\n",
        "Don't run more than once.\n",
        "\n",
        "Remove then normalize, or normalize then remove the 1s. We'll try that."
      ]
    },
    {
      "cell_type": "code",
      "metadata": {
        "id": "N3pZ8CPHbguD"
      },
      "source": [
        "new_spiral_df = pd.read_csv('/content/drive/My Drive/Data/HandPD-Replication/NewSpiral.csv', skiprows = 1, index_col = None, names=['ID_EXAM', 'Image', 'ID_PATIENT', 'Label', 'GENDER', 'HANDEDNESS', 'AGE', 'RMS', 'Max_dist', 'Min_dist', 'SD', 'MRT', 'Max_ET', 'Min_ET', 'SD_ET', 'HT_ET_Diff']) # skiprows to remove first row of old columns names"
      ],
      "execution_count": 16,
      "outputs": []
    },
    {
      "cell_type": "code",
      "metadata": {
        "id": "f018Zf4y2rIb"
      },
      "source": [
        "new_meander_df = pd.read_csv('/content/drive/My Drive/Data/HandPD-Replication/NewMeander.csv', index_col = None, skiprows =1, names=['ID_EXAM', 'Image', 'ID_PATIENT', 'Label', 'GENDER', 'HANDEDNESS', 'AGE', 'RMS', 'Max_dist', 'Min_dist', 'SD', 'MRT', 'Max_ET', 'Min_ET', 'SD_ET', 'HT_ET_Diff'])"
      ],
      "execution_count": 17,
      "outputs": []
    },
    {
      "cell_type": "code",
      "metadata": {
        "id": "sqvDTzrkT0D4"
      },
      "source": [
        "spiral_normalize = new_spiral_df[['RMS', 'Max_dist', 'Min_dist', 'SD', 'MRT', 'Max_ET', 'Min_ET', 'SD_ET', 'HT_ET_Diff']]\n",
        "meander_normalize = new_meander_df[['RMS', 'Max_dist', 'Min_dist', 'SD', 'MRT', 'Max_ET', 'Min_ET', 'SD_ET', 'HT_ET_Diff']]\n",
        "\n",
        "new_spiral_df = new_spiral_df[['ID_EXAM', 'Image', 'ID_PATIENT', 'Label', 'GENDER', 'HANDEDNESS', 'AGE']]\n",
        "new_meander_df = new_meander_df[['ID_EXAM', 'Image', 'ID_PATIENT', 'Label', 'GENDER', 'HANDEDNESS', 'AGE']]\n",
        "\n",
        "spiral_normalize = feature_normalization(spiral_normalize)\n",
        "meander_normalize = feature_normalization(meander_normalize)\n",
        "\n",
        "new_spiral_df = pd.concat([new_spiral_df, spiral_normalize], axis = 1)\n",
        "new_meander_df = pd.concat([new_meander_df, meander_normalize], axis = 1)"
      ],
      "execution_count": 18,
      "outputs": []
    },
    {
      "cell_type": "code",
      "metadata": {
        "id": "9U3NDFZ2p4BY"
      },
      "source": [
        "X_new = pd.concat([new_spiral_df, new_meander_df])"
      ],
      "execution_count": 19,
      "outputs": []
    },
    {
      "cell_type": "code",
      "metadata": {
        "id": "85PM5W1qp2XO"
      },
      "source": [
        "X_new = X_new[X_new[\"Label\"] == 1]"
      ],
      "execution_count": 20,
      "outputs": []
    },
    {
      "cell_type": "code",
      "metadata": {
        "colab": {
          "base_uri": "https://localhost:8080/"
        },
        "id": "szzJFUItpVxl",
        "outputId": "29733de5-5dcb-4eaa-d4a6-418248c103b6"
      },
      "source": [
        "all_rows = pd.concat([spiral_df, meander_df, X_new])\n",
        "all_rows = all_rows.reset_index(drop=True)\n",
        "all_rows.shape"
      ],
      "execution_count": 21,
      "outputs": [
        {
          "output_type": "execute_result",
          "data": {
            "text/plain": [
              "(1016, 16)"
            ]
          },
          "metadata": {},
          "execution_count": 21
        }
      ]
    },
    {
      "cell_type": "code",
      "metadata": {
        "colab": {
          "base_uri": "https://localhost:8080/"
        },
        "id": "EQY2HdBaFa5I",
        "outputId": "0054b1b5-b826-4891-8c18-c4ebc3a617a1"
      },
      "source": [
        "colnames = list(all_rows.columns)\n",
        "colnames"
      ],
      "execution_count": 22,
      "outputs": [
        {
          "output_type": "execute_result",
          "data": {
            "text/plain": [
              "['ID_EXAM',\n",
              " 'Image',\n",
              " 'ID_PATIENT',\n",
              " 'Label',\n",
              " 'GENDER',\n",
              " 'HANDEDNESS',\n",
              " 'AGE',\n",
              " 'RMS',\n",
              " 'Max_dist',\n",
              " 'Min_dist',\n",
              " 'SD',\n",
              " 'MRT',\n",
              " 'Max_ET',\n",
              " 'Min_ET',\n",
              " 'SD_ET',\n",
              " 'HT_ET_Diff']"
            ]
          },
          "metadata": {},
          "execution_count": 22
        }
      ]
    },
    {
      "cell_type": "code",
      "metadata": {
        "colab": {
          "base_uri": "https://localhost:8080/"
        },
        "id": "nFm-fnok0AFo",
        "outputId": "bf26934a-25f6-4a2c-a856-74fb484efc67"
      },
      "source": [
        "all_rows.shape"
      ],
      "execution_count": 23,
      "outputs": [
        {
          "output_type": "execute_result",
          "data": {
            "text/plain": [
              "(1016, 16)"
            ]
          },
          "metadata": {},
          "execution_count": 23
        }
      ]
    },
    {
      "cell_type": "markdown",
      "metadata": {
        "id": "iLTUSOMq49Tt"
      },
      "source": [
        "We need 11 PD and 8 healthy (15%). We'll do it randomly."
      ]
    },
    {
      "cell_type": "code",
      "metadata": {
        "id": "RJCPm_IT0Ztq"
      },
      "source": [
        "random_choice = np.unique(all_rows['ID_EXAM'])\n",
        "random_h = ['H1', 'H10', 'H100', 'H102', 'H104', 'H106', 'H11', 'H112', 'H116',\n",
        "       'H12', 'H127', 'H129', 'H13', 'H131', 'H14', 'H16', 'H17', 'H18',\n",
        "       'H19', 'H2', 'H20', 'H21', 'H22', 'H23', 'H24', 'H26', 'H27',\n",
        "       'H28', 'H287', 'H289', 'H29', 'H293', 'H295', 'H297', 'H3', 'H30',\n",
        "       'H305', 'H31', 'H32', 'H33', 'H34', 'H35', 'H36', 'H37', 'H38',\n",
        "       'H4', 'H5', 'H68', 'H7', 'H8', 'H9', 'H92', 'H98']\n",
        "random_p = ['P10', 'P134',\n",
        "       'P136', 'P138', 'P139', 'P143', 'P148', 'P149', 'P153', 'P157',\n",
        "       'P16', 'P161', 'P165', 'P166', 'P170', 'P174', 'P176', 'P177',\n",
        "       'P181', 'P182', 'P186', 'P187', 'P188', 'P192', 'P196', 'P197',\n",
        "       'P198', 'P2', 'P202', 'P203', 'P207', 'P208', 'P213', 'P214',\n",
        "       'P218', 'P219', 'P223', 'P228', 'P229', 'P23', 'P230', 'P234',\n",
        "       'P235', 'P236', 'P24', 'P240', 'P241', 'P242', 'P246', 'P247',\n",
        "       'P253', 'P254', 'P261', 'P268', 'P269', 'P273', 'P274', 'P280',\n",
        "       'P281', 'P3', 'P30', 'P31', 'P37', 'P38', 'P4', 'P44', 'P45',\n",
        "       'P46', 'P5', 'P51', 'P52', 'P53', 'P54', 'P9']"
      ],
      "execution_count": 24,
      "outputs": []
    },
    {
      "cell_type": "code",
      "metadata": {
        "colab": {
          "base_uri": "https://localhost:8080/"
        },
        "id": "2WSU0yxg0u3X",
        "outputId": "e29f857c-578f-4909-86ae-ab18e6cc359d"
      },
      "source": [
        "X_test = pd.DataFrame(columns=['ID_EXAM', 'Image', 'ID_PATIENT', 'Label', 'GENDER', 'HANDEDNESS', 'AGE', 'RMS', 'Max_dist', 'Min_dist', 'SD', 'MRT', 'Max_ET', 'Min_ET', 'SD_ET', 'HT_ET_Diff'])\n",
        "X_all = all_rows.copy()\n",
        "\n",
        "X_all.shape, X_test.shape"
      ],
      "execution_count": 25,
      "outputs": [
        {
          "output_type": "execute_result",
          "data": {
            "text/plain": [
              "((1016, 16), (0, 16))"
            ]
          },
          "metadata": {},
          "execution_count": 25
        }
      ]
    },
    {
      "cell_type": "code",
      "metadata": {
        "id": "wgeSzToL3Tjl"
      },
      "source": [
        "test_ids = ['H17', 'H297', 'H19', 'H3', 'H11', 'H10', 'H102', 'H116', 'P153', 'P207', 'P208', 'P274', 'P31', 'P188', 'P51', 'P10', 'P30', 'P44', 'P253'] # random.sample(random_h, 8) + random.sample(random_p, 11)\n",
        "for id in test_ids:\n",
        "  rows = X_all[X_all['ID_EXAM'] == id]\n",
        "  drop_idx = rows.index.values\n",
        "  X_test = pd.concat([X_test, rows])\n",
        "  X_all = X_all.drop(drop_idx, axis=0)\n",
        "\n",
        "y_test = X_test['Label']"
      ],
      "execution_count": 26,
      "outputs": []
    },
    {
      "cell_type": "code",
      "metadata": {
        "colab": {
          "base_uri": "https://localhost:8080/"
        },
        "id": "tVSWYYX0FiF6",
        "outputId": "86dcf562-da2b-4bc2-9dc7-4d5c81ffd4f5"
      },
      "source": [
        "test_ids"
      ],
      "execution_count": 27,
      "outputs": [
        {
          "output_type": "execute_result",
          "data": {
            "text/plain": [
              "['H17',\n",
              " 'H297',\n",
              " 'H19',\n",
              " 'H3',\n",
              " 'H11',\n",
              " 'H10',\n",
              " 'H102',\n",
              " 'H116',\n",
              " 'P153',\n",
              " 'P207',\n",
              " 'P208',\n",
              " 'P274',\n",
              " 'P31',\n",
              " 'P188',\n",
              " 'P51',\n",
              " 'P10',\n",
              " 'P30',\n",
              " 'P44',\n",
              " 'P253']"
            ]
          },
          "metadata": {},
          "execution_count": 27
        }
      ]
    },
    {
      "cell_type": "markdown",
      "metadata": {
        "id": "_XWK8_MWFkJh"
      },
      "source": [
        "92.7: ['H92',\n",
        " 'H26',\n",
        " 'H116',\n",
        " 'H12',\n",
        " 'H10',\n",
        " 'H32',\n",
        " 'H293',\n",
        " 'H29',\n",
        " 'P207',\n",
        " 'P269',\n",
        " 'P197',\n",
        " 'P242',\n",
        " 'P52',\n",
        " 'P241',\n",
        " 'P273',\n",
        " 'P196',\n",
        " 'P181',\n",
        " 'P134',\n",
        " 'P37']\n",
        "\n",
        " 94.07: ['H17',\n",
        " 'H297',\n",
        " 'H19',\n",
        " 'H3',\n",
        " 'H11',\n",
        " 'H10',\n",
        " 'H102',\n",
        " 'H116',\n",
        " 'P153',\n",
        " 'P207',\n",
        " 'P208',\n",
        " 'P274',\n",
        " 'P31',\n",
        " 'P188',\n",
        " 'P51',\n",
        " 'P10',\n",
        " 'P30',\n",
        " 'P44',\n",
        " 'P253']"
      ]
    },
    {
      "cell_type": "markdown",
      "metadata": {
        "id": "UYbNZkMjkfdw"
      },
      "source": [
        "##**Preprocessing**"
      ]
    },
    {
      "cell_type": "code",
      "metadata": {
        "id": "ka47X3aFBK_k"
      },
      "source": [
        "X_test = X_test.reset_index(drop=True)\n",
        "X_all = X_all.reset_index(drop=True)"
      ],
      "execution_count": 28,
      "outputs": []
    },
    {
      "cell_type": "code",
      "metadata": {
        "colab": {
          "base_uri": "https://localhost:8080/"
        },
        "id": "k1ReIOgB2vR7",
        "outputId": "498a8696-f446-4494-b406-b566dcf59dd9"
      },
      "source": [
        "X_test.shape"
      ],
      "execution_count": 29,
      "outputs": [
        {
          "output_type": "execute_result",
          "data": {
            "text/plain": [
              "(152, 16)"
            ]
          },
          "metadata": {},
          "execution_count": 29
        }
      ]
    },
    {
      "cell_type": "code",
      "metadata": {
        "colab": {
          "base_uri": "https://localhost:8080/"
        },
        "id": "LyL2foNs2qTk",
        "outputId": "dd11a0fd-fd30-49f2-fc45-d44d01e83c1e"
      },
      "source": [
        "X_all.shape"
      ],
      "execution_count": 30,
      "outputs": [
        {
          "output_type": "execute_result",
          "data": {
            "text/plain": [
              "(864, 16)"
            ]
          },
          "metadata": {},
          "execution_count": 30
        }
      ]
    },
    {
      "cell_type": "code",
      "metadata": {
        "id": "FGUAGSy2BTLX"
      },
      "source": [
        "X_test = X_test[['GENDER', 'AGE', 'RMS', 'Max_dist', 'Min_dist', 'SD', 'MRT', 'Max_ET', 'Min_ET', 'SD_ET', 'HT_ET_Diff']]\n",
        "\n",
        "y_all = X_all['Label']\n",
        "X_all = X_all[['GENDER','AGE','RMS', 'Max_dist', 'Min_dist', 'SD', 'MRT', 'Max_ET', 'Min_ET', 'SD_ET', 'HT_ET_Diff']]"
      ],
      "execution_count": 31,
      "outputs": []
    },
    {
      "cell_type": "code",
      "metadata": {
        "id": "-s52CHpoAK5N"
      },
      "source": [
        "def gender_mask(df):\n",
        "  # df = df.astype({'ID_EXAM': 'object'})\n",
        "\n",
        "  gender_list = [] * 1\n",
        "\n",
        "  for i in range(df.shape[0]):\n",
        "    gender = df.loc[i]['GENDER']\n",
        "    if (gender == 'F'):\n",
        "      num = 1\n",
        "    elif (gender == 'M'):\n",
        "      num = 0\n",
        "\n",
        "    gender_list.append(num)\n",
        "    \n",
        "  df1 = pd.DataFrame(gender_list, columns=['GENDER'])\n",
        "\n",
        "  df['GENDER'] = df1 \n",
        "\n",
        "  return df"
      ],
      "execution_count": 32,
      "outputs": []
    },
    {
      "cell_type": "code",
      "metadata": {
        "id": "Ms1ZNezQA2NO"
      },
      "source": [
        "X_test = gender_mask(X_test)\n",
        "X_all = gender_mask(X_all)"
      ],
      "execution_count": 33,
      "outputs": []
    },
    {
      "cell_type": "code",
      "metadata": {
        "colab": {
          "base_uri": "https://localhost:8080/"
        },
        "id": "EvYEYqE15ONy",
        "outputId": "e7882097-8f19-4f31-d6d6-b22eeac4982c"
      },
      "source": [
        "y_test.value_counts()"
      ],
      "execution_count": 34,
      "outputs": [
        {
          "output_type": "execute_result",
          "data": {
            "text/plain": [
              "2    88\n",
              "1    64\n",
              "Name: Label, dtype: int64"
            ]
          },
          "metadata": {},
          "execution_count": 34
        }
      ]
    },
    {
      "cell_type": "code",
      "metadata": {
        "colab": {
          "base_uri": "https://localhost:8080/"
        },
        "id": "bLvlzUO23dI7",
        "outputId": "c5aadbc2-305f-489c-90c2-c3cc06113f02"
      },
      "source": [
        "y_all.value_counts()"
      ],
      "execution_count": 35,
      "outputs": [
        {
          "output_type": "execute_result",
          "data": {
            "text/plain": [
              "2    504\n",
              "1    360\n",
              "Name: Label, dtype: int64"
            ]
          },
          "metadata": {},
          "execution_count": 35
        }
      ]
    },
    {
      "cell_type": "code",
      "metadata": {
        "colab": {
          "base_uri": "https://localhost:8080/"
        },
        "id": "YsvJZW305uVX",
        "outputId": "a32ca87c-5c80-41a7-dbb7-c036ac5bbe0a"
      },
      "source": [
        "X_all.shape, X_test.shape"
      ],
      "execution_count": 36,
      "outputs": [
        {
          "output_type": "execute_result",
          "data": {
            "text/plain": [
              "((864, 11), (152, 11))"
            ]
          },
          "metadata": {},
          "execution_count": 36
        }
      ]
    },
    {
      "cell_type": "markdown",
      "metadata": {
        "id": "xs73GLw450Q1"
      },
      "source": [
        "Done :)"
      ]
    },
    {
      "cell_type": "markdown",
      "metadata": {
        "id": "gbeBsENVlQka"
      },
      "source": [
        "###Train-Test-Split"
      ]
    },
    {
      "cell_type": "code",
      "metadata": {
        "id": "j5LoRggSlWmb"
      },
      "source": [
        "# In our train-test-split, we just want to define everything\n",
        "X_train = X_all\n",
        "y_train = y_all - 1\n",
        "\n",
        "X_test = X_test\n",
        "y_test = y_test -1 # subtract 1"
      ],
      "execution_count": 37,
      "outputs": []
    },
    {
      "cell_type": "code",
      "metadata": {
        "id": "f-1hFnrflXcY"
      },
      "source": [
        "X_train = X_train.reset_index(drop = True)\n",
        "y_train = y_train.reset_index(drop = True)"
      ],
      "execution_count": 38,
      "outputs": []
    },
    {
      "cell_type": "code",
      "metadata": {
        "id": "dzmGJ3zcKV6v"
      },
      "source": [
        "X_test = X_test.reset_index(drop = True)\n",
        "y_test = y_test.reset_index(drop = True)"
      ],
      "execution_count": 39,
      "outputs": []
    },
    {
      "cell_type": "markdown",
      "metadata": {
        "id": "lk6pv-0Vlpjz"
      },
      "source": [
        "###**Quick Check**"
      ]
    },
    {
      "cell_type": "code",
      "metadata": {
        "colab": {
          "base_uri": "https://localhost:8080/"
        },
        "id": "Q0nNKvifVR1G",
        "outputId": "ff8e6057-152a-49dd-da40-39f0238389fa"
      },
      "source": [
        "len(y_train), len(y_test)"
      ],
      "execution_count": 40,
      "outputs": [
        {
          "output_type": "execute_result",
          "data": {
            "text/plain": [
              "(864, 152)"
            ]
          },
          "metadata": {},
          "execution_count": 40
        }
      ]
    },
    {
      "cell_type": "code",
      "metadata": {
        "colab": {
          "base_uri": "https://localhost:8080/"
        },
        "id": "76xzdBJWH7j-",
        "outputId": "0d185432-2ec1-4972-fd61-f875efcda564"
      },
      "source": [
        "y_train.head(500)"
      ],
      "execution_count": 41,
      "outputs": [
        {
          "output_type": "execute_result",
          "data": {
            "text/plain": [
              "0      0\n",
              "1      0\n",
              "2      0\n",
              "3      0\n",
              "4      0\n",
              "      ..\n",
              "495    1\n",
              "496    1\n",
              "497    1\n",
              "498    1\n",
              "499    1\n",
              "Name: Label, Length: 500, dtype: int64"
            ]
          },
          "metadata": {},
          "execution_count": 41
        }
      ]
    },
    {
      "cell_type": "code",
      "metadata": {
        "colab": {
          "base_uri": "https://localhost:8080/"
        },
        "id": "tWAfjdTci0IR",
        "outputId": "b8aee253-8b96-4f89-bdcf-d8532a18d41b"
      },
      "source": [
        "y_test.value_counts()"
      ],
      "execution_count": 42,
      "outputs": [
        {
          "output_type": "execute_result",
          "data": {
            "text/plain": [
              "1    88\n",
              "0    64\n",
              "Name: Label, dtype: int64"
            ]
          },
          "metadata": {},
          "execution_count": 42
        }
      ]
    },
    {
      "cell_type": "code",
      "metadata": {
        "colab": {
          "base_uri": "https://localhost:8080/"
        },
        "id": "X5XpOOARKn44",
        "outputId": "60bd34b6-7a09-47cc-eca6-67aad95b08eb"
      },
      "source": [
        "y_test"
      ],
      "execution_count": 43,
      "outputs": [
        {
          "output_type": "execute_result",
          "data": {
            "text/plain": [
              "0      0\n",
              "1      0\n",
              "2      0\n",
              "3      0\n",
              "4      0\n",
              "      ..\n",
              "147    1\n",
              "148    1\n",
              "149    1\n",
              "150    1\n",
              "151    1\n",
              "Name: Label, Length: 152, dtype: object"
            ]
          },
          "metadata": {},
          "execution_count": 43
        }
      ]
    },
    {
      "cell_type": "code",
      "metadata": {
        "colab": {
          "base_uri": "https://localhost:8080/"
        },
        "id": "6WDlaHPtH52r",
        "outputId": "134ba25e-a71b-4175-d0ba-f9b356aef8dd"
      },
      "source": [
        "y_train.value_counts()"
      ],
      "execution_count": 44,
      "outputs": [
        {
          "output_type": "execute_result",
          "data": {
            "text/plain": [
              "1    504\n",
              "0    360\n",
              "Name: Label, dtype: int64"
            ]
          },
          "metadata": {},
          "execution_count": 44
        }
      ]
    },
    {
      "cell_type": "markdown",
      "metadata": {
        "id": "IQkGWuYAAGnn"
      },
      "source": [
        "##**SVM Implementation**"
      ]
    },
    {
      "cell_type": "markdown",
      "metadata": {
        "id": "I_gFuMTHnkSU"
      },
      "source": [
        "###**Training**"
      ]
    },
    {
      "cell_type": "code",
      "metadata": {
        "id": "7vpTfqLuIkBT",
        "colab": {
          "base_uri": "https://localhost:8080/"
        },
        "outputId": "0ed4291c-47c5-486a-9792-83dd18d16dce"
      },
      "source": [
        "clf = SVC(kernel = 'rbf', probability = True, class_weight = 'balanced', C = 10)\n",
        "clf.fit(X_train, y_train)"
      ],
      "execution_count": 45,
      "outputs": [
        {
          "output_type": "execute_result",
          "data": {
            "text/plain": [
              "SVC(C=10, break_ties=False, cache_size=200, class_weight='balanced', coef0=0.0,\n",
              "    decision_function_shape='ovr', degree=3, gamma='scale', kernel='rbf',\n",
              "    max_iter=-1, probability=True, random_state=None, shrinking=True, tol=0.001,\n",
              "    verbose=False)"
            ]
          },
          "metadata": {},
          "execution_count": 45
        }
      ]
    },
    {
      "cell_type": "markdown",
      "metadata": {
        "id": "QJ7asLzl7hiI"
      },
      "source": [
        "To note, it may be useful to look at the weights for this model (see which features are most valuable), but these are only relevant for a linear kernel. RBF kernel does not have relevant/interpretable weights. And of course, linear kernel is not very helpful and good in predicting (51% accuracy). The features are not linearly separable."
      ]
    },
    {
      "cell_type": "code",
      "metadata": {
        "id": "uypMR5zZKXSi"
      },
      "source": [
        "X_run = X_test[['GENDER','AGE','RMS', 'Max_dist', 'Min_dist', 'SD', 'MRT', 'Max_ET', 'Min_ET','SD_ET', 'HT_ET_Diff']]"
      ],
      "execution_count": 46,
      "outputs": []
    },
    {
      "cell_type": "code",
      "metadata": {
        "id": "hzs7YGmBGwm9"
      },
      "source": [
        "y_pred = clf.predict(X_run)\n",
        "y_proba = clf.predict_proba(X_run)"
      ],
      "execution_count": 47,
      "outputs": []
    },
    {
      "cell_type": "code",
      "metadata": {
        "id": "8sgC95rQPQJ2"
      },
      "source": [
        "y_pred = pd.Series(y_pred)"
      ],
      "execution_count": 48,
      "outputs": []
    },
    {
      "cell_type": "code",
      "metadata": {
        "colab": {
          "base_uri": "https://localhost:8080/"
        },
        "id": "WF63YZbySgcG",
        "outputId": "45ad74ec-ea71-4a12-9f00-21486d5e09ee"
      },
      "source": [
        "X_test.shape, len(y_test)"
      ],
      "execution_count": 49,
      "outputs": [
        {
          "output_type": "execute_result",
          "data": {
            "text/plain": [
              "((152, 11), 152)"
            ]
          },
          "metadata": {},
          "execution_count": 49
        }
      ]
    },
    {
      "cell_type": "code",
      "metadata": {
        "id": "1RCteaE06Q64"
      },
      "source": [
        "y_test = y_test.astype('int32')"
      ],
      "execution_count": 50,
      "outputs": []
    },
    {
      "cell_type": "code",
      "metadata": {
        "colab": {
          "base_uri": "https://localhost:8080/"
        },
        "id": "pqPmr0L06V1V",
        "outputId": "e8bb2ec7-0cdc-4b7c-abdd-4b09204bdece"
      },
      "source": [
        "y_test.dtypes"
      ],
      "execution_count": 51,
      "outputs": [
        {
          "output_type": "execute_result",
          "data": {
            "text/plain": [
              "dtype('int32')"
            ]
          },
          "metadata": {},
          "execution_count": 51
        }
      ]
    },
    {
      "cell_type": "markdown",
      "metadata": {
        "id": "y1SDNLlenfUX"
      },
      "source": [
        "##**Results**"
      ]
    },
    {
      "cell_type": "code",
      "metadata": {
        "colab": {
          "base_uri": "https://localhost:8080/"
        },
        "id": "su5RMaC_MaPF",
        "outputId": "fcd5f600-0fe4-4823-cef0-33b3fc43b04e"
      },
      "source": [
        "clf.score(X_run, y_test)"
      ],
      "execution_count": 52,
      "outputs": [
        {
          "output_type": "execute_result",
          "data": {
            "text/plain": [
              "0.9407894736842105"
            ]
          },
          "metadata": {},
          "execution_count": 52
        }
      ]
    },
    {
      "cell_type": "code",
      "metadata": {
        "id": "U2-32Q_IqcLW"
      },
      "source": [
        "threshold_pred = (clf.predict_proba(X_run)[:,1] >= 0.5).astype(int)\n",
        "threshold_acc = accuracy_score(y_test, threshold_pred)"
      ],
      "execution_count": 53,
      "outputs": []
    },
    {
      "cell_type": "code",
      "metadata": {
        "colab": {
          "base_uri": "https://localhost:8080/"
        },
        "id": "E68PB6Feqqha",
        "outputId": "dbcea1ac-b7ee-42cc-c1c3-8ba0852c3b1e"
      },
      "source": [
        "threshold_acc"
      ],
      "execution_count": 54,
      "outputs": [
        {
          "output_type": "execute_result",
          "data": {
            "text/plain": [
              "0.9276315789473685"
            ]
          },
          "metadata": {},
          "execution_count": 54
        }
      ]
    },
    {
      "cell_type": "code",
      "metadata": {
        "id": "-QqHzi6F8yGw"
      },
      "source": [
        "train_labels = y_train.to_numpy() # train is statified so stratifying on train_labels should be stratified to whole set\n",
        "X_train, X_val, y_train, y_val = train_test_split(X_train, y_train, random_state = 0, test_size = 0.1, stratify = train_labels)"
      ],
      "execution_count": 55,
      "outputs": []
    },
    {
      "cell_type": "code",
      "metadata": {
        "colab": {
          "base_uri": "https://localhost:8080/"
        },
        "id": "_sIwCiF_8zfj",
        "outputId": "876cf057-43a7-4e6a-9189-2a41f0af2bdf"
      },
      "source": [
        "clf.score(X_val, y_val)"
      ],
      "execution_count": 56,
      "outputs": [
        {
          "output_type": "execute_result",
          "data": {
            "text/plain": [
              "0.9080459770114943"
            ]
          },
          "metadata": {},
          "execution_count": 56
        }
      ]
    },
    {
      "cell_type": "code",
      "metadata": {
        "id": "wZf0iMccM767"
      },
      "source": [
        "target_names = ['Control', 'PD']\n",
        "results = classification_report(y_test, y_pred, target_names = target_names, output_dict=True)\n",
        "results = pd.DataFrame(results).transpose()\n",
        "conf_mat = confusion_matrix(y_test, y_pred)"
      ],
      "execution_count": 57,
      "outputs": []
    },
    {
      "cell_type": "code",
      "metadata": {
        "colab": {
          "base_uri": "https://localhost:8080/",
          "height": 204
        },
        "id": "thzR3k3lMz31",
        "outputId": "3cdca03e-95d0-4d79-b88c-624edca5793f"
      },
      "source": [
        "results"
      ],
      "execution_count": 58,
      "outputs": [
        {
          "output_type": "execute_result",
          "data": {
            "text/html": [
              "<div>\n",
              "<style scoped>\n",
              "    .dataframe tbody tr th:only-of-type {\n",
              "        vertical-align: middle;\n",
              "    }\n",
              "\n",
              "    .dataframe tbody tr th {\n",
              "        vertical-align: top;\n",
              "    }\n",
              "\n",
              "    .dataframe thead th {\n",
              "        text-align: right;\n",
              "    }\n",
              "</style>\n",
              "<table border=\"1\" class=\"dataframe\">\n",
              "  <thead>\n",
              "    <tr style=\"text-align: right;\">\n",
              "      <th></th>\n",
              "      <th>precision</th>\n",
              "      <th>recall</th>\n",
              "      <th>f1-score</th>\n",
              "      <th>support</th>\n",
              "    </tr>\n",
              "  </thead>\n",
              "  <tbody>\n",
              "    <tr>\n",
              "      <th>Control</th>\n",
              "      <td>1.000000</td>\n",
              "      <td>0.859375</td>\n",
              "      <td>0.924370</td>\n",
              "      <td>64.000000</td>\n",
              "    </tr>\n",
              "    <tr>\n",
              "      <th>PD</th>\n",
              "      <td>0.907216</td>\n",
              "      <td>1.000000</td>\n",
              "      <td>0.951351</td>\n",
              "      <td>88.000000</td>\n",
              "    </tr>\n",
              "    <tr>\n",
              "      <th>accuracy</th>\n",
              "      <td>0.940789</td>\n",
              "      <td>0.940789</td>\n",
              "      <td>0.940789</td>\n",
              "      <td>0.940789</td>\n",
              "    </tr>\n",
              "    <tr>\n",
              "      <th>macro avg</th>\n",
              "      <td>0.953608</td>\n",
              "      <td>0.929688</td>\n",
              "      <td>0.937861</td>\n",
              "      <td>152.000000</td>\n",
              "    </tr>\n",
              "    <tr>\n",
              "      <th>weighted avg</th>\n",
              "      <td>0.946283</td>\n",
              "      <td>0.940789</td>\n",
              "      <td>0.939991</td>\n",
              "      <td>152.000000</td>\n",
              "    </tr>\n",
              "  </tbody>\n",
              "</table>\n",
              "</div>"
            ],
            "text/plain": [
              "              precision    recall  f1-score     support\n",
              "Control        1.000000  0.859375  0.924370   64.000000\n",
              "PD             0.907216  1.000000  0.951351   88.000000\n",
              "accuracy       0.940789  0.940789  0.940789    0.940789\n",
              "macro avg      0.953608  0.929688  0.937861  152.000000\n",
              "weighted avg   0.946283  0.940789  0.939991  152.000000"
            ]
          },
          "metadata": {},
          "execution_count": 58
        }
      ]
    },
    {
      "cell_type": "code",
      "metadata": {
        "colab": {
          "base_uri": "https://localhost:8080/"
        },
        "id": "zAXqc2uPNeq5",
        "outputId": "e97de87e-0bd9-482d-cfdf-672650922eb3"
      },
      "source": [
        "conf_mat"
      ],
      "execution_count": 59,
      "outputs": [
        {
          "output_type": "execute_result",
          "data": {
            "text/plain": [
              "array([[55,  9],\n",
              "       [ 0, 88]])"
            ]
          },
          "metadata": {},
          "execution_count": 59
        }
      ]
    },
    {
      "cell_type": "code",
      "metadata": {
        "colab": {
          "base_uri": "https://localhost:8080/"
        },
        "id": "vwthqW4OQD2z",
        "outputId": "f9c360b7-24b2-4311-af8a-8686ecdb7cc6"
      },
      "source": [
        "TN, FP, FN, TP = conf_mat.ravel()\n",
        "\n",
        "# Sensitivity, hit rate, recall, or true positive rate\n",
        "TPR = TP/(TP+FN)\n",
        "\n",
        "# Specificity or true negative rate\n",
        "TNR = TN/(TN+FP) \n",
        "\n",
        "# Precision or positive predictive value\n",
        "PPV = TP/(TP+FP)\n",
        "\n",
        "# Negative predictive value\n",
        "NPV = TN/(TN+FN)\n",
        "\n",
        "# Fall out or false positive rate\n",
        "FPR = FP/(FP+TN)\n",
        "\n",
        "# False negative rate\n",
        "FNR = FN/(TP+FN)\n",
        "\n",
        "# False discovery rate\n",
        "FDR = FP/(TP+FP)\n",
        "\n",
        "print(\"TP: \", TP)\n",
        "print(\"TN: \", TN)\n",
        "print(\"FP: \", FP)\n",
        "print(\"FN: \", FN)\n",
        "\n",
        "print(\"Sensitivity: \", TPR)\n",
        "print(\"Specificity: \", TNR)\n",
        "print(\"NPV: \", NPV)\n",
        "print(\"PPV: \", PPV)"
      ],
      "execution_count": 60,
      "outputs": [
        {
          "output_type": "stream",
          "name": "stdout",
          "text": [
            "TP:  88\n",
            "TN:  55\n",
            "FP:  9\n",
            "FN:  0\n",
            "Sensitivity:  1.0\n",
            "Specificity:  0.859375\n",
            "NPV:  1.0\n",
            "PPV:  0.9072164948453608\n"
          ]
        }
      ]
    },
    {
      "cell_type": "markdown",
      "metadata": {
        "id": "6q-82qHV56E3"
      },
      "source": [
        "Can we somehow get the weights for the model to learn which features are considered most useful?"
      ]
    },
    {
      "cell_type": "markdown",
      "metadata": {
        "id": "Cjpq2zygSj6D"
      },
      "source": [
        "## **Log Reg Implementation**"
      ]
    },
    {
      "cell_type": "code",
      "metadata": {
        "colab": {
          "base_uri": "https://localhost:8080/"
        },
        "id": "4HgTc6W1SlZK",
        "outputId": "c48e5b9f-0fb2-469d-8869-f68c92c8b4d5"
      },
      "source": [
        "clf = LogisticRegression(penalty='l1', C = 1.0, class_weight=None, random_state = None, solver = 'liblinear')\n",
        "clf.fit(X_train, y_train)"
      ],
      "execution_count": 106,
      "outputs": [
        {
          "output_type": "execute_result",
          "data": {
            "text/plain": [
              "LogisticRegression(C=1.0, class_weight=None, dual=False, fit_intercept=True,\n",
              "                   intercept_scaling=1, l1_ratio=None, max_iter=100,\n",
              "                   multi_class='auto', n_jobs=None, penalty='l1',\n",
              "                   random_state=None, solver='liblinear', tol=0.0001, verbose=0,\n",
              "                   warm_start=False)"
            ]
          },
          "metadata": {},
          "execution_count": 106
        }
      ]
    },
    {
      "cell_type": "code",
      "metadata": {
        "colab": {
          "base_uri": "https://localhost:8080/"
        },
        "id": "fKSLGWYeTYPX",
        "outputId": "dcbb6759-368b-4680-f097-06fd2399128f"
      },
      "source": [
        "clf.score(X_run, y_test)"
      ],
      "execution_count": 107,
      "outputs": [
        {
          "output_type": "execute_result",
          "data": {
            "text/plain": [
              "0.8618421052631579"
            ]
          },
          "metadata": {},
          "execution_count": 107
        }
      ]
    },
    {
      "cell_type": "code",
      "metadata": {
        "id": "l12PcV2ETLfv"
      },
      "source": [
        "target_names = ['Control', 'PD']\n",
        "results = classification_report(y_test, y_pred, target_names = target_names, output_dict=True)\n",
        "results = pd.DataFrame(results).transpose()\n",
        "conf_mat = confusion_matrix(y_test, y_pred)"
      ],
      "execution_count": 63,
      "outputs": []
    },
    {
      "cell_type": "code",
      "metadata": {
        "colab": {
          "base_uri": "https://localhost:8080/"
        },
        "id": "FpPEYBJDLGit",
        "outputId": "ff77ce50-39da-4ca5-b2fe-10e00becf2e0"
      },
      "source": [
        "conf_mat"
      ],
      "execution_count": 64,
      "outputs": [
        {
          "output_type": "execute_result",
          "data": {
            "text/plain": [
              "array([[55,  9],\n",
              "       [ 0, 88]])"
            ]
          },
          "metadata": {},
          "execution_count": 64
        }
      ]
    },
    {
      "cell_type": "markdown",
      "metadata": {
        "id": "PCCs0BCQTtAf"
      },
      "source": [
        "## **Cross-Validation**"
      ]
    },
    {
      "cell_type": "code",
      "metadata": {
        "colab": {
          "base_uri": "https://localhost:8080/"
        },
        "id": "Ki36I9ByeU-7",
        "outputId": "fd9d3da2-2ae8-4e38-a7a2-a8c5c1661357"
      },
      "source": [
        "scores_df = pd.DataFrame(columns = ['acc', 'c', 'cw', 'k'])\n",
        "\n",
        "for i in range(10):\n",
        "  train_labels = y_train.to_numpy() # train is statified so stratifying on train_labels should be stratified to whole set\n",
        "  X_train, X_val, y_train, y_val = train_test_split(X_train, y_train, random_state = i, test_size = 0.1, stratify = train_labels)\n",
        "  \n",
        "  X_val = X_val.reset_index(drop = True)\n",
        "  y_val = y_val.reset_index(drop = True)\n",
        "\n",
        "  for c in [0.01, 0.1, 1, 10, 100]:\n",
        "    for cw in ['balanced', None]:\n",
        "      for k in ['rbf','linear','poly']:\n",
        "        clf = SVC(kernel = k, probability = True, class_weight = cw, C = c)\n",
        "        clf.fit(X_train, y_train)\n",
        "\n",
        "        thresholds = list(np.arange(0, 1, 0.01))\n",
        "        best_acc = 0.0\n",
        "        best_threshold = 0.0\n",
        "\n",
        "        # tuning for best threshold\n",
        "        for thresh in thresholds:\n",
        "          y_pred = (clf.predict_proba(X_val)[:,1] >= thresh).astype(int)\n",
        "          curr_acc = accuracy_score(y_val, y_pred)\n",
        "          if (curr_acc >= best_acc):\n",
        "            best_acc = curr_acc\n",
        "            best_threshold = thresh\n",
        "\n",
        "        row_df = pd.DataFrame([[best_acc, best_threshold, c, cw, k]], columns = ['acc', 'thresh', 'c', 'cw', 'k'])\n",
        "    \n",
        "        scores_df = pd.concat([scores_df, row_df], ignore_index = True, axis=0)\n",
        "  print (f'fold number {i+1} completed, score number {scores_df.shape[0]}')"
      ],
      "execution_count": 65,
      "outputs": [
        {
          "output_type": "stream",
          "name": "stdout",
          "text": [
            "fold number 1 completed, score number 30\n",
            "fold number 2 completed, score number 60\n",
            "fold number 3 completed, score number 90\n",
            "fold number 4 completed, score number 120\n",
            "fold number 5 completed, score number 150\n",
            "fold number 6 completed, score number 180\n",
            "fold number 7 completed, score number 210\n",
            "fold number 8 completed, score number 240\n",
            "fold number 9 completed, score number 270\n",
            "fold number 10 completed, score number 300\n"
          ]
        }
      ]
    },
    {
      "cell_type": "code",
      "metadata": {
        "id": "nAepl_pYh_Lv"
      },
      "source": [
        "index = scores_df['acc'].idxmax()"
      ],
      "execution_count": 66,
      "outputs": []
    },
    {
      "cell_type": "code",
      "metadata": {
        "colab": {
          "base_uri": "https://localhost:8080/"
        },
        "id": "jxiplfm7qPlP",
        "outputId": "4cd215a7-a24c-4d3a-f046-0293f1d5cc91"
      },
      "source": [
        "scores_df.loc[index]"
      ],
      "execution_count": 67,
      "outputs": [
        {
          "output_type": "execute_result",
          "data": {
            "text/plain": [
              "acc              1\n",
              "c             0.01\n",
              "cw        balanced\n",
              "k           linear\n",
              "thresh         0.6\n",
              "Name: 271, dtype: object"
            ]
          },
          "metadata": {},
          "execution_count": 67
        }
      ]
    },
    {
      "cell_type": "code",
      "metadata": {
        "colab": {
          "base_uri": "https://localhost:8080/"
        },
        "id": "NOtYZKDsdgMu",
        "outputId": "a120abc5-d49c-4ac8-db29-3bf4d554be31"
      },
      "source": [
        "best_avg_acc = 0.0\n",
        "best_avg_hyps = [0.0, 0.0, 0.0]\n",
        "for c in [0.01, 0.1, 1, 10, 100]:\n",
        "  for cw in ['balanced', None]:\n",
        "    for k in ['rbf','linear','poly']:\n",
        "      filtered = scores_df[(scores_df[\"cw\"] == cw) & (scores_df['c'] == c) & (scores_df[\"k\"] == k)]\n",
        "      avg_acc = filtered[\"acc\"].mean()\n",
        "      if (avg_acc >= best_avg_acc):\n",
        "        best_avg_acc = avg_acc\n",
        "        best_avg_hyps[0] = c\n",
        "        best_avg_hyps[1] = cw\n",
        "        best_avg_hyps[2] = k\n",
        "print(\"best_avg_acc: \", best_avg_acc)\n",
        "print(best_avg_hyps)"
      ],
      "execution_count": 68,
      "outputs": [
        {
          "output_type": "stream",
          "name": "stdout",
          "text": [
            "best_avg_acc:  0.9406938325123815\n",
            "[10, 'balanced', 'linear']\n"
          ]
        }
      ]
    },
    {
      "cell_type": "code",
      "metadata": {
        "id": "oBjx6k9ctLkU"
      },
      "source": [
        "best_scores = scores_df[(scores_df[\"cw\"] == 'balanced') & (scores_df['c'] == 100) & (scores_df[\"k\"] == 'rbf')]"
      ],
      "execution_count": 69,
      "outputs": []
    },
    {
      "cell_type": "code",
      "metadata": {
        "colab": {
          "base_uri": "https://localhost:8080/",
          "height": 359
        },
        "id": "K9vNASnEQUjr",
        "outputId": "19bd41cc-8405-4ee3-a0cb-102261996bdf"
      },
      "source": [
        "best_scores"
      ],
      "execution_count": 70,
      "outputs": [
        {
          "output_type": "execute_result",
          "data": {
            "text/html": [
              "<div>\n",
              "<style scoped>\n",
              "    .dataframe tbody tr th:only-of-type {\n",
              "        vertical-align: middle;\n",
              "    }\n",
              "\n",
              "    .dataframe tbody tr th {\n",
              "        vertical-align: top;\n",
              "    }\n",
              "\n",
              "    .dataframe thead th {\n",
              "        text-align: right;\n",
              "    }\n",
              "</style>\n",
              "<table border=\"1\" class=\"dataframe\">\n",
              "  <thead>\n",
              "    <tr style=\"text-align: right;\">\n",
              "      <th></th>\n",
              "      <th>acc</th>\n",
              "      <th>c</th>\n",
              "      <th>cw</th>\n",
              "      <th>k</th>\n",
              "      <th>thresh</th>\n",
              "    </tr>\n",
              "  </thead>\n",
              "  <tbody>\n",
              "    <tr>\n",
              "      <th>24</th>\n",
              "      <td>0.961538</td>\n",
              "      <td>100.0</td>\n",
              "      <td>balanced</td>\n",
              "      <td>rbf</td>\n",
              "      <td>0.71</td>\n",
              "    </tr>\n",
              "    <tr>\n",
              "      <th>54</th>\n",
              "      <td>0.971429</td>\n",
              "      <td>100.0</td>\n",
              "      <td>balanced</td>\n",
              "      <td>rbf</td>\n",
              "      <td>0.73</td>\n",
              "    </tr>\n",
              "    <tr>\n",
              "      <th>84</th>\n",
              "      <td>0.920635</td>\n",
              "      <td>100.0</td>\n",
              "      <td>balanced</td>\n",
              "      <td>rbf</td>\n",
              "      <td>0.93</td>\n",
              "    </tr>\n",
              "    <tr>\n",
              "      <th>114</th>\n",
              "      <td>0.877193</td>\n",
              "      <td>100.0</td>\n",
              "      <td>balanced</td>\n",
              "      <td>rbf</td>\n",
              "      <td>0.53</td>\n",
              "    </tr>\n",
              "    <tr>\n",
              "      <th>144</th>\n",
              "      <td>0.980392</td>\n",
              "      <td>100.0</td>\n",
              "      <td>balanced</td>\n",
              "      <td>rbf</td>\n",
              "      <td>0.64</td>\n",
              "    </tr>\n",
              "    <tr>\n",
              "      <th>174</th>\n",
              "      <td>0.978261</td>\n",
              "      <td>100.0</td>\n",
              "      <td>balanced</td>\n",
              "      <td>rbf</td>\n",
              "      <td>0.83</td>\n",
              "    </tr>\n",
              "    <tr>\n",
              "      <th>204</th>\n",
              "      <td>0.928571</td>\n",
              "      <td>100.0</td>\n",
              "      <td>balanced</td>\n",
              "      <td>rbf</td>\n",
              "      <td>0.59</td>\n",
              "    </tr>\n",
              "    <tr>\n",
              "      <th>234</th>\n",
              "      <td>0.891892</td>\n",
              "      <td>100.0</td>\n",
              "      <td>balanced</td>\n",
              "      <td>rbf</td>\n",
              "      <td>0.91</td>\n",
              "    </tr>\n",
              "    <tr>\n",
              "      <th>264</th>\n",
              "      <td>0.882353</td>\n",
              "      <td>100.0</td>\n",
              "      <td>balanced</td>\n",
              "      <td>rbf</td>\n",
              "      <td>0.71</td>\n",
              "    </tr>\n",
              "    <tr>\n",
              "      <th>294</th>\n",
              "      <td>0.933333</td>\n",
              "      <td>100.0</td>\n",
              "      <td>balanced</td>\n",
              "      <td>rbf</td>\n",
              "      <td>0.74</td>\n",
              "    </tr>\n",
              "  </tbody>\n",
              "</table>\n",
              "</div>"
            ],
            "text/plain": [
              "          acc      c        cw    k  thresh\n",
              "24   0.961538  100.0  balanced  rbf    0.71\n",
              "54   0.971429  100.0  balanced  rbf    0.73\n",
              "84   0.920635  100.0  balanced  rbf    0.93\n",
              "114  0.877193  100.0  balanced  rbf    0.53\n",
              "144  0.980392  100.0  balanced  rbf    0.64\n",
              "174  0.978261  100.0  balanced  rbf    0.83\n",
              "204  0.928571  100.0  balanced  rbf    0.59\n",
              "234  0.891892  100.0  balanced  rbf    0.91\n",
              "264  0.882353  100.0  balanced  rbf    0.71\n",
              "294  0.933333  100.0  balanced  rbf    0.74"
            ]
          },
          "metadata": {},
          "execution_count": 70
        }
      ]
    },
    {
      "cell_type": "code",
      "metadata": {
        "id": "K3hzzUNxQTqe"
      },
      "source": [
        "thresh_arr = best_scores['thresh'].to_list()"
      ],
      "execution_count": 71,
      "outputs": []
    },
    {
      "cell_type": "code",
      "metadata": {
        "colab": {
          "base_uri": "https://localhost:8080/"
        },
        "id": "8IR3IPSvtvGQ",
        "outputId": "27e93cde-0afe-46bb-9586-cd3ee16ff704"
      },
      "source": [
        "clf = SVC(kernel = 'rbf', probability = True, class_weight = 'balanced', C = 100)\n",
        "clf.fit(X_train, y_train)"
      ],
      "execution_count": 108,
      "outputs": [
        {
          "output_type": "execute_result",
          "data": {
            "text/plain": [
              "SVC(C=100, break_ties=False, cache_size=200, class_weight='balanced', coef0=0.0,\n",
              "    decision_function_shape='ovr', degree=3, gamma='scale', kernel='rbf',\n",
              "    max_iter=-1, probability=True, random_state=None, shrinking=True, tol=0.001,\n",
              "    verbose=False)"
            ]
          },
          "metadata": {},
          "execution_count": 108
        }
      ]
    },
    {
      "cell_type": "code",
      "metadata": {
        "colab": {
          "base_uri": "https://localhost:8080/"
        },
        "id": "V0V8n_0AiI4r",
        "outputId": "23263936-321a-4fbf-c4fa-b9a067fa004a"
      },
      "source": [
        "thresholds = list(np.arange(0, 1, 0.01))\n",
        "\n",
        "best_thresh_acc = 0.0\n",
        "best_thresh = 0.0\n",
        "\n",
        "for thresh in thresholds:\n",
        "  threshold_pred = (clf.predict_proba(X_run)[:,1] >= thresh).astype(int)\n",
        "  threshold_acc = accuracy_score(y_test, threshold_pred)\n",
        "\n",
        "  if threshold_acc >= best_thresh_acc:\n",
        "    best_thresh_acc = threshold_acc\n",
        "    best_thresh = thresh\n",
        "\n",
        "print(best_thresh, best_thresh_acc)"
      ],
      "execution_count": 109,
      "outputs": [
        {
          "output_type": "stream",
          "name": "stdout",
          "text": [
            "0.65 0.9210526315789473\n"
          ]
        }
      ]
    },
    {
      "cell_type": "markdown",
      "metadata": {
        "id": "uelZzb9UPVzJ"
      },
      "source": [
        "### Aggregation Scheme"
      ]
    },
    {
      "cell_type": "code",
      "metadata": {
        "colab": {
          "base_uri": "https://localhost:8080/"
        },
        "id": "3qCQnq-7Pdjb",
        "outputId": "637f92e4-a378-432a-a9eb-950321920c93"
      },
      "source": [
        "clf.score(X_run, y_test)"
      ],
      "execution_count": 110,
      "outputs": [
        {
          "output_type": "execute_result",
          "data": {
            "text/plain": [
              "0.9078947368421053"
            ]
          },
          "metadata": {},
          "execution_count": 110
        }
      ]
    },
    {
      "cell_type": "code",
      "metadata": {
        "id": "NGNcg9bgPYrJ"
      },
      "source": [
        "threshold_pred = (clf.predict_proba(X_run)[:,1] >= 0.65).astype(int)\n",
        "threshold_acc = accuracy_score(y_test, threshold_pred)"
      ],
      "execution_count": 113,
      "outputs": []
    },
    {
      "cell_type": "code",
      "metadata": {
        "colab": {
          "base_uri": "https://localhost:8080/"
        },
        "id": "wPPhh57RPfvZ",
        "outputId": "591f92b1-cad2-4389-94f6-b24fa9d79130"
      },
      "source": [
        "threshold_acc"
      ],
      "execution_count": 114,
      "outputs": [
        {
          "output_type": "execute_result",
          "data": {
            "text/plain": [
              "0.9210526315789473"
            ]
          },
          "metadata": {},
          "execution_count": 114
        }
      ]
    },
    {
      "cell_type": "code",
      "metadata": {
        "colab": {
          "base_uri": "https://localhost:8080/"
        },
        "id": "18JSDST5PhCF",
        "outputId": "f5dcef46-ab55-4259-c58b-8a104c3d3cf7"
      },
      "source": [
        "threshold_pred"
      ],
      "execution_count": 115,
      "outputs": [
        {
          "output_type": "execute_result",
          "data": {
            "text/plain": [
              "array([0, 0, 0, 0, 1, 0, 1, 0, 1, 1, 1, 1, 1, 1, 1, 1, 0, 0, 0, 0, 0, 0,\n",
              "       0, 0, 0, 0, 0, 0, 0, 0, 0, 0, 0, 0, 0, 0, 0, 0, 1, 0, 0, 0, 0, 0,\n",
              "       1, 0, 0, 0, 0, 0, 0, 0, 0, 0, 0, 0, 0, 0, 0, 0, 0, 0, 0, 0, 1, 1,\n",
              "       1, 1, 1, 1, 1, 1, 1, 1, 1, 1, 1, 1, 1, 1, 1, 1, 1, 1, 1, 1, 1, 1,\n",
              "       1, 1, 1, 1, 1, 1, 1, 1, 1, 1, 1, 1, 1, 1, 1, 1, 1, 1, 1, 1, 1, 1,\n",
              "       1, 1, 1, 1, 1, 1, 1, 1, 1, 1, 1, 1, 1, 1, 1, 1, 1, 1, 1, 1, 1, 1,\n",
              "       1, 1, 1, 1, 1, 1, 1, 1, 1, 1, 1, 1, 1, 1, 1, 1, 1, 1, 1, 1])"
            ]
          },
          "metadata": {},
          "execution_count": 115
        }
      ]
    },
    {
      "cell_type": "code",
      "metadata": {
        "colab": {
          "base_uri": "https://localhost:8080/"
        },
        "id": "pd65H0aEVUHs",
        "outputId": "08a0c647-4ffd-410f-d67e-8572ac39cecf"
      },
      "source": [
        "len(threshold_pred)"
      ],
      "execution_count": 155,
      "outputs": [
        {
          "output_type": "execute_result",
          "data": {
            "text/plain": [
              "152"
            ]
          },
          "metadata": {},
          "execution_count": 155
        }
      ]
    },
    {
      "cell_type": "code",
      "metadata": {
        "colab": {
          "base_uri": "https://localhost:8080/"
        },
        "id": "M_JaKvzhWBaw",
        "outputId": "eec1789f-7c20-4571-820a-cc0fa5d891f7"
      },
      "source": [
        "threshold_pred[0:8]"
      ],
      "execution_count": 156,
      "outputs": [
        {
          "output_type": "execute_result",
          "data": {
            "text/plain": [
              "array([0, 0, 0, 0, 1, 0, 1, 0])"
            ]
          },
          "metadata": {},
          "execution_count": 156
        }
      ]
    },
    {
      "cell_type": "code",
      "metadata": {
        "id": "Pxcm_2W7WDQH"
      },
      "source": [
        "# Let's create a dataframe with 8 columns for each patient\n",
        "patient_df = pd.DataFrame(columns = ['Patient Number', 'Label', '1', '2', '3', '4', '5', '6', '7', '8'])"
      ],
      "execution_count": 165,
      "outputs": []
    },
    {
      "cell_type": "code",
      "metadata": {
        "id": "lmy0nzWWWbAh"
      },
      "source": [
        "for i in range(18): # 19 is number of patients, we use 18 because it adds one to get later splice area\n",
        "  patient_preds = threshold_pred[i*8: (i+1) * 8].tolist()\n",
        "  patient_id = [i]\n",
        "  patient_label = [np.average(y_test[i*8: (i+1) * 8])]\n",
        "\n",
        "  patient_row = patient_id + patient_label + patient_preds\n",
        "\n",
        "  row_df = pd.DataFrame(data = [patient_row], columns = ['Patient Number', 'Label', '1', '2', '3', '4', '5', '6', '7', '8'])\n",
        "  patient_df = pd.concat([patient_df, row_df], axis = 0)"
      ],
      "execution_count": 166,
      "outputs": []
    },
    {
      "cell_type": "code",
      "metadata": {
        "id": "91PwF5bHXn55"
      },
      "source": [
        "patient_df = patient_df.reset_index(drop=True)"
      ],
      "execution_count": 168,
      "outputs": []
    },
    {
      "cell_type": "code",
      "metadata": {
        "id": "fWpssakNZ6sN"
      },
      "source": [
        "patient_df"
      ],
      "execution_count": null,
      "outputs": []
    },
    {
      "cell_type": "code",
      "metadata": {
        "colab": {
          "base_uri": "https://localhost:8080/",
          "height": 607
        },
        "id": "Q6_3X64UaB3u",
        "outputId": "2f0d61f1-78a5-466b-ba47-018a56d9afc6"
      },
      "source": [
        "patient_df"
      ],
      "execution_count": 170,
      "outputs": [
        {
          "output_type": "execute_result",
          "data": {
            "text/html": [
              "<div>\n",
              "<style scoped>\n",
              "    .dataframe tbody tr th:only-of-type {\n",
              "        vertical-align: middle;\n",
              "    }\n",
              "\n",
              "    .dataframe tbody tr th {\n",
              "        vertical-align: top;\n",
              "    }\n",
              "\n",
              "    .dataframe thead th {\n",
              "        text-align: right;\n",
              "    }\n",
              "</style>\n",
              "<table border=\"1\" class=\"dataframe\">\n",
              "  <thead>\n",
              "    <tr style=\"text-align: right;\">\n",
              "      <th></th>\n",
              "      <th>Patient Number</th>\n",
              "      <th>Label</th>\n",
              "      <th>1</th>\n",
              "      <th>2</th>\n",
              "      <th>3</th>\n",
              "      <th>4</th>\n",
              "      <th>5</th>\n",
              "      <th>6</th>\n",
              "      <th>7</th>\n",
              "      <th>8</th>\n",
              "    </tr>\n",
              "  </thead>\n",
              "  <tbody>\n",
              "    <tr>\n",
              "      <th>0</th>\n",
              "      <td>0</td>\n",
              "      <td>0.0</td>\n",
              "      <td>0</td>\n",
              "      <td>0</td>\n",
              "      <td>0</td>\n",
              "      <td>0</td>\n",
              "      <td>1</td>\n",
              "      <td>0</td>\n",
              "      <td>1</td>\n",
              "      <td>0</td>\n",
              "    </tr>\n",
              "    <tr>\n",
              "      <th>1</th>\n",
              "      <td>1</td>\n",
              "      <td>0.0</td>\n",
              "      <td>1</td>\n",
              "      <td>1</td>\n",
              "      <td>1</td>\n",
              "      <td>1</td>\n",
              "      <td>1</td>\n",
              "      <td>1</td>\n",
              "      <td>1</td>\n",
              "      <td>1</td>\n",
              "    </tr>\n",
              "    <tr>\n",
              "      <th>2</th>\n",
              "      <td>2</td>\n",
              "      <td>0.0</td>\n",
              "      <td>0</td>\n",
              "      <td>0</td>\n",
              "      <td>0</td>\n",
              "      <td>0</td>\n",
              "      <td>0</td>\n",
              "      <td>0</td>\n",
              "      <td>0</td>\n",
              "      <td>0</td>\n",
              "    </tr>\n",
              "    <tr>\n",
              "      <th>3</th>\n",
              "      <td>3</td>\n",
              "      <td>0.0</td>\n",
              "      <td>0</td>\n",
              "      <td>0</td>\n",
              "      <td>0</td>\n",
              "      <td>0</td>\n",
              "      <td>0</td>\n",
              "      <td>0</td>\n",
              "      <td>0</td>\n",
              "      <td>0</td>\n",
              "    </tr>\n",
              "    <tr>\n",
              "      <th>4</th>\n",
              "      <td>4</td>\n",
              "      <td>0.0</td>\n",
              "      <td>0</td>\n",
              "      <td>0</td>\n",
              "      <td>0</td>\n",
              "      <td>0</td>\n",
              "      <td>0</td>\n",
              "      <td>0</td>\n",
              "      <td>1</td>\n",
              "      <td>0</td>\n",
              "    </tr>\n",
              "    <tr>\n",
              "      <th>5</th>\n",
              "      <td>5</td>\n",
              "      <td>0.0</td>\n",
              "      <td>0</td>\n",
              "      <td>0</td>\n",
              "      <td>0</td>\n",
              "      <td>0</td>\n",
              "      <td>1</td>\n",
              "      <td>0</td>\n",
              "      <td>0</td>\n",
              "      <td>0</td>\n",
              "    </tr>\n",
              "    <tr>\n",
              "      <th>6</th>\n",
              "      <td>6</td>\n",
              "      <td>0.0</td>\n",
              "      <td>0</td>\n",
              "      <td>0</td>\n",
              "      <td>0</td>\n",
              "      <td>0</td>\n",
              "      <td>0</td>\n",
              "      <td>0</td>\n",
              "      <td>0</td>\n",
              "      <td>0</td>\n",
              "    </tr>\n",
              "    <tr>\n",
              "      <th>7</th>\n",
              "      <td>7</td>\n",
              "      <td>0.0</td>\n",
              "      <td>0</td>\n",
              "      <td>0</td>\n",
              "      <td>0</td>\n",
              "      <td>0</td>\n",
              "      <td>0</td>\n",
              "      <td>0</td>\n",
              "      <td>0</td>\n",
              "      <td>0</td>\n",
              "    </tr>\n",
              "    <tr>\n",
              "      <th>8</th>\n",
              "      <td>8</td>\n",
              "      <td>1.0</td>\n",
              "      <td>1</td>\n",
              "      <td>1</td>\n",
              "      <td>1</td>\n",
              "      <td>1</td>\n",
              "      <td>1</td>\n",
              "      <td>1</td>\n",
              "      <td>1</td>\n",
              "      <td>1</td>\n",
              "    </tr>\n",
              "    <tr>\n",
              "      <th>9</th>\n",
              "      <td>9</td>\n",
              "      <td>1.0</td>\n",
              "      <td>1</td>\n",
              "      <td>1</td>\n",
              "      <td>1</td>\n",
              "      <td>1</td>\n",
              "      <td>1</td>\n",
              "      <td>1</td>\n",
              "      <td>1</td>\n",
              "      <td>1</td>\n",
              "    </tr>\n",
              "    <tr>\n",
              "      <th>10</th>\n",
              "      <td>10</td>\n",
              "      <td>1.0</td>\n",
              "      <td>1</td>\n",
              "      <td>1</td>\n",
              "      <td>1</td>\n",
              "      <td>1</td>\n",
              "      <td>1</td>\n",
              "      <td>1</td>\n",
              "      <td>1</td>\n",
              "      <td>1</td>\n",
              "    </tr>\n",
              "    <tr>\n",
              "      <th>11</th>\n",
              "      <td>11</td>\n",
              "      <td>1.0</td>\n",
              "      <td>1</td>\n",
              "      <td>1</td>\n",
              "      <td>1</td>\n",
              "      <td>1</td>\n",
              "      <td>1</td>\n",
              "      <td>1</td>\n",
              "      <td>1</td>\n",
              "      <td>1</td>\n",
              "    </tr>\n",
              "    <tr>\n",
              "      <th>12</th>\n",
              "      <td>12</td>\n",
              "      <td>1.0</td>\n",
              "      <td>1</td>\n",
              "      <td>1</td>\n",
              "      <td>1</td>\n",
              "      <td>1</td>\n",
              "      <td>1</td>\n",
              "      <td>1</td>\n",
              "      <td>1</td>\n",
              "      <td>1</td>\n",
              "    </tr>\n",
              "    <tr>\n",
              "      <th>13</th>\n",
              "      <td>13</td>\n",
              "      <td>1.0</td>\n",
              "      <td>1</td>\n",
              "      <td>1</td>\n",
              "      <td>1</td>\n",
              "      <td>1</td>\n",
              "      <td>1</td>\n",
              "      <td>1</td>\n",
              "      <td>1</td>\n",
              "      <td>1</td>\n",
              "    </tr>\n",
              "    <tr>\n",
              "      <th>14</th>\n",
              "      <td>14</td>\n",
              "      <td>1.0</td>\n",
              "      <td>1</td>\n",
              "      <td>1</td>\n",
              "      <td>1</td>\n",
              "      <td>1</td>\n",
              "      <td>1</td>\n",
              "      <td>1</td>\n",
              "      <td>1</td>\n",
              "      <td>1</td>\n",
              "    </tr>\n",
              "    <tr>\n",
              "      <th>15</th>\n",
              "      <td>15</td>\n",
              "      <td>1.0</td>\n",
              "      <td>1</td>\n",
              "      <td>1</td>\n",
              "      <td>1</td>\n",
              "      <td>1</td>\n",
              "      <td>1</td>\n",
              "      <td>1</td>\n",
              "      <td>1</td>\n",
              "      <td>1</td>\n",
              "    </tr>\n",
              "    <tr>\n",
              "      <th>16</th>\n",
              "      <td>16</td>\n",
              "      <td>1.0</td>\n",
              "      <td>1</td>\n",
              "      <td>1</td>\n",
              "      <td>1</td>\n",
              "      <td>1</td>\n",
              "      <td>1</td>\n",
              "      <td>1</td>\n",
              "      <td>1</td>\n",
              "      <td>1</td>\n",
              "    </tr>\n",
              "    <tr>\n",
              "      <th>17</th>\n",
              "      <td>17</td>\n",
              "      <td>1.0</td>\n",
              "      <td>1</td>\n",
              "      <td>1</td>\n",
              "      <td>1</td>\n",
              "      <td>1</td>\n",
              "      <td>1</td>\n",
              "      <td>1</td>\n",
              "      <td>1</td>\n",
              "      <td>1</td>\n",
              "    </tr>\n",
              "  </tbody>\n",
              "</table>\n",
              "</div>"
            ],
            "text/plain": [
              "   Patient Number  Label  1  2  3  4  5  6  7  8\n",
              "0               0    0.0  0  0  0  0  1  0  1  0\n",
              "1               1    0.0  1  1  1  1  1  1  1  1\n",
              "2               2    0.0  0  0  0  0  0  0  0  0\n",
              "3               3    0.0  0  0  0  0  0  0  0  0\n",
              "4               4    0.0  0  0  0  0  0  0  1  0\n",
              "5               5    0.0  0  0  0  0  1  0  0  0\n",
              "6               6    0.0  0  0  0  0  0  0  0  0\n",
              "7               7    0.0  0  0  0  0  0  0  0  0\n",
              "8               8    1.0  1  1  1  1  1  1  1  1\n",
              "9               9    1.0  1  1  1  1  1  1  1  1\n",
              "10             10    1.0  1  1  1  1  1  1  1  1\n",
              "11             11    1.0  1  1  1  1  1  1  1  1\n",
              "12             12    1.0  1  1  1  1  1  1  1  1\n",
              "13             13    1.0  1  1  1  1  1  1  1  1\n",
              "14             14    1.0  1  1  1  1  1  1  1  1\n",
              "15             15    1.0  1  1  1  1  1  1  1  1\n",
              "16             16    1.0  1  1  1  1  1  1  1  1\n",
              "17             17    1.0  1  1  1  1  1  1  1  1"
            ]
          },
          "metadata": {},
          "execution_count": 170
        }
      ]
    },
    {
      "cell_type": "markdown",
      "metadata": {
        "id": "Sesf5kofMGNE"
      },
      "source": [
        "Now, we'll use an aggregation scheme to see if we can get even higher accuracy :)"
      ]
    },
    {
      "cell_type": "code",
      "metadata": {
        "id": "bO9eZTEwtuHH"
      },
      "source": [
        ""
      ],
      "execution_count": null,
      "outputs": []
    },
    {
      "cell_type": "markdown",
      "metadata": {
        "id": "2y2unG-kQJ_q"
      },
      "source": [
        "### Validation Chart"
      ]
    },
    {
      "cell_type": "code",
      "metadata": {
        "colab": {
          "base_uri": "https://localhost:8080/",
          "height": 505
        },
        "id": "GNT47hrbQL6B",
        "outputId": "ec79b704-e901-4da9-80f1-86f5b40e8b21"
      },
      "source": [
        "from scipy import interp\n",
        "from sklearn.metrics import roc_curve, roc_auc_score\n",
        "from sklearn.metrics import auc\n",
        "\n",
        "tprs = []\n",
        "base_fpr = np.linspace(0, 1, 101)\n",
        "\n",
        "plt.figure(figsize=(5, 5))\n",
        "\n",
        "for i in range(10):\n",
        "  train_labels = y_train.to_numpy() # train is statified so stratifying on train_labels should be stratified to whole set\n",
        "  X_train, X_val, y_train, y_val = train_test_split(X_train, y_train, random_state = i, test_size = 0.1, stratify = train_labels)\n",
        "  \n",
        "  X_val = X_val.reset_index(drop = True)\n",
        "  y_val = y_val.reset_index(drop = True)\n",
        "\n",
        "  clf = SVC(kernel = 'rbf', probability = True, class_weight = 'balanced', C = 100)\n",
        "  clf.fit(X_train, y_train)\n",
        "\n",
        "  y_pred = (clf.predict_proba(X_val)[:,1] >= thresh_arr[i]).astype(int) # optimal thresh is 0.59\n",
        "  curr_acc = accuracy_score(y_val, y_pred)\n",
        "  print(curr_acc)\n",
        "\n",
        "  fpr, tpr, _ = roc_curve(y_val, y_pred)\n",
        "  plt.plot(fpr, tpr, 'b', alpha=0.15)\n",
        "  tpr = interp(base_fpr, fpr, tpr)\n",
        "  tpr[0] = 0.0\n",
        "  tprs.append(tpr)\n",
        "\n",
        "\n",
        "tprs = np.array(tprs)\n",
        "mean_tprs = tprs.mean(axis=0)\n",
        "std = tprs.std(axis=0)\n",
        "\n",
        "tprs_upper = np.minimum(mean_tprs + std, 1)\n",
        "tprs_lower = mean_tprs - std\n",
        "\n",
        "\n",
        "plt.plot(base_fpr, mean_tprs, 'b')\n",
        "plt.fill_between(base_fpr, tprs_lower, tprs_upper, color='grey', alpha=0.3)\n",
        "\n",
        "plt.plot([0, 1], [0, 1],'r--')\n",
        "plt.xlim([-0.01, 1.01])\n",
        "plt.ylim([-0.01, 1.01])\n",
        "plt.ylabel('True Positive Rate')\n",
        "plt.xlabel('False Positive Rate')\n",
        "plt.axes().set_aspect('equal', 'datalim')\n",
        "plt.show()"
      ],
      "execution_count": 74,
      "outputs": [
        {
          "output_type": "stream",
          "name": "stdout",
          "text": [
            "0.9259259259259259\n",
            "0.84\n",
            "0.6818181818181818\n",
            "0.8\n",
            "1.0\n",
            "0.8125\n",
            "0.9333333333333333\n",
            "0.6923076923076923\n",
            "0.9166666666666666\n",
            "1.0\n"
          ]
        },
        {
          "output_type": "display_data",
          "data": {
            "image/png": "[encoded data removed]",
            "text/plain": [
              "<Figure size 360x360 with 1 Axes>"
            ]
          },
          "metadata": {
            "needs_background": "light"
          }
        }
      ]
    }
  ]
}