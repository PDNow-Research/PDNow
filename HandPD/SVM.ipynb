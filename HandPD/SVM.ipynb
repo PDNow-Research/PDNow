{
  "nbformat": 4,
  "nbformat_minor": 0,
  "metadata": {
    "colab": {
      "name": "SVM.ipynb",
      "provenance": [],
      "collapsed_sections": [],
      "authorship_tag": "ABX9TyNofPNq//1a6cve5X4LExXz",
      "include_colab_link": true
    },
    "kernelspec": {
      "name": "python3",
      "display_name": "Python 3"
    },
    "language_info": {
      "name": "python"
    }
  },
  "cells": [
    {
      "cell_type": "markdown",
      "metadata": {
        "id": "view-in-github",
        "colab_type": "text"
      },
      "source": [
        "<a href=\"https://colab.research.google.com/github/PDNow-Research/PDNow/blob/main/HandPD/SVM.ipynb\" target=\"_parent\"><img src=\"https://colab.research.google.com/assets/colab-badge.svg\" alt=\"Open In Colab\"/></a>"
      ]
    },
    {
      "cell_type": "code",
      "metadata": {
        "id": "QE4ruysJCQn7",
        "colab": {
          "base_uri": "https://localhost:8080/"
        },
        "outputId": "a4a1ed73-ef8d-4600-f8bd-aade28fcc029"
      },
      "source": [
        "from google.colab import drive\n",
        "drive.mount(\"/content/drive\")"
      ],
      "execution_count": 1,
      "outputs": [
        {
          "output_type": "stream",
          "name": "stdout",
          "text": [
            "Mounted at /content/drive\n"
          ]
        }
      ]
    },
    {
      "cell_type": "code",
      "metadata": {
        "id": "v9Y4RF0dDEV2"
      },
      "source": [
        "# Data Science\n",
        "import re\n",
        "import csv\n",
        "import json\n",
        "import itertools\n",
        "from tqdm import tqdm\n",
        "import numpy as np\n",
        "import pandas as pd\n",
        "import seaborn as sns\n",
        "import matplotlib.pyplot as plt\n",
        "\n",
        "# General\n",
        "import os\n",
        "import sys\n",
        "import time\n",
        "import math\n",
        "import random\n",
        "from datetime import date\n",
        "import warnings\n",
        "current_date = date.today()\n",
        "warnings.filterwarnings(\"ignore\")\n",
        "\n",
        "# SVM\n",
        "from sklearn.svm import SVC\n",
        "from sklearn.preprocessing import StandardScaler\n",
        "from sklearn.pipeline import make_pipeline\n",
        "from sklearn.model_selection import train_test_split\n",
        "from sklearn.metrics import confusion_matrix, average_precision_score, classification_report"
      ],
      "execution_count": 2,
      "outputs": []
    },
    {
      "cell_type": "markdown",
      "metadata": {
        "id": "KiYJUXkvb5o4"
      },
      "source": [
        "Here's the plan. \n",
        "\n",
        "To train the model, we're going to combine a BUNCH of data. Data from Meander && Spiral from Old Hand PD and New Hand PD. Just to see how it goes. Then we'll try more detailed extraction.\n",
        "\n",
        "Also, try only on new with age?\n",
        "\n",
        "Run simple SVM based on output of neural network model and age and some other stats :)"
      ]
    },
    {
      "cell_type": "markdown",
      "metadata": {
        "id": "9QeSebGfnM4l"
      },
      "source": [
        "CAN POSSIBLY: just extract 5 PD patients and 5 control patients for testing from new hand pd set and just train on everything else. That should be fine...... Then ez to test, just pass those in and evaluate results per patient, perhaps reach 90% accuracy with this \n",
        "\n",
        "We also do cross validation/validation set? then.\n",
        "\n",
        "also, hyperparameter tuning? Can get above 90% accuracy maybe with that!\n",
        "\n",
        "Discuss more with TT"
      ]
    },
    {
      "cell_type": "markdown",
      "metadata": {
        "id": "TxETajX6baom"
      },
      "source": [
        "### Extracting from Old Hand PD"
      ]
    },
    {
      "cell_type": "code",
      "metadata": {
        "id": "-ZTgvIpSDSKk"
      },
      "source": [
        "spiral_df = pd.read_csv('/content/drive/My Drive/Data/HandPD-Replication/Spiral_HandPD.txt', delimiter=' ', index_col=0, names=['Image', 'Label', 'RMS', 'Max_dist', 'Min_dist', 'SD', 'MRT', 'Max_ET', 'Min_ET', 'SD_ET', 'HT_ET_Diff'])"
      ],
      "execution_count": 3,
      "outputs": []
    },
    {
      "cell_type": "code",
      "metadata": {
        "colab": {
          "base_uri": "https://localhost:8080/"
        },
        "id": "S-wXrWJC95kU",
        "outputId": "3b44533f-92fb-4f6c-8b3e-c15741fe32f3"
      },
      "source": [
        "spiral_df.shape"
      ],
      "execution_count": 4,
      "outputs": [
        {
          "output_type": "execute_result",
          "data": {
            "text/plain": [
              "(368, 10)"
            ]
          },
          "metadata": {},
          "execution_count": 4
        }
      ]
    },
    {
      "cell_type": "code",
      "metadata": {
        "colab": {
          "base_uri": "https://localhost:8080/",
          "height": 0
        },
        "id": "CRn1D5IWgZVN",
        "outputId": "5c9ad4e6-c666-4c2c-bfa8-13f68c8c9c18"
      },
      "source": [
        "spiral_df"
      ],
      "execution_count": 5,
      "outputs": [
        {
          "output_type": "execute_result",
          "data": {
            "text/html": [
              "<div>\n",
              "<style scoped>\n",
              "    .dataframe tbody tr th:only-of-type {\n",
              "        vertical-align: middle;\n",
              "    }\n",
              "\n",
              "    .dataframe tbody tr th {\n",
              "        vertical-align: top;\n",
              "    }\n",
              "\n",
              "    .dataframe thead th {\n",
              "        text-align: right;\n",
              "    }\n",
              "</style>\n",
              "<table border=\"1\" class=\"dataframe\">\n",
              "  <thead>\n",
              "    <tr style=\"text-align: right;\">\n",
              "      <th></th>\n",
              "      <th>Label</th>\n",
              "      <th>RMS</th>\n",
              "      <th>Max_dist</th>\n",
              "      <th>Min_dist</th>\n",
              "      <th>SD</th>\n",
              "      <th>MRT</th>\n",
              "      <th>Max_ET</th>\n",
              "      <th>Min_ET</th>\n",
              "      <th>SD_ET</th>\n",
              "      <th>HT_ET_Diff</th>\n",
              "    </tr>\n",
              "    <tr>\n",
              "      <th>Image</th>\n",
              "      <th></th>\n",
              "      <th></th>\n",
              "      <th></th>\n",
              "      <th></th>\n",
              "      <th></th>\n",
              "      <th></th>\n",
              "      <th></th>\n",
              "      <th></th>\n",
              "      <th></th>\n",
              "      <th></th>\n",
              "    </tr>\n",
              "  </thead>\n",
              "  <tbody>\n",
              "    <tr>\n",
              "      <th>1</th>\n",
              "      <td>1</td>\n",
              "      <td>3521.258301</td>\n",
              "      <td>6247.052734</td>\n",
              "      <td>30801.99219</td>\n",
              "      <td>0.014133</td>\n",
              "      <td>26.785328</td>\n",
              "      <td>176.600113</td>\n",
              "      <td>0.002130</td>\n",
              "      <td>1781.795898</td>\n",
              "      <td>0.250000</td>\n",
              "    </tr>\n",
              "    <tr>\n",
              "      <th>2</th>\n",
              "      <td>1</td>\n",
              "      <td>4098.876465</td>\n",
              "      <td>6032.535156</td>\n",
              "      <td>34369.70313</td>\n",
              "      <td>0.022838</td>\n",
              "      <td>26.529615</td>\n",
              "      <td>168.352737</td>\n",
              "      <td>0.084960</td>\n",
              "      <td>1443.217529</td>\n",
              "      <td>0.273585</td>\n",
              "    </tr>\n",
              "    <tr>\n",
              "      <th>3</th>\n",
              "      <td>1</td>\n",
              "      <td>3854.601807</td>\n",
              "      <td>6453.114746</td>\n",
              "      <td>34709.44531</td>\n",
              "      <td>0.000251</td>\n",
              "      <td>23.670755</td>\n",
              "      <td>180.898300</td>\n",
              "      <td>0.009303</td>\n",
              "      <td>1621.750000</td>\n",
              "      <td>0.256329</td>\n",
              "    </tr>\n",
              "    <tr>\n",
              "      <th>4</th>\n",
              "      <td>1</td>\n",
              "      <td>4069.221924</td>\n",
              "      <td>6844.231445</td>\n",
              "      <td>32181.26367</td>\n",
              "      <td>0.000168</td>\n",
              "      <td>23.456329</td>\n",
              "      <td>179.116043</td>\n",
              "      <td>0.021419</td>\n",
              "      <td>1454.390137</td>\n",
              "      <td>0.249221</td>\n",
              "    </tr>\n",
              "    <tr>\n",
              "      <th>5</th>\n",
              "      <td>1</td>\n",
              "      <td>4104.271973</td>\n",
              "      <td>6949.925293</td>\n",
              "      <td>36444.95313</td>\n",
              "      <td>0.004731</td>\n",
              "      <td>22.488258</td>\n",
              "      <td>188.256210</td>\n",
              "      <td>0.000000</td>\n",
              "      <td>1553.536499</td>\n",
              "      <td>0.214511</td>\n",
              "    </tr>\n",
              "    <tr>\n",
              "      <th>...</th>\n",
              "      <td>...</td>\n",
              "      <td>...</td>\n",
              "      <td>...</td>\n",
              "      <td>...</td>\n",
              "      <td>...</td>\n",
              "      <td>...</td>\n",
              "      <td>...</td>\n",
              "      <td>...</td>\n",
              "      <td>...</td>\n",
              "      <td>...</td>\n",
              "    </tr>\n",
              "    <tr>\n",
              "      <th>364</th>\n",
              "      <td>2</td>\n",
              "      <td>5593.215820</td>\n",
              "      <td>7997.703613</td>\n",
              "      <td>36371.22656</td>\n",
              "      <td>0.000190</td>\n",
              "      <td>26.964298</td>\n",
              "      <td>179.071930</td>\n",
              "      <td>0.059952</td>\n",
              "      <td>1885.214478</td>\n",
              "      <td>0.198653</td>\n",
              "    </tr>\n",
              "    <tr>\n",
              "      <th>365</th>\n",
              "      <td>2</td>\n",
              "      <td>7986.296387</td>\n",
              "      <td>7497.133789</td>\n",
              "      <td>29909.39063</td>\n",
              "      <td>2.613612</td>\n",
              "      <td>22.278151</td>\n",
              "      <td>203.759109</td>\n",
              "      <td>0.033372</td>\n",
              "      <td>1667.547974</td>\n",
              "      <td>0.241379</td>\n",
              "    </tr>\n",
              "    <tr>\n",
              "      <th>366</th>\n",
              "      <td>2</td>\n",
              "      <td>4652.542969</td>\n",
              "      <td>7275.474121</td>\n",
              "      <td>39475.41406</td>\n",
              "      <td>0.240567</td>\n",
              "      <td>21.622019</td>\n",
              "      <td>198.719940</td>\n",
              "      <td>0.000000</td>\n",
              "      <td>1469.676147</td>\n",
              "      <td>0.300000</td>\n",
              "    </tr>\n",
              "    <tr>\n",
              "      <th>367</th>\n",
              "      <td>2</td>\n",
              "      <td>5183.951172</td>\n",
              "      <td>8040.058594</td>\n",
              "      <td>35332.32813</td>\n",
              "      <td>0.020707</td>\n",
              "      <td>27.244106</td>\n",
              "      <td>182.095047</td>\n",
              "      <td>0.018142</td>\n",
              "      <td>1784.178101</td>\n",
              "      <td>0.231013</td>\n",
              "    </tr>\n",
              "    <tr>\n",
              "      <th>368</th>\n",
              "      <td>2</td>\n",
              "      <td>5115.785156</td>\n",
              "      <td>6931.015625</td>\n",
              "      <td>35511.28516</td>\n",
              "      <td>0.075153</td>\n",
              "      <td>22.904545</td>\n",
              "      <td>187.559189</td>\n",
              "      <td>0.000000</td>\n",
              "      <td>1762.078003</td>\n",
              "      <td>0.169430</td>\n",
              "    </tr>\n",
              "  </tbody>\n",
              "</table>\n",
              "<p>368 rows × 10 columns</p>\n",
              "</div>"
            ],
            "text/plain": [
              "       Label          RMS     Max_dist  ...    Min_ET        SD_ET  HT_ET_Diff\n",
              "Image                                   ...                                   \n",
              "1          1  3521.258301  6247.052734  ...  0.002130  1781.795898    0.250000\n",
              "2          1  4098.876465  6032.535156  ...  0.084960  1443.217529    0.273585\n",
              "3          1  3854.601807  6453.114746  ...  0.009303  1621.750000    0.256329\n",
              "4          1  4069.221924  6844.231445  ...  0.021419  1454.390137    0.249221\n",
              "5          1  4104.271973  6949.925293  ...  0.000000  1553.536499    0.214511\n",
              "...      ...          ...          ...  ...       ...          ...         ...\n",
              "364        2  5593.215820  7997.703613  ...  0.059952  1885.214478    0.198653\n",
              "365        2  7986.296387  7497.133789  ...  0.033372  1667.547974    0.241379\n",
              "366        2  4652.542969  7275.474121  ...  0.000000  1469.676147    0.300000\n",
              "367        2  5183.951172  8040.058594  ...  0.018142  1784.178101    0.231013\n",
              "368        2  5115.785156  6931.015625  ...  0.000000  1762.078003    0.169430\n",
              "\n",
              "[368 rows x 10 columns]"
            ]
          },
          "metadata": {},
          "execution_count": 5
        }
      ]
    },
    {
      "cell_type": "code",
      "metadata": {
        "id": "k8GfG8Od97zF",
        "colab": {
          "base_uri": "https://localhost:8080/"
        },
        "outputId": "95c1ac54-c8c2-4a08-e0f8-79edae8edcc5"
      },
      "source": [
        "spiral_df['Label'].value_counts()"
      ],
      "execution_count": 6,
      "outputs": [
        {
          "output_type": "execute_result",
          "data": {
            "text/plain": [
              "2    296\n",
              "1     72\n",
              "Name: Label, dtype: int64"
            ]
          },
          "metadata": {},
          "execution_count": 6
        }
      ]
    },
    {
      "cell_type": "code",
      "metadata": {
        "colab": {
          "base_uri": "https://localhost:8080/"
        },
        "id": "W0xamWY3fRY_",
        "outputId": "96191a89-6896-4e39-c501-fb227500e513"
      },
      "source": [
        "spiral_df.dtypes"
      ],
      "execution_count": 7,
      "outputs": [
        {
          "output_type": "execute_result",
          "data": {
            "text/plain": [
              "Label           int64\n",
              "RMS           float64\n",
              "Max_dist      float64\n",
              "Min_dist      float64\n",
              "SD            float64\n",
              "MRT           float64\n",
              "Max_ET        float64\n",
              "Min_ET        float64\n",
              "SD_ET         float64\n",
              "HT_ET_Diff    float64\n",
              "dtype: object"
            ]
          },
          "metadata": {},
          "execution_count": 7
        }
      ]
    },
    {
      "cell_type": "code",
      "metadata": {
        "id": "fGBnOZkJkLHl"
      },
      "source": [
        "# extracting necessary columns from spiral df\n",
        "X_spiral = spiral_df[['RMS', 'Max_dist', 'Min_dist', 'SD', 'MRT', 'Max_ET', 'Min_ET', 'SD_ET', 'HT_ET_Diff']]\n",
        "y_spiral = spiral_df['Label']\n",
        "\n",
        "y_spiral = pd.DataFrame(y_spiral)"
      ],
      "execution_count": 8,
      "outputs": []
    },
    {
      "cell_type": "code",
      "metadata": {
        "id": "2Ka51zlVEk7r"
      },
      "source": [
        "meander_df = pd.read_csv('/content/drive/My Drive/Data/HandPD-Replication/Meander_HandPD.txt', delimiter=' ', index_col=0, names=['Image', 'Label', 'RMS', 'Max_dist', 'Min_dist', 'SD', 'MRT', 'Max_ET', 'Min_ET', 'SD_ET', 'HT_ET_Diff'])"
      ],
      "execution_count": 9,
      "outputs": []
    },
    {
      "cell_type": "code",
      "metadata": {
        "colab": {
          "base_uri": "https://localhost:8080/"
        },
        "id": "JCbwMDV1EuCh",
        "outputId": "9fc71239-095f-41f0-bf6f-d8ab0e085c70"
      },
      "source": [
        "meander_df.shape"
      ],
      "execution_count": 10,
      "outputs": [
        {
          "output_type": "execute_result",
          "data": {
            "text/plain": [
              "(368, 10)"
            ]
          },
          "metadata": {},
          "execution_count": 10
        }
      ]
    },
    {
      "cell_type": "code",
      "metadata": {
        "colab": {
          "base_uri": "https://localhost:8080/"
        },
        "id": "tr-12febcL_-",
        "outputId": "27f7f496-d138-4e96-8766-b8b7bd7bfd24"
      },
      "source": [
        "spiral_df['Label'].value_counts()"
      ],
      "execution_count": 11,
      "outputs": [
        {
          "output_type": "execute_result",
          "data": {
            "text/plain": [
              "2    296\n",
              "1     72\n",
              "Name: Label, dtype: int64"
            ]
          },
          "metadata": {},
          "execution_count": 11
        }
      ]
    },
    {
      "cell_type": "code",
      "metadata": {
        "id": "zxINl8cckPmX"
      },
      "source": [
        "# choosing all patients from meander_df\n",
        "X_meander = meander_df[['RMS', 'Max_dist', 'Min_dist', 'SD', 'MRT', 'Max_ET', 'Min_ET', 'SD_ET', 'HT_ET_Diff']]\n",
        "\n",
        "y_meander = meander_df['Label']\n",
        "y_meander = pd.DataFrame(y_meander)"
      ],
      "execution_count": 12,
      "outputs": []
    },
    {
      "cell_type": "markdown",
      "metadata": {
        "id": "c_cUPCHZbdd5"
      },
      "source": [
        "### Extracting from New HandPD"
      ]
    },
    {
      "cell_type": "code",
      "metadata": {
        "id": "N3pZ8CPHbguD"
      },
      "source": [
        "new_spiral_df = pd.read_csv('/content/drive/My Drive/Data/HandPD-Replication/NewSpiral.csv', skiprows = 1, index_col = 0, names=['ID_EXAM', 'Image', 'ID_PATIENT', 'Label', 'GENDER', 'HANDEDNESS', 'AGE', 'RMS', 'Max_dist', 'Min_dist', 'SD', 'MRT', 'Max_ET', 'Min_ET', 'SD_ET', 'HT_ET_Diff']) # skiprows to remove first row of old columns names"
      ],
      "execution_count": 13,
      "outputs": []
    },
    {
      "cell_type": "code",
      "metadata": {
        "colab": {
          "base_uri": "https://localhost:8080/"
        },
        "id": "LYCC5iI3c8co",
        "outputId": "aa9bb27b-0d47-4b2d-fab4-223b56a17570"
      },
      "source": [
        "new_spiral_df.columns"
      ],
      "execution_count": 14,
      "outputs": [
        {
          "output_type": "execute_result",
          "data": {
            "text/plain": [
              "Index(['Image', 'ID_PATIENT', 'Label', 'GENDER', 'HANDEDNESS', 'AGE', 'RMS',\n",
              "       'Max_dist', 'Min_dist', 'SD', 'MRT', 'Max_ET', 'Min_ET', 'SD_ET',\n",
              "       'HT_ET_Diff'],\n",
              "      dtype='object')"
            ]
          },
          "metadata": {},
          "execution_count": 14
        }
      ]
    },
    {
      "cell_type": "code",
      "metadata": {
        "id": "Hy5HJiafc8X5"
      },
      "source": [
        "# choosing only control from new spiral_df\n",
        "X_new_spiral = new_spiral_df [new_spiral_df[\"Label\"] == 1]\n",
        "X_new_spiral = X_new_spiral[['RMS', 'Max_dist', 'Min_dist', 'SD', 'MRT', 'Max_ET', 'Min_ET', 'SD_ET', 'HT_ET_Diff']]\n",
        "\n",
        "y_new_spiral = new_spiral_df [new_spiral_df[\"Label\"] == 1]\n",
        "y_new_spiral = y_new_spiral['Label']\n",
        "\n",
        "y_new_spiral = pd.DataFrame(y_new_spiral)"
      ],
      "execution_count": 15,
      "outputs": []
    },
    {
      "cell_type": "code",
      "metadata": {
        "colab": {
          "base_uri": "https://localhost:8080/"
        },
        "id": "tWAfjdTci0IR",
        "outputId": "f56a7b20-b78d-4a08-998f-9f2ffb42e0db"
      },
      "source": [
        "y_new_spiral.value_counts()"
      ],
      "execution_count": 16,
      "outputs": [
        {
          "output_type": "execute_result",
          "data": {
            "text/plain": [
              "Label\n",
              "1        140\n",
              "dtype: int64"
            ]
          },
          "metadata": {},
          "execution_count": 16
        }
      ]
    },
    {
      "cell_type": "code",
      "metadata": {
        "id": "E38DKtSPdSpK"
      },
      "source": [
        "new_meander_df = pd.read_csv('/content/drive/My Drive/Data/HandPD-Replication/NewMeander.csv', index_col = 0, skiprows =1, names=['ID_EXAM', 'Image', 'ID_PATIENT', 'Label', 'GENDER', 'HANDEDNESS', 'AGE', 'RMS', 'Max_dist', 'Min_dist', 'SD', 'MRT', 'Max_ET', 'Min_ET', 'SD_ET', 'HT_ET_Diff'])"
      ],
      "execution_count": 17,
      "outputs": []
    },
    {
      "cell_type": "code",
      "metadata": {
        "id": "FS12q27kdWGv"
      },
      "source": [
        "# choosing only control from new meander_df\n",
        "X_new_meander = new_meander_df [new_meander_df[\"Label\"] == 1]\n",
        "X_new_meander = X_new_meander[['RMS', 'Max_dist', 'Min_dist', 'SD', 'MRT', 'Max_ET', 'Min_ET', 'SD_ET', 'HT_ET_Diff']]\n",
        "\n",
        "y_new_meander = new_meander_df [new_meander_df[\"Label\"] == 1]\n",
        "y_new_meander = y_new_meander['Label']\n",
        "\n",
        "y_new_meander = pd.DataFrame(y_new_meander)"
      ],
      "execution_count": 18,
      "outputs": []
    },
    {
      "cell_type": "code",
      "metadata": {
        "colab": {
          "base_uri": "https://localhost:8080/"
        },
        "id": "n8_V3XRYj2z3",
        "outputId": "e093649b-0cc6-4277-c7f7-b60bca64c5ea"
      },
      "source": [
        "y_new_meander.value_counts()"
      ],
      "execution_count": 19,
      "outputs": [
        {
          "output_type": "execute_result",
          "data": {
            "text/plain": [
              "Label\n",
              "1        140\n",
              "dtype: int64"
            ]
          },
          "metadata": {},
          "execution_count": 19
        }
      ]
    },
    {
      "cell_type": "markdown",
      "metadata": {
        "id": "UYbNZkMjkfdw"
      },
      "source": [
        "##**Preprocessing**"
      ]
    },
    {
      "cell_type": "markdown",
      "metadata": {
        "id": "WcwtQpQfktl7"
      },
      "source": [
        "###**Normalization**\n",
        "\n",
        "fi' = (fi - avg)/std"
      ]
    },
    {
      "cell_type": "code",
      "metadata": {
        "id": "VTfbmKgjjFEt"
      },
      "source": [
        "# normalization with the paper's method (formula above)\n",
        "def feature_normalization(df):\n",
        "  avg_dev = df.mad(axis = 0)\n",
        "  std_dev = df.std(axis = 0)\n",
        "\n",
        "  df = df.sub(avg_dev)\n",
        "  df = df.divide(std_dev)\n",
        "\n",
        "  return df"
      ],
      "execution_count": 20,
      "outputs": []
    },
    {
      "cell_type": "code",
      "metadata": {
        "id": "cj04_g4PmGGn"
      },
      "source": [
        "# normalize separately\n",
        "\n",
        "X_spiral = feature_normalization(X_spiral)\n",
        "X_new_spiral = feature_normalization(X_new_spiral)\n",
        "X_meander = feature_normalization(X_meander)\n",
        "X_new_meander = feature_normalization(X_new_meander)"
      ],
      "execution_count": 21,
      "outputs": []
    },
    {
      "cell_type": "code",
      "metadata": {
        "id": "v9SLYrDAeAp4"
      },
      "source": [
        "X = pd.concat([X_spiral, X_new_spiral, X_meander, X_new_meander])\n",
        "y = pd.concat([y_spiral, y_new_spiral, y_meander, y_new_meander])"
      ],
      "execution_count": 22,
      "outputs": []
    },
    {
      "cell_type": "code",
      "metadata": {
        "colab": {
          "base_uri": "https://localhost:8080/"
        },
        "id": "rLohH_EGk-YR",
        "outputId": "4dafc059-8cb7-49ea-c699-54c3a731043b"
      },
      "source": [
        "X.shape"
      ],
      "execution_count": 23,
      "outputs": [
        {
          "output_type": "execute_result",
          "data": {
            "text/plain": [
              "(1016, 9)"
            ]
          },
          "metadata": {},
          "execution_count": 23
        }
      ]
    },
    {
      "cell_type": "code",
      "metadata": {
        "colab": {
          "base_uri": "https://localhost:8080/"
        },
        "id": "41YOg5rUkbnt",
        "outputId": "0867fb07-50e8-4a5c-9aa8-3045b5f3bc43"
      },
      "source": [
        "y.shape"
      ],
      "execution_count": 24,
      "outputs": [
        {
          "output_type": "execute_result",
          "data": {
            "text/plain": [
              "(1016, 1)"
            ]
          },
          "metadata": {},
          "execution_count": 24
        }
      ]
    },
    {
      "cell_type": "code",
      "metadata": {
        "colab": {
          "base_uri": "https://localhost:8080/"
        },
        "id": "cPa85Zkue-HE",
        "outputId": "f9361f52-7cd7-4429-bedd-1bfbef87a115"
      },
      "source": [
        "y.value_counts()"
      ],
      "execution_count": 25,
      "outputs": [
        {
          "output_type": "execute_result",
          "data": {
            "text/plain": [
              "Label\n",
              "2        592\n",
              "1        424\n",
              "dtype: int64"
            ]
          },
          "metadata": {},
          "execution_count": 25
        }
      ]
    },
    {
      "cell_type": "markdown",
      "metadata": {
        "id": "gbeBsENVlQka"
      },
      "source": [
        "###Train-Test-Split"
      ]
    },
    {
      "cell_type": "code",
      "metadata": {
        "id": "j5LoRggSlWmb"
      },
      "source": [
        "# Train-Test Split, 80% train, 20% test, stratification across PD diagnosis (label)\n",
        "y_label = y.to_numpy()\n",
        "X_train, X_test, y_train, y_test = train_test_split(X, y, random_state = 0, test_size = 0.2, stratify = y_label)"
      ],
      "execution_count": null,
      "outputs": []
    },
    {
      "cell_type": "code",
      "metadata": {
        "id": "f-1hFnrflXcY"
      },
      "source": [
        "X_train = X_train.reset_index(drop = True)\n",
        "X_test = X_test.reset_index(drop = True)"
      ],
      "execution_count": null,
      "outputs": []
    },
    {
      "cell_type": "code",
      "metadata": {
        "id": "dzmGJ3zcKV6v"
      },
      "source": [
        "y_train = y_train.reset_index(drop = True)\n",
        "y_test = y_test.reset_index(drop = True)"
      ],
      "execution_count": null,
      "outputs": []
    },
    {
      "cell_type": "markdown",
      "metadata": {
        "id": "lk6pv-0Vlpjz"
      },
      "source": [
        "###**Quick Check**"
      ]
    },
    {
      "cell_type": "code",
      "metadata": {
        "colab": {
          "base_uri": "https://localhost:8080/"
        },
        "id": "UvM6vqR6Ko52",
        "outputId": "4a3cbb69-36d2-473a-f903-8d7489bc89ee"
      },
      "source": [
        "y_train.value_counts()"
      ],
      "execution_count": null,
      "outputs": [
        {
          "output_type": "execute_result",
          "data": {
            "text/plain": [
              "Label\n",
              "2        473\n",
              "1        339\n",
              "dtype: int64"
            ]
          },
          "metadata": {},
          "execution_count": 29
        }
      ]
    },
    {
      "cell_type": "code",
      "metadata": {
        "colab": {
          "base_uri": "https://localhost:8080/"
        },
        "id": "b783Fe5KKqXX",
        "outputId": "5f9a8997-1429-4103-c36b-b9b2dc045fab"
      },
      "source": [
        "y_test.value_counts()"
      ],
      "execution_count": null,
      "outputs": [
        {
          "output_type": "execute_result",
          "data": {
            "text/plain": [
              "Label\n",
              "2        119\n",
              "1         85\n",
              "dtype: int64"
            ]
          },
          "metadata": {},
          "execution_count": 30
        }
      ]
    },
    {
      "cell_type": "markdown",
      "metadata": {
        "id": "IQkGWuYAAGnn"
      },
      "source": [
        "##**SVM Implementation**"
      ]
    },
    {
      "cell_type": "markdown",
      "metadata": {
        "id": "I_gFuMTHnkSU"
      },
      "source": [
        "###**Training**"
      ]
    },
    {
      "cell_type": "code",
      "metadata": {
        "id": "7vpTfqLuIkBT",
        "colab": {
          "base_uri": "https://localhost:8080/"
        },
        "outputId": "7cf7bc77-5205-4222-f2a7-c1e38a1a4689"
      },
      "source": [
        "clf = SVC(kernel = 'rbf', probability = True, class_weight = 'balanced')\n",
        "clf.fit(X_train, y_train)"
      ],
      "execution_count": null,
      "outputs": [
        {
          "output_type": "execute_result",
          "data": {
            "text/plain": [
              "SVC(C=1.0, break_ties=False, cache_size=200, class_weight='balanced', coef0=0.0,\n",
              "    decision_function_shape='ovr', degree=3, gamma='scale', kernel='rbf',\n",
              "    max_iter=-1, probability=True, random_state=None, shrinking=True, tol=0.001,\n",
              "    verbose=False)"
            ]
          },
          "metadata": {},
          "execution_count": 48
        }
      ]
    },
    {
      "cell_type": "markdown",
      "metadata": {
        "id": "QJ7asLzl7hiI"
      },
      "source": [
        "To note, it may be useful to look at the weights for this model (see which features are most valuable), but these are only relevant for a linear kernel. RBF kernel does not have relevant/interpretable weights. And of course, linear kernel is not very helpful and good in predicting (51% accuracy). The features are not linearly separable."
      ]
    },
    {
      "cell_type": "code",
      "metadata": {
        "id": "hzs7YGmBGwm9"
      },
      "source": [
        "y_pred = clf.predict(X_test)\n",
        "y_proba = clf.predict_proba(X_test)"
      ],
      "execution_count": null,
      "outputs": []
    },
    {
      "cell_type": "code",
      "metadata": {
        "id": "8sgC95rQPQJ2"
      },
      "source": [
        "y_pred = pd.Series(y_pred)"
      ],
      "execution_count": null,
      "outputs": []
    },
    {
      "cell_type": "markdown",
      "metadata": {
        "id": "y1SDNLlenfUX"
      },
      "source": [
        "##**Results**"
      ]
    },
    {
      "cell_type": "code",
      "metadata": {
        "colab": {
          "base_uri": "https://localhost:8080/"
        },
        "id": "su5RMaC_MaPF",
        "outputId": "0109c266-e5e6-4e2a-b9c8-246720031a61"
      },
      "source": [
        "clf.score(X_test, y_test)"
      ],
      "execution_count": null,
      "outputs": [
        {
          "output_type": "execute_result",
          "data": {
            "text/plain": [
              "0.8774509803921569"
            ]
          },
          "metadata": {},
          "execution_count": 51
        }
      ]
    },
    {
      "cell_type": "code",
      "metadata": {
        "colab": {
          "base_uri": "https://localhost:8080/"
        },
        "id": "COxdAJXi58JI",
        "outputId": "1cb40177-621e-4ab2-aad8-5dd58557298f"
      },
      "source": [
        "y_test.dtypes"
      ],
      "execution_count": null,
      "outputs": [
        {
          "output_type": "execute_result",
          "data": {
            "text/plain": [
              "Label    int64\n",
              "dtype: object"
            ]
          },
          "metadata": {},
          "execution_count": 35
        }
      ]
    },
    {
      "cell_type": "code",
      "metadata": {
        "id": "wZf0iMccM767"
      },
      "source": [
        "target_names = ['Control', 'PD']\n",
        "results = classification_report(y_test, y_pred, target_names = target_names, output_dict=True)\n",
        "results = pd.DataFrame(results).transpose()\n",
        "conf_mat = confusion_matrix(y_test, y_pred)"
      ],
      "execution_count": null,
      "outputs": []
    },
    {
      "cell_type": "code",
      "metadata": {
        "colab": {
          "base_uri": "https://localhost:8080/",
          "height": 206
        },
        "id": "thzR3k3lMz31",
        "outputId": "f96f9575-000a-453c-d50e-60ac292d78ab"
      },
      "source": [
        "results"
      ],
      "execution_count": null,
      "outputs": [
        {
          "output_type": "execute_result",
          "data": {
            "text/html": [
              "<div>\n",
              "<style scoped>\n",
              "    .dataframe tbody tr th:only-of-type {\n",
              "        vertical-align: middle;\n",
              "    }\n",
              "\n",
              "    .dataframe tbody tr th {\n",
              "        vertical-align: top;\n",
              "    }\n",
              "\n",
              "    .dataframe thead th {\n",
              "        text-align: right;\n",
              "    }\n",
              "</style>\n",
              "<table border=\"1\" class=\"dataframe\">\n",
              "  <thead>\n",
              "    <tr style=\"text-align: right;\">\n",
              "      <th></th>\n",
              "      <th>precision</th>\n",
              "      <th>recall</th>\n",
              "      <th>f1-score</th>\n",
              "      <th>support</th>\n",
              "    </tr>\n",
              "  </thead>\n",
              "  <tbody>\n",
              "    <tr>\n",
              "      <th>Control</th>\n",
              "      <td>1.000000</td>\n",
              "      <td>0.705882</td>\n",
              "      <td>0.827586</td>\n",
              "      <td>85.000000</td>\n",
              "    </tr>\n",
              "    <tr>\n",
              "      <th>PD</th>\n",
              "      <td>0.826389</td>\n",
              "      <td>1.000000</td>\n",
              "      <td>0.904943</td>\n",
              "      <td>119.000000</td>\n",
              "    </tr>\n",
              "    <tr>\n",
              "      <th>accuracy</th>\n",
              "      <td>0.877451</td>\n",
              "      <td>0.877451</td>\n",
              "      <td>0.877451</td>\n",
              "      <td>0.877451</td>\n",
              "    </tr>\n",
              "    <tr>\n",
              "      <th>macro avg</th>\n",
              "      <td>0.913194</td>\n",
              "      <td>0.852941</td>\n",
              "      <td>0.866265</td>\n",
              "      <td>204.000000</td>\n",
              "    </tr>\n",
              "    <tr>\n",
              "      <th>weighted avg</th>\n",
              "      <td>0.898727</td>\n",
              "      <td>0.877451</td>\n",
              "      <td>0.872711</td>\n",
              "      <td>204.000000</td>\n",
              "    </tr>\n",
              "  </tbody>\n",
              "</table>\n",
              "</div>"
            ],
            "text/plain": [
              "              precision    recall  f1-score     support\n",
              "Control        1.000000  0.705882  0.827586   85.000000\n",
              "PD             0.826389  1.000000  0.904943  119.000000\n",
              "accuracy       0.877451  0.877451  0.877451    0.877451\n",
              "macro avg      0.913194  0.852941  0.866265  204.000000\n",
              "weighted avg   0.898727  0.877451  0.872711  204.000000"
            ]
          },
          "metadata": {},
          "execution_count": 37
        }
      ]
    },
    {
      "cell_type": "code",
      "metadata": {
        "colab": {
          "base_uri": "https://localhost:8080/"
        },
        "id": "zAXqc2uPNeq5",
        "outputId": "c64d3378-3d18-4869-9e6d-c20f18827b0b"
      },
      "source": [
        "conf_mat"
      ],
      "execution_count": null,
      "outputs": [
        {
          "output_type": "execute_result",
          "data": {
            "text/plain": [
              "array([[ 60,  25],\n",
              "       [  0, 119]])"
            ]
          },
          "metadata": {},
          "execution_count": 38
        }
      ]
    },
    {
      "cell_type": "markdown",
      "metadata": {
        "id": "ROjqTUdi1gDf"
      },
      "source": [
        "* Consider probability threshold"
      ]
    },
    {
      "cell_type": "code",
      "metadata": {
        "colab": {
          "base_uri": "https://localhost:8080/"
        },
        "id": "vwthqW4OQD2z",
        "outputId": "7c0ee040-9dc7-4f35-e214-30425b0bf973"
      },
      "source": [
        "TN, FP, FN, TP = conf_mat.ravel()\n",
        "\n",
        "# Sensitivity, hit rate, recall, or true positive rate\n",
        "TPR = TP/(TP+FN)\n",
        "\n",
        "# Specificity or true negative rate\n",
        "TNR = TN/(TN+FP) \n",
        "\n",
        "# Precision or positive predictive value\n",
        "PPV = TP/(TP+FP)\n",
        "\n",
        "# Negative predictive value\n",
        "NPV = TN/(TN+FN)\n",
        "\n",
        "# Fall out or false positive rate\n",
        "FPR = FP/(FP+TN)\n",
        "\n",
        "# False negative rate\n",
        "FNR = FN/(TP+FN)\n",
        "\n",
        "# False discovery rate\n",
        "FDR = FP/(TP+FP)\n",
        "\n",
        "print(\"TP: \", TP)\n",
        "print(\"TN: \", TN)\n",
        "print(\"FP: \", FP)\n",
        "print(\"FN: \", FN)\n",
        "\n",
        "print(\"Sensitivity: \", TPR)\n",
        "print(\"Specificity: \", TNR)\n",
        "print(\"NPV: \", NPV)\n",
        "print(\"PPV: \", PPV)"
      ],
      "execution_count": null,
      "outputs": [
        {
          "output_type": "stream",
          "name": "stdout",
          "text": [
            "TP:  119\n",
            "TN:  60\n",
            "FP:  25\n",
            "FN:  0\n",
            "Sensitivity:  1.0\n",
            "Specificity:  0.7058823529411765\n",
            "NPV:  1.0\n",
            "PPV:  0.8263888888888888\n"
          ]
        }
      ]
    },
    {
      "cell_type": "markdown",
      "metadata": {
        "id": "6q-82qHV56E3"
      },
      "source": [
        "Can we somehow get the weights for the model to learn which features are considered most useful?"
      ]
    }
  ]
}