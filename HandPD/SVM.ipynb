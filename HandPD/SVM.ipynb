{
  "nbformat": 4,
  "nbformat_minor": 0,
  "metadata": {
    "colab": {
      "name": "SVM.ipynb",
      "provenance": [],
      "collapsed_sections": [],
      "authorship_tag": "ABX9TyOspNLqxg4Au2wPDH2TDLdg",
      "include_colab_link": true
    },
    "kernelspec": {
      "name": "python3",
      "display_name": "Python 3"
    },
    "language_info": {
      "name": "python"
    }
  },
  "cells": [
    {
      "cell_type": "markdown",
      "metadata": {
        "id": "view-in-github",
        "colab_type": "text"
      },
      "source": [
        "<a href=\"https://colab.research.google.com/github/PDNow-Research/PDNow/blob/main/HandPD/SVM.ipynb\" target=\"_parent\"><img src=\"https://colab.research.google.com/assets/colab-badge.svg\" alt=\"Open In Colab\"/></a>"
      ]
    },
    {
      "cell_type": "code",
      "metadata": {
        "id": "QE4ruysJCQn7",
        "colab": {
          "base_uri": "https://localhost:8080/"
        },
        "outputId": "6308a9a4-d630-450a-ace3-f25cb1d5bfb8"
      },
      "source": [
        "from google.colab import drive\n",
        "drive.mount(\"/content/drive\")"
      ],
      "execution_count": 1,
      "outputs": [
        {
          "output_type": "stream",
          "name": "stdout",
          "text": [
            "Drive already mounted at /content/drive; to attempt to forcibly remount, call drive.mount(\"/content/drive\", force_remount=True).\n"
          ]
        }
      ]
    },
    {
      "cell_type": "code",
      "metadata": {
        "id": "v9Y4RF0dDEV2"
      },
      "source": [
        "# Data Science\n",
        "import re\n",
        "import csv\n",
        "import json\n",
        "import itertools\n",
        "from tqdm import tqdm\n",
        "import numpy as np\n",
        "import pandas as pd\n",
        "import seaborn as sns\n",
        "import matplotlib.pyplot as plt\n",
        "\n",
        "# General\n",
        "import os\n",
        "import sys\n",
        "import time\n",
        "import math\n",
        "import random\n",
        "from datetime import date\n",
        "import warnings\n",
        "current_date = date.today()\n",
        "warnings.filterwarnings(\"ignore\")\n",
        "\n",
        "# SVM\n",
        "from sklearn.svm import SVC\n",
        "from sklearn.linear_model import LogisticRegression\n",
        "from sklearn.preprocessing import StandardScaler\n",
        "from sklearn.pipeline import make_pipeline\n",
        "from sklearn.model_selection import train_test_split\n",
        "from sklearn.model_selection import cross_validate\n",
        "from sklearn.metrics import confusion_matrix, average_precision_score, classification_report, accuracy_score\n",
        "from sklearn.model_selection import StratifiedKFold, KFold\n"
      ],
      "execution_count": 2,
      "outputs": []
    },
    {
      "cell_type": "markdown",
      "metadata": {
        "id": "KiYJUXkvb5o4"
      },
      "source": [
        "Here's the plan. \n",
        "\n",
        "To train the model, we're going to combine a BUNCH of data. Data from Meander && Spiral from Old Hand PD and New Hand PD. Just to see how it goes. Then we'll try more detailed extraction.\n",
        "\n",
        "Also, try only on new with age?\n",
        "\n",
        "Run simple SVM based on output of neural network model and age and some other stats :)"
      ]
    },
    {
      "cell_type": "markdown",
      "metadata": {
        "id": "9QeSebGfnM4l"
      },
      "source": [
        "CAN POSSIBLY: just extract 5 PD patients and 5 control patients for testing from new hand pd set and just train on everything else. That should be fine...... Then ez to test, just pass those in and evaluate results per patient, perhaps reach 90% accuracy with this \n",
        "\n",
        "We also do cross validation/validation set? then.\n",
        "\n",
        "also, hyperparameter tuning? Can get above 90% accuracy maybe with that!\n",
        "\n",
        "Discuss more with TT"
      ]
    },
    {
      "cell_type": "markdown",
      "metadata": {
        "id": "WcwtQpQfktl7"
      },
      "source": [
        "###**Normalization**\n",
        "\n",
        "fi' = (fi - avg)/std"
      ]
    },
    {
      "cell_type": "code",
      "metadata": {
        "id": "VTfbmKgjjFEt"
      },
      "source": [
        "# normalization with the paper's method (formula above)\n",
        "def feature_normalization(df):\n",
        "  avg_dev = df.mad(axis = 0)\n",
        "  std_dev = df.std(axis = 0)\n",
        "\n",
        "  df = df.sub(avg_dev)\n",
        "  df = df.divide(std_dev)\n",
        "\n",
        "  return df"
      ],
      "execution_count": 3,
      "outputs": []
    },
    {
      "cell_type": "markdown",
      "metadata": {
        "id": "TxETajX6baom"
      },
      "source": [
        "### Extracting from Old Hand PD"
      ]
    },
    {
      "cell_type": "code",
      "metadata": {
        "id": "-ZTgvIpSDSKk"
      },
      "source": [
        "spiral_df = pd.read_csv('/content/drive/My Drive/Data/HandPD-Replication/Spiral_HandPD.txt', delimiter=' ', index_col=0, names=['Image', 'Label', 'RMS', 'Max_dist', 'Min_dist', 'SD', 'MRT', 'Max_ET', 'Min_ET', 'SD_ET', 'HT_ET_Diff'])"
      ],
      "execution_count": 4,
      "outputs": []
    },
    {
      "cell_type": "code",
      "metadata": {
        "colab": {
          "base_uri": "https://localhost:8080/"
        },
        "id": "S-wXrWJC95kU",
        "outputId": "95b87776-630f-492e-e973-fa125b533f0b"
      },
      "source": [
        "spiral_df.shape"
      ],
      "execution_count": 5,
      "outputs": [
        {
          "output_type": "execute_result",
          "data": {
            "text/plain": [
              "(368, 10)"
            ]
          },
          "metadata": {},
          "execution_count": 5
        }
      ]
    },
    {
      "cell_type": "code",
      "metadata": {
        "colab": {
          "base_uri": "https://localhost:8080/",
          "height": 0
        },
        "id": "CRn1D5IWgZVN",
        "outputId": "404009ff-75cb-448e-e1e2-4f21e6b7e58b"
      },
      "source": [
        "spiral_df"
      ],
      "execution_count": 6,
      "outputs": [
        {
          "output_type": "execute_result",
          "data": {
            "text/html": [
              "<div>\n",
              "<style scoped>\n",
              "    .dataframe tbody tr th:only-of-type {\n",
              "        vertical-align: middle;\n",
              "    }\n",
              "\n",
              "    .dataframe tbody tr th {\n",
              "        vertical-align: top;\n",
              "    }\n",
              "\n",
              "    .dataframe thead th {\n",
              "        text-align: right;\n",
              "    }\n",
              "</style>\n",
              "<table border=\"1\" class=\"dataframe\">\n",
              "  <thead>\n",
              "    <tr style=\"text-align: right;\">\n",
              "      <th></th>\n",
              "      <th>Label</th>\n",
              "      <th>RMS</th>\n",
              "      <th>Max_dist</th>\n",
              "      <th>Min_dist</th>\n",
              "      <th>SD</th>\n",
              "      <th>MRT</th>\n",
              "      <th>Max_ET</th>\n",
              "      <th>Min_ET</th>\n",
              "      <th>SD_ET</th>\n",
              "      <th>HT_ET_Diff</th>\n",
              "    </tr>\n",
              "    <tr>\n",
              "      <th>Image</th>\n",
              "      <th></th>\n",
              "      <th></th>\n",
              "      <th></th>\n",
              "      <th></th>\n",
              "      <th></th>\n",
              "      <th></th>\n",
              "      <th></th>\n",
              "      <th></th>\n",
              "      <th></th>\n",
              "      <th></th>\n",
              "    </tr>\n",
              "  </thead>\n",
              "  <tbody>\n",
              "    <tr>\n",
              "      <th>1</th>\n",
              "      <td>1</td>\n",
              "      <td>3521.258301</td>\n",
              "      <td>6247.052734</td>\n",
              "      <td>30801.99219</td>\n",
              "      <td>0.014133</td>\n",
              "      <td>26.785328</td>\n",
              "      <td>176.600113</td>\n",
              "      <td>0.002130</td>\n",
              "      <td>1781.795898</td>\n",
              "      <td>0.250000</td>\n",
              "    </tr>\n",
              "    <tr>\n",
              "      <th>2</th>\n",
              "      <td>1</td>\n",
              "      <td>4098.876465</td>\n",
              "      <td>6032.535156</td>\n",
              "      <td>34369.70313</td>\n",
              "      <td>0.022838</td>\n",
              "      <td>26.529615</td>\n",
              "      <td>168.352737</td>\n",
              "      <td>0.084960</td>\n",
              "      <td>1443.217529</td>\n",
              "      <td>0.273585</td>\n",
              "    </tr>\n",
              "    <tr>\n",
              "      <th>3</th>\n",
              "      <td>1</td>\n",
              "      <td>3854.601807</td>\n",
              "      <td>6453.114746</td>\n",
              "      <td>34709.44531</td>\n",
              "      <td>0.000251</td>\n",
              "      <td>23.670755</td>\n",
              "      <td>180.898300</td>\n",
              "      <td>0.009303</td>\n",
              "      <td>1621.750000</td>\n",
              "      <td>0.256329</td>\n",
              "    </tr>\n",
              "    <tr>\n",
              "      <th>4</th>\n",
              "      <td>1</td>\n",
              "      <td>4069.221924</td>\n",
              "      <td>6844.231445</td>\n",
              "      <td>32181.26367</td>\n",
              "      <td>0.000168</td>\n",
              "      <td>23.456329</td>\n",
              "      <td>179.116043</td>\n",
              "      <td>0.021419</td>\n",
              "      <td>1454.390137</td>\n",
              "      <td>0.249221</td>\n",
              "    </tr>\n",
              "    <tr>\n",
              "      <th>5</th>\n",
              "      <td>1</td>\n",
              "      <td>4104.271973</td>\n",
              "      <td>6949.925293</td>\n",
              "      <td>36444.95313</td>\n",
              "      <td>0.004731</td>\n",
              "      <td>22.488258</td>\n",
              "      <td>188.256210</td>\n",
              "      <td>0.000000</td>\n",
              "      <td>1553.536499</td>\n",
              "      <td>0.214511</td>\n",
              "    </tr>\n",
              "    <tr>\n",
              "      <th>...</th>\n",
              "      <td>...</td>\n",
              "      <td>...</td>\n",
              "      <td>...</td>\n",
              "      <td>...</td>\n",
              "      <td>...</td>\n",
              "      <td>...</td>\n",
              "      <td>...</td>\n",
              "      <td>...</td>\n",
              "      <td>...</td>\n",
              "      <td>...</td>\n",
              "    </tr>\n",
              "    <tr>\n",
              "      <th>364</th>\n",
              "      <td>2</td>\n",
              "      <td>5593.215820</td>\n",
              "      <td>7997.703613</td>\n",
              "      <td>36371.22656</td>\n",
              "      <td>0.000190</td>\n",
              "      <td>26.964298</td>\n",
              "      <td>179.071930</td>\n",
              "      <td>0.059952</td>\n",
              "      <td>1885.214478</td>\n",
              "      <td>0.198653</td>\n",
              "    </tr>\n",
              "    <tr>\n",
              "      <th>365</th>\n",
              "      <td>2</td>\n",
              "      <td>7986.296387</td>\n",
              "      <td>7497.133789</td>\n",
              "      <td>29909.39063</td>\n",
              "      <td>2.613612</td>\n",
              "      <td>22.278151</td>\n",
              "      <td>203.759109</td>\n",
              "      <td>0.033372</td>\n",
              "      <td>1667.547974</td>\n",
              "      <td>0.241379</td>\n",
              "    </tr>\n",
              "    <tr>\n",
              "      <th>366</th>\n",
              "      <td>2</td>\n",
              "      <td>4652.542969</td>\n",
              "      <td>7275.474121</td>\n",
              "      <td>39475.41406</td>\n",
              "      <td>0.240567</td>\n",
              "      <td>21.622019</td>\n",
              "      <td>198.719940</td>\n",
              "      <td>0.000000</td>\n",
              "      <td>1469.676147</td>\n",
              "      <td>0.300000</td>\n",
              "    </tr>\n",
              "    <tr>\n",
              "      <th>367</th>\n",
              "      <td>2</td>\n",
              "      <td>5183.951172</td>\n",
              "      <td>8040.058594</td>\n",
              "      <td>35332.32813</td>\n",
              "      <td>0.020707</td>\n",
              "      <td>27.244106</td>\n",
              "      <td>182.095047</td>\n",
              "      <td>0.018142</td>\n",
              "      <td>1784.178101</td>\n",
              "      <td>0.231013</td>\n",
              "    </tr>\n",
              "    <tr>\n",
              "      <th>368</th>\n",
              "      <td>2</td>\n",
              "      <td>5115.785156</td>\n",
              "      <td>6931.015625</td>\n",
              "      <td>35511.28516</td>\n",
              "      <td>0.075153</td>\n",
              "      <td>22.904545</td>\n",
              "      <td>187.559189</td>\n",
              "      <td>0.000000</td>\n",
              "      <td>1762.078003</td>\n",
              "      <td>0.169430</td>\n",
              "    </tr>\n",
              "  </tbody>\n",
              "</table>\n",
              "<p>368 rows × 10 columns</p>\n",
              "</div>"
            ],
            "text/plain": [
              "       Label          RMS     Max_dist  ...    Min_ET        SD_ET  HT_ET_Diff\n",
              "Image                                   ...                                   \n",
              "1          1  3521.258301  6247.052734  ...  0.002130  1781.795898    0.250000\n",
              "2          1  4098.876465  6032.535156  ...  0.084960  1443.217529    0.273585\n",
              "3          1  3854.601807  6453.114746  ...  0.009303  1621.750000    0.256329\n",
              "4          1  4069.221924  6844.231445  ...  0.021419  1454.390137    0.249221\n",
              "5          1  4104.271973  6949.925293  ...  0.000000  1553.536499    0.214511\n",
              "...      ...          ...          ...  ...       ...          ...         ...\n",
              "364        2  5593.215820  7997.703613  ...  0.059952  1885.214478    0.198653\n",
              "365        2  7986.296387  7497.133789  ...  0.033372  1667.547974    0.241379\n",
              "366        2  4652.542969  7275.474121  ...  0.000000  1469.676147    0.300000\n",
              "367        2  5183.951172  8040.058594  ...  0.018142  1784.178101    0.231013\n",
              "368        2  5115.785156  6931.015625  ...  0.000000  1762.078003    0.169430\n",
              "\n",
              "[368 rows x 10 columns]"
            ]
          },
          "metadata": {},
          "execution_count": 6
        }
      ]
    },
    {
      "cell_type": "code",
      "metadata": {
        "id": "k8GfG8Od97zF",
        "colab": {
          "base_uri": "https://localhost:8080/"
        },
        "outputId": "6285def2-a6b7-4012-c35f-5d51b3071d45"
      },
      "source": [
        "spiral_df['Label'].value_counts()"
      ],
      "execution_count": 7,
      "outputs": [
        {
          "output_type": "execute_result",
          "data": {
            "text/plain": [
              "2    296\n",
              "1     72\n",
              "Name: Label, dtype: int64"
            ]
          },
          "metadata": {},
          "execution_count": 7
        }
      ]
    },
    {
      "cell_type": "code",
      "metadata": {
        "colab": {
          "base_uri": "https://localhost:8080/"
        },
        "id": "W0xamWY3fRY_",
        "outputId": "d98e38e8-44a5-48f6-a997-122a7ab4bfad"
      },
      "source": [
        "spiral_df.dtypes"
      ],
      "execution_count": 8,
      "outputs": [
        {
          "output_type": "execute_result",
          "data": {
            "text/plain": [
              "Label           int64\n",
              "RMS           float64\n",
              "Max_dist      float64\n",
              "Min_dist      float64\n",
              "SD            float64\n",
              "MRT           float64\n",
              "Max_ET        float64\n",
              "Min_ET        float64\n",
              "SD_ET         float64\n",
              "HT_ET_Diff    float64\n",
              "dtype: object"
            ]
          },
          "metadata": {},
          "execution_count": 8
        }
      ]
    },
    {
      "cell_type": "code",
      "metadata": {
        "id": "fGBnOZkJkLHl"
      },
      "source": [
        "# extracting necessary columns from spiral df\n",
        "X_spiral = spiral_df[['RMS', 'Max_dist', 'Min_dist', 'SD', 'MRT', 'Max_ET', 'Min_ET', 'SD_ET', 'HT_ET_Diff']]\n",
        "y_spiral = spiral_df[['Label']]"
      ],
      "execution_count": 9,
      "outputs": []
    },
    {
      "cell_type": "code",
      "metadata": {
        "id": "2Ka51zlVEk7r"
      },
      "source": [
        "meander_df = pd.read_csv('/content/drive/My Drive/Data/HandPD-Replication/Meander_HandPD.txt', delimiter=' ', index_col=0, names=['Image', 'Label', 'RMS', 'Max_dist', 'Min_dist', 'SD', 'MRT', 'Max_ET', 'Min_ET', 'SD_ET', 'HT_ET_Diff'])"
      ],
      "execution_count": 10,
      "outputs": []
    },
    {
      "cell_type": "code",
      "metadata": {
        "colab": {
          "base_uri": "https://localhost:8080/"
        },
        "id": "JCbwMDV1EuCh",
        "outputId": "42b44d43-ae2a-4367-956a-e010f7dbdedf"
      },
      "source": [
        "meander_df.shape"
      ],
      "execution_count": 11,
      "outputs": [
        {
          "output_type": "execute_result",
          "data": {
            "text/plain": [
              "(368, 10)"
            ]
          },
          "metadata": {},
          "execution_count": 11
        }
      ]
    },
    {
      "cell_type": "code",
      "metadata": {
        "colab": {
          "base_uri": "https://localhost:8080/"
        },
        "id": "tr-12febcL_-",
        "outputId": "dca7193f-5ee0-4152-b7f1-7579fdadc8ab"
      },
      "source": [
        "spiral_df['Label'].value_counts()"
      ],
      "execution_count": 12,
      "outputs": [
        {
          "output_type": "execute_result",
          "data": {
            "text/plain": [
              "2    296\n",
              "1     72\n",
              "Name: Label, dtype: int64"
            ]
          },
          "metadata": {},
          "execution_count": 12
        }
      ]
    },
    {
      "cell_type": "code",
      "metadata": {
        "id": "zxINl8cckPmX"
      },
      "source": [
        "# choosing all patients from meander_df\n",
        "X_meander = meander_df[['RMS', 'Max_dist', 'Min_dist', 'SD', 'MRT', 'Max_ET', 'Min_ET', 'SD_ET', 'HT_ET_Diff']]\n",
        "\n",
        "y_meander = meander_df[['Label']]"
      ],
      "execution_count": 13,
      "outputs": []
    },
    {
      "cell_type": "code",
      "metadata": {
        "id": "G7HcTuMFFwsS"
      },
      "source": [
        "X_spiral = feature_normalization(X_spiral)\n",
        "X_meander = feature_normalization(X_meander)"
      ],
      "execution_count": 14,
      "outputs": []
    },
    {
      "cell_type": "markdown",
      "metadata": {
        "id": "c_cUPCHZbdd5"
      },
      "source": [
        "### Extracting from New HandPD\n",
        "\n",
        "Don't run more than once."
      ]
    },
    {
      "cell_type": "code",
      "metadata": {
        "id": "N3pZ8CPHbguD"
      },
      "source": [
        "new_spiral_df = pd.read_csv('/content/drive/My Drive/Data/HandPD-Replication/NewSpiral.csv', skiprows = 1, index_col = None, names=['ID_EXAM', 'Image', 'ID_PATIENT', 'Label', 'GENDER', 'HANDEDNESS', 'AGE', 'RMS', 'Max_dist', 'Min_dist', 'SD', 'MRT', 'Max_ET', 'Min_ET', 'SD_ET', 'HT_ET_Diff']) # skiprows to remove first row of old columns names"
      ],
      "execution_count": 15,
      "outputs": []
    },
    {
      "cell_type": "code",
      "metadata": {
        "id": "f018Zf4y2rIb"
      },
      "source": [
        "new_meander_df = pd.read_csv('/content/drive/My Drive/Data/HandPD-Replication/NewMeander.csv', index_col = None, skiprows =1, names=['ID_EXAM', 'Image', 'ID_PATIENT', 'Label', 'GENDER', 'HANDEDNESS', 'AGE', 'RMS', 'Max_dist', 'Min_dist', 'SD', 'MRT', 'Max_ET', 'Min_ET', 'SD_ET', 'HT_ET_Diff'])"
      ],
      "execution_count": 16,
      "outputs": []
    },
    {
      "cell_type": "code",
      "metadata": {
        "colab": {
          "base_uri": "https://localhost:8080/"
        },
        "id": "EQY2HdBaFa5I",
        "outputId": "afb7aacc-3a48-4cfc-aa2a-ae00f8a08956"
      },
      "source": [
        "colnames = list(new_spiral_df.columns)\n",
        "colnames"
      ],
      "execution_count": 17,
      "outputs": [
        {
          "output_type": "execute_result",
          "data": {
            "text/plain": [
              "['ID_EXAM',\n",
              " 'Image',\n",
              " 'ID_PATIENT',\n",
              " 'Label',\n",
              " 'GENDER',\n",
              " 'HANDEDNESS',\n",
              " 'AGE',\n",
              " 'RMS',\n",
              " 'Max_dist',\n",
              " 'Min_dist',\n",
              " 'SD',\n",
              " 'MRT',\n",
              " 'Max_ET',\n",
              " 'Min_ET',\n",
              " 'SD_ET',\n",
              " 'HT_ET_Diff']"
            ]
          },
          "metadata": {},
          "execution_count": 17
        }
      ]
    },
    {
      "cell_type": "code",
      "metadata": {
        "id": "i3MtMtx3GkXa"
      },
      "source": [
        "slice_cols = colnames[7:]\n",
        "for i in slice_cols:\n",
        "  new_spiral_df[i] = feature_normalization(new_spiral_df[i])\n",
        "  new_meander_df[i] = feature_normalization(new_meander_df[i])"
      ],
      "execution_count": 18,
      "outputs": []
    },
    {
      "cell_type": "code",
      "metadata": {
        "id": "3nyYDkDc4gr1"
      },
      "source": [
        "X_new_all = pd.concat([new_spiral_df, new_meander_df])\n",
        "y_new_all = pd.concat([new_spiral_df[\"Label\"], new_meander_df[\"Label\"]])"
      ],
      "execution_count": 19,
      "outputs": []
    },
    {
      "cell_type": "code",
      "metadata": {
        "colab": {
          "base_uri": "https://localhost:8080/"
        },
        "id": "MfkR8yz14hQ9",
        "outputId": "74eedc15-9d63-496e-8744-c8facc323289"
      },
      "source": [
        "np.unique(X_new_all['ID_EXAM'])"
      ],
      "execution_count": 20,
      "outputs": [
        {
          "output_type": "execute_result",
          "data": {
            "text/plain": [
              "array(['H1', 'H10', 'H11', 'H12', 'H13', 'H14', 'H16', 'H17', 'H18',\n",
              "       'H19', 'H2', 'H20', 'H21', 'H22', 'H23', 'H24', 'H26', 'H27',\n",
              "       'H28', 'H29', 'H3', 'H30', 'H31', 'H32', 'H33', 'H34', 'H35',\n",
              "       'H36', 'H37', 'H38', 'H4', 'H5', 'H7', 'H8', 'H9', 'P1', 'P10',\n",
              "       'P11', 'P12', 'P13', 'P14', 'P15', 'P16', 'P17', 'P18', 'P19',\n",
              "       'P2', 'P20', 'P21', 'P22', 'P23', 'P24', 'P25', 'P26', 'P27',\n",
              "       'P28', 'P29', 'P3', 'P30', 'P31', 'P32', 'P4', 'P6', 'P7', 'P8',\n",
              "       'P9'], dtype=object)"
            ]
          },
          "metadata": {},
          "execution_count": 20
        }
      ]
    },
    {
      "cell_type": "markdown",
      "metadata": {
        "id": "iLTUSOMq49Tt"
      },
      "source": [
        "We need 12 PD and 7 healthy. Some IDs are not completely accurate (just for a single patient, so it might be better to just choose)\n",
        "\n",
        "We'll use IDs: H1, H10, H11, H12, H13, H14, H16 & P1, P10, P11, P12, P13, P14, P15, P16, P17, P18, P19, P2"
      ]
    },
    {
      "cell_type": "code",
      "metadata": {
        "id": "lgLrT-RB44Z-"
      },
      "source": [
        "X_test = pd.DataFrame(columns=['ID_EXAM', 'Image', 'ID_PATIENT', 'Label', 'GENDER', 'HANDEDNESS', 'AGE', 'RMS', 'Max_dist', 'Min_dist', 'SD', 'MRT', 'Max_ET', 'Min_ET', 'SD_ET', 'HT_ET_Diff'])\n",
        "X_new = X_new_all.copy()\n",
        "\n",
        "test_ids = ['H1', 'H10', 'H11', 'H12', 'H13', 'H14', 'H16', 'P1', 'P2', 'P10', 'P11', 'P12', 'P13', 'P14', 'P15', 'P16', 'P17', 'P18', 'P19']\n",
        "for id in test_ids:\n",
        "  rows = X_new_all[X_new_all['ID_EXAM'] == id]\n",
        "  drop_idx = rows.index.values\n",
        "  X_test = pd.concat([X_test, rows])\n",
        "  X_new = X_new.drop(drop_idx, axis=0)\n",
        "\n",
        "y_test = X_test[['Label']]"
      ],
      "execution_count": 21,
      "outputs": []
    },
    {
      "cell_type": "code",
      "metadata": {
        "colab": {
          "base_uri": "https://localhost:8080/"
        },
        "id": "c9kbVZu7DlyR",
        "outputId": "41f80de4-3546-47e2-e3f4-4140c6d3973a"
      },
      "source": [
        "X_new.columns"
      ],
      "execution_count": 22,
      "outputs": [
        {
          "output_type": "execute_result",
          "data": {
            "text/plain": [
              "Index(['ID_EXAM', 'Image', 'ID_PATIENT', 'Label', 'GENDER', 'HANDEDNESS',\n",
              "       'AGE', 'RMS', 'Max_dist', 'Min_dist', 'SD', 'MRT', 'Max_ET', 'Min_ET',\n",
              "       'SD_ET', 'HT_ET_Diff'],\n",
              "      dtype='object')"
            ]
          },
          "metadata": {},
          "execution_count": 22
        }
      ]
    },
    {
      "cell_type": "code",
      "metadata": {
        "id": "Hy5HJiafc8X5"
      },
      "source": [
        "# choosing only control from new\n",
        "X_new = X_new[X_new[\"Label\"] == 1]\n",
        "y_new = X_new[X_new['Label'] == 1]\n",
        "\n",
        "X_new = X_new[['RMS', 'Max_dist', 'Min_dist', 'SD', 'MRT', 'Max_ET', 'Min_ET', 'SD_ET', 'HT_ET_Diff']]\n",
        "y_new = y_new[['Label']]"
      ],
      "execution_count": 23,
      "outputs": []
    },
    {
      "cell_type": "code",
      "metadata": {
        "colab": {
          "base_uri": "https://localhost:8080/"
        },
        "id": "bLvlzUO23dI7",
        "outputId": "c402b3e3-3da7-4a66-fdae-0f3a76b3f5e9"
      },
      "source": [
        "y_new.value_counts()"
      ],
      "execution_count": 24,
      "outputs": [
        {
          "output_type": "execute_result",
          "data": {
            "text/plain": [
              "Label\n",
              "1        224\n",
              "dtype: int64"
            ]
          },
          "metadata": {},
          "execution_count": 24
        }
      ]
    },
    {
      "cell_type": "code",
      "metadata": {
        "colab": {
          "base_uri": "https://localhost:8080/"
        },
        "id": "rWgfQZylEkYI",
        "outputId": "66c1e7f5-0c68-4cf9-d80a-9f4af8929cf4"
      },
      "source": [
        "y_test.value_counts()"
      ],
      "execution_count": 25,
      "outputs": [
        {
          "output_type": "execute_result",
          "data": {
            "text/plain": [
              "Label\n",
              "2        96\n",
              "1        56\n",
              "dtype: int64"
            ]
          },
          "metadata": {},
          "execution_count": 25
        }
      ]
    },
    {
      "cell_type": "markdown",
      "metadata": {
        "id": "Y8PveKl2E4QP"
      },
      "source": [
        "Great!"
      ]
    },
    {
      "cell_type": "markdown",
      "metadata": {
        "id": "UYbNZkMjkfdw"
      },
      "source": [
        "##**Preprocessing**"
      ]
    },
    {
      "cell_type": "code",
      "metadata": {
        "id": "J8tU0QkMHV8I"
      },
      "source": [
        "# concatenation\n",
        "\n",
        "X = pd.concat([X_spiral, X_meander, X_new])\n",
        "y = pd.concat([y_spiral, y_meander, y_new])"
      ],
      "execution_count": 26,
      "outputs": []
    },
    {
      "cell_type": "markdown",
      "metadata": {
        "id": "gbeBsENVlQka"
      },
      "source": [
        "###Train-Test-Split"
      ]
    },
    {
      "cell_type": "code",
      "metadata": {
        "id": "j5LoRggSlWmb"
      },
      "source": [
        "# In our train-test-split, we just want to define everything\n",
        "X_train = X\n",
        "y_train = y\n",
        "\n",
        "X_test = X_test\n",
        "y_test = y_test.astype('float32') -1 # subtract 1"
      ],
      "execution_count": 35,
      "outputs": []
    },
    {
      "cell_type": "code",
      "metadata": {
        "id": "f-1hFnrflXcY"
      },
      "source": [
        "X_train = X_train.reset_index(drop = True)\n",
        "y_train = y_train.reset_index(drop = True)"
      ],
      "execution_count": 37,
      "outputs": []
    },
    {
      "cell_type": "code",
      "metadata": {
        "id": "dzmGJ3zcKV6v"
      },
      "source": [
        "X_test = X_test.reset_index(drop = True)\n",
        "y_test = y_test.reset_index(drop = True)"
      ],
      "execution_count": 38,
      "outputs": []
    },
    {
      "cell_type": "markdown",
      "metadata": {
        "id": "lk6pv-0Vlpjz"
      },
      "source": [
        "###**Quick Check**"
      ]
    },
    {
      "cell_type": "code",
      "metadata": {
        "colab": {
          "base_uri": "https://localhost:8080/"
        },
        "id": "Q0nNKvifVR1G",
        "outputId": "962d3c76-927a-452c-9c4b-ec194239115a"
      },
      "source": [
        "len(y_train), len(y_test)"
      ],
      "execution_count": 39,
      "outputs": [
        {
          "output_type": "execute_result",
          "data": {
            "text/plain": [
              "(960, 152)"
            ]
          },
          "metadata": {},
          "execution_count": 39
        }
      ]
    },
    {
      "cell_type": "code",
      "metadata": {
        "colab": {
          "base_uri": "https://localhost:8080/",
          "height": 422
        },
        "id": "76xzdBJWH7j-",
        "outputId": "d0a4aa33-ca10-47b0-834c-38d291c010f1"
      },
      "source": [
        "y_train"
      ],
      "execution_count": 40,
      "outputs": [
        {
          "output_type": "execute_result",
          "data": {
            "text/html": [
              "<div>\n",
              "<style scoped>\n",
              "    .dataframe tbody tr th:only-of-type {\n",
              "        vertical-align: middle;\n",
              "    }\n",
              "\n",
              "    .dataframe tbody tr th {\n",
              "        vertical-align: top;\n",
              "    }\n",
              "\n",
              "    .dataframe thead th {\n",
              "        text-align: right;\n",
              "    }\n",
              "</style>\n",
              "<table border=\"1\" class=\"dataframe\">\n",
              "  <thead>\n",
              "    <tr style=\"text-align: right;\">\n",
              "      <th></th>\n",
              "      <th>Label</th>\n",
              "    </tr>\n",
              "  </thead>\n",
              "  <tbody>\n",
              "    <tr>\n",
              "      <th>0</th>\n",
              "      <td>1</td>\n",
              "    </tr>\n",
              "    <tr>\n",
              "      <th>1</th>\n",
              "      <td>1</td>\n",
              "    </tr>\n",
              "    <tr>\n",
              "      <th>2</th>\n",
              "      <td>1</td>\n",
              "    </tr>\n",
              "    <tr>\n",
              "      <th>3</th>\n",
              "      <td>1</td>\n",
              "    </tr>\n",
              "    <tr>\n",
              "      <th>4</th>\n",
              "      <td>1</td>\n",
              "    </tr>\n",
              "    <tr>\n",
              "      <th>...</th>\n",
              "      <td>...</td>\n",
              "    </tr>\n",
              "    <tr>\n",
              "      <th>955</th>\n",
              "      <td>1</td>\n",
              "    </tr>\n",
              "    <tr>\n",
              "      <th>956</th>\n",
              "      <td>1</td>\n",
              "    </tr>\n",
              "    <tr>\n",
              "      <th>957</th>\n",
              "      <td>1</td>\n",
              "    </tr>\n",
              "    <tr>\n",
              "      <th>958</th>\n",
              "      <td>1</td>\n",
              "    </tr>\n",
              "    <tr>\n",
              "      <th>959</th>\n",
              "      <td>1</td>\n",
              "    </tr>\n",
              "  </tbody>\n",
              "</table>\n",
              "<p>960 rows × 1 columns</p>\n",
              "</div>"
            ],
            "text/plain": [
              "     Label\n",
              "0        1\n",
              "1        1\n",
              "2        1\n",
              "3        1\n",
              "4        1\n",
              "..     ...\n",
              "955      1\n",
              "956      1\n",
              "957      1\n",
              "958      1\n",
              "959      1\n",
              "\n",
              "[960 rows x 1 columns]"
            ]
          },
          "metadata": {},
          "execution_count": 40
        }
      ]
    },
    {
      "cell_type": "code",
      "metadata": {
        "colab": {
          "base_uri": "https://localhost:8080/"
        },
        "id": "tWAfjdTci0IR",
        "outputId": "0a9be37e-4839-474d-ac16-de4f9b69128c"
      },
      "source": [
        "y_test.value_counts()"
      ],
      "execution_count": 41,
      "outputs": [
        {
          "output_type": "execute_result",
          "data": {
            "text/plain": [
              "Label\n",
              "1.0      96\n",
              "0.0      56\n",
              "dtype: int64"
            ]
          },
          "metadata": {},
          "execution_count": 41
        }
      ]
    },
    {
      "cell_type": "code",
      "metadata": {
        "colab": {
          "base_uri": "https://localhost:8080/",
          "height": 422
        },
        "id": "X5XpOOARKn44",
        "outputId": "127156a3-9f1c-4130-c3c0-cf0abe10aae9"
      },
      "source": [
        "y_test"
      ],
      "execution_count": 42,
      "outputs": [
        {
          "output_type": "execute_result",
          "data": {
            "text/html": [
              "<div>\n",
              "<style scoped>\n",
              "    .dataframe tbody tr th:only-of-type {\n",
              "        vertical-align: middle;\n",
              "    }\n",
              "\n",
              "    .dataframe tbody tr th {\n",
              "        vertical-align: top;\n",
              "    }\n",
              "\n",
              "    .dataframe thead th {\n",
              "        text-align: right;\n",
              "    }\n",
              "</style>\n",
              "<table border=\"1\" class=\"dataframe\">\n",
              "  <thead>\n",
              "    <tr style=\"text-align: right;\">\n",
              "      <th></th>\n",
              "      <th>Label</th>\n",
              "    </tr>\n",
              "  </thead>\n",
              "  <tbody>\n",
              "    <tr>\n",
              "      <th>0</th>\n",
              "      <td>0.0</td>\n",
              "    </tr>\n",
              "    <tr>\n",
              "      <th>1</th>\n",
              "      <td>0.0</td>\n",
              "    </tr>\n",
              "    <tr>\n",
              "      <th>2</th>\n",
              "      <td>0.0</td>\n",
              "    </tr>\n",
              "    <tr>\n",
              "      <th>3</th>\n",
              "      <td>0.0</td>\n",
              "    </tr>\n",
              "    <tr>\n",
              "      <th>4</th>\n",
              "      <td>0.0</td>\n",
              "    </tr>\n",
              "    <tr>\n",
              "      <th>...</th>\n",
              "      <td>...</td>\n",
              "    </tr>\n",
              "    <tr>\n",
              "      <th>147</th>\n",
              "      <td>1.0</td>\n",
              "    </tr>\n",
              "    <tr>\n",
              "      <th>148</th>\n",
              "      <td>1.0</td>\n",
              "    </tr>\n",
              "    <tr>\n",
              "      <th>149</th>\n",
              "      <td>1.0</td>\n",
              "    </tr>\n",
              "    <tr>\n",
              "      <th>150</th>\n",
              "      <td>1.0</td>\n",
              "    </tr>\n",
              "    <tr>\n",
              "      <th>151</th>\n",
              "      <td>1.0</td>\n",
              "    </tr>\n",
              "  </tbody>\n",
              "</table>\n",
              "<p>152 rows × 1 columns</p>\n",
              "</div>"
            ],
            "text/plain": [
              "     Label\n",
              "0      0.0\n",
              "1      0.0\n",
              "2      0.0\n",
              "3      0.0\n",
              "4      0.0\n",
              "..     ...\n",
              "147    1.0\n",
              "148    1.0\n",
              "149    1.0\n",
              "150    1.0\n",
              "151    1.0\n",
              "\n",
              "[152 rows x 1 columns]"
            ]
          },
          "metadata": {},
          "execution_count": 42
        }
      ]
    },
    {
      "cell_type": "code",
      "metadata": {
        "colab": {
          "base_uri": "https://localhost:8080/"
        },
        "id": "6WDlaHPtH52r",
        "outputId": "82239b26-577b-485a-9404-eb217da400a2"
      },
      "source": [
        "y_train.value_counts()"
      ],
      "execution_count": 43,
      "outputs": [
        {
          "output_type": "execute_result",
          "data": {
            "text/plain": [
              "Label\n",
              "2        592\n",
              "1        368\n",
              "dtype: int64"
            ]
          },
          "metadata": {},
          "execution_count": 43
        }
      ]
    },
    {
      "cell_type": "markdown",
      "metadata": {
        "id": "IQkGWuYAAGnn"
      },
      "source": [
        "##**SVM Implementation**"
      ]
    },
    {
      "cell_type": "markdown",
      "metadata": {
        "id": "I_gFuMTHnkSU"
      },
      "source": [
        "###**Training**"
      ]
    },
    {
      "cell_type": "code",
      "metadata": {
        "id": "7vpTfqLuIkBT",
        "colab": {
          "base_uri": "https://localhost:8080/"
        },
        "outputId": "2822268f-cf6b-4d88-db3d-f5c1f7521863"
      },
      "source": [
        "clf = SVC(kernel = 'rbf', probability = True, class_weight = 'balanced', C = 10)\n",
        "clf.fit(X_train, y_train)"
      ],
      "execution_count": 44,
      "outputs": [
        {
          "output_type": "execute_result",
          "data": {
            "text/plain": [
              "SVC(C=10, break_ties=False, cache_size=200, class_weight='balanced', coef0=0.0,\n",
              "    decision_function_shape='ovr', degree=3, gamma='scale', kernel='rbf',\n",
              "    max_iter=-1, probability=True, random_state=None, shrinking=True, tol=0.001,\n",
              "    verbose=False)"
            ]
          },
          "metadata": {},
          "execution_count": 44
        }
      ]
    },
    {
      "cell_type": "markdown",
      "metadata": {
        "id": "QJ7asLzl7hiI"
      },
      "source": [
        "To note, it may be useful to look at the weights for this model (see which features are most valuable), but these are only relevant for a linear kernel. RBF kernel does not have relevant/interpretable weights. And of course, linear kernel is not very helpful and good in predicting (51% accuracy). The features are not linearly separable."
      ]
    },
    {
      "cell_type": "code",
      "metadata": {
        "id": "uypMR5zZKXSi"
      },
      "source": [
        "X_run = X_test[['RMS', 'Max_dist', 'Min_dist', 'SD', 'MRT', 'Max_ET', 'Min_ET','SD_ET', 'HT_ET_Diff']]"
      ],
      "execution_count": 45,
      "outputs": []
    },
    {
      "cell_type": "code",
      "metadata": {
        "id": "hzs7YGmBGwm9"
      },
      "source": [
        "y_pred = clf.predict(X_run)\n",
        "y_proba = clf.predict_proba(X_run)"
      ],
      "execution_count": 46,
      "outputs": []
    },
    {
      "cell_type": "code",
      "metadata": {
        "id": "8sgC95rQPQJ2"
      },
      "source": [
        "y_pred = pd.Series(y_pred)"
      ],
      "execution_count": 47,
      "outputs": []
    },
    {
      "cell_type": "markdown",
      "metadata": {
        "id": "y1SDNLlenfUX"
      },
      "source": [
        "##**Results**"
      ]
    },
    {
      "cell_type": "code",
      "metadata": {
        "colab": {
          "base_uri": "https://localhost:8080/"
        },
        "id": "qvPPhbI5Kf1h",
        "outputId": "9cea656b-e7cc-481d-9f65-fa2b3fae16e3"
      },
      "source": [
        "y_test.dtypes"
      ],
      "execution_count": 48,
      "outputs": [
        {
          "output_type": "execute_result",
          "data": {
            "text/plain": [
              "Label    float32\n",
              "dtype: object"
            ]
          },
          "metadata": {},
          "execution_count": 48
        }
      ]
    },
    {
      "cell_type": "code",
      "metadata": {
        "colab": {
          "base_uri": "https://localhost:8080/"
        },
        "id": "su5RMaC_MaPF",
        "outputId": "83eac66c-b315-4128-a9a3-e850bd7a0e1d"
      },
      "source": [
        "clf.score(X_run, y_test)"
      ],
      "execution_count": 49,
      "outputs": [
        {
          "output_type": "execute_result",
          "data": {
            "text/plain": [
              "0.631578947368421"
            ]
          },
          "metadata": {},
          "execution_count": 49
        }
      ]
    },
    {
      "cell_type": "code",
      "metadata": {
        "id": "U2-32Q_IqcLW"
      },
      "source": [
        "threshold_pred = (clf.predict_proba(X_test[['RMS', 'Max_dist', 'Min_dist', 'SD', 'MRT', 'Max_ET', 'Min_ET','SD_ET', 'HT_ET_Diff']])[:,1] >= 0.5).astype(int) + 1\n",
        "threshold_acc = accuracy_score(y_test.astype('float32'), threshold_pred)"
      ],
      "execution_count": 50,
      "outputs": []
    },
    {
      "cell_type": "code",
      "metadata": {
        "colab": {
          "base_uri": "https://localhost:8080/"
        },
        "id": "E68PB6Feqqha",
        "outputId": "046e6266-bb6d-4db5-e06e-049ccc67b947"
      },
      "source": [
        "threshold_acc"
      ],
      "execution_count": 51,
      "outputs": [
        {
          "output_type": "execute_result",
          "data": {
            "text/plain": [
              "0.631578947368421"
            ]
          },
          "metadata": {},
          "execution_count": 51
        }
      ]
    },
    {
      "cell_type": "code",
      "metadata": {
        "colab": {
          "base_uri": "https://localhost:8080/"
        },
        "id": "COxdAJXi58JI",
        "outputId": "127e338c-0f2f-4825-8e0b-a4206f98c6a4"
      },
      "source": [
        "y_test.dtypes"
      ],
      "execution_count": 52,
      "outputs": [
        {
          "output_type": "execute_result",
          "data": {
            "text/plain": [
              "Label    float32\n",
              "dtype: object"
            ]
          },
          "metadata": {},
          "execution_count": 52
        }
      ]
    },
    {
      "cell_type": "code",
      "metadata": {
        "id": "wZf0iMccM767"
      },
      "source": [
        "target_names = ['Control', 'PD']\n",
        "results = classification_report(y_test, y_pred, target_names = target_names, output_dict=True)\n",
        "results = pd.DataFrame(results).transpose()\n",
        "conf_mat = confusion_matrix(y_test, y_pred)"
      ],
      "execution_count": 53,
      "outputs": []
    },
    {
      "cell_type": "code",
      "metadata": {
        "colab": {
          "base_uri": "https://localhost:8080/",
          "height": 205
        },
        "id": "thzR3k3lMz31",
        "outputId": "dd9bc72b-3211-4c60-a014-90cc4e7f350f"
      },
      "source": [
        "results"
      ],
      "execution_count": 54,
      "outputs": [
        {
          "output_type": "execute_result",
          "data": {
            "text/html": [
              "<div>\n",
              "<style scoped>\n",
              "    .dataframe tbody tr th:only-of-type {\n",
              "        vertical-align: middle;\n",
              "    }\n",
              "\n",
              "    .dataframe tbody tr th {\n",
              "        vertical-align: top;\n",
              "    }\n",
              "\n",
              "    .dataframe thead th {\n",
              "        text-align: right;\n",
              "    }\n",
              "</style>\n",
              "<table border=\"1\" class=\"dataframe\">\n",
              "  <thead>\n",
              "    <tr style=\"text-align: right;\">\n",
              "      <th></th>\n",
              "      <th>precision</th>\n",
              "      <th>recall</th>\n",
              "      <th>f1-score</th>\n",
              "      <th>support</th>\n",
              "    </tr>\n",
              "  </thead>\n",
              "  <tbody>\n",
              "    <tr>\n",
              "      <th>Control</th>\n",
              "      <td>0.000000</td>\n",
              "      <td>0.000000</td>\n",
              "      <td>0.000000</td>\n",
              "      <td>56.000000</td>\n",
              "    </tr>\n",
              "    <tr>\n",
              "      <th>PD</th>\n",
              "      <td>0.631579</td>\n",
              "      <td>1.000000</td>\n",
              "      <td>0.774194</td>\n",
              "      <td>96.000000</td>\n",
              "    </tr>\n",
              "    <tr>\n",
              "      <th>accuracy</th>\n",
              "      <td>0.631579</td>\n",
              "      <td>0.631579</td>\n",
              "      <td>0.631579</td>\n",
              "      <td>0.631579</td>\n",
              "    </tr>\n",
              "    <tr>\n",
              "      <th>macro avg</th>\n",
              "      <td>0.315789</td>\n",
              "      <td>0.500000</td>\n",
              "      <td>0.387097</td>\n",
              "      <td>152.000000</td>\n",
              "    </tr>\n",
              "    <tr>\n",
              "      <th>weighted avg</th>\n",
              "      <td>0.398892</td>\n",
              "      <td>0.631579</td>\n",
              "      <td>0.488964</td>\n",
              "      <td>152.000000</td>\n",
              "    </tr>\n",
              "  </tbody>\n",
              "</table>\n",
              "</div>"
            ],
            "text/plain": [
              "              precision    recall  f1-score     support\n",
              "Control        0.000000  0.000000  0.000000   56.000000\n",
              "PD             0.631579  1.000000  0.774194   96.000000\n",
              "accuracy       0.631579  0.631579  0.631579    0.631579\n",
              "macro avg      0.315789  0.500000  0.387097  152.000000\n",
              "weighted avg   0.398892  0.631579  0.488964  152.000000"
            ]
          },
          "metadata": {},
          "execution_count": 54
        }
      ]
    },
    {
      "cell_type": "code",
      "metadata": {
        "colab": {
          "base_uri": "https://localhost:8080/"
        },
        "id": "zAXqc2uPNeq5",
        "outputId": "df3b82f2-e097-4764-82e5-32cb85b2b5f6"
      },
      "source": [
        "conf_mat"
      ],
      "execution_count": 55,
      "outputs": [
        {
          "output_type": "execute_result",
          "data": {
            "text/plain": [
              "array([[ 0, 56],\n",
              "       [ 0, 96]])"
            ]
          },
          "metadata": {},
          "execution_count": 55
        }
      ]
    },
    {
      "cell_type": "markdown",
      "metadata": {
        "id": "ROjqTUdi1gDf"
      },
      "source": [
        "* Consider probability threshold"
      ]
    },
    {
      "cell_type": "code",
      "metadata": {
        "colab": {
          "base_uri": "https://localhost:8080/"
        },
        "id": "vwthqW4OQD2z",
        "outputId": "5ff40640-330e-4a2b-d235-3b7818bcaf8f"
      },
      "source": [
        "TN, FP, FN, TP = conf_mat.ravel()\n",
        "\n",
        "# Sensitivity, hit rate, recall, or true positive rate\n",
        "TPR = TP/(TP+FN)\n",
        "\n",
        "# Specificity or true negative rate\n",
        "TNR = TN/(TN+FP) \n",
        "\n",
        "# Precision or positive predictive value\n",
        "PPV = TP/(TP+FP)\n",
        "\n",
        "# Negative predictive value\n",
        "NPV = TN/(TN+FN)\n",
        "\n",
        "# Fall out or false positive rate\n",
        "FPR = FP/(FP+TN)\n",
        "\n",
        "# False negative rate\n",
        "FNR = FN/(TP+FN)\n",
        "\n",
        "# False discovery rate\n",
        "FDR = FP/(TP+FP)\n",
        "\n",
        "print(\"TP: \", TP)\n",
        "print(\"TN: \", TN)\n",
        "print(\"FP: \", FP)\n",
        "print(\"FN: \", FN)\n",
        "\n",
        "print(\"Sensitivity: \", TPR)\n",
        "print(\"Specificity: \", TNR)\n",
        "print(\"NPV: \", NPV)\n",
        "print(\"PPV: \", PPV)"
      ],
      "execution_count": 56,
      "outputs": [
        {
          "output_type": "stream",
          "name": "stdout",
          "text": [
            "TP:  96\n",
            "TN:  0\n",
            "FP:  56\n",
            "FN:  0\n",
            "Sensitivity:  1.0\n",
            "Specificity:  0.0\n",
            "NPV:  nan\n",
            "PPV:  0.631578947368421\n"
          ]
        }
      ]
    },
    {
      "cell_type": "markdown",
      "metadata": {
        "id": "6q-82qHV56E3"
      },
      "source": [
        "Can we somehow get the weights for the model to learn which features are considered most useful?"
      ]
    },
    {
      "cell_type": "markdown",
      "metadata": {
        "id": "Cjpq2zygSj6D"
      },
      "source": [
        "## **Log Reg Implementation**"
      ]
    },
    {
      "cell_type": "code",
      "metadata": {
        "colab": {
          "base_uri": "https://localhost:8080/"
        },
        "id": "4HgTc6W1SlZK",
        "outputId": "d0ab1a39-9e93-4d8a-8bf5-f2fdfdac5fbc"
      },
      "source": [
        "clf = LogisticRegression(penalty='l1', C = 1.0, class_weight=None, random_state = None, solver = 'liblinear')\n",
        "clf.fit(X_train, y_train)"
      ],
      "execution_count": 57,
      "outputs": [
        {
          "output_type": "execute_result",
          "data": {
            "text/plain": [
              "LogisticRegression(C=1.0, class_weight=None, dual=False, fit_intercept=True,\n",
              "                   intercept_scaling=1, l1_ratio=None, max_iter=100,\n",
              "                   multi_class='auto', n_jobs=None, penalty='l1',\n",
              "                   random_state=None, solver='liblinear', tol=0.0001, verbose=0,\n",
              "                   warm_start=False)"
            ]
          },
          "metadata": {},
          "execution_count": 57
        }
      ]
    },
    {
      "cell_type": "code",
      "metadata": {
        "colab": {
          "base_uri": "https://localhost:8080/"
        },
        "id": "fKSLGWYeTYPX",
        "outputId": "3e95614f-c461-4708-d95f-f832c44a4b71"
      },
      "source": [
        "clf.score(X_run, y_test)"
      ],
      "execution_count": 59,
      "outputs": [
        {
          "output_type": "execute_result",
          "data": {
            "text/plain": [
              "0.631578947368421"
            ]
          },
          "metadata": {},
          "execution_count": 59
        }
      ]
    },
    {
      "cell_type": "code",
      "metadata": {
        "id": "l12PcV2ETLfv"
      },
      "source": [
        "target_names = ['Control', 'PD']\n",
        "results = classification_report(y_test, y_pred, target_names = target_names, output_dict=True)\n",
        "results = pd.DataFrame(results).transpose()\n",
        "conf_mat = confusion_matrix(y_test, y_pred)"
      ],
      "execution_count": 60,
      "outputs": []
    },
    {
      "cell_type": "code",
      "metadata": {
        "colab": {
          "base_uri": "https://localhost:8080/"
        },
        "id": "FpPEYBJDLGit",
        "outputId": "da40cb18-0b58-40c5-fda8-f7b2ff6f66ce"
      },
      "source": [
        "conf_mat"
      ],
      "execution_count": 62,
      "outputs": [
        {
          "output_type": "execute_result",
          "data": {
            "text/plain": [
              "array([[ 0, 56],\n",
              "       [ 0, 96]])"
            ]
          },
          "metadata": {},
          "execution_count": 62
        }
      ]
    },
    {
      "cell_type": "markdown",
      "metadata": {
        "id": "PCCs0BCQTtAf"
      },
      "source": [
        "## **Cross-Validation**"
      ]
    },
    {
      "cell_type": "code",
      "metadata": {
        "colab": {
          "base_uri": "https://localhost:8080/"
        },
        "id": "Ki36I9ByeU-7",
        "outputId": "a9ee1c1a-ad76-45c1-8276-8d239af0047e"
      },
      "source": [
        "scores_df = pd.DataFrame(columns = ['acc', 'c', 'cw', 'k'])\n",
        "\n",
        "for i in range(10):\n",
        "  train_labels = y_train.to_numpy() # train is statified so stratifying on train_labels should be stratified to whole set\n",
        "  X_train, X_val, y_train, y_val = train_test_split(X_train, y_train, random_state = i, test_size = 0.1, stratify = train_labels)\n",
        "  \n",
        "  X_val = X_val.reset_index(drop = True)\n",
        "  y_val = y_val.reset_index(drop = True)\n",
        "\n",
        "  for c in [0.01, 0.1, 1, 10, 100]:\n",
        "    for cw in ['balanced', None]:\n",
        "      for k in ['rbf','linear','poly']:\n",
        "        clf = SVC(kernel = k, probability = True, class_weight = cw, C = c)\n",
        "        clf.fit(X_train, y_train)\n",
        "\n",
        "        thresholds = list(np.arange(0, 1, 0.01))\n",
        "        best_acc = 0.0\n",
        "        best_threshold = 0.0\n",
        "\n",
        "        # tuning for best threshold\n",
        "        for thresh in thresholds:\n",
        "          y_pred = (clf.predict_proba(X_val)[:,1] >= thresh).astype(int) + 1\n",
        "          curr_acc = accuracy_score(y_val, y_pred)\n",
        "          if (curr_acc >= best_acc):\n",
        "            best_acc = curr_acc\n",
        "            best_threshold = thresh\n",
        "\n",
        "        row_df = pd.DataFrame([[best_acc, best_threshold, c, cw, k]], columns = ['acc', 'thresh', 'c', 'cw', 'k'])\n",
        "    \n",
        "        scores_df = pd.concat([scores_df, row_df], ignore_index = True, axis=0)\n",
        "  print (f'fold number {i+1} completed, score number {scores_df.shape[0]}')"
      ],
      "execution_count": 63,
      "outputs": [
        {
          "output_type": "stream",
          "name": "stdout",
          "text": [
            "fold number 1 completed, score number 30\n",
            "fold number 2 completed, score number 60\n",
            "fold number 3 completed, score number 90\n",
            "fold number 4 completed, score number 120\n",
            "fold number 5 completed, score number 150\n",
            "fold number 6 completed, score number 180\n",
            "fold number 7 completed, score number 210\n",
            "fold number 8 completed, score number 240\n",
            "fold number 9 completed, score number 270\n",
            "fold number 10 completed, score number 300\n"
          ]
        }
      ]
    },
    {
      "cell_type": "code",
      "metadata": {
        "colab": {
          "base_uri": "https://localhost:8080/"
        },
        "id": "nAepl_pYh_Lv",
        "outputId": "086ba386-45db-4b23-b04b-7620a84ab8af"
      },
      "source": [
        "scores_df['acc'].idxmax()"
      ],
      "execution_count": 64,
      "outputs": [
        {
          "output_type": "execute_result",
          "data": {
            "text/plain": [
              "297"
            ]
          },
          "metadata": {},
          "execution_count": 64
        }
      ]
    },
    {
      "cell_type": "code",
      "metadata": {
        "colab": {
          "base_uri": "https://localhost:8080/"
        },
        "id": "jxiplfm7qPlP",
        "outputId": "e1524dce-27a6-471d-b1ca-152dd4aa56e5"
      },
      "source": [
        "scores_df.loc[297]"
      ],
      "execution_count": 74,
      "outputs": [
        {
          "output_type": "execute_result",
          "data": {
            "text/plain": [
              "acc       0.972973\n",
              "c              100\n",
              "cw            None\n",
              "k              rbf\n",
              "thresh        0.73\n",
              "Name: 297, dtype: object"
            ]
          },
          "metadata": {},
          "execution_count": 74
        }
      ]
    },
    {
      "cell_type": "code",
      "metadata": {
        "colab": {
          "base_uri": "https://localhost:8080/"
        },
        "id": "NOtYZKDsdgMu",
        "outputId": "e7b0cf4d-537f-4d2b-cbee-9acab821251d"
      },
      "source": [
        "best_avg_acc = 0.0\n",
        "best_avg_hyps = [0.0, 0.0, 0.0]\n",
        "for c in [0.01, 0.1, 1, 10, 100]:\n",
        "  for cw in ['balanced', None]:\n",
        "    for k in ['rbf','linear','poly']:\n",
        "      filtered = scores_df[(scores_df[\"cw\"] == cw) & (scores_df['c'] == c) & (scores_df[\"k\"] == k)]\n",
        "      avg_acc = filtered[\"acc\"].mean()\n",
        "      if (avg_acc >= best_avg_acc):\n",
        "        best_avg_acc = avg_acc\n",
        "        best_avg_hyps[0] = c\n",
        "        best_avg_hyps[1] = cw\n",
        "        best_avg_hyps[2] = k\n",
        "print(\"best_avg_acc: \", best_avg_acc)\n",
        "print(best_avg_hyps)"
      ],
      "execution_count": 72,
      "outputs": [
        {
          "output_type": "stream",
          "name": "stdout",
          "text": [
            "best_avg_acc:  0.854209043988537\n",
            "[100, 'balanced', 'rbf']\n"
          ]
        }
      ]
    },
    {
      "cell_type": "code",
      "metadata": {
        "colab": {
          "base_uri": "https://localhost:8080/",
          "height": 362
        },
        "id": "oBjx6k9ctLkU",
        "outputId": "a728758c-b355-4885-91d8-5ec70e504045"
      },
      "source": [
        "scores_df[(scores_df[\"cw\"] == 'balanced') & (scores_df['c'] == 100) & (scores_df[\"k\"] == 'rbf')]"
      ],
      "execution_count": 75,
      "outputs": [
        {
          "output_type": "execute_result",
          "data": {
            "text/html": [
              "<div>\n",
              "<style scoped>\n",
              "    .dataframe tbody tr th:only-of-type {\n",
              "        vertical-align: middle;\n",
              "    }\n",
              "\n",
              "    .dataframe tbody tr th {\n",
              "        vertical-align: top;\n",
              "    }\n",
              "\n",
              "    .dataframe thead th {\n",
              "        text-align: right;\n",
              "    }\n",
              "</style>\n",
              "<table border=\"1\" class=\"dataframe\">\n",
              "  <thead>\n",
              "    <tr style=\"text-align: right;\">\n",
              "      <th></th>\n",
              "      <th>acc</th>\n",
              "      <th>c</th>\n",
              "      <th>cw</th>\n",
              "      <th>k</th>\n",
              "      <th>thresh</th>\n",
              "    </tr>\n",
              "  </thead>\n",
              "  <tbody>\n",
              "    <tr>\n",
              "      <th>24</th>\n",
              "      <td>0.895833</td>\n",
              "      <td>100.0</td>\n",
              "      <td>balanced</td>\n",
              "      <td>rbf</td>\n",
              "      <td>0.51</td>\n",
              "    </tr>\n",
              "    <tr>\n",
              "      <th>54</th>\n",
              "      <td>0.885057</td>\n",
              "      <td>100.0</td>\n",
              "      <td>balanced</td>\n",
              "      <td>rbf</td>\n",
              "      <td>0.41</td>\n",
              "    </tr>\n",
              "    <tr>\n",
              "      <th>84</th>\n",
              "      <td>0.871795</td>\n",
              "      <td>100.0</td>\n",
              "      <td>balanced</td>\n",
              "      <td>rbf</td>\n",
              "      <td>0.62</td>\n",
              "    </tr>\n",
              "    <tr>\n",
              "      <th>114</th>\n",
              "      <td>0.814286</td>\n",
              "      <td>100.0</td>\n",
              "      <td>balanced</td>\n",
              "      <td>rbf</td>\n",
              "      <td>0.61</td>\n",
              "    </tr>\n",
              "    <tr>\n",
              "      <th>144</th>\n",
              "      <td>0.888889</td>\n",
              "      <td>100.0</td>\n",
              "      <td>balanced</td>\n",
              "      <td>rbf</td>\n",
              "      <td>0.58</td>\n",
              "    </tr>\n",
              "    <tr>\n",
              "      <th>174</th>\n",
              "      <td>0.824561</td>\n",
              "      <td>100.0</td>\n",
              "      <td>balanced</td>\n",
              "      <td>rbf</td>\n",
              "      <td>0.60</td>\n",
              "    </tr>\n",
              "    <tr>\n",
              "      <th>204</th>\n",
              "      <td>0.803922</td>\n",
              "      <td>100.0</td>\n",
              "      <td>balanced</td>\n",
              "      <td>rbf</td>\n",
              "      <td>0.70</td>\n",
              "    </tr>\n",
              "    <tr>\n",
              "      <th>234</th>\n",
              "      <td>0.826087</td>\n",
              "      <td>100.0</td>\n",
              "      <td>balanced</td>\n",
              "      <td>rbf</td>\n",
              "      <td>0.60</td>\n",
              "    </tr>\n",
              "    <tr>\n",
              "      <th>264</th>\n",
              "      <td>0.785714</td>\n",
              "      <td>100.0</td>\n",
              "      <td>balanced</td>\n",
              "      <td>rbf</td>\n",
              "      <td>0.61</td>\n",
              "    </tr>\n",
              "    <tr>\n",
              "      <th>294</th>\n",
              "      <td>0.945946</td>\n",
              "      <td>100.0</td>\n",
              "      <td>balanced</td>\n",
              "      <td>rbf</td>\n",
              "      <td>0.69</td>\n",
              "    </tr>\n",
              "  </tbody>\n",
              "</table>\n",
              "</div>"
            ],
            "text/plain": [
              "          acc      c        cw    k  thresh\n",
              "24   0.895833  100.0  balanced  rbf    0.51\n",
              "54   0.885057  100.0  balanced  rbf    0.41\n",
              "84   0.871795  100.0  balanced  rbf    0.62\n",
              "114  0.814286  100.0  balanced  rbf    0.61\n",
              "144  0.888889  100.0  balanced  rbf    0.58\n",
              "174  0.824561  100.0  balanced  rbf    0.60\n",
              "204  0.803922  100.0  balanced  rbf    0.70\n",
              "234  0.826087  100.0  balanced  rbf    0.60\n",
              "264  0.785714  100.0  balanced  rbf    0.61\n",
              "294  0.945946  100.0  balanced  rbf    0.69"
            ]
          },
          "metadata": {},
          "execution_count": 75
        }
      ]
    },
    {
      "cell_type": "code",
      "metadata": {
        "colab": {
          "base_uri": "https://localhost:8080/"
        },
        "id": "8IR3IPSvtvGQ",
        "outputId": "1086a9e9-39c6-4409-f41b-c42062f015ec"
      },
      "source": [
        "clf = SVC(kernel = 'rbf', probability = True, class_weight = 'balanced', C = 100)\n",
        "clf.fit(X_train, y_train)"
      ],
      "execution_count": 76,
      "outputs": [
        {
          "output_type": "execute_result",
          "data": {
            "text/plain": [
              "SVC(C=100, break_ties=False, cache_size=200, class_weight='balanced', coef0=0.0,\n",
              "    decision_function_shape='ovr', degree=3, gamma='scale', kernel='rbf',\n",
              "    max_iter=-1, probability=True, random_state=None, shrinking=True, tol=0.001,\n",
              "    verbose=False)"
            ]
          },
          "metadata": {},
          "execution_count": 76
        }
      ]
    },
    {
      "cell_type": "code",
      "metadata": {
        "colab": {
          "base_uri": "https://localhost:8080/"
        },
        "id": "V0V8n_0AiI4r",
        "outputId": "61d20e16-760e-477d-c3c0-d4a779e5ea0d"
      },
      "source": [
        "thresholds = list(np.arange(0, 1, 0.01))\n",
        "\n",
        "best_thresh_acc = 0.0\n",
        "best_thresh = 0.0\n",
        "\n",
        "for thresh in thresholds:\n",
        "  threshold_pred = (clf.predict_proba(X_run)[:,1] >= thresh).astype(int) + 1\n",
        "  threshold_acc = accuracy_score(y_test, threshold_pred)\n",
        "\n",
        "  if threshold_acc >= best_thresh_acc:\n",
        "    best_thresh_acc = threshold_acc\n",
        "    best_thresh = thresh\n",
        "\n",
        "print(best_thresh, best_thresh_acc)"
      ],
      "execution_count": 71,
      "outputs": [
        {
          "output_type": "stream",
          "name": "stdout",
          "text": [
            "0.99 0.631578947368421\n"
          ]
        }
      ]
    },
    {
      "cell_type": "code",
      "metadata": {
        "colab": {
          "base_uri": "https://localhost:8080/"
        },
        "id": "xzgjKrqTMlns",
        "outputId": "ce9e1d87-a299-4c8e-d976-5b3093d4abcc"
      },
      "source": [
        "threshold_pred"
      ],
      "execution_count": 81,
      "outputs": [
        {
          "output_type": "execute_result",
          "data": {
            "text/plain": [
              "array([1, 1, 1, 1, 1, 1, 1, 1, 1, 1, 1, 1, 1, 1, 1, 1, 1, 1, 1, 1, 1, 1,\n",
              "       1, 1, 1, 1, 1, 1, 1, 1, 1, 1, 1, 1, 1, 1, 1, 1, 1, 1, 1, 1, 1, 1,\n",
              "       1, 1, 1, 1, 1, 1, 1, 1, 1, 1, 1, 1, 1, 1, 1, 1, 1, 1, 1, 1, 1, 1,\n",
              "       1, 1, 1, 1, 1, 1, 1, 1, 1, 1, 1, 1, 1, 1, 1, 1, 1, 1, 1, 1, 1, 1,\n",
              "       1, 1, 1, 1, 1, 1, 1, 1, 1, 1, 1, 1, 1, 1, 1, 1, 1, 1, 1, 1, 1, 1,\n",
              "       1, 1, 1, 1, 1, 1, 1, 1, 1, 1, 1, 1, 1, 1, 1, 1, 1, 1, 1, 1, 1, 1,\n",
              "       1, 1, 1, 1, 1, 1, 1, 1, 1, 1, 1, 1, 1, 1, 1, 1, 1, 1, 1, 1])"
            ]
          },
          "metadata": {},
          "execution_count": 81
        }
      ]
    },
    {
      "cell_type": "markdown",
      "metadata": {
        "id": "Sesf5kofMGNE"
      },
      "source": [
        "Question mark, what's happening above even? Validation is very similar, but just completely overfits on test set?"
      ]
    },
    {
      "cell_type": "code",
      "metadata": {
        "id": "bO9eZTEwtuHH"
      },
      "source": [
        ""
      ],
      "execution_count": null,
      "outputs": []
    }
  ]
}