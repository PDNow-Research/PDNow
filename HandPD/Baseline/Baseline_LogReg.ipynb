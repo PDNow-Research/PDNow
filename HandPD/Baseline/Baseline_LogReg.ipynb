{
  "nbformat": 4,
  "nbformat_minor": 0,
  "metadata": {
    "colab": {
      "name": "Baseline LogReg.ipynb",
      "provenance": [],
      "collapsed_sections": [],
      "authorship_tag": "ABX9TyOIeyrUShgYVCpLyFcQEiGH",
      "include_colab_link": true
    },
    "kernelspec": {
      "name": "python3",
      "display_name": "Python 3"
    },
    "language_info": {
      "name": "python"
    }
  },
  "cells": [
    {
      "cell_type": "markdown",
      "metadata": {
        "id": "view-in-github",
        "colab_type": "text"
      },
      "source": [
        "<a href=\"https://colab.research.google.com/github/PDNow-Research/PDNow/blob/main/HandPD/Baseline/Baseline_LogReg.ipynb\" target=\"_parent\"><img src=\"https://colab.research.google.com/assets/colab-badge.svg\" alt=\"Open In Colab\"/></a>"
      ]
    },
    {
      "cell_type": "code",
      "metadata": {
        "colab": {
          "base_uri": "https://localhost:8080/"
        },
        "id": "QE4ruysJCQn7",
        "outputId": "8263c45b-c6a5-47cd-9af6-bf8c1f5abc29"
      },
      "source": [
        "from google.colab import drive\n",
        "drive.mount(\"/content/drive\")"
      ],
      "execution_count": 1,
      "outputs": [
        {
          "output_type": "stream",
          "text": [
            "Mounted at /content/drive\n"
          ],
          "name": "stdout"
        }
      ]
    },
    {
      "cell_type": "code",
      "metadata": {
        "id": "v9Y4RF0dDEV2"
      },
      "source": [
        "# Data Science\n",
        "import re\n",
        "import csv\n",
        "import json\n",
        "import itertools\n",
        "from tqdm import tqdm\n",
        "import numpy as np\n",
        "import pandas as pd\n",
        "import seaborn as sns\n",
        "import matplotlib.pyplot as plt\n",
        "\n",
        "# General\n",
        "import os\n",
        "import sys\n",
        "import time\n",
        "import math\n",
        "import random\n",
        "from datetime import date\n",
        "import warnings\n",
        "current_date = date.today()\n",
        "warnings.filterwarnings(\"ignore\")\n",
        "\n",
        "# LogReg\n",
        "from sklearn.linear_model import LogisticRegression\n",
        "from sklearn.model_selection import train_test_split\n",
        "from sklearn.metrics import confusion_matrix, average_precision_score, classification_report\n",
        "from sklearn.model_selection import cross_validate"
      ],
      "execution_count": 37,
      "outputs": []
    },
    {
      "cell_type": "code",
      "metadata": {
        "id": "-ZTgvIpSDSKk"
      },
      "source": [
        "spiral_df = pd.read_csv('/content/drive/My Drive/Data/HandPD-Replication/NewSpiral.csv')\n",
        "meander_df = pd.read_csv('/content/drive/My Drive/Data/HandPD-Replication/NewMeander.csv')"
      ],
      "execution_count": 3,
      "outputs": []
    },
    {
      "cell_type": "code",
      "metadata": {
        "colab": {
          "base_uri": "https://localhost:8080/"
        },
        "id": "rNT5cFykEfFm",
        "outputId": "8aa0ae4d-bd37-4ec7-dfb3-a4cfbaa9a82f"
      },
      "source": [
        "meander_df.shape"
      ],
      "execution_count": 4,
      "outputs": [
        {
          "output_type": "execute_result",
          "data": {
            "text/plain": [
              "(264, 16)"
            ]
          },
          "metadata": {},
          "execution_count": 4
        }
      ]
    },
    {
      "cell_type": "code",
      "metadata": {
        "colab": {
          "base_uri": "https://localhost:8080/"
        },
        "id": "kGKwT3WQF6xM",
        "outputId": "d4f952a4-4818-4500-d613-431a1587cda3"
      },
      "source": [
        "spiral_df['CLASS_TYPE'].value_counts()"
      ],
      "execution_count": 5,
      "outputs": [
        {
          "output_type": "execute_result",
          "data": {
            "text/plain": [
              "1    140\n",
              "2    124\n",
              "Name: CLASS_TYPE, dtype: int64"
            ]
          },
          "metadata": {},
          "execution_count": 5
        }
      ]
    },
    {
      "cell_type": "markdown",
      "metadata": {
        "id": "ZpDP5-hY_6Dr"
      },
      "source": [
        "## Fixing Duplicates\n",
        "\n",
        "Don't run this unless re-importing data."
      ]
    },
    {
      "cell_type": "markdown",
      "metadata": {
        "id": "Neivm4o0_8tu"
      },
      "source": [
        "### Identifying Duplicates"
      ]
    },
    {
      "cell_type": "code",
      "metadata": {
        "colab": {
          "base_uri": "https://localhost:8080/"
        },
        "id": "ji982QR55pe5",
        "outputId": "90f2052d-2bec-486f-a135-57d17b7acfd4"
      },
      "source": [
        "spiral_df.shape"
      ],
      "execution_count": 6,
      "outputs": [
        {
          "output_type": "execute_result",
          "data": {
            "text/plain": [
              "(264, 16)"
            ]
          },
          "metadata": {},
          "execution_count": 6
        }
      ]
    },
    {
      "cell_type": "code",
      "metadata": {
        "id": "ir7i0GPz5eyj"
      },
      "source": [
        "id = spiral_df['ID_PATIENT']"
      ],
      "execution_count": 7,
      "outputs": []
    },
    {
      "cell_type": "code",
      "metadata": {
        "id": "sSWt8X2p524o"
      },
      "source": [
        "x = np.unique(id, return_counts=True)"
      ],
      "execution_count": 8,
      "outputs": []
    },
    {
      "cell_type": "code",
      "metadata": {
        "colab": {
          "base_uri": "https://localhost:8080/"
        },
        "id": "QQ38W5aP6EWm",
        "outputId": "8528f787-2e99-4464-c9ce-0ee855c32707"
      },
      "source": [
        "x"
      ],
      "execution_count": 9,
      "outputs": [
        {
          "output_type": "execute_result",
          "data": {
            "text/plain": [
              "(array([  1,   2,   3,   4,   5,   6,   7,   8,   9,  11,  12,  13,  14,\n",
              "         15,  16,  17,  18,  19,  20,  21,  22,  23,  31,  38,  47,  53,\n",
              "         59,  76,  78,  80,  86,  98, 102, 104, 127, 138, 143, 149, 153,\n",
              "        157, 165, 176, 181, 186, 187, 192, 196, 203, 207, 218, 224, 230,\n",
              "        235, 247, 253, 261, 268, 273, 281, 297, 299, 301, 305]),\n",
              " array([4, 4, 4, 4, 8, 4, 4, 4, 4, 4, 4, 4, 4, 4, 4, 4, 4, 4, 4, 4, 4, 8,\n",
              "        8, 4, 4, 4, 4, 4, 4, 4, 4, 4, 4, 4, 4, 4, 4, 4, 4, 4, 4, 4, 4, 4,\n",
              "        4, 4, 4, 4, 4, 4, 4, 4, 4, 4, 4, 4, 4, 4, 4, 4, 4, 4, 4]))"
            ]
          },
          "metadata": {},
          "execution_count": 9
        }
      ]
    },
    {
      "cell_type": "code",
      "metadata": {
        "colab": {
          "base_uri": "https://localhost:8080/"
        },
        "id": "6DdaZF0Y9U_i",
        "outputId": "23d20314-2187-4d39-f6fe-fca326637612"
      },
      "source": [
        "meander_df.shape"
      ],
      "execution_count": 10,
      "outputs": [
        {
          "output_type": "execute_result",
          "data": {
            "text/plain": [
              "(264, 16)"
            ]
          },
          "metadata": {},
          "execution_count": 10
        }
      ]
    },
    {
      "cell_type": "code",
      "metadata": {
        "id": "pErszfdI9XPa"
      },
      "source": [
        "id1 = spiral_df['ID_PATIENT']"
      ],
      "execution_count": 11,
      "outputs": []
    },
    {
      "cell_type": "code",
      "metadata": {
        "id": "1PLOZLdq9cG4"
      },
      "source": [
        "x1 = np.unique(id1, return_counts=True)"
      ],
      "execution_count": 12,
      "outputs": []
    },
    {
      "cell_type": "code",
      "metadata": {
        "colab": {
          "base_uri": "https://localhost:8080/"
        },
        "id": "j-VJ7oDV9c3D",
        "outputId": "84a954d1-7407-4b9c-a907-e66c36a8193c"
      },
      "source": [
        "x1"
      ],
      "execution_count": 13,
      "outputs": [
        {
          "output_type": "execute_result",
          "data": {
            "text/plain": [
              "(array([  1,   2,   3,   4,   5,   6,   7,   8,   9,  11,  12,  13,  14,\n",
              "         15,  16,  17,  18,  19,  20,  21,  22,  23,  31,  38,  47,  53,\n",
              "         59,  76,  78,  80,  86,  98, 102, 104, 127, 138, 143, 149, 153,\n",
              "        157, 165, 176, 181, 186, 187, 192, 196, 203, 207, 218, 224, 230,\n",
              "        235, 247, 253, 261, 268, 273, 281, 297, 299, 301, 305]),\n",
              " array([4, 4, 4, 4, 8, 4, 4, 4, 4, 4, 4, 4, 4, 4, 4, 4, 4, 4, 4, 4, 4, 8,\n",
              "        8, 4, 4, 4, 4, 4, 4, 4, 4, 4, 4, 4, 4, 4, 4, 4, 4, 4, 4, 4, 4, 4,\n",
              "        4, 4, 4, 4, 4, 4, 4, 4, 4, 4, 4, 4, 4, 4, 4, 4, 4, 4, 4]))"
            ]
          },
          "metadata": {},
          "execution_count": 13
        }
      ]
    },
    {
      "cell_type": "markdown",
      "metadata": {
        "id": "hHWcphs48Ai3"
      },
      "source": [
        "Upon looking closer, we see there are duplicates in 5, 23, and 31, each case in which two different patients have the same ID. We'll have to change these manually. Fortunately, these duplicates exist in both datasets, so we can concatenate the two and change these only once."
      ]
    },
    {
      "cell_type": "markdown",
      "metadata": {
        "id": "8hdqzJo-ABIx"
      },
      "source": [
        "### Changing Duplicates to ID of 500, 501, 502"
      ]
    },
    {
      "cell_type": "code",
      "metadata": {
        "id": "PhUbeIxd9lvr"
      },
      "source": [
        "data_all = pd.concat((spiral_df, meander_df))"
      ],
      "execution_count": 14,
      "outputs": []
    },
    {
      "cell_type": "code",
      "metadata": {
        "colab": {
          "base_uri": "https://localhost:8080/"
        },
        "id": "Gkr4swL39z6k",
        "outputId": "f0ecb0cf-3b3b-4bc5-c88d-9b4501c8bd66"
      },
      "source": [
        "data_all.shape, (264 *2) # Good :)"
      ],
      "execution_count": 15,
      "outputs": [
        {
          "output_type": "execute_result",
          "data": {
            "text/plain": [
              "((528, 16), 528)"
            ]
          },
          "metadata": {},
          "execution_count": 15
        }
      ]
    },
    {
      "cell_type": "code",
      "metadata": {
        "colab": {
          "base_uri": "https://localhost:8080/",
          "height": 243
        },
        "id": "ptqg55-I-qHz",
        "outputId": "71954714-01d9-46bc-aea4-59b680fff278"
      },
      "source": [
        "data_all.head()"
      ],
      "execution_count": 16,
      "outputs": [
        {
          "output_type": "execute_result",
          "data": {
            "text/html": [
              "<div>\n",
              "<style scoped>\n",
              "    .dataframe tbody tr th:only-of-type {\n",
              "        vertical-align: middle;\n",
              "    }\n",
              "\n",
              "    .dataframe tbody tr th {\n",
              "        vertical-align: top;\n",
              "    }\n",
              "\n",
              "    .dataframe thead th {\n",
              "        text-align: right;\n",
              "    }\n",
              "</style>\n",
              "<table border=\"1\" class=\"dataframe\">\n",
              "  <thead>\n",
              "    <tr style=\"text-align: right;\">\n",
              "      <th></th>\n",
              "      <th>_ID_EXAM</th>\n",
              "      <th>IMAGE_NAME</th>\n",
              "      <th>ID_PATIENT</th>\n",
              "      <th>CLASS_TYPE</th>\n",
              "      <th>GENDER</th>\n",
              "      <th>RIGH/LEFT-HANDED</th>\n",
              "      <th>AGE</th>\n",
              "      <th>RMS</th>\n",
              "      <th>MAX_BETWEEN_ET_HT</th>\n",
              "      <th>MIN_BETWEEN_ET_HT</th>\n",
              "      <th>STD_DEVIATION_ET_HT</th>\n",
              "      <th>MRT</th>\n",
              "      <th>MAX_HT</th>\n",
              "      <th>MIN_HT</th>\n",
              "      <th>STD_HT</th>\n",
              "      <th>CHANGES_FROM_NEGATIVE_TO_POSITIVE_BETWEEN_ET_HT</th>\n",
              "    </tr>\n",
              "  </thead>\n",
              "  <tbody>\n",
              "    <tr>\n",
              "      <th>0</th>\n",
              "      <td>H1</td>\n",
              "      <td>sp1-H1.jpg</td>\n",
              "      <td>59</td>\n",
              "      <td>1</td>\n",
              "      <td>M</td>\n",
              "      <td>R</td>\n",
              "      <td>58</td>\n",
              "      <td>14900.772670</td>\n",
              "      <td>13207.241210</td>\n",
              "      <td>40856.39894</td>\n",
              "      <td>0.087041</td>\n",
              "      <td>56.978320</td>\n",
              "      <td>192.737170</td>\n",
              "      <td>0.026662</td>\n",
              "      <td>4394.307090</td>\n",
              "      <td>0.120773</td>\n",
              "    </tr>\n",
              "    <tr>\n",
              "      <th>1</th>\n",
              "      <td>H2</td>\n",
              "      <td>sp1-H2.jpg</td>\n",
              "      <td>76</td>\n",
              "      <td>1</td>\n",
              "      <td>M</td>\n",
              "      <td>R</td>\n",
              "      <td>60</td>\n",
              "      <td>6076.106534</td>\n",
              "      <td>9440.754502</td>\n",
              "      <td>36137.73814</td>\n",
              "      <td>0.065872</td>\n",
              "      <td>39.597318</td>\n",
              "      <td>169.753376</td>\n",
              "      <td>0.266595</td>\n",
              "      <td>2031.447046</td>\n",
              "      <td>0.172414</td>\n",
              "    </tr>\n",
              "    <tr>\n",
              "      <th>2</th>\n",
              "      <td>H3</td>\n",
              "      <td>sp1-H3.jpg</td>\n",
              "      <td>301</td>\n",
              "      <td>1</td>\n",
              "      <td>F</td>\n",
              "      <td>R</td>\n",
              "      <td>56</td>\n",
              "      <td>12220.462340</td>\n",
              "      <td>12247.263300</td>\n",
              "      <td>39871.73569</td>\n",
              "      <td>0.000000</td>\n",
              "      <td>46.183810</td>\n",
              "      <td>192.536776</td>\n",
              "      <td>0.007857</td>\n",
              "      <td>3843.754479</td>\n",
              "      <td>0.123894</td>\n",
              "    </tr>\n",
              "    <tr>\n",
              "      <th>3</th>\n",
              "      <td>H4</td>\n",
              "      <td>sp1-H4.jpg</td>\n",
              "      <td>102</td>\n",
              "      <td>1</td>\n",
              "      <td>M</td>\n",
              "      <td>R</td>\n",
              "      <td>24</td>\n",
              "      <td>4810.072073</td>\n",
              "      <td>4904.029458</td>\n",
              "      <td>32262.38975</td>\n",
              "      <td>0.044374</td>\n",
              "      <td>31.485790</td>\n",
              "      <td>200.401229</td>\n",
              "      <td>0.114530</td>\n",
              "      <td>1586.941716</td>\n",
              "      <td>0.162011</td>\n",
              "    </tr>\n",
              "    <tr>\n",
              "      <th>4</th>\n",
              "      <td>H5</td>\n",
              "      <td>sp1-H5.jpg</td>\n",
              "      <td>305</td>\n",
              "      <td>1</td>\n",
              "      <td>M</td>\n",
              "      <td>R</td>\n",
              "      <td>79</td>\n",
              "      <td>5458.875925</td>\n",
              "      <td>5911.591981</td>\n",
              "      <td>31795.46792</td>\n",
              "      <td>0.040906</td>\n",
              "      <td>47.231442</td>\n",
              "      <td>134.897863</td>\n",
              "      <td>0.026703</td>\n",
              "      <td>2251.866128</td>\n",
              "      <td>0.202899</td>\n",
              "    </tr>\n",
              "  </tbody>\n",
              "</table>\n",
              "</div>"
            ],
            "text/plain": [
              "  _ID_EXAM  ... CHANGES_FROM_NEGATIVE_TO_POSITIVE_BETWEEN_ET_HT\n",
              "0       H1  ...                                        0.120773\n",
              "1       H2  ...                                        0.172414\n",
              "2       H3  ...                                        0.123894\n",
              "3       H4  ...                                        0.162011\n",
              "4       H5  ...                                        0.202899\n",
              "\n",
              "[5 rows x 16 columns]"
            ]
          },
          "metadata": {},
          "execution_count": 16
        }
      ]
    },
    {
      "cell_type": "code",
      "metadata": {
        "colab": {
          "base_uri": "https://localhost:8080/",
          "height": 476
        },
        "id": "TIkaY4FK95vZ",
        "outputId": "787cdc11-468d-4b76-bb65-fc9cc9de66c1"
      },
      "source": [
        "# Fixing the errors in 5\n",
        "\n",
        "# Both patients have different Exam IDs, H20 vs P25\n",
        "data_all[data_all[\"ID_PATIENT\"] == 5]\n",
        "\n",
        "data_all[\"ID_PATIENT\"][data_all[\"_ID_EXAM\"] == 'P25'] = 500\n",
        "data_all[(data_all[\"_ID_EXAM\"] == 'P25')]"
      ],
      "execution_count": 17,
      "outputs": [
        {
          "output_type": "execute_result",
          "data": {
            "text/html": [
              "<div>\n",
              "<style scoped>\n",
              "    .dataframe tbody tr th:only-of-type {\n",
              "        vertical-align: middle;\n",
              "    }\n",
              "\n",
              "    .dataframe tbody tr th {\n",
              "        vertical-align: top;\n",
              "    }\n",
              "\n",
              "    .dataframe thead th {\n",
              "        text-align: right;\n",
              "    }\n",
              "</style>\n",
              "<table border=\"1\" class=\"dataframe\">\n",
              "  <thead>\n",
              "    <tr style=\"text-align: right;\">\n",
              "      <th></th>\n",
              "      <th>_ID_EXAM</th>\n",
              "      <th>IMAGE_NAME</th>\n",
              "      <th>ID_PATIENT</th>\n",
              "      <th>CLASS_TYPE</th>\n",
              "      <th>GENDER</th>\n",
              "      <th>RIGH/LEFT-HANDED</th>\n",
              "      <th>AGE</th>\n",
              "      <th>RMS</th>\n",
              "      <th>MAX_BETWEEN_ET_HT</th>\n",
              "      <th>MIN_BETWEEN_ET_HT</th>\n",
              "      <th>STD_DEVIATION_ET_HT</th>\n",
              "      <th>MRT</th>\n",
              "      <th>MAX_HT</th>\n",
              "      <th>MIN_HT</th>\n",
              "      <th>STD_HT</th>\n",
              "      <th>CHANGES_FROM_NEGATIVE_TO_POSITIVE_BETWEEN_ET_HT</th>\n",
              "    </tr>\n",
              "  </thead>\n",
              "  <tbody>\n",
              "    <tr>\n",
              "      <th>163</th>\n",
              "      <td>P25</td>\n",
              "      <td>mea1-P25.jpg</td>\n",
              "      <td>500</td>\n",
              "      <td>2</td>\n",
              "      <td>M</td>\n",
              "      <td>R</td>\n",
              "      <td>56</td>\n",
              "      <td>4302.294432</td>\n",
              "      <td>7112.289057</td>\n",
              "      <td>38432.54467</td>\n",
              "      <td>0.008281</td>\n",
              "      <td>24.719923</td>\n",
              "      <td>178.186833</td>\n",
              "      <td>0.006865</td>\n",
              "      <td>1595.973219</td>\n",
              "      <td>0.244373</td>\n",
              "    </tr>\n",
              "    <tr>\n",
              "      <th>194</th>\n",
              "      <td>P25</td>\n",
              "      <td>mea2-P25.jpg</td>\n",
              "      <td>500</td>\n",
              "      <td>2</td>\n",
              "      <td>M</td>\n",
              "      <td>R</td>\n",
              "      <td>56</td>\n",
              "      <td>4663.053190</td>\n",
              "      <td>6529.079545</td>\n",
              "      <td>36974.76448</td>\n",
              "      <td>0.007655</td>\n",
              "      <td>27.645273</td>\n",
              "      <td>175.520033</td>\n",
              "      <td>0.141440</td>\n",
              "      <td>1611.986226</td>\n",
              "      <td>0.280277</td>\n",
              "    </tr>\n",
              "    <tr>\n",
              "      <th>225</th>\n",
              "      <td>P25</td>\n",
              "      <td>mea3-P25.jpg</td>\n",
              "      <td>500</td>\n",
              "      <td>2</td>\n",
              "      <td>M</td>\n",
              "      <td>R</td>\n",
              "      <td>56</td>\n",
              "      <td>4042.898486</td>\n",
              "      <td>6039.829996</td>\n",
              "      <td>30143.20222</td>\n",
              "      <td>0.017548</td>\n",
              "      <td>21.859079</td>\n",
              "      <td>184.117950</td>\n",
              "      <td>0.019396</td>\n",
              "      <td>1440.945103</td>\n",
              "      <td>0.133550</td>\n",
              "    </tr>\n",
              "    <tr>\n",
              "      <th>256</th>\n",
              "      <td>P25</td>\n",
              "      <td>mea4-P25.jpg</td>\n",
              "      <td>500</td>\n",
              "      <td>2</td>\n",
              "      <td>M</td>\n",
              "      <td>R</td>\n",
              "      <td>56</td>\n",
              "      <td>5564.389300</td>\n",
              "      <td>6594.615573</td>\n",
              "      <td>38032.49238</td>\n",
              "      <td>0.015983</td>\n",
              "      <td>19.820385</td>\n",
              "      <td>177.608053</td>\n",
              "      <td>0.038987</td>\n",
              "      <td>1446.304970</td>\n",
              "      <td>0.232026</td>\n",
              "    </tr>\n",
              "    <tr>\n",
              "      <th>163</th>\n",
              "      <td>P25</td>\n",
              "      <td>mea1-P25.jpg</td>\n",
              "      <td>500</td>\n",
              "      <td>2</td>\n",
              "      <td>M</td>\n",
              "      <td>R</td>\n",
              "      <td>56</td>\n",
              "      <td>9182.846795</td>\n",
              "      <td>8636.994876</td>\n",
              "      <td>73318.05243</td>\n",
              "      <td>0.052290</td>\n",
              "      <td>22.097903</td>\n",
              "      <td>184.176975</td>\n",
              "      <td>0.077042</td>\n",
              "      <td>866.209635</td>\n",
              "      <td>0.128205</td>\n",
              "    </tr>\n",
              "    <tr>\n",
              "      <th>194</th>\n",
              "      <td>P25</td>\n",
              "      <td>mea2-P25.jpg</td>\n",
              "      <td>500</td>\n",
              "      <td>2</td>\n",
              "      <td>M</td>\n",
              "      <td>R</td>\n",
              "      <td>56</td>\n",
              "      <td>4264.606794</td>\n",
              "      <td>6307.535371</td>\n",
              "      <td>28726.66317</td>\n",
              "      <td>0.023481</td>\n",
              "      <td>21.221035</td>\n",
              "      <td>197.514503</td>\n",
              "      <td>0.153504</td>\n",
              "      <td>954.338581</td>\n",
              "      <td>0.243333</td>\n",
              "    </tr>\n",
              "    <tr>\n",
              "      <th>225</th>\n",
              "      <td>P25</td>\n",
              "      <td>mea3-P25.jpg</td>\n",
              "      <td>500</td>\n",
              "      <td>2</td>\n",
              "      <td>M</td>\n",
              "      <td>R</td>\n",
              "      <td>56</td>\n",
              "      <td>5604.846099</td>\n",
              "      <td>6643.504858</td>\n",
              "      <td>29059.69876</td>\n",
              "      <td>0.000000</td>\n",
              "      <td>20.961555</td>\n",
              "      <td>213.441870</td>\n",
              "      <td>0.000000</td>\n",
              "      <td>781.796205</td>\n",
              "      <td>0.112676</td>\n",
              "    </tr>\n",
              "    <tr>\n",
              "      <th>256</th>\n",
              "      <td>P25</td>\n",
              "      <td>mea4-P25.jpg</td>\n",
              "      <td>500</td>\n",
              "      <td>2</td>\n",
              "      <td>M</td>\n",
              "      <td>R</td>\n",
              "      <td>56</td>\n",
              "      <td>4329.851866</td>\n",
              "      <td>7130.966577</td>\n",
              "      <td>42329.49826</td>\n",
              "      <td>0.045973</td>\n",
              "      <td>16.953067</td>\n",
              "      <td>145.771101</td>\n",
              "      <td>0.000000</td>\n",
              "      <td>469.381393</td>\n",
              "      <td>0.162712</td>\n",
              "    </tr>\n",
              "  </tbody>\n",
              "</table>\n",
              "</div>"
            ],
            "text/plain": [
              "    _ID_EXAM  ... CHANGES_FROM_NEGATIVE_TO_POSITIVE_BETWEEN_ET_HT\n",
              "163      P25  ...                                        0.244373\n",
              "194      P25  ...                                        0.280277\n",
              "225      P25  ...                                        0.133550\n",
              "256      P25  ...                                        0.232026\n",
              "163      P25  ...                                        0.128205\n",
              "194      P25  ...                                        0.243333\n",
              "225      P25  ...                                        0.112676\n",
              "256      P25  ...                                        0.162712\n",
              "\n",
              "[8 rows x 16 columns]"
            ]
          },
          "metadata": {},
          "execution_count": 17
        }
      ]
    },
    {
      "cell_type": "code",
      "metadata": {
        "colab": {
          "base_uri": "https://localhost:8080/",
          "height": 476
        },
        "id": "3eFrRfFq_kMo",
        "outputId": "f808ad05-29d5-4786-8735-ddbd2ee0406e"
      },
      "source": [
        "# Fixing the errors in 23\n",
        "\n",
        "# Both patients have different Exam IDs, H38 vs P3\n",
        "data_all[data_all[\"ID_PATIENT\"] == 23]\n",
        "\n",
        "data_all[\"ID_PATIENT\"][data_all[\"_ID_EXAM\"] == 'P3'] = 501\n",
        "data_all[(data_all[\"_ID_EXAM\"] == 'P3')]"
      ],
      "execution_count": 18,
      "outputs": [
        {
          "output_type": "execute_result",
          "data": {
            "text/html": [
              "<div>\n",
              "<style scoped>\n",
              "    .dataframe tbody tr th:only-of-type {\n",
              "        vertical-align: middle;\n",
              "    }\n",
              "\n",
              "    .dataframe tbody tr th {\n",
              "        vertical-align: top;\n",
              "    }\n",
              "\n",
              "    .dataframe thead th {\n",
              "        text-align: right;\n",
              "    }\n",
              "</style>\n",
              "<table border=\"1\" class=\"dataframe\">\n",
              "  <thead>\n",
              "    <tr style=\"text-align: right;\">\n",
              "      <th></th>\n",
              "      <th>_ID_EXAM</th>\n",
              "      <th>IMAGE_NAME</th>\n",
              "      <th>ID_PATIENT</th>\n",
              "      <th>CLASS_TYPE</th>\n",
              "      <th>GENDER</th>\n",
              "      <th>RIGH/LEFT-HANDED</th>\n",
              "      <th>AGE</th>\n",
              "      <th>RMS</th>\n",
              "      <th>MAX_BETWEEN_ET_HT</th>\n",
              "      <th>MIN_BETWEEN_ET_HT</th>\n",
              "      <th>STD_DEVIATION_ET_HT</th>\n",
              "      <th>MRT</th>\n",
              "      <th>MAX_HT</th>\n",
              "      <th>MIN_HT</th>\n",
              "      <th>STD_HT</th>\n",
              "      <th>CHANGES_FROM_NEGATIVE_TO_POSITIVE_BETWEEN_ET_HT</th>\n",
              "    </tr>\n",
              "  </thead>\n",
              "  <tbody>\n",
              "    <tr>\n",
              "      <th>142</th>\n",
              "      <td>P3</td>\n",
              "      <td>mea1-P3.jpg</td>\n",
              "      <td>501</td>\n",
              "      <td>2</td>\n",
              "      <td>M</td>\n",
              "      <td>R</td>\n",
              "      <td>38</td>\n",
              "      <td>4605.068060</td>\n",
              "      <td>6940.764086</td>\n",
              "      <td>36201.60163</td>\n",
              "      <td>0.006727</td>\n",
              "      <td>23.252230</td>\n",
              "      <td>173.622470</td>\n",
              "      <td>0.011017</td>\n",
              "      <td>1531.662606</td>\n",
              "      <td>0.236667</td>\n",
              "    </tr>\n",
              "    <tr>\n",
              "      <th>173</th>\n",
              "      <td>P3</td>\n",
              "      <td>mea2-P3.jpg</td>\n",
              "      <td>501</td>\n",
              "      <td>2</td>\n",
              "      <td>M</td>\n",
              "      <td>R</td>\n",
              "      <td>38</td>\n",
              "      <td>4907.351889</td>\n",
              "      <td>6989.718387</td>\n",
              "      <td>33353.58716</td>\n",
              "      <td>0.003516</td>\n",
              "      <td>25.445980</td>\n",
              "      <td>171.125323</td>\n",
              "      <td>0.018792</td>\n",
              "      <td>1656.167938</td>\n",
              "      <td>0.286184</td>\n",
              "    </tr>\n",
              "    <tr>\n",
              "      <th>204</th>\n",
              "      <td>P3</td>\n",
              "      <td>mea3-P3.jpg</td>\n",
              "      <td>501</td>\n",
              "      <td>2</td>\n",
              "      <td>M</td>\n",
              "      <td>R</td>\n",
              "      <td>38</td>\n",
              "      <td>4289.031878</td>\n",
              "      <td>6881.157664</td>\n",
              "      <td>30235.22440</td>\n",
              "      <td>0.000000</td>\n",
              "      <td>23.787134</td>\n",
              "      <td>170.993405</td>\n",
              "      <td>0.000000</td>\n",
              "      <td>1650.085919</td>\n",
              "      <td>0.289389</td>\n",
              "    </tr>\n",
              "    <tr>\n",
              "      <th>235</th>\n",
              "      <td>P3</td>\n",
              "      <td>mea4-P3.jpg</td>\n",
              "      <td>501</td>\n",
              "      <td>2</td>\n",
              "      <td>M</td>\n",
              "      <td>R</td>\n",
              "      <td>38</td>\n",
              "      <td>6240.661807</td>\n",
              "      <td>7416.196105</td>\n",
              "      <td>35299.12915</td>\n",
              "      <td>0.032690</td>\n",
              "      <td>24.843456</td>\n",
              "      <td>170.936138</td>\n",
              "      <td>0.035313</td>\n",
              "      <td>1617.511364</td>\n",
              "      <td>0.218750</td>\n",
              "    </tr>\n",
              "    <tr>\n",
              "      <th>142</th>\n",
              "      <td>P3</td>\n",
              "      <td>mea1-P3.jpg</td>\n",
              "      <td>501</td>\n",
              "      <td>2</td>\n",
              "      <td>M</td>\n",
              "      <td>R</td>\n",
              "      <td>38</td>\n",
              "      <td>2905.484532</td>\n",
              "      <td>4976.359434</td>\n",
              "      <td>27854.32217</td>\n",
              "      <td>0.000004</td>\n",
              "      <td>18.156801</td>\n",
              "      <td>211.149234</td>\n",
              "      <td>0.121348</td>\n",
              "      <td>485.567401</td>\n",
              "      <td>0.139610</td>\n",
              "    </tr>\n",
              "    <tr>\n",
              "      <th>173</th>\n",
              "      <td>P3</td>\n",
              "      <td>mea2-P3.jpg</td>\n",
              "      <td>501</td>\n",
              "      <td>2</td>\n",
              "      <td>M</td>\n",
              "      <td>R</td>\n",
              "      <td>38</td>\n",
              "      <td>2970.152525</td>\n",
              "      <td>5841.126448</td>\n",
              "      <td>34993.26235</td>\n",
              "      <td>0.001843</td>\n",
              "      <td>19.526983</td>\n",
              "      <td>163.882916</td>\n",
              "      <td>0.000000</td>\n",
              "      <td>597.913048</td>\n",
              "      <td>0.097403</td>\n",
              "    </tr>\n",
              "    <tr>\n",
              "      <th>204</th>\n",
              "      <td>P3</td>\n",
              "      <td>mea3-P3.jpg</td>\n",
              "      <td>501</td>\n",
              "      <td>2</td>\n",
              "      <td>M</td>\n",
              "      <td>R</td>\n",
              "      <td>38</td>\n",
              "      <td>4724.371455</td>\n",
              "      <td>6165.996087</td>\n",
              "      <td>37788.30490</td>\n",
              "      <td>0.000000</td>\n",
              "      <td>21.355000</td>\n",
              "      <td>182.017144</td>\n",
              "      <td>0.152095</td>\n",
              "      <td>899.713743</td>\n",
              "      <td>0.180000</td>\n",
              "    </tr>\n",
              "    <tr>\n",
              "      <th>235</th>\n",
              "      <td>P3</td>\n",
              "      <td>mea4-P3.jpg</td>\n",
              "      <td>501</td>\n",
              "      <td>2</td>\n",
              "      <td>M</td>\n",
              "      <td>R</td>\n",
              "      <td>38</td>\n",
              "      <td>4850.076720</td>\n",
              "      <td>7218.410231</td>\n",
              "      <td>34100.62597</td>\n",
              "      <td>0.000000</td>\n",
              "      <td>21.315119</td>\n",
              "      <td>209.267530</td>\n",
              "      <td>0.017976</td>\n",
              "      <td>901.423884</td>\n",
              "      <td>0.177632</td>\n",
              "    </tr>\n",
              "  </tbody>\n",
              "</table>\n",
              "</div>"
            ],
            "text/plain": [
              "    _ID_EXAM  ... CHANGES_FROM_NEGATIVE_TO_POSITIVE_BETWEEN_ET_HT\n",
              "142       P3  ...                                        0.236667\n",
              "173       P3  ...                                        0.286184\n",
              "204       P3  ...                                        0.289389\n",
              "235       P3  ...                                        0.218750\n",
              "142       P3  ...                                        0.139610\n",
              "173       P3  ...                                        0.097403\n",
              "204       P3  ...                                        0.180000\n",
              "235       P3  ...                                        0.177632\n",
              "\n",
              "[8 rows x 16 columns]"
            ]
          },
          "metadata": {},
          "execution_count": 18
        }
      ]
    },
    {
      "cell_type": "code",
      "metadata": {
        "colab": {
          "base_uri": "https://localhost:8080/",
          "height": 476
        },
        "id": "UDS9wWNZ_GnA",
        "outputId": "560e442d-70d5-4d88-a8a7-47b189c83e97"
      },
      "source": [
        "# Fixing the errors in 31\n",
        "\n",
        "# Both patients have different Exam IDs (and then just Right/Left-handed!!), P2 vs P26\n",
        "data_all[data_all[\"ID_PATIENT\"] == 31]\n",
        "\n",
        "data_all[\"ID_PATIENT\"][data_all[\"_ID_EXAM\"] == 'P26'] = 502\n",
        "data_all[(data_all[\"_ID_EXAM\"] == 'P26')]"
      ],
      "execution_count": 19,
      "outputs": [
        {
          "output_type": "execute_result",
          "data": {
            "text/html": [
              "<div>\n",
              "<style scoped>\n",
              "    .dataframe tbody tr th:only-of-type {\n",
              "        vertical-align: middle;\n",
              "    }\n",
              "\n",
              "    .dataframe tbody tr th {\n",
              "        vertical-align: top;\n",
              "    }\n",
              "\n",
              "    .dataframe thead th {\n",
              "        text-align: right;\n",
              "    }\n",
              "</style>\n",
              "<table border=\"1\" class=\"dataframe\">\n",
              "  <thead>\n",
              "    <tr style=\"text-align: right;\">\n",
              "      <th></th>\n",
              "      <th>_ID_EXAM</th>\n",
              "      <th>IMAGE_NAME</th>\n",
              "      <th>ID_PATIENT</th>\n",
              "      <th>CLASS_TYPE</th>\n",
              "      <th>GENDER</th>\n",
              "      <th>RIGH/LEFT-HANDED</th>\n",
              "      <th>AGE</th>\n",
              "      <th>RMS</th>\n",
              "      <th>MAX_BETWEEN_ET_HT</th>\n",
              "      <th>MIN_BETWEEN_ET_HT</th>\n",
              "      <th>STD_DEVIATION_ET_HT</th>\n",
              "      <th>MRT</th>\n",
              "      <th>MAX_HT</th>\n",
              "      <th>MIN_HT</th>\n",
              "      <th>STD_HT</th>\n",
              "      <th>CHANGES_FROM_NEGATIVE_TO_POSITIVE_BETWEEN_ET_HT</th>\n",
              "    </tr>\n",
              "  </thead>\n",
              "  <tbody>\n",
              "    <tr>\n",
              "      <th>164</th>\n",
              "      <td>P26</td>\n",
              "      <td>mea1-P26.jpg</td>\n",
              "      <td>502</td>\n",
              "      <td>2</td>\n",
              "      <td>F</td>\n",
              "      <td>L</td>\n",
              "      <td>59</td>\n",
              "      <td>4587.166408</td>\n",
              "      <td>6561.231877</td>\n",
              "      <td>37033.96196</td>\n",
              "      <td>0.018378</td>\n",
              "      <td>22.328549</td>\n",
              "      <td>184.806500</td>\n",
              "      <td>0.057158</td>\n",
              "      <td>1388.315960</td>\n",
              "      <td>0.266871</td>\n",
              "    </tr>\n",
              "    <tr>\n",
              "      <th>195</th>\n",
              "      <td>P26</td>\n",
              "      <td>mea2-P26.jpg</td>\n",
              "      <td>502</td>\n",
              "      <td>2</td>\n",
              "      <td>F</td>\n",
              "      <td>L</td>\n",
              "      <td>59</td>\n",
              "      <td>6210.596735</td>\n",
              "      <td>7365.102809</td>\n",
              "      <td>37813.01828</td>\n",
              "      <td>0.002359</td>\n",
              "      <td>20.958406</td>\n",
              "      <td>160.395258</td>\n",
              "      <td>0.024497</td>\n",
              "      <td>1281.094994</td>\n",
              "      <td>0.128205</td>\n",
              "    </tr>\n",
              "    <tr>\n",
              "      <th>226</th>\n",
              "      <td>P26</td>\n",
              "      <td>mea3-P26.jpg</td>\n",
              "      <td>502</td>\n",
              "      <td>2</td>\n",
              "      <td>F</td>\n",
              "      <td>L</td>\n",
              "      <td>59</td>\n",
              "      <td>6544.571924</td>\n",
              "      <td>8612.729092</td>\n",
              "      <td>36154.08597</td>\n",
              "      <td>0.013198</td>\n",
              "      <td>27.237956</td>\n",
              "      <td>180.306815</td>\n",
              "      <td>0.003577</td>\n",
              "      <td>1761.998890</td>\n",
              "      <td>0.243421</td>\n",
              "    </tr>\n",
              "    <tr>\n",
              "      <th>257</th>\n",
              "      <td>P26</td>\n",
              "      <td>mea4-P26.jpg</td>\n",
              "      <td>502</td>\n",
              "      <td>2</td>\n",
              "      <td>F</td>\n",
              "      <td>L</td>\n",
              "      <td>59</td>\n",
              "      <td>4921.267695</td>\n",
              "      <td>6948.380564</td>\n",
              "      <td>35304.08954</td>\n",
              "      <td>0.017636</td>\n",
              "      <td>25.699685</td>\n",
              "      <td>182.482156</td>\n",
              "      <td>0.055527</td>\n",
              "      <td>1698.122391</td>\n",
              "      <td>0.235915</td>\n",
              "    </tr>\n",
              "    <tr>\n",
              "      <th>164</th>\n",
              "      <td>P26</td>\n",
              "      <td>mea1-P26.jpg</td>\n",
              "      <td>502</td>\n",
              "      <td>2</td>\n",
              "      <td>F</td>\n",
              "      <td>L</td>\n",
              "      <td>59</td>\n",
              "      <td>3920.970004</td>\n",
              "      <td>6238.937338</td>\n",
              "      <td>38250.87273</td>\n",
              "      <td>0.001111</td>\n",
              "      <td>20.249795</td>\n",
              "      <td>198.848794</td>\n",
              "      <td>0.077745</td>\n",
              "      <td>824.315791</td>\n",
              "      <td>0.298077</td>\n",
              "    </tr>\n",
              "    <tr>\n",
              "      <th>195</th>\n",
              "      <td>P26</td>\n",
              "      <td>mea2-P26.jpg</td>\n",
              "      <td>502</td>\n",
              "      <td>2</td>\n",
              "      <td>F</td>\n",
              "      <td>L</td>\n",
              "      <td>59</td>\n",
              "      <td>6258.718000</td>\n",
              "      <td>4848.219744</td>\n",
              "      <td>27252.50816</td>\n",
              "      <td>53.220445</td>\n",
              "      <td>17.078864</td>\n",
              "      <td>170.677569</td>\n",
              "      <td>0.005952</td>\n",
              "      <td>605.873333</td>\n",
              "      <td>0.323944</td>\n",
              "    </tr>\n",
              "    <tr>\n",
              "      <th>226</th>\n",
              "      <td>P26</td>\n",
              "      <td>mea3-P26.jpg</td>\n",
              "      <td>502</td>\n",
              "      <td>2</td>\n",
              "      <td>F</td>\n",
              "      <td>L</td>\n",
              "      <td>59</td>\n",
              "      <td>6534.143743</td>\n",
              "      <td>8216.197515</td>\n",
              "      <td>62196.78628</td>\n",
              "      <td>0.000016</td>\n",
              "      <td>21.017350</td>\n",
              "      <td>210.416386</td>\n",
              "      <td>0.000000</td>\n",
              "      <td>774.260600</td>\n",
              "      <td>0.101124</td>\n",
              "    </tr>\n",
              "    <tr>\n",
              "      <th>257</th>\n",
              "      <td>P26</td>\n",
              "      <td>mea4-P26.jpg</td>\n",
              "      <td>502</td>\n",
              "      <td>2</td>\n",
              "      <td>F</td>\n",
              "      <td>L</td>\n",
              "      <td>59</td>\n",
              "      <td>5606.216748</td>\n",
              "      <td>6911.437880</td>\n",
              "      <td>33526.40980</td>\n",
              "      <td>0.000000</td>\n",
              "      <td>19.501336</td>\n",
              "      <td>133.597316</td>\n",
              "      <td>0.000000</td>\n",
              "      <td>580.637851</td>\n",
              "      <td>0.179402</td>\n",
              "    </tr>\n",
              "  </tbody>\n",
              "</table>\n",
              "</div>"
            ],
            "text/plain": [
              "    _ID_EXAM  ... CHANGES_FROM_NEGATIVE_TO_POSITIVE_BETWEEN_ET_HT\n",
              "164      P26  ...                                        0.266871\n",
              "195      P26  ...                                        0.128205\n",
              "226      P26  ...                                        0.243421\n",
              "257      P26  ...                                        0.235915\n",
              "164      P26  ...                                        0.298077\n",
              "195      P26  ...                                        0.323944\n",
              "226      P26  ...                                        0.101124\n",
              "257      P26  ...                                        0.179402\n",
              "\n",
              "[8 rows x 16 columns]"
            ]
          },
          "metadata": {},
          "execution_count": 19
        }
      ]
    },
    {
      "cell_type": "markdown",
      "metadata": {
        "id": "snLL1VD2FHoT"
      },
      "source": [
        "### Check"
      ]
    },
    {
      "cell_type": "code",
      "metadata": {
        "id": "A1_5Hv4B_mH2"
      },
      "source": [
        "ids = data_all['ID_PATIENT']"
      ],
      "execution_count": 20,
      "outputs": []
    },
    {
      "cell_type": "code",
      "metadata": {
        "colab": {
          "base_uri": "https://localhost:8080/"
        },
        "id": "1njvmlSV5nPq",
        "outputId": "cc87423e-6d73-4f55-ef03-8bf1a65a4584"
      },
      "source": [
        "len(ids)"
      ],
      "execution_count": 21,
      "outputs": [
        {
          "output_type": "execute_result",
          "data": {
            "text/plain": [
              "528"
            ]
          },
          "metadata": {},
          "execution_count": 21
        }
      ]
    },
    {
      "cell_type": "code",
      "metadata": {
        "id": "P8hsfFK5FRHd"
      },
      "source": [
        "xs = np.unique(ids, return_counts=True)"
      ],
      "execution_count": 22,
      "outputs": []
    },
    {
      "cell_type": "code",
      "metadata": {
        "colab": {
          "base_uri": "https://localhost:8080/"
        },
        "id": "mHJVnlr_FaoM",
        "outputId": "6911daa7-1862-4e6b-b6d6-14f194663abc"
      },
      "source": [
        "xs, len(xs[0])"
      ],
      "execution_count": 23,
      "outputs": [
        {
          "output_type": "execute_result",
          "data": {
            "text/plain": [
              "((array([  1,   2,   3,   4,   5,   6,   7,   8,   9,  11,  12,  13,  14,\n",
              "          15,  16,  17,  18,  19,  20,  21,  22,  23,  31,  38,  47,  53,\n",
              "          59,  76,  78,  80,  86,  98, 102, 104, 127, 138, 143, 149, 153,\n",
              "         157, 165, 176, 181, 186, 187, 192, 196, 203, 207, 218, 224, 230,\n",
              "         235, 247, 253, 261, 268, 273, 281, 297, 299, 301, 305, 500, 501,\n",
              "         502]),\n",
              "  array([8, 8, 8, 8, 8, 8, 8, 8, 8, 8, 8, 8, 8, 8, 8, 8, 8, 8, 8, 8, 8, 8,\n",
              "         8, 8, 8, 8, 8, 8, 8, 8, 8, 8, 8, 8, 8, 8, 8, 8, 8, 8, 8, 8, 8, 8,\n",
              "         8, 8, 8, 8, 8, 8, 8, 8, 8, 8, 8, 8, 8, 8, 8, 8, 8, 8, 8, 8, 8, 8])),\n",
              " 66)"
            ]
          },
          "metadata": {},
          "execution_count": 23
        }
      ]
    },
    {
      "cell_type": "markdown",
      "metadata": {
        "id": "ZacogO7cFcZ5"
      },
      "source": [
        "Everything looks great! Now we have 66 unique patient IDs we can use. 66 is the nuber of patients we have."
      ]
    },
    {
      "cell_type": "markdown",
      "metadata": {
        "id": "UYbNZkMjkfdw"
      },
      "source": [
        "##**Preprocessing**"
      ]
    },
    {
      "cell_type": "markdown",
      "metadata": {
        "id": "WcwtQpQfktl7"
      },
      "source": [
        "###Normalization\n",
        "\n",
        "fi' = (fi - avg)/std\n",
        "\n",
        "Only run once (unless restart runtime ofc)"
      ]
    },
    {
      "cell_type": "code",
      "metadata": {
        "id": "VTfbmKgjjFEt"
      },
      "source": [
        "# normalization with the paper's method (formula above)\n",
        "def feature_normalization(df):\n",
        "\n",
        "  avg_dev = df.mad(axis = 0)\n",
        "  std_dev = df.std(axis = 0)\n",
        "\n",
        "  df = df.sub(avg_dev)\n",
        "  df = df.divide(std_dev)\n",
        "\n",
        "  return df"
      ],
      "execution_count": 24,
      "outputs": []
    },
    {
      "cell_type": "code",
      "metadata": {
        "colab": {
          "base_uri": "https://localhost:8080/"
        },
        "id": "rVraWwINKuwn",
        "outputId": "0ecf25f7-04a0-44c9-ed3c-fa92c2421a80"
      },
      "source": [
        "data_all['CLASS_TYPE'].value_counts()"
      ],
      "execution_count": 25,
      "outputs": [
        {
          "output_type": "execute_result",
          "data": {
            "text/plain": [
              "1    280\n",
              "2    248\n",
              "Name: CLASS_TYPE, dtype: int64"
            ]
          },
          "metadata": {},
          "execution_count": 25
        }
      ]
    },
    {
      "cell_type": "code",
      "metadata": {
        "colab": {
          "base_uri": "https://localhost:8080/"
        },
        "id": "d26V9bX0z4OC",
        "outputId": "77610ab8-16ca-40e7-bd5a-bca3f7ccf2a4"
      },
      "source": [
        "data_all.columns"
      ],
      "execution_count": 26,
      "outputs": [
        {
          "output_type": "execute_result",
          "data": {
            "text/plain": [
              "Index(['_ID_EXAM', 'IMAGE_NAME', 'ID_PATIENT', 'CLASS_TYPE', 'GENDER',\n",
              "       'RIGH/LEFT-HANDED', 'AGE', 'RMS', 'MAX_BETWEEN_ET_HT',\n",
              "       'MIN_BETWEEN_ET_HT', 'STD_DEVIATION_ET_HT', 'MRT', 'MAX_HT', 'MIN_HT',\n",
              "       'STD_HT', 'CHANGES_FROM_NEGATIVE_TO_POSITIVE_BETWEEN_ET_HT'],\n",
              "      dtype='object')"
            ]
          },
          "metadata": {},
          "execution_count": 26
        }
      ]
    },
    {
      "cell_type": "code",
      "metadata": {
        "id": "U4px6A393Q__"
      },
      "source": [
        "# normalizing data_all\n",
        "\n",
        "# new df\n",
        "data_2 = data_all.copy()\n",
        "normalize_cols = data_2[['RMS', 'MAX_BETWEEN_ET_HT', 'MIN_BETWEEN_ET_HT', 'STD_DEVIATION_ET_HT', 'MRT', 'MAX_HT', 'MIN_HT','STD_HT', 'CHANGES_FROM_NEGATIVE_TO_POSITIVE_BETWEEN_ET_HT']]\n",
        "\n",
        "data_all[['RMS', 'MAX_BETWEEN_ET_HT','MIN_BETWEEN_ET_HT', 'STD_DEVIATION_ET_HT',\n",
        "          'MRT', 'MAX_HT', 'MIN_HT', 'STD_HT',\n",
        "          'CHANGES_FROM_NEGATIVE_TO_POSITIVE_BETWEEN_ET_HT']] = feature_normalization(normalize_cols)"
      ],
      "execution_count": 27,
      "outputs": []
    },
    {
      "cell_type": "code",
      "metadata": {
        "colab": {
          "base_uri": "https://localhost:8080/",
          "height": 243
        },
        "id": "63qAvXniGKtB",
        "outputId": "896d7455-72f5-4c63-b5f4-0724f19647d3"
      },
      "source": [
        "data_all.head()"
      ],
      "execution_count": 28,
      "outputs": [
        {
          "output_type": "execute_result",
          "data": {
            "text/html": [
              "<div>\n",
              "<style scoped>\n",
              "    .dataframe tbody tr th:only-of-type {\n",
              "        vertical-align: middle;\n",
              "    }\n",
              "\n",
              "    .dataframe tbody tr th {\n",
              "        vertical-align: top;\n",
              "    }\n",
              "\n",
              "    .dataframe thead th {\n",
              "        text-align: right;\n",
              "    }\n",
              "</style>\n",
              "<table border=\"1\" class=\"dataframe\">\n",
              "  <thead>\n",
              "    <tr style=\"text-align: right;\">\n",
              "      <th></th>\n",
              "      <th>_ID_EXAM</th>\n",
              "      <th>IMAGE_NAME</th>\n",
              "      <th>ID_PATIENT</th>\n",
              "      <th>CLASS_TYPE</th>\n",
              "      <th>GENDER</th>\n",
              "      <th>RIGH/LEFT-HANDED</th>\n",
              "      <th>AGE</th>\n",
              "      <th>RMS</th>\n",
              "      <th>MAX_BETWEEN_ET_HT</th>\n",
              "      <th>MIN_BETWEEN_ET_HT</th>\n",
              "      <th>STD_DEVIATION_ET_HT</th>\n",
              "      <th>MRT</th>\n",
              "      <th>MAX_HT</th>\n",
              "      <th>MIN_HT</th>\n",
              "      <th>STD_HT</th>\n",
              "      <th>CHANGES_FROM_NEGATIVE_TO_POSITIVE_BETWEEN_ET_HT</th>\n",
              "    </tr>\n",
              "  </thead>\n",
              "  <tbody>\n",
              "    <tr>\n",
              "      <th>0</th>\n",
              "      <td>H1</td>\n",
              "      <td>sp1-H1.jpg</td>\n",
              "      <td>59</td>\n",
              "      <td>1</td>\n",
              "      <td>M</td>\n",
              "      <td>R</td>\n",
              "      <td>58</td>\n",
              "      <td>7.143607</td>\n",
              "      <td>7.838460</td>\n",
              "      <td>3.299772</td>\n",
              "      <td>-0.143373</td>\n",
              "      <td>4.797496</td>\n",
              "      <td>8.766534</td>\n",
              "      <td>-0.270699</td>\n",
              "      <td>4.828854</td>\n",
              "      <td>0.860394</td>\n",
              "    </tr>\n",
              "    <tr>\n",
              "      <th>1</th>\n",
              "      <td>H2</td>\n",
              "      <td>sp1-H2.jpg</td>\n",
              "      <td>76</td>\n",
              "      <td>1</td>\n",
              "      <td>M</td>\n",
              "      <td>R</td>\n",
              "      <td>60</td>\n",
              "      <td>2.471925</td>\n",
              "      <td>5.392804</td>\n",
              "      <td>2.842963</td>\n",
              "      <td>-0.144590</td>\n",
              "      <td>3.118298</td>\n",
              "      <td>7.628783</td>\n",
              "      <td>1.066993</td>\n",
              "      <td>1.819921</td>\n",
              "      <td>1.584295</td>\n",
              "    </tr>\n",
              "    <tr>\n",
              "      <th>2</th>\n",
              "      <td>H3</td>\n",
              "      <td>sp1-H3.jpg</td>\n",
              "      <td>301</td>\n",
              "      <td>1</td>\n",
              "      <td>F</td>\n",
              "      <td>R</td>\n",
              "      <td>56</td>\n",
              "      <td>5.724680</td>\n",
              "      <td>7.215127</td>\n",
              "      <td>3.204447</td>\n",
              "      <td>-0.148378</td>\n",
              "      <td>3.754626</td>\n",
              "      <td>8.756614</td>\n",
              "      <td>-0.375542</td>\n",
              "      <td>4.127764</td>\n",
              "      <td>0.904144</td>\n",
              "    </tr>\n",
              "    <tr>\n",
              "      <th>3</th>\n",
              "      <td>H4</td>\n",
              "      <td>sp1-H4.jpg</td>\n",
              "      <td>102</td>\n",
              "      <td>1</td>\n",
              "      <td>M</td>\n",
              "      <td>R</td>\n",
              "      <td>24</td>\n",
              "      <td>1.801700</td>\n",
              "      <td>2.447016</td>\n",
              "      <td>2.467794</td>\n",
              "      <td>-0.145827</td>\n",
              "      <td>2.334635</td>\n",
              "      <td>9.145922</td>\n",
              "      <td>0.219189</td>\n",
              "      <td>1.253875</td>\n",
              "      <td>1.438466</td>\n",
              "    </tr>\n",
              "    <tr>\n",
              "      <th>4</th>\n",
              "      <td>H5</td>\n",
              "      <td>sp1-H5.jpg</td>\n",
              "      <td>305</td>\n",
              "      <td>1</td>\n",
              "      <td>M</td>\n",
              "      <td>R</td>\n",
              "      <td>79</td>\n",
              "      <td>2.145170</td>\n",
              "      <td>3.101247</td>\n",
              "      <td>2.422591</td>\n",
              "      <td>-0.146026</td>\n",
              "      <td>3.855839</td>\n",
              "      <td>5.903356</td>\n",
              "      <td>-0.270470</td>\n",
              "      <td>2.100608</td>\n",
              "      <td>2.011632</td>\n",
              "    </tr>\n",
              "  </tbody>\n",
              "</table>\n",
              "</div>"
            ],
            "text/plain": [
              "  _ID_EXAM  ... CHANGES_FROM_NEGATIVE_TO_POSITIVE_BETWEEN_ET_HT\n",
              "0       H1  ...                                        0.860394\n",
              "1       H2  ...                                        1.584295\n",
              "2       H3  ...                                        0.904144\n",
              "3       H4  ...                                        1.438466\n",
              "4       H5  ...                                        2.011632\n",
              "\n",
              "[5 rows x 16 columns]"
            ]
          },
          "metadata": {},
          "execution_count": 28
        }
      ]
    },
    {
      "cell_type": "markdown",
      "metadata": {
        "id": "gbeBsENVlQka"
      },
      "source": [
        "###Train-Test-Split"
      ]
    },
    {
      "cell_type": "code",
      "metadata": {
        "id": "hX5-ZM5twVUw"
      },
      "source": [
        "# creating our final datasets\n",
        "X = data_all[data_all.columns.drop('CLASS_TYPE')]\n",
        "y = data_all['CLASS_TYPE']"
      ],
      "execution_count": 29,
      "outputs": []
    },
    {
      "cell_type": "code",
      "metadata": {
        "id": "j5LoRggSlWmb"
      },
      "source": [
        "# Train-Test Split, 80% train, 20% test, stratification across PD diagnosis (label)\n",
        "y_label = y.to_numpy()\n",
        "X_train, X_test, y_train, y_test = train_test_split(X, y, random_state = 0, test_size = 0.2, stratify = y_label, shuffle = True)"
      ],
      "execution_count": 30,
      "outputs": []
    },
    {
      "cell_type": "code",
      "metadata": {
        "id": "f-1hFnrflXcY"
      },
      "source": [
        "X_train = X_train.reset_index(drop = True)\n",
        "X_test = X_test.reset_index(drop = True)"
      ],
      "execution_count": 31,
      "outputs": []
    },
    {
      "cell_type": "code",
      "metadata": {
        "id": "dzmGJ3zcKV6v"
      },
      "source": [
        "y_train = y_train.reset_index(drop = True)\n",
        "y_test = y_test.reset_index(drop = True)"
      ],
      "execution_count": 32,
      "outputs": []
    },
    {
      "cell_type": "markdown",
      "metadata": {
        "id": "lk6pv-0Vlpjz"
      },
      "source": [
        "###Quick Check"
      ]
    },
    {
      "cell_type": "code",
      "metadata": {
        "colab": {
          "base_uri": "https://localhost:8080/"
        },
        "id": "UvM6vqR6Ko52",
        "outputId": "59bd26c5-4b69-4d96-c175-c07123b495c2"
      },
      "source": [
        "y_train.value_counts()"
      ],
      "execution_count": 33,
      "outputs": [
        {
          "output_type": "execute_result",
          "data": {
            "text/plain": [
              "1    224\n",
              "2    198\n",
              "Name: CLASS_TYPE, dtype: int64"
            ]
          },
          "metadata": {},
          "execution_count": 33
        }
      ]
    },
    {
      "cell_type": "code",
      "metadata": {
        "colab": {
          "base_uri": "https://localhost:8080/"
        },
        "id": "b783Fe5KKqXX",
        "outputId": "59f51d2d-e995-4085-ec9c-b18a71e7b50d"
      },
      "source": [
        "y_test.value_counts()"
      ],
      "execution_count": 34,
      "outputs": [
        {
          "output_type": "execute_result",
          "data": {
            "text/plain": [
              "1    56\n",
              "2    50\n",
              "Name: CLASS_TYPE, dtype: int64"
            ]
          },
          "metadata": {},
          "execution_count": 34
        }
      ]
    },
    {
      "cell_type": "markdown",
      "metadata": {
        "id": "IQkGWuYAAGnn"
      },
      "source": [
        "##**Regularized LogReg**"
      ]
    },
    {
      "cell_type": "markdown",
      "metadata": {
        "id": "I_gFuMTHnkSU"
      },
      "source": [
        "###Training"
      ]
    },
    {
      "cell_type": "code",
      "metadata": {
        "colab": {
          "base_uri": "https://localhost:8080/"
        },
        "id": "c2GL7nY8-2WN",
        "outputId": "8e57b0df-3551-4003-f473-ca53c00bd887"
      },
      "source": [
        "X_train.columns"
      ],
      "execution_count": 35,
      "outputs": [
        {
          "output_type": "execute_result",
          "data": {
            "text/plain": [
              "Index(['_ID_EXAM', 'IMAGE_NAME', 'ID_PATIENT', 'GENDER', 'RIGH/LEFT-HANDED',\n",
              "       'AGE', 'RMS', 'MAX_BETWEEN_ET_HT', 'MIN_BETWEEN_ET_HT',\n",
              "       'STD_DEVIATION_ET_HT', 'MRT', 'MAX_HT', 'MIN_HT', 'STD_HT',\n",
              "       'CHANGES_FROM_NEGATIVE_TO_POSITIVE_BETWEEN_ET_HT'],\n",
              "      dtype='object')"
            ]
          },
          "metadata": {},
          "execution_count": 35
        }
      ]
    },
    {
      "cell_type": "code",
      "metadata": {
        "id": "7vpTfqLuIkBT",
        "colab": {
          "base_uri": "https://localhost:8080/"
        },
        "outputId": "f2066aaf-fab1-42ba-b14c-0f085e5c7819"
      },
      "source": [
        "clf = LogisticRegression(penalty='l2', C = 1.0, class_weight='balanced', random_state = 0, solver = 'lbfgs')\n",
        "clf.fit(X_train[['RMS', 'MAX_BETWEEN_ET_HT', 'MIN_BETWEEN_ET_HT',\n",
        "       'STD_DEVIATION_ET_HT', 'MRT', 'MAX_HT', 'MIN_HT', 'STD_HT',\n",
        "       'CHANGES_FROM_NEGATIVE_TO_POSITIVE_BETWEEN_ET_HT']], y_train)"
      ],
      "execution_count": 39,
      "outputs": [
        {
          "output_type": "execute_result",
          "data": {
            "text/plain": [
              "LogisticRegression(C=1.0, class_weight='balanced', dual=False,\n",
              "                   fit_intercept=True, intercept_scaling=1, l1_ratio=None,\n",
              "                   max_iter=100, multi_class='auto', n_jobs=None, penalty='l2',\n",
              "                   random_state=0, solver='lbfgs', tol=0.0001, verbose=0,\n",
              "                   warm_start=False)"
            ]
          },
          "metadata": {},
          "execution_count": 39
        }
      ]
    },
    {
      "cell_type": "code",
      "metadata": {
        "id": "hzs7YGmBGwm9"
      },
      "source": [
        "y_pred = clf.predict(X_test[['RMS', 'MAX_BETWEEN_ET_HT', 'MIN_BETWEEN_ET_HT',\n",
        "       'STD_DEVIATION_ET_HT', 'MRT', 'MAX_HT', 'MIN_HT', 'STD_HT',\n",
        "       'CHANGES_FROM_NEGATIVE_TO_POSITIVE_BETWEEN_ET_HT']])\n",
        "y_proba = clf.predict_proba(X_test[['RMS', 'MAX_BETWEEN_ET_HT', 'MIN_BETWEEN_ET_HT',\n",
        "       'STD_DEVIATION_ET_HT', 'MRT', 'MAX_HT', 'MIN_HT', 'STD_HT',\n",
        "       'CHANGES_FROM_NEGATIVE_TO_POSITIVE_BETWEEN_ET_HT']])"
      ],
      "execution_count": 40,
      "outputs": []
    },
    {
      "cell_type": "code",
      "metadata": {
        "id": "8sgC95rQPQJ2"
      },
      "source": [
        "y_pred = pd.Series(y_pred)"
      ],
      "execution_count": 41,
      "outputs": []
    },
    {
      "cell_type": "markdown",
      "metadata": {
        "id": "y1SDNLlenfUX"
      },
      "source": [
        "##**Results**"
      ]
    },
    {
      "cell_type": "code",
      "metadata": {
        "colab": {
          "base_uri": "https://localhost:8080/"
        },
        "id": "su5RMaC_MaPF",
        "outputId": "a37194c3-205a-47e3-d75a-a1fa282d4c33"
      },
      "source": [
        "clf.score(X_test[['RMS', 'MAX_BETWEEN_ET_HT', 'MIN_BETWEEN_ET_HT',\n",
        "       'STD_DEVIATION_ET_HT', 'MRT', 'MAX_HT', 'MIN_HT', 'STD_HT',\n",
        "       'CHANGES_FROM_NEGATIVE_TO_POSITIVE_BETWEEN_ET_HT']], y_test)"
      ],
      "execution_count": 42,
      "outputs": [
        {
          "output_type": "execute_result",
          "data": {
            "text/plain": [
              "0.7452830188679245"
            ]
          },
          "metadata": {},
          "execution_count": 42
        }
      ]
    },
    {
      "cell_type": "code",
      "metadata": {
        "id": "wZf0iMccM767"
      },
      "source": [
        "target_names = ['Control', 'PD']\n",
        "results = classification_report(y_test, y_pred, target_names = target_names, output_dict=True)\n",
        "results = pd.DataFrame(results).transpose()\n",
        "conf_mat = confusion_matrix(y_test, y_pred)"
      ],
      "execution_count": 43,
      "outputs": []
    },
    {
      "cell_type": "code",
      "metadata": {
        "colab": {
          "base_uri": "https://localhost:8080/",
          "height": 206
        },
        "id": "thzR3k3lMz31",
        "outputId": "43014cf3-17a4-424a-9df8-af5f64366823"
      },
      "source": [
        "results"
      ],
      "execution_count": 44,
      "outputs": [
        {
          "output_type": "execute_result",
          "data": {
            "text/html": [
              "<div>\n",
              "<style scoped>\n",
              "    .dataframe tbody tr th:only-of-type {\n",
              "        vertical-align: middle;\n",
              "    }\n",
              "\n",
              "    .dataframe tbody tr th {\n",
              "        vertical-align: top;\n",
              "    }\n",
              "\n",
              "    .dataframe thead th {\n",
              "        text-align: right;\n",
              "    }\n",
              "</style>\n",
              "<table border=\"1\" class=\"dataframe\">\n",
              "  <thead>\n",
              "    <tr style=\"text-align: right;\">\n",
              "      <th></th>\n",
              "      <th>precision</th>\n",
              "      <th>recall</th>\n",
              "      <th>f1-score</th>\n",
              "      <th>support</th>\n",
              "    </tr>\n",
              "  </thead>\n",
              "  <tbody>\n",
              "    <tr>\n",
              "      <th>Control</th>\n",
              "      <td>0.808511</td>\n",
              "      <td>0.678571</td>\n",
              "      <td>0.737864</td>\n",
              "      <td>56.000000</td>\n",
              "    </tr>\n",
              "    <tr>\n",
              "      <th>PD</th>\n",
              "      <td>0.694915</td>\n",
              "      <td>0.820000</td>\n",
              "      <td>0.752294</td>\n",
              "      <td>50.000000</td>\n",
              "    </tr>\n",
              "    <tr>\n",
              "      <th>accuracy</th>\n",
              "      <td>0.745283</td>\n",
              "      <td>0.745283</td>\n",
              "      <td>0.745283</td>\n",
              "      <td>0.745283</td>\n",
              "    </tr>\n",
              "    <tr>\n",
              "      <th>macro avg</th>\n",
              "      <td>0.751713</td>\n",
              "      <td>0.749286</td>\n",
              "      <td>0.745079</td>\n",
              "      <td>106.000000</td>\n",
              "    </tr>\n",
              "    <tr>\n",
              "      <th>weighted avg</th>\n",
              "      <td>0.754928</td>\n",
              "      <td>0.745283</td>\n",
              "      <td>0.744670</td>\n",
              "      <td>106.000000</td>\n",
              "    </tr>\n",
              "  </tbody>\n",
              "</table>\n",
              "</div>"
            ],
            "text/plain": [
              "              precision    recall  f1-score     support\n",
              "Control        0.808511  0.678571  0.737864   56.000000\n",
              "PD             0.694915  0.820000  0.752294   50.000000\n",
              "accuracy       0.745283  0.745283  0.745283    0.745283\n",
              "macro avg      0.751713  0.749286  0.745079  106.000000\n",
              "weighted avg   0.754928  0.745283  0.744670  106.000000"
            ]
          },
          "metadata": {},
          "execution_count": 44
        }
      ]
    },
    {
      "cell_type": "code",
      "metadata": {
        "colab": {
          "base_uri": "https://localhost:8080/"
        },
        "id": "zAXqc2uPNeq5",
        "outputId": "6271df3b-1fcf-4107-b95a-7fa4f788b5b7"
      },
      "source": [
        "conf_mat"
      ],
      "execution_count": 45,
      "outputs": [
        {
          "output_type": "execute_result",
          "data": {
            "text/plain": [
              "array([[38, 18],\n",
              "       [ 9, 41]])"
            ]
          },
          "metadata": {},
          "execution_count": 45
        }
      ]
    },
    {
      "cell_type": "markdown",
      "metadata": {
        "id": "COIsAl9ALc8A"
      },
      "source": [
        "### Patient Results"
      ]
    },
    {
      "cell_type": "markdown",
      "metadata": {
        "id": "lPeexhaOLgXE"
      },
      "source": [
        "One important thing to consider is that right now, we have a bunch of Patient IDs, few of which have all 8 of their images. It may be better to perform train test split by patients, for 11 patients in one group and 55 in the other, so that we can have all possible information about a patient (that we will have when running the model)."
      ]
    },
    {
      "cell_type": "code",
      "metadata": {
        "colab": {
          "base_uri": "https://localhost:8080/"
        },
        "id": "duVfDto_HkEi",
        "outputId": "2260bba0-b1cf-4227-cde2-5296096a3784"
      },
      "source": [
        "patient_ids = np.unique(X_test['ID_PATIENT'])\n",
        "patient_ids"
      ],
      "execution_count": 46,
      "outputs": [
        {
          "output_type": "execute_result",
          "data": {
            "text/plain": [
              "array([  1,   5,   6,   8,  11,  12,  13,  14,  16,  17,  18,  19,  20,\n",
              "        21,  22,  23,  31,  38,  47,  53,  59,  76,  78,  80,  86,  98,\n",
              "       102, 127, 138, 143, 149, 153, 165, 176, 181, 186, 187, 192, 196,\n",
              "       203, 207, 218, 224, 230, 247, 253, 261, 268, 273, 281, 297, 299,\n",
              "       301, 305, 500, 501, 502])"
            ]
          },
          "metadata": {},
          "execution_count": 46
        }
      ]
    },
    {
      "cell_type": "code",
      "metadata": {
        "colab": {
          "base_uri": "https://localhost:8080/"
        },
        "id": "ORMOXNkDOXsU",
        "outputId": "efc7f310-b037-4778-d8c6-aba3c42d8ffa"
      },
      "source": [
        "len(patient_ids)"
      ],
      "execution_count": 47,
      "outputs": [
        {
          "output_type": "execute_result",
          "data": {
            "text/plain": [
              "57"
            ]
          },
          "metadata": {},
          "execution_count": 47
        }
      ]
    },
    {
      "cell_type": "code",
      "metadata": {
        "id": "2GyTYkOqHu6j"
      },
      "source": [
        "data_results = X_test.copy() # we only get predictions for X_test\n",
        "data_results['PRED'] = y_pred\n",
        "data_results['LABEL'] = y_test"
      ],
      "execution_count": 48,
      "outputs": []
    },
    {
      "cell_type": "code",
      "metadata": {
        "id": "HDFK7mYAMj9H"
      },
      "source": [
        "final_results = pd.DataFrame(columns = ['ID_PATIENT', 'PRED', 'LABEL', 'ONE_PRED', 'TWO_PRED', 'NUM_ROWS'])"
      ],
      "execution_count": 49,
      "outputs": []
    },
    {
      "cell_type": "code",
      "metadata": {
        "id": "sexI52X-JRRv"
      },
      "source": [
        "for i in range(len(patient_ids)):\n",
        "  selected_rows = data_results[data_results['ID_PATIENT'] == patient_ids[i]]\n",
        "  not_pd = selected_rows[selected_rows['PRED'] == 1]\n",
        "  yes_pd = selected_rows[selected_rows['PRED'] == 2]\n",
        "\n",
        "  label = selected_rows['LABEL'].to_list()[0]\n",
        "\n",
        "  if (not_pd.shape[0] > yes_pd.shape[0]):\n",
        "    pred = 1\n",
        "  elif (yes_pd.shape[0] > not_pd.shape[0]):\n",
        "    pred = 2\n",
        "  else:\n",
        "    pred = 2 # There are slightly less PD predictions, so we'll just choose this.\n",
        "\n",
        "  add_to_df = [patient_ids[i], pred, label, len(not_pd), len(yes_pd), len(selected_rows)]\n",
        "\n",
        "  final_results.loc[i] = add_to_df"
      ],
      "execution_count": 50,
      "outputs": []
    },
    {
      "cell_type": "code",
      "metadata": {
        "colab": {
          "base_uri": "https://localhost:8080/",
          "height": 206
        },
        "id": "fcZtscopN54n",
        "outputId": "bd9b782e-7396-44fb-ba94-62ca4dbbe8c5"
      },
      "source": [
        "final_results.head()"
      ],
      "execution_count": 51,
      "outputs": [
        {
          "output_type": "execute_result",
          "data": {
            "text/html": [
              "<div>\n",
              "<style scoped>\n",
              "    .dataframe tbody tr th:only-of-type {\n",
              "        vertical-align: middle;\n",
              "    }\n",
              "\n",
              "    .dataframe tbody tr th {\n",
              "        vertical-align: top;\n",
              "    }\n",
              "\n",
              "    .dataframe thead th {\n",
              "        text-align: right;\n",
              "    }\n",
              "</style>\n",
              "<table border=\"1\" class=\"dataframe\">\n",
              "  <thead>\n",
              "    <tr style=\"text-align: right;\">\n",
              "      <th></th>\n",
              "      <th>ID_PATIENT</th>\n",
              "      <th>PRED</th>\n",
              "      <th>LABEL</th>\n",
              "      <th>ONE_PRED</th>\n",
              "      <th>TWO_PRED</th>\n",
              "      <th>NUM_ROWS</th>\n",
              "    </tr>\n",
              "  </thead>\n",
              "  <tbody>\n",
              "    <tr>\n",
              "      <th>0</th>\n",
              "      <td>1</td>\n",
              "      <td>2</td>\n",
              "      <td>1</td>\n",
              "      <td>0</td>\n",
              "      <td>1</td>\n",
              "      <td>1</td>\n",
              "    </tr>\n",
              "    <tr>\n",
              "      <th>1</th>\n",
              "      <td>5</td>\n",
              "      <td>1</td>\n",
              "      <td>1</td>\n",
              "      <td>2</td>\n",
              "      <td>1</td>\n",
              "      <td>3</td>\n",
              "    </tr>\n",
              "    <tr>\n",
              "      <th>2</th>\n",
              "      <td>6</td>\n",
              "      <td>1</td>\n",
              "      <td>1</td>\n",
              "      <td>3</td>\n",
              "      <td>0</td>\n",
              "      <td>3</td>\n",
              "    </tr>\n",
              "    <tr>\n",
              "      <th>3</th>\n",
              "      <td>8</td>\n",
              "      <td>1</td>\n",
              "      <td>1</td>\n",
              "      <td>1</td>\n",
              "      <td>0</td>\n",
              "      <td>1</td>\n",
              "    </tr>\n",
              "    <tr>\n",
              "      <th>4</th>\n",
              "      <td>11</td>\n",
              "      <td>1</td>\n",
              "      <td>1</td>\n",
              "      <td>4</td>\n",
              "      <td>0</td>\n",
              "      <td>4</td>\n",
              "    </tr>\n",
              "  </tbody>\n",
              "</table>\n",
              "</div>"
            ],
            "text/plain": [
              "  ID_PATIENT PRED LABEL ONE_PRED TWO_PRED NUM_ROWS\n",
              "0          1    2     1        0        1        1\n",
              "1          5    1     1        2        1        3\n",
              "2          6    1     1        3        0        3\n",
              "3          8    1     1        1        0        1\n",
              "4         11    1     1        4        0        4"
            ]
          },
          "metadata": {},
          "execution_count": 51
        }
      ]
    },
    {
      "cell_type": "code",
      "metadata": {
        "id": "ui90DbnjRMzk"
      },
      "source": [
        "correct = 0\n",
        "wrong = 0\n",
        "\n",
        "for i in range(len(final_results)):\n",
        "  if (final_results.loc[i][\"PRED\"] == final_results.loc[i][\"LABEL\"]):\n",
        "    correct += 1\n",
        "  else:\n",
        "    wrong += 1"
      ],
      "execution_count": 52,
      "outputs": []
    },
    {
      "cell_type": "code",
      "metadata": {
        "colab": {
          "base_uri": "https://localhost:8080/"
        },
        "id": "SwHeq_9dRiFH",
        "outputId": "08f7918e-56b6-4068-ef85-803d2bc22816"
      },
      "source": [
        "correct/(correct+wrong)"
      ],
      "execution_count": 53,
      "outputs": [
        {
          "output_type": "execute_result",
          "data": {
            "text/plain": [
              "0.7543859649122807"
            ]
          },
          "metadata": {},
          "execution_count": 53
        }
      ]
    },
    {
      "cell_type": "markdown",
      "metadata": {
        "id": "QgPgA6fgVdrG"
      },
      "source": [
        "## **Cross-Val**"
      ]
    },
    {
      "cell_type": "code",
      "metadata": {
        "id": "J0qGNsnWU2RY"
      },
      "source": [
        "cross_val_X = data_all[['RMS', 'MAX_BETWEEN_ET_HT','MIN_BETWEEN_ET_HT', 'STD_DEVIATION_ET_HT',\n",
        "          'MRT', 'MAX_HT', 'MIN_HT', 'STD_HT',\n",
        "          'CHANGES_FROM_NEGATIVE_TO_POSITIVE_BETWEEN_ET_HT']]\n",
        "cross_val_y = data_all['CLASS_TYPE']"
      ],
      "execution_count": 54,
      "outputs": []
    },
    {
      "cell_type": "code",
      "metadata": {
        "id": "oq20zMFfU8h7"
      },
      "source": [
        "cv_results = cross_validate(clf, cross_val_X, cross_val_y, cv=5)"
      ],
      "execution_count": 55,
      "outputs": []
    },
    {
      "cell_type": "code",
      "metadata": {
        "colab": {
          "base_uri": "https://localhost:8080/"
        },
        "id": "73HUQzq0VWQy",
        "outputId": "6864b804-e951-4160-c706-8e85fafe45ee"
      },
      "source": [
        "cv_results"
      ],
      "execution_count": 56,
      "outputs": [
        {
          "output_type": "execute_result",
          "data": {
            "text/plain": [
              "{'fit_time': array([0.02642345, 0.01220369, 0.01158667, 0.01118064, 0.01174974]),\n",
              " 'score_time': array([0.00107145, 0.00104713, 0.00106525, 0.00105834, 0.00108147]),\n",
              " 'test_score': array([0.76415094, 0.68867925, 0.72641509, 0.76190476, 0.72380952])}"
            ]
          },
          "metadata": {},
          "execution_count": 56
        }
      ]
    },
    {
      "cell_type": "code",
      "metadata": {
        "id": "gapJGxrDV2BK"
      },
      "source": [
        "scores = np.array([0.76415094, 0.68867925, 0.72641509, 0.76190476, 0.72380952])"
      ],
      "execution_count": 58,
      "outputs": []
    },
    {
      "cell_type": "code",
      "metadata": {
        "colab": {
          "base_uri": "https://localhost:8080/"
        },
        "id": "7hhw3crYWDu5",
        "outputId": "ae442dce-10b4-49d2-ade5-937411bbe5e7"
      },
      "source": [
        "np.std(scores)"
      ],
      "execution_count": 59,
      "outputs": [
        {
          "output_type": "execute_result",
          "data": {
            "text/plain": [
              "0.02792139226243375"
            ]
          },
          "metadata": {},
          "execution_count": 59
        }
      ]
    },
    {
      "cell_type": "code",
      "metadata": {
        "colab": {
          "base_uri": "https://localhost:8080/"
        },
        "id": "b_McsNGeWDFS",
        "outputId": "86bb8b14-5f7b-402c-8861-71050100ecda"
      },
      "source": [
        "np.mean(scores)"
      ],
      "execution_count": 60,
      "outputs": [
        {
          "output_type": "execute_result",
          "data": {
            "text/plain": [
              "0.732991912"
            ]
          },
          "metadata": {},
          "execution_count": 60
        }
      ]
    }
  ]
}