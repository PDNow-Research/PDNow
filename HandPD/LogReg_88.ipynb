{
  "nbformat": 4,
  "nbformat_minor": 0,
  "metadata": {
    "colab": {
      "name": "LogReg_88.ipynb",
      "provenance": [],
      "collapsed_sections": [],
      "include_colab_link": true
    },
    "kernelspec": {
      "name": "python3",
      "display_name": "Python 3"
    },
    "language_info": {
      "name": "python"
    }
  },
  "cells": [
    {
      "cell_type": "markdown",
      "metadata": {
        "id": "view-in-github",
        "colab_type": "text"
      },
      "source": [
        "<a href=\"https://colab.research.google.com/github/PDNow-Research/PDNow/blob/main/HandPD/LogReg_88.ipynb\" target=\"_parent\"><img src=\"https://colab.research.google.com/assets/colab-badge.svg\" alt=\"Open In Colab\"/></a>"
      ]
    },
    {
      "cell_type": "code",
      "metadata": {
        "id": "QE4ruysJCQn7",
        "colab": {
          "base_uri": "https://localhost:8080/"
        },
        "outputId": "639a7e36-8013-45f2-ad81-9bc5dccad49e"
      },
      "source": [
        "from google.colab import drive\n",
        "drive.mount(\"/content/drive\")"
      ],
      "execution_count": 1,
      "outputs": [
        {
          "output_type": "stream",
          "name": "stdout",
          "text": [
            "Drive already mounted at /content/drive; to attempt to forcibly remount, call drive.mount(\"/content/drive\", force_remount=True).\n"
          ]
        }
      ]
    },
    {
      "cell_type": "code",
      "metadata": {
        "id": "v9Y4RF0dDEV2"
      },
      "source": [
        "# Data Science\n",
        "import re\n",
        "import csv\n",
        "import json\n",
        "import itertools\n",
        "from tqdm import tqdm\n",
        "import numpy as np\n",
        "import pandas as pd\n",
        "import seaborn as sns\n",
        "import matplotlib.pyplot as plt\n",
        "from scipy import interp\n",
        "from sklearn.datasets import make_classification\n",
        "from sklearn.linear_model import LogisticRegression\n",
        "from sklearn.metrics import roc_curve, roc_auc_score\n",
        "from sklearn.metrics import auc\n",
        "\n",
        "# General\n",
        "import os\n",
        "import sys\n",
        "import time\n",
        "import math\n",
        "import random\n",
        "from datetime import date\n",
        "import warnings\n",
        "current_date = date.today()\n",
        "warnings.filterwarnings(\"ignore\")\n",
        "\n",
        "# SVM\n",
        "from sklearn.svm import SVC\n",
        "from sklearn.linear_model import LogisticRegression\n",
        "from sklearn.preprocessing import StandardScaler\n",
        "from sklearn.pipeline import make_pipeline\n",
        "from sklearn.model_selection import train_test_split\n",
        "from sklearn.model_selection import cross_validate\n",
        "from sklearn.metrics import confusion_matrix, average_precision_score, classification_report, accuracy_score\n",
        "from sklearn.model_selection import StratifiedKFold, KFold\n"
      ],
      "execution_count": 2,
      "outputs": []
    },
    {
      "cell_type": "markdown",
      "metadata": {
        "id": "KiYJUXkvb5o4"
      },
      "source": [
        "Here's the plan. \n",
        "\n",
        "To train the model, we're going to combine a BUNCH of data. Data from Meander && Spiral from Old Hand PD and New Hand PD. Just to see how it goes. Then we'll try more detailed extraction.\n",
        "\n",
        "Also, try only on new with age?\n",
        "\n",
        "Run simple SVM based on output of neural network model and age and some other stats :)"
      ]
    },
    {
      "cell_type": "markdown",
      "metadata": {
        "id": "9QeSebGfnM4l"
      },
      "source": [
        "CAN POSSIBLY: just extract 5 PD patients and 5 control patients for testing from new hand pd set and just train on everything else. That should be fine...... Then ez to test, just pass those in and evaluate results per patient, perhaps reach 90% accuracy with this \n",
        "\n",
        "We also do cross validation/validation set? then.\n",
        "\n",
        "also, hyperparameter tuning? Can get above 90% accuracy maybe with that!\n",
        "\n",
        "Discuss more with TT"
      ]
    },
    {
      "cell_type": "markdown",
      "metadata": {
        "id": "TxETajX6baom"
      },
      "source": [
        "### Extracting from Old Hand PD"
      ]
    },
    {
      "cell_type": "code",
      "metadata": {
        "id": "-ZTgvIpSDSKk"
      },
      "source": [
        "spiral_df = pd.read_csv('/content/drive/My Drive/Data/HandPD-Replication/Spiral_HandPD.txt', delimiter=' ', index_col=0, names=['Image', 'Label', 'RMS', 'Max_dist', 'Min_dist', 'SD', 'MRT', 'Max_ET', 'Min_ET', 'SD_ET', 'HT_ET_Diff'])"
      ],
      "execution_count": 3,
      "outputs": []
    },
    {
      "cell_type": "code",
      "metadata": {
        "colab": {
          "base_uri": "https://localhost:8080/"
        },
        "id": "S-wXrWJC95kU",
        "outputId": "aa5ae2ad-343b-4d88-aee5-1c46130f98bb"
      },
      "source": [
        "spiral_df.shape"
      ],
      "execution_count": 4,
      "outputs": [
        {
          "output_type": "execute_result",
          "data": {
            "text/plain": [
              "(368, 10)"
            ]
          },
          "metadata": {},
          "execution_count": 4
        }
      ]
    },
    {
      "cell_type": "code",
      "metadata": {
        "id": "k8GfG8Od97zF",
        "colab": {
          "base_uri": "https://localhost:8080/"
        },
        "outputId": "0dc583cb-59a4-41d8-af17-77222f4199b3"
      },
      "source": [
        "spiral_df['Label'].value_counts()"
      ],
      "execution_count": 5,
      "outputs": [
        {
          "output_type": "execute_result",
          "data": {
            "text/plain": [
              "2    296\n",
              "1     72\n",
              "Name: Label, dtype: int64"
            ]
          },
          "metadata": {},
          "execution_count": 5
        }
      ]
    },
    {
      "cell_type": "code",
      "metadata": {
        "colab": {
          "base_uri": "https://localhost:8080/"
        },
        "id": "W0xamWY3fRY_",
        "outputId": "1baa76e6-790d-437b-8074-02eb247f020d"
      },
      "source": [
        "spiral_df.dtypes"
      ],
      "execution_count": 6,
      "outputs": [
        {
          "output_type": "execute_result",
          "data": {
            "text/plain": [
              "Label           int64\n",
              "RMS           float64\n",
              "Max_dist      float64\n",
              "Min_dist      float64\n",
              "SD            float64\n",
              "MRT           float64\n",
              "Max_ET        float64\n",
              "Min_ET        float64\n",
              "SD_ET         float64\n",
              "HT_ET_Diff    float64\n",
              "dtype: object"
            ]
          },
          "metadata": {},
          "execution_count": 6
        }
      ]
    },
    {
      "cell_type": "code",
      "metadata": {
        "id": "fGBnOZkJkLHl"
      },
      "source": [
        "# extracting necessary columns from spiral df\n",
        "X_spiral = spiral_df[['RMS', 'Max_dist', 'Min_dist', 'SD', 'MRT', 'Max_ET', 'Min_ET', 'SD_ET', 'HT_ET_Diff']]\n",
        "y_spiral = spiral_df['Label']\n",
        "\n",
        "y_spiral = pd.DataFrame(y_spiral)"
      ],
      "execution_count": 7,
      "outputs": []
    },
    {
      "cell_type": "code",
      "metadata": {
        "id": "2Ka51zlVEk7r"
      },
      "source": [
        "meander_df = pd.read_csv('/content/drive/My Drive/Data/HandPD-Replication/Meander_HandPD.txt', delimiter=' ', index_col=0, names=['Image', 'Label', 'RMS', 'Max_dist', 'Min_dist', 'SD', 'MRT', 'Max_ET', 'Min_ET', 'SD_ET', 'HT_ET_Diff'])"
      ],
      "execution_count": 8,
      "outputs": []
    },
    {
      "cell_type": "code",
      "metadata": {
        "colab": {
          "base_uri": "https://localhost:8080/"
        },
        "id": "JCbwMDV1EuCh",
        "outputId": "6ae43a41-82a3-45ba-a17e-e99b0dc5fb04"
      },
      "source": [
        "meander_df.shape"
      ],
      "execution_count": 9,
      "outputs": [
        {
          "output_type": "execute_result",
          "data": {
            "text/plain": [
              "(368, 10)"
            ]
          },
          "metadata": {},
          "execution_count": 9
        }
      ]
    },
    {
      "cell_type": "code",
      "metadata": {
        "colab": {
          "base_uri": "https://localhost:8080/"
        },
        "id": "tr-12febcL_-",
        "outputId": "6676c7db-fadd-418b-f802-7a54869f49a4"
      },
      "source": [
        "spiral_df['Label'].value_counts()"
      ],
      "execution_count": 10,
      "outputs": [
        {
          "output_type": "execute_result",
          "data": {
            "text/plain": [
              "2    296\n",
              "1     72\n",
              "Name: Label, dtype: int64"
            ]
          },
          "metadata": {},
          "execution_count": 10
        }
      ]
    },
    {
      "cell_type": "code",
      "metadata": {
        "id": "zxINl8cckPmX"
      },
      "source": [
        "# choosing all patients from meander_df\n",
        "X_meander = meander_df[['RMS', 'Max_dist', 'Min_dist', 'SD', 'MRT', 'Max_ET', 'Min_ET', 'SD_ET', 'HT_ET_Diff']]\n",
        "\n",
        "y_meander = meander_df['Label']\n",
        "y_meander = pd.DataFrame(y_meander)"
      ],
      "execution_count": 11,
      "outputs": []
    },
    {
      "cell_type": "code",
      "metadata": {
        "id": "8khuHmNlcdSf"
      },
      "source": [
        "index_list = y_meander.index[y_meander['Label'] == 2].tolist()"
      ],
      "execution_count": 12,
      "outputs": []
    },
    {
      "cell_type": "code",
      "metadata": {
        "colab": {
          "base_uri": "https://localhost:8080/"
        },
        "id": "r8wKgdkOdN0_",
        "outputId": "db800a49-6efd-4685-a336-867f01a021b9"
      },
      "source": [
        "len(index_list)"
      ],
      "execution_count": 13,
      "outputs": [
        {
          "output_type": "execute_result",
          "data": {
            "text/plain": [
              "296"
            ]
          },
          "metadata": {},
          "execution_count": 13
        }
      ]
    },
    {
      "cell_type": "code",
      "metadata": {
        "id": "yTECGMyTc61x"
      },
      "source": [
        "import random \n",
        "\n",
        "def delete_random_elems(input_list, n):\n",
        "    to_delete = set(random.sample(range(len(input_list)), n))\n",
        "    return [x for i,x in enumerate(input_list) if not i in to_delete]"
      ],
      "execution_count": 14,
      "outputs": []
    },
    {
      "cell_type": "code",
      "metadata": {
        "id": "TPXivJ2XdC1_"
      },
      "source": [
        "new_list = delete_random_elems(index_list, 256)"
      ],
      "execution_count": 15,
      "outputs": []
    },
    {
      "cell_type": "code",
      "metadata": {
        "colab": {
          "base_uri": "https://localhost:8080/"
        },
        "id": "RUyYj4D-c01C",
        "outputId": "bccd3acd-ca2b-4430-844c-4b698ac949b3"
      },
      "source": [
        "len(new_list)"
      ],
      "execution_count": 16,
      "outputs": [
        {
          "output_type": "execute_result",
          "data": {
            "text/plain": [
              "40"
            ]
          },
          "metadata": {},
          "execution_count": 16
        }
      ]
    },
    {
      "cell_type": "code",
      "metadata": {
        "id": "nJ15MZxedoYj"
      },
      "source": [
        "X_meander = X_meander.drop(new_list)\n",
        "y_meander = y_meander.drop(new_list)"
      ],
      "execution_count": 17,
      "outputs": []
    },
    {
      "cell_type": "markdown",
      "metadata": {
        "id": "c_cUPCHZbdd5"
      },
      "source": [
        "### Extracting from New HandPD"
      ]
    },
    {
      "cell_type": "code",
      "metadata": {
        "id": "N3pZ8CPHbguD"
      },
      "source": [
        "new_spiral_df = pd.read_csv('/content/drive/My Drive/Data/HandPD-Replication/NewSpiral.csv', skiprows = 1, index_col = 0, names=['ID_EXAM', 'Image', 'ID_PATIENT', 'Label', 'GENDER', 'HANDEDNESS', 'AGE', 'RMS', 'Max_dist', 'Min_dist', 'SD', 'MRT', 'Max_ET', 'Min_ET', 'SD_ET', 'HT_ET_Diff']) # skiprows to remove first row of old columns names"
      ],
      "execution_count": 18,
      "outputs": []
    },
    {
      "cell_type": "code",
      "metadata": {
        "colab": {
          "base_uri": "https://localhost:8080/"
        },
        "id": "LYCC5iI3c8co",
        "outputId": "24086112-0230-4aab-b488-e8730390e64d"
      },
      "source": [
        "new_spiral_df.columns"
      ],
      "execution_count": 19,
      "outputs": [
        {
          "output_type": "execute_result",
          "data": {
            "text/plain": [
              "Index(['Image', 'ID_PATIENT', 'Label', 'GENDER', 'HANDEDNESS', 'AGE', 'RMS',\n",
              "       'Max_dist', 'Min_dist', 'SD', 'MRT', 'Max_ET', 'Min_ET', 'SD_ET',\n",
              "       'HT_ET_Diff'],\n",
              "      dtype='object')"
            ]
          },
          "metadata": {},
          "execution_count": 19
        }
      ]
    },
    {
      "cell_type": "code",
      "metadata": {
        "id": "Hy5HJiafc8X5"
      },
      "source": [
        "# choosing only control from new spiral_df\n",
        "X_new_spiral = new_spiral_df [new_spiral_df[\"Label\"] == 1]\n",
        "X_new_spiral = X_new_spiral[['RMS', 'Max_dist', 'Min_dist', 'SD', 'MRT', 'Max_ET', 'Min_ET', 'SD_ET', 'HT_ET_Diff']]\n",
        "\n",
        "y_new_spiral = new_spiral_df [new_spiral_df[\"Label\"] == 1]\n",
        "y_new_spiral = y_new_spiral['Label']\n",
        "\n",
        "y_new_spiral = pd.DataFrame(y_new_spiral)"
      ],
      "execution_count": 20,
      "outputs": []
    },
    {
      "cell_type": "code",
      "metadata": {
        "colab": {
          "base_uri": "https://localhost:8080/"
        },
        "id": "tWAfjdTci0IR",
        "outputId": "1f0221a7-0e65-4877-fa21-652d84cc68fd"
      },
      "source": [
        "y_new_spiral.value_counts()"
      ],
      "execution_count": 21,
      "outputs": [
        {
          "output_type": "execute_result",
          "data": {
            "text/plain": [
              "Label\n",
              "1        140\n",
              "dtype: int64"
            ]
          },
          "metadata": {},
          "execution_count": 21
        }
      ]
    },
    {
      "cell_type": "code",
      "metadata": {
        "id": "E38DKtSPdSpK"
      },
      "source": [
        "new_meander_df = pd.read_csv('/content/drive/My Drive/Data/HandPD-Replication/NewMeander.csv', index_col = 0, skiprows =1, names=['ID_EXAM', 'Image', 'ID_PATIENT', 'Label', 'GENDER', 'HANDEDNESS', 'AGE', 'RMS', 'Max_dist', 'Min_dist', 'SD', 'MRT', 'Max_ET', 'Min_ET', 'SD_ET', 'HT_ET_Diff'])"
      ],
      "execution_count": 22,
      "outputs": []
    },
    {
      "cell_type": "code",
      "metadata": {
        "id": "FS12q27kdWGv"
      },
      "source": [
        "# choosing only control from new meander_df\n",
        "X_new_meander = new_meander_df [new_meander_df[\"Label\"] == 1]\n",
        "X_new_meander = X_new_meander[['RMS', 'Max_dist', 'Min_dist', 'SD', 'MRT', 'Max_ET', 'Min_ET', 'SD_ET', 'HT_ET_Diff']]\n",
        "\n",
        "y_new_meander = new_meander_df [new_meander_df[\"Label\"] == 1]\n",
        "y_new_meander = y_new_meander['Label']\n",
        "\n",
        "y_new_meander = pd.DataFrame(y_new_meander)"
      ],
      "execution_count": 23,
      "outputs": []
    },
    {
      "cell_type": "code",
      "metadata": {
        "colab": {
          "base_uri": "https://localhost:8080/"
        },
        "id": "n8_V3XRYj2z3",
        "outputId": "0fcb939d-4b1c-4021-e6e5-a25037a3cac2"
      },
      "source": [
        "y_new_meander.value_counts()"
      ],
      "execution_count": 24,
      "outputs": [
        {
          "output_type": "execute_result",
          "data": {
            "text/plain": [
              "Label\n",
              "1        140\n",
              "dtype: int64"
            ]
          },
          "metadata": {},
          "execution_count": 24
        }
      ]
    },
    {
      "cell_type": "markdown",
      "metadata": {
        "id": "UYbNZkMjkfdw"
      },
      "source": [
        "##**Preprocessing**"
      ]
    },
    {
      "cell_type": "markdown",
      "metadata": {
        "id": "WcwtQpQfktl7"
      },
      "source": [
        "###**Normalization**\n",
        "\n",
        "fi' = (fi - avg)/std"
      ]
    },
    {
      "cell_type": "code",
      "metadata": {
        "id": "VTfbmKgjjFEt"
      },
      "source": [
        "# normalization with the paper's method (formula above)\n",
        "def feature_normalization(df):\n",
        "  avg_dev = df.mad(axis = 0)\n",
        "  std_dev = df.std(axis = 0)\n",
        "\n",
        "  df = df.sub(avg_dev)\n",
        "  df = df.divide(std_dev)\n",
        "\n",
        "  return df"
      ],
      "execution_count": 25,
      "outputs": []
    },
    {
      "cell_type": "code",
      "metadata": {
        "id": "cj04_g4PmGGn"
      },
      "source": [
        "# normalize separately\n",
        "\n",
        "X_spiral = feature_normalization(X_spiral)\n",
        "X_new_spiral = feature_normalization(X_new_spiral)\n",
        "\n",
        "X_meander = feature_normalization(X_meander)\n",
        "X_new_meander = feature_normalization(X_new_meander)"
      ],
      "execution_count": 26,
      "outputs": []
    },
    {
      "cell_type": "code",
      "metadata": {
        "id": "v9SLYrDAeAp4"
      },
      "source": [
        "X = pd.concat([X_spiral, X_new_spiral, X_meander,  X_new_meander])\n",
        "y = pd.concat([y_spiral, y_new_spiral, y_meander,  y_new_meander])"
      ],
      "execution_count": 27,
      "outputs": []
    },
    {
      "cell_type": "code",
      "metadata": {
        "colab": {
          "base_uri": "https://localhost:8080/"
        },
        "id": "rLohH_EGk-YR",
        "outputId": "f01c8a2d-f229-4521-cecb-b6135e543540"
      },
      "source": [
        "X.shape"
      ],
      "execution_count": 28,
      "outputs": [
        {
          "output_type": "execute_result",
          "data": {
            "text/plain": [
              "(976, 9)"
            ]
          },
          "metadata": {},
          "execution_count": 28
        }
      ]
    },
    {
      "cell_type": "code",
      "metadata": {
        "colab": {
          "base_uri": "https://localhost:8080/"
        },
        "id": "41YOg5rUkbnt",
        "outputId": "15087079-0fc6-4992-f163-825d0e373616"
      },
      "source": [
        "y.shape"
      ],
      "execution_count": 29,
      "outputs": [
        {
          "output_type": "execute_result",
          "data": {
            "text/plain": [
              "(976, 1)"
            ]
          },
          "metadata": {},
          "execution_count": 29
        }
      ]
    },
    {
      "cell_type": "code",
      "metadata": {
        "colab": {
          "base_uri": "https://localhost:8080/"
        },
        "id": "cPa85Zkue-HE",
        "outputId": "5f80f5a9-8710-44b2-a9b2-6e0014567293"
      },
      "source": [
        "y.value_counts()"
      ],
      "execution_count": 30,
      "outputs": [
        {
          "output_type": "execute_result",
          "data": {
            "text/plain": [
              "Label\n",
              "2        552\n",
              "1        424\n",
              "dtype: int64"
            ]
          },
          "metadata": {},
          "execution_count": 30
        }
      ]
    },
    {
      "cell_type": "code",
      "metadata": {
        "colab": {
          "base_uri": "https://localhost:8080/",
          "height": 204
        },
        "id": "kEgHIZ3jl14z",
        "outputId": "eaef8cb9-9357-4a2e-cd08-7cb4d17f8c24"
      },
      "source": [
        "X.head()"
      ],
      "execution_count": 31,
      "outputs": [
        {
          "output_type": "execute_result",
          "data": {
            "text/html": [
              "<div>\n",
              "<style scoped>\n",
              "    .dataframe tbody tr th:only-of-type {\n",
              "        vertical-align: middle;\n",
              "    }\n",
              "\n",
              "    .dataframe tbody tr th {\n",
              "        vertical-align: top;\n",
              "    }\n",
              "\n",
              "    .dataframe thead th {\n",
              "        text-align: right;\n",
              "    }\n",
              "</style>\n",
              "<table border=\"1\" class=\"dataframe\">\n",
              "  <thead>\n",
              "    <tr style=\"text-align: right;\">\n",
              "      <th></th>\n",
              "      <th>RMS</th>\n",
              "      <th>Max_dist</th>\n",
              "      <th>Min_dist</th>\n",
              "      <th>SD</th>\n",
              "      <th>MRT</th>\n",
              "      <th>Max_ET</th>\n",
              "      <th>Min_ET</th>\n",
              "      <th>SD_ET</th>\n",
              "      <th>HT_ET_Diff</th>\n",
              "    </tr>\n",
              "  </thead>\n",
              "  <tbody>\n",
              "    <tr>\n",
              "      <th>1</th>\n",
              "      <td>3.953296</td>\n",
              "      <td>7.503577</td>\n",
              "      <td>8.383075</td>\n",
              "      <td>-0.287542</td>\n",
              "      <td>9.035704</td>\n",
              "      <td>29.544260</td>\n",
              "      <td>-0.599821</td>\n",
              "      <td>7.554104</td>\n",
              "      <td>4.542268</td>\n",
              "    </tr>\n",
              "    <tr>\n",
              "      <th>2</th>\n",
              "      <td>4.729035</td>\n",
              "      <td>7.218892</td>\n",
              "      <td>9.437859</td>\n",
              "      <td>-0.273001</td>\n",
              "      <td>8.942024</td>\n",
              "      <td>28.127675</td>\n",
              "      <td>2.269529</td>\n",
              "      <td>5.968046</td>\n",
              "      <td>5.044539</td>\n",
              "    </tr>\n",
              "    <tr>\n",
              "      <th>3</th>\n",
              "      <td>4.400975</td>\n",
              "      <td>7.777041</td>\n",
              "      <td>9.538302</td>\n",
              "      <td>-0.310731</td>\n",
              "      <td>7.894690</td>\n",
              "      <td>30.282525</td>\n",
              "      <td>-0.351338</td>\n",
              "      <td>6.804375</td>\n",
              "      <td>4.677052</td>\n",
              "    </tr>\n",
              "    <tr>\n",
              "      <th>4</th>\n",
              "      <td>4.689209</td>\n",
              "      <td>8.296090</td>\n",
              "      <td>8.790853</td>\n",
              "      <td>-0.310870</td>\n",
              "      <td>7.816136</td>\n",
              "      <td>29.976401</td>\n",
              "      <td>0.068378</td>\n",
              "      <td>6.020384</td>\n",
              "      <td>4.525678</td>\n",
              "    </tr>\n",
              "    <tr>\n",
              "      <th>5</th>\n",
              "      <td>4.736282</td>\n",
              "      <td>8.436356</td>\n",
              "      <td>10.051400</td>\n",
              "      <td>-0.303248</td>\n",
              "      <td>7.461486</td>\n",
              "      <td>31.546333</td>\n",
              "      <td>-0.673607</td>\n",
              "      <td>6.484831</td>\n",
              "      <td>3.786487</td>\n",
              "    </tr>\n",
              "  </tbody>\n",
              "</table>\n",
              "</div>"
            ],
            "text/plain": [
              "        RMS  Max_dist   Min_dist  ...    Min_ET     SD_ET  HT_ET_Diff\n",
              "1  3.953296  7.503577   8.383075  ... -0.599821  7.554104    4.542268\n",
              "2  4.729035  7.218892   9.437859  ...  2.269529  5.968046    5.044539\n",
              "3  4.400975  7.777041   9.538302  ... -0.351338  6.804375    4.677052\n",
              "4  4.689209  8.296090   8.790853  ...  0.068378  6.020384    4.525678\n",
              "5  4.736282  8.436356  10.051400  ... -0.673607  6.484831    3.786487\n",
              "\n",
              "[5 rows x 9 columns]"
            ]
          },
          "metadata": {},
          "execution_count": 31
        }
      ]
    },
    {
      "cell_type": "markdown",
      "metadata": {
        "id": "gbeBsENVlQka"
      },
      "source": [
        "###Train-Test-Split"
      ]
    },
    {
      "cell_type": "code",
      "metadata": {
        "id": "j5LoRggSlWmb"
      },
      "source": [
        "# Train-Test Split, 80% train, 20% test, stratification across PD diagnosis (label)\n",
        "y_label = y.to_numpy()\n",
        "X_train, X_test, y_train, y_test = train_test_split(X, y, random_state = 0, test_size = 0.15, stratify = y_label)\n"
      ],
      "execution_count": 32,
      "outputs": []
    },
    {
      "cell_type": "code",
      "metadata": {
        "id": "f-1hFnrflXcY"
      },
      "source": [
        "X_train = X_train.reset_index(drop = True)\n",
        "y_train = y_train.reset_index(drop = True)"
      ],
      "execution_count": 33,
      "outputs": []
    },
    {
      "cell_type": "code",
      "metadata": {
        "id": "dzmGJ3zcKV6v"
      },
      "source": [
        "X_test = X_test.reset_index(drop = True)\n",
        "y_test = y_test.reset_index(drop = True)"
      ],
      "execution_count": 34,
      "outputs": []
    },
    {
      "cell_type": "code",
      "metadata": {
        "colab": {
          "base_uri": "https://localhost:8080/"
        },
        "id": "Q0nNKvifVR1G",
        "outputId": "b0d1f466-ee13-4e19-e305-75c41f767e08"
      },
      "source": [
        "len(y_train), len(y_test)"
      ],
      "execution_count": 35,
      "outputs": [
        {
          "output_type": "execute_result",
          "data": {
            "text/plain": [
              "(829, 147)"
            ]
          },
          "metadata": {},
          "execution_count": 35
        }
      ]
    },
    {
      "cell_type": "markdown",
      "metadata": {
        "id": "lk6pv-0Vlpjz"
      },
      "source": [
        "###**Quick Check**"
      ]
    },
    {
      "cell_type": "code",
      "metadata": {
        "id": "4hJk0lL5YSe2"
      },
      "source": [
        "y_train = y_train - 1"
      ],
      "execution_count": 36,
      "outputs": []
    },
    {
      "cell_type": "code",
      "metadata": {
        "colab": {
          "base_uri": "https://localhost:8080/"
        },
        "id": "UvM6vqR6Ko52",
        "outputId": "da89e2af-77ed-42f0-d3e5-ad37991466a3"
      },
      "source": [
        "y_train.value_counts()"
      ],
      "execution_count": 37,
      "outputs": [
        {
          "output_type": "execute_result",
          "data": {
            "text/plain": [
              "Label\n",
              "1        469\n",
              "0        360\n",
              "dtype: int64"
            ]
          },
          "metadata": {},
          "execution_count": 37
        }
      ]
    },
    {
      "cell_type": "code",
      "metadata": {
        "id": "DQFk9LX3YUzD"
      },
      "source": [
        "y_test = y_test - 1"
      ],
      "execution_count": 38,
      "outputs": []
    },
    {
      "cell_type": "code",
      "metadata": {
        "colab": {
          "base_uri": "https://localhost:8080/"
        },
        "id": "b783Fe5KKqXX",
        "outputId": "ab1067eb-a7ed-474f-976b-cc05540c31c5"
      },
      "source": [
        "y_test.value_counts()"
      ],
      "execution_count": 39,
      "outputs": [
        {
          "output_type": "execute_result",
          "data": {
            "text/plain": [
              "Label\n",
              "1        83\n",
              "0        64\n",
              "dtype: int64"
            ]
          },
          "metadata": {},
          "execution_count": 39
        }
      ]
    },
    {
      "cell_type": "code",
      "metadata": {
        "id": "fQW90SlRWRP5"
      },
      "source": [
        "# y_val.value_counts()"
      ],
      "execution_count": 40,
      "outputs": []
    },
    {
      "cell_type": "markdown",
      "metadata": {
        "id": "Cjpq2zygSj6D"
      },
      "source": [
        "## **Log Reg Implementation**"
      ]
    },
    {
      "cell_type": "code",
      "metadata": {
        "colab": {
          "base_uri": "https://localhost:8080/"
        },
        "id": "4HgTc6W1SlZK",
        "outputId": "0c803a07-9892-40f3-fbbc-3d84c3bcaeaf"
      },
      "source": [
        "clf = LogisticRegression(penalty='l1', C = 1.0, class_weight=None, random_state = None, solver = 'liblinear')\n",
        "clf.fit(X_train, y_train)"
      ],
      "execution_count": 41,
      "outputs": [
        {
          "output_type": "execute_result",
          "data": {
            "text/plain": [
              "LogisticRegression(C=1.0, class_weight=None, dual=False, fit_intercept=True,\n",
              "                   intercept_scaling=1, l1_ratio=None, max_iter=100,\n",
              "                   multi_class='auto', n_jobs=None, penalty='l1',\n",
              "                   random_state=None, solver='liblinear', tol=0.0001, verbose=0,\n",
              "                   warm_start=False)"
            ]
          },
          "metadata": {},
          "execution_count": 41
        }
      ]
    },
    {
      "cell_type": "code",
      "metadata": {
        "colab": {
          "base_uri": "https://localhost:8080/"
        },
        "id": "fKSLGWYeTYPX",
        "outputId": "4d0db683-a091-486c-8d1d-8be83904ef5c"
      },
      "source": [
        "clf.score(X_test, y_test)"
      ],
      "execution_count": 42,
      "outputs": [
        {
          "output_type": "execute_result",
          "data": {
            "text/plain": [
              "0.8299319727891157"
            ]
          },
          "metadata": {},
          "execution_count": 42
        }
      ]
    },
    {
      "cell_type": "code",
      "metadata": {
        "id": "XYjXFXWbi5Ix"
      },
      "source": [
        "y_pred = clf.predict(X_test)\n",
        "y_proba = clf.predict_proba(X_test)"
      ],
      "execution_count": 43,
      "outputs": []
    },
    {
      "cell_type": "code",
      "metadata": {
        "id": "l12PcV2ETLfv"
      },
      "source": [
        "target_names = ['Control', 'PD']\n",
        "results = classification_report(y_test, y_pred, target_names = target_names, output_dict=True)\n",
        "results = pd.DataFrame(results).transpose()\n",
        "conf_mat = confusion_matrix(y_test, y_pred)"
      ],
      "execution_count": 44,
      "outputs": []
    },
    {
      "cell_type": "code",
      "metadata": {
        "colab": {
          "base_uri": "https://localhost:8080/"
        },
        "id": "kCx3CPuxi68-",
        "outputId": "11f487ee-46f0-4d24-8213-e5c5065efc8d"
      },
      "source": [
        "conf_mat"
      ],
      "execution_count": 45,
      "outputs": [
        {
          "output_type": "execute_result",
          "data": {
            "text/plain": [
              "array([[50, 14],\n",
              "       [11, 72]])"
            ]
          },
          "metadata": {},
          "execution_count": 45
        }
      ]
    },
    {
      "cell_type": "markdown",
      "metadata": {
        "id": "y1SDNLlenfUX"
      },
      "source": [
        "##**Results**"
      ]
    },
    {
      "cell_type": "code",
      "metadata": {
        "colab": {
          "base_uri": "https://localhost:8080/"
        },
        "id": "su5RMaC_MaPF",
        "outputId": "7ffbeb38-f1c1-40af-a05e-c8f8aaa91352"
      },
      "source": [
        "clf.score(X_test, y_test)"
      ],
      "execution_count": 46,
      "outputs": [
        {
          "output_type": "execute_result",
          "data": {
            "text/plain": [
              "0.8299319727891157"
            ]
          },
          "metadata": {},
          "execution_count": 46
        }
      ]
    },
    {
      "cell_type": "code",
      "metadata": {
        "id": "U2-32Q_IqcLW"
      },
      "source": [
        "threshold_pred = (clf.predict_proba(X_test)[:,1] >= 0.38).astype(int)\n",
        "threshold_acc = accuracy_score(y_test, threshold_pred)"
      ],
      "execution_count": 47,
      "outputs": []
    },
    {
      "cell_type": "code",
      "metadata": {
        "colab": {
          "base_uri": "https://localhost:8080/"
        },
        "id": "E68PB6Feqqha",
        "outputId": "8b630dee-c765-4f21-8956-9ad3dc84e44c"
      },
      "source": [
        "threshold_acc"
      ],
      "execution_count": 48,
      "outputs": [
        {
          "output_type": "execute_result",
          "data": {
            "text/plain": [
              "0.8571428571428571"
            ]
          },
          "metadata": {},
          "execution_count": 48
        }
      ]
    },
    {
      "cell_type": "code",
      "metadata": {
        "colab": {
          "base_uri": "https://localhost:8080/"
        },
        "id": "COxdAJXi58JI",
        "outputId": "18b0d29b-a8f3-4f34-800b-59df57e295c2"
      },
      "source": [
        "y_test.dtypes"
      ],
      "execution_count": 49,
      "outputs": [
        {
          "output_type": "execute_result",
          "data": {
            "text/plain": [
              "Label    int64\n",
              "dtype: object"
            ]
          },
          "metadata": {},
          "execution_count": 49
        }
      ]
    },
    {
      "cell_type": "code",
      "metadata": {
        "id": "wZf0iMccM767"
      },
      "source": [
        "target_names = ['Control', 'PD']\n",
        "results = classification_report(y_test, y_pred, target_names = target_names, output_dict=True)\n",
        "results = pd.DataFrame(results).transpose()\n",
        "conf_mat = confusion_matrix(y_test, y_pred)"
      ],
      "execution_count": 50,
      "outputs": []
    },
    {
      "cell_type": "code",
      "metadata": {
        "colab": {
          "base_uri": "https://localhost:8080/",
          "height": 204
        },
        "id": "thzR3k3lMz31",
        "outputId": "b08fa2fa-022c-4131-a3cd-bc6a03f5eca3"
      },
      "source": [
        "results"
      ],
      "execution_count": 51,
      "outputs": [
        {
          "output_type": "execute_result",
          "data": {
            "text/html": [
              "<div>\n",
              "<style scoped>\n",
              "    .dataframe tbody tr th:only-of-type {\n",
              "        vertical-align: middle;\n",
              "    }\n",
              "\n",
              "    .dataframe tbody tr th {\n",
              "        vertical-align: top;\n",
              "    }\n",
              "\n",
              "    .dataframe thead th {\n",
              "        text-align: right;\n",
              "    }\n",
              "</style>\n",
              "<table border=\"1\" class=\"dataframe\">\n",
              "  <thead>\n",
              "    <tr style=\"text-align: right;\">\n",
              "      <th></th>\n",
              "      <th>precision</th>\n",
              "      <th>recall</th>\n",
              "      <th>f1-score</th>\n",
              "      <th>support</th>\n",
              "    </tr>\n",
              "  </thead>\n",
              "  <tbody>\n",
              "    <tr>\n",
              "      <th>Control</th>\n",
              "      <td>0.819672</td>\n",
              "      <td>0.781250</td>\n",
              "      <td>0.800000</td>\n",
              "      <td>64.000000</td>\n",
              "    </tr>\n",
              "    <tr>\n",
              "      <th>PD</th>\n",
              "      <td>0.837209</td>\n",
              "      <td>0.867470</td>\n",
              "      <td>0.852071</td>\n",
              "      <td>83.000000</td>\n",
              "    </tr>\n",
              "    <tr>\n",
              "      <th>accuracy</th>\n",
              "      <td>0.829932</td>\n",
              "      <td>0.829932</td>\n",
              "      <td>0.829932</td>\n",
              "      <td>0.829932</td>\n",
              "    </tr>\n",
              "    <tr>\n",
              "      <th>macro avg</th>\n",
              "      <td>0.828441</td>\n",
              "      <td>0.824360</td>\n",
              "      <td>0.826036</td>\n",
              "      <td>147.000000</td>\n",
              "    </tr>\n",
              "    <tr>\n",
              "      <th>weighted avg</th>\n",
              "      <td>0.829574</td>\n",
              "      <td>0.829932</td>\n",
              "      <td>0.829401</td>\n",
              "      <td>147.000000</td>\n",
              "    </tr>\n",
              "  </tbody>\n",
              "</table>\n",
              "</div>"
            ],
            "text/plain": [
              "              precision    recall  f1-score     support\n",
              "Control        0.819672  0.781250  0.800000   64.000000\n",
              "PD             0.837209  0.867470  0.852071   83.000000\n",
              "accuracy       0.829932  0.829932  0.829932    0.829932\n",
              "macro avg      0.828441  0.824360  0.826036  147.000000\n",
              "weighted avg   0.829574  0.829932  0.829401  147.000000"
            ]
          },
          "metadata": {},
          "execution_count": 51
        }
      ]
    },
    {
      "cell_type": "code",
      "metadata": {
        "colab": {
          "base_uri": "https://localhost:8080/"
        },
        "id": "zAXqc2uPNeq5",
        "outputId": "0efa8b44-6201-4882-930e-ec2edd0d24f9"
      },
      "source": [
        "conf_mat"
      ],
      "execution_count": 52,
      "outputs": [
        {
          "output_type": "execute_result",
          "data": {
            "text/plain": [
              "array([[50, 14],\n",
              "       [11, 72]])"
            ]
          },
          "metadata": {},
          "execution_count": 52
        }
      ]
    },
    {
      "cell_type": "markdown",
      "metadata": {
        "id": "ROjqTUdi1gDf"
      },
      "source": [
        "* Consider probability threshold"
      ]
    },
    {
      "cell_type": "code",
      "metadata": {
        "colab": {
          "base_uri": "https://localhost:8080/"
        },
        "id": "vwthqW4OQD2z",
        "outputId": "cd48b335-7297-47d1-ba8a-933d0edf0778"
      },
      "source": [
        "TN, FP, FN, TP = conf_mat.ravel()\n",
        "\n",
        "# Sensitivity, hit rate, recall, or true positive rate\n",
        "TPR = TP/(TP+FN)\n",
        "\n",
        "# Specificity or true negative rate\n",
        "TNR = TN/(TN+FP) \n",
        "\n",
        "# Precision or positive predictive value\n",
        "PPV = TP/(TP+FP)\n",
        "\n",
        "# Negative predictive value\n",
        "NPV = TN/(TN+FN)\n",
        "\n",
        "# Fall out or false positive rate\n",
        "FPR = FP/(FP+TN)\n",
        "\n",
        "# False negative rate\n",
        "FNR = FN/(TP+FN)\n",
        "\n",
        "# False discovery rate\n",
        "FDR = FP/(TP+FP)\n",
        "\n",
        "print(\"TP: \", TP)\n",
        "print(\"TN: \", TN)\n",
        "print(\"FP: \", FP)\n",
        "print(\"FN: \", FN)\n",
        "\n",
        "print(\"Sensitivity: \", TPR)\n",
        "print(\"Specificity: \", TNR)\n",
        "print(\"NPV: \", NPV)\n",
        "print(\"PPV: \", PPV)"
      ],
      "execution_count": 53,
      "outputs": [
        {
          "output_type": "stream",
          "name": "stdout",
          "text": [
            "TP:  72\n",
            "TN:  50\n",
            "FP:  14\n",
            "FN:  11\n",
            "Sensitivity:  0.8674698795180723\n",
            "Specificity:  0.78125\n",
            "NPV:  0.819672131147541\n",
            "PPV:  0.8372093023255814\n"
          ]
        }
      ]
    },
    {
      "cell_type": "markdown",
      "metadata": {
        "id": "6q-82qHV56E3"
      },
      "source": [
        "Can we somehow get the weights for the model to learn which features are considered most useful?"
      ]
    },
    {
      "cell_type": "code",
      "metadata": {
        "colab": {
          "base_uri": "https://localhost:8080/"
        },
        "id": "wiWPXS6NlaIz",
        "outputId": "54690d7c-e9ba-4a01-a825-e2da95a5ae35"
      },
      "source": [
        "for penalty, solver in [['liblinear', 'l1'], ['saga', 'l1'], ['newton-cg', 'l2'], \n",
        "                        ['lbfgs','l2'], ['saga', 'l2'], ['saga', 'l2'], ['liblinear', 'l2'], ['saga', 'elasticnet']]:\n",
        "\n",
        "  print (penalty, solver)"
      ],
      "execution_count": 54,
      "outputs": [
        {
          "output_type": "stream",
          "name": "stdout",
          "text": [
            "liblinear l1\n",
            "saga l1\n",
            "newton-cg l2\n",
            "lbfgs l2\n",
            "saga l2\n",
            "saga l2\n",
            "liblinear l2\n",
            "saga elasticnet\n"
          ]
        }
      ]
    },
    {
      "cell_type": "markdown",
      "metadata": {
        "id": "PCCs0BCQTtAf"
      },
      "source": [
        "## **Cross-Validation**"
      ]
    },
    {
      "cell_type": "code",
      "metadata": {
        "colab": {
          "base_uri": "https://localhost:8080/"
        },
        "id": "Ki36I9ByeU-7",
        "outputId": "166fc11e-9abd-4eaa-f2ba-5eec42d0a8cb"
      },
      "source": [
        "scores_df = pd.DataFrame(columns = ['acc', 'thresh', 'c', 'cw', 'fi', 'penalty', 'solver', 'l1_ratio'])\n",
        "\n",
        "for i in range(10):\n",
        "  train_labels = y_train.to_numpy() # train is statified so stratifying on train_labels should be stratified to whole set\n",
        "  X_train, X_val, y_train, y_val = train_test_split(X_train, y_train, random_state = i, test_size = 0.1, stratify = train_labels)\n",
        "  \n",
        "  X_val = X_val.reset_index(drop = True)\n",
        "  y_val = y_val.reset_index(drop = True)\n",
        "\n",
        "  for solver, penalty, l1_ratio in [['liblinear', 'l1', None], ['saga', 'l1', None], ['newton-cg', 'l2', None], ['lbfgs','l2', None], \n",
        "                          ['saga', 'l2', None], ['saga', 'l2', None], ['liblinear', 'l2', None], ['saga', 'elasticnet', 0.5],\n",
        "                          ['saga', 'elasticnet', 0.25], ['saga', 'elasticnet', 0.75]]:\n",
        "    for c in [0.01, 0.1, 1, 10, 100]:\n",
        "      for cw in ['balanced', None]:\n",
        "        for fi in [True, False]:\n",
        "          clf = LogisticRegression(penalty=penalty, C = c, class_weight=cw, random_state = None, solver = solver, fit_intercept = fi, l1_ratio = l1_ratio)\n",
        "          clf.fit(X_train, y_train)\n",
        "\n",
        "          thresholds = list(np.arange(0, 1, 0.01))\n",
        "          best_acc = 0.0\n",
        "          best_threshold = 0.0\n",
        "\n",
        "          # tuning for best threshold\n",
        "          for thresh in thresholds:\n",
        "            y_pred = (clf.predict_proba(X_val)[:,1] >= thresh).astype(int)\n",
        "            curr_acc = accuracy_score(y_val, y_pred)\n",
        "            if (curr_acc >= best_acc):\n",
        "              best_acc = curr_acc\n",
        "              best_threshold = thresh\n",
        "\n",
        "          row_df = pd.DataFrame([[best_acc, best_threshold, c, cw, fi, penalty, solver, l1_ratio]], columns = ['acc', 'thresh', 'c', 'cw', 'fi', 'penalty', 'solver', 'l1_ratio'])\n",
        "      \n",
        "          scores_df = pd.concat([scores_df, row_df], ignore_index = True, axis=0)\n",
        "  print (f'fold number {i+1} completed, score number {scores_df.shape[0]}')"
      ],
      "execution_count": 55,
      "outputs": [
        {
          "output_type": "stream",
          "name": "stdout",
          "text": [
            "fold number 1 completed, score number 200\n",
            "fold number 2 completed, score number 400\n",
            "fold number 3 completed, score number 600\n",
            "fold number 4 completed, score number 800\n",
            "fold number 5 completed, score number 1000\n",
            "fold number 6 completed, score number 1200\n",
            "fold number 7 completed, score number 1400\n",
            "fold number 8 completed, score number 1600\n",
            "fold number 9 completed, score number 1800\n",
            "fold number 10 completed, score number 2000\n"
          ]
        }
      ]
    },
    {
      "cell_type": "code",
      "metadata": {
        "id": "nAepl_pYh_Lv"
      },
      "source": [
        "best_index = scores_df['acc'].idxmax()"
      ],
      "execution_count": 56,
      "outputs": []
    },
    {
      "cell_type": "code",
      "metadata": {
        "colab": {
          "base_uri": "https://localhost:8080/"
        },
        "id": "jxiplfm7qPlP",
        "outputId": "2e08dc6e-9eab-4070-94e0-41f13dec00e3"
      },
      "source": [
        "scores_df.loc[best_index]"
      ],
      "execution_count": 57,
      "outputs": [
        {
          "output_type": "execute_result",
          "data": {
            "text/plain": [
              "acc            0.9375\n",
              "thresh           0.59\n",
              "c                 0.1\n",
              "cw           balanced\n",
              "fi               True\n",
              "penalty            l1\n",
              "solver      liblinear\n",
              "l1_ratio         None\n",
              "Name: 1804, dtype: object"
            ]
          },
          "metadata": {},
          "execution_count": 57
        }
      ]
    },
    {
      "cell_type": "code",
      "metadata": {
        "colab": {
          "base_uri": "https://localhost:8080/"
        },
        "id": "NOtYZKDsdgMu",
        "outputId": "8c302171-a15c-477b-97ab-c4b813552b7c"
      },
      "source": [
        "best_avg_acc = 0.0\n",
        "best_avg_hyps = [0.0, 0.0, 0.0, 0.0, 0.0, 0.0]\n",
        "for solver, penalty, l1_ratio in [['liblinear', 'l1', None], ['saga', 'l1', None], ['newton-cg', 'l2', None], ['lbfgs','l2', None], \n",
        "                          ['saga', 'l2', None], ['saga', 'l2', None], ['liblinear', 'l2', None], ['saga', 'elasticnet', 0.5],\n",
        "                          ['saga', 'elasticnet', 0.25], ['saga', 'elasticnet', 0.75]]:\n",
        "    for c in [0.01, 0.1, 1, 10, 100]:\n",
        "      for cw in ['balanced', None]:\n",
        "        for fi in [True, False]:\n",
        "          filtered = scores_df[(scores_df[\"solver\"] == solver) & (scores_df['c'] == c) & (scores_df[\"cw\"] == cw) & \n",
        "                              (scores_df[\"fi\"] == fi) & (scores_df[\"penalty\"] == penalty) & (scores_df[\"l1_ratio\"] == l1_ratio)]\n",
        "          avg_acc = filtered[\"acc\"].mean()\n",
        "          if (avg_acc >= best_avg_acc):\n",
        "            best_avg_acc = avg_acc\n",
        "            hyps = [c, cw, fi, penalty, solver, l1_ratio]\n",
        "            best_avg_hyps = hyps\n",
        "print(\"best_avg_acc: \", best_avg_acc)\n",
        "print(best_avg_hyps)"
      ],
      "execution_count": 58,
      "outputs": [
        {
          "output_type": "stream",
          "name": "stdout",
          "text": [
            "best_avg_acc:  0.8480405985980839\n",
            "[0.1, 'balanced', True, 'elasticnet', 'saga', 0.75]\n"
          ]
        }
      ]
    },
    {
      "cell_type": "code",
      "metadata": {
        "id": "oBjx6k9ctLkU"
      },
      "source": [
        "best_scores = scores_df[(scores_df[\"solver\"] == 'saga') & (scores_df[\"penalty\"] == 'elasticnet') & (scores_df[\"fi\"] == True) & \n",
        "                        (scores_df[\"c\"] == 0.01) & (scores_df[\"cw\"] == 'balanced') & (scores_df[\"l1_ratio\"] == 0.5)]"
      ],
      "execution_count": 59,
      "outputs": []
    },
    {
      "cell_type": "code",
      "metadata": {
        "colab": {
          "base_uri": "https://localhost:8080/",
          "height": 359
        },
        "id": "cS2TjS4ch5hx",
        "outputId": "d27bf7f7-56ad-4dc2-8421-911c350bd249"
      },
      "source": [
        "best_scores"
      ],
      "execution_count": 60,
      "outputs": [
        {
          "output_type": "execute_result",
          "data": {
            "text/html": [
              "<div>\n",
              "<style scoped>\n",
              "    .dataframe tbody tr th:only-of-type {\n",
              "        vertical-align: middle;\n",
              "    }\n",
              "\n",
              "    .dataframe tbody tr th {\n",
              "        vertical-align: top;\n",
              "    }\n",
              "\n",
              "    .dataframe thead th {\n",
              "        text-align: right;\n",
              "    }\n",
              "</style>\n",
              "<table border=\"1\" class=\"dataframe\">\n",
              "  <thead>\n",
              "    <tr style=\"text-align: right;\">\n",
              "      <th></th>\n",
              "      <th>acc</th>\n",
              "      <th>thresh</th>\n",
              "      <th>c</th>\n",
              "      <th>cw</th>\n",
              "      <th>fi</th>\n",
              "      <th>penalty</th>\n",
              "      <th>solver</th>\n",
              "      <th>l1_ratio</th>\n",
              "    </tr>\n",
              "  </thead>\n",
              "  <tbody>\n",
              "    <tr>\n",
              "      <th>140</th>\n",
              "      <td>0.843373</td>\n",
              "      <td>0.51</td>\n",
              "      <td>0.01</td>\n",
              "      <td>balanced</td>\n",
              "      <td>True</td>\n",
              "      <td>elasticnet</td>\n",
              "      <td>saga</td>\n",
              "      <td>0.5</td>\n",
              "    </tr>\n",
              "    <tr>\n",
              "      <th>340</th>\n",
              "      <td>0.773333</td>\n",
              "      <td>0.48</td>\n",
              "      <td>0.01</td>\n",
              "      <td>balanced</td>\n",
              "      <td>True</td>\n",
              "      <td>elasticnet</td>\n",
              "      <td>saga</td>\n",
              "      <td>0.5</td>\n",
              "    </tr>\n",
              "    <tr>\n",
              "      <th>540</th>\n",
              "      <td>0.852941</td>\n",
              "      <td>0.44</td>\n",
              "      <td>0.01</td>\n",
              "      <td>balanced</td>\n",
              "      <td>True</td>\n",
              "      <td>elasticnet</td>\n",
              "      <td>saga</td>\n",
              "      <td>0.5</td>\n",
              "    </tr>\n",
              "    <tr>\n",
              "      <th>740</th>\n",
              "      <td>0.852459</td>\n",
              "      <td>0.41</td>\n",
              "      <td>0.01</td>\n",
              "      <td>balanced</td>\n",
              "      <td>True</td>\n",
              "      <td>elasticnet</td>\n",
              "      <td>saga</td>\n",
              "      <td>0.5</td>\n",
              "    </tr>\n",
              "    <tr>\n",
              "      <th>940</th>\n",
              "      <td>0.872727</td>\n",
              "      <td>0.47</td>\n",
              "      <td>0.01</td>\n",
              "      <td>balanced</td>\n",
              "      <td>True</td>\n",
              "      <td>elasticnet</td>\n",
              "      <td>saga</td>\n",
              "      <td>0.5</td>\n",
              "    </tr>\n",
              "    <tr>\n",
              "      <th>1140</th>\n",
              "      <td>0.795918</td>\n",
              "      <td>0.46</td>\n",
              "      <td>0.01</td>\n",
              "      <td>balanced</td>\n",
              "      <td>True</td>\n",
              "      <td>elasticnet</td>\n",
              "      <td>saga</td>\n",
              "      <td>0.5</td>\n",
              "    </tr>\n",
              "    <tr>\n",
              "      <th>1340</th>\n",
              "      <td>0.840909</td>\n",
              "      <td>0.44</td>\n",
              "      <td>0.01</td>\n",
              "      <td>balanced</td>\n",
              "      <td>True</td>\n",
              "      <td>elasticnet</td>\n",
              "      <td>saga</td>\n",
              "      <td>0.5</td>\n",
              "    </tr>\n",
              "    <tr>\n",
              "      <th>1540</th>\n",
              "      <td>0.850000</td>\n",
              "      <td>0.44</td>\n",
              "      <td>0.01</td>\n",
              "      <td>balanced</td>\n",
              "      <td>True</td>\n",
              "      <td>elasticnet</td>\n",
              "      <td>saga</td>\n",
              "      <td>0.5</td>\n",
              "    </tr>\n",
              "    <tr>\n",
              "      <th>1740</th>\n",
              "      <td>0.805556</td>\n",
              "      <td>0.48</td>\n",
              "      <td>0.01</td>\n",
              "      <td>balanced</td>\n",
              "      <td>True</td>\n",
              "      <td>elasticnet</td>\n",
              "      <td>saga</td>\n",
              "      <td>0.5</td>\n",
              "    </tr>\n",
              "    <tr>\n",
              "      <th>1940</th>\n",
              "      <td>0.906250</td>\n",
              "      <td>0.49</td>\n",
              "      <td>0.01</td>\n",
              "      <td>balanced</td>\n",
              "      <td>True</td>\n",
              "      <td>elasticnet</td>\n",
              "      <td>saga</td>\n",
              "      <td>0.5</td>\n",
              "    </tr>\n",
              "  </tbody>\n",
              "</table>\n",
              "</div>"
            ],
            "text/plain": [
              "           acc  thresh     c        cw    fi     penalty solver l1_ratio\n",
              "140   0.843373    0.51  0.01  balanced  True  elasticnet   saga      0.5\n",
              "340   0.773333    0.48  0.01  balanced  True  elasticnet   saga      0.5\n",
              "540   0.852941    0.44  0.01  balanced  True  elasticnet   saga      0.5\n",
              "740   0.852459    0.41  0.01  balanced  True  elasticnet   saga      0.5\n",
              "940   0.872727    0.47  0.01  balanced  True  elasticnet   saga      0.5\n",
              "1140  0.795918    0.46  0.01  balanced  True  elasticnet   saga      0.5\n",
              "1340  0.840909    0.44  0.01  balanced  True  elasticnet   saga      0.5\n",
              "1540  0.850000    0.44  0.01  balanced  True  elasticnet   saga      0.5\n",
              "1740  0.805556    0.48  0.01  balanced  True  elasticnet   saga      0.5\n",
              "1940  0.906250    0.49  0.01  balanced  True  elasticnet   saga      0.5"
            ]
          },
          "metadata": {},
          "execution_count": 60
        }
      ]
    },
    {
      "cell_type": "code",
      "metadata": {
        "id": "yBK8GG4HhpRC"
      },
      "source": [
        "thresh_arr = best_scores['thresh'].to_list()"
      ],
      "execution_count": 61,
      "outputs": []
    },
    {
      "cell_type": "code",
      "metadata": {
        "colab": {
          "base_uri": "https://localhost:8080/"
        },
        "id": "JaXHsdk1jIqT",
        "outputId": "a827fcc7-8725-4f58-be09-5496f6b5d7a9"
      },
      "source": [
        "thresh_arr"
      ],
      "execution_count": 62,
      "outputs": [
        {
          "output_type": "execute_result",
          "data": {
            "text/plain": [
              "[0.51,\n",
              " 0.48,\n",
              " 0.44,\n",
              " 0.41000000000000003,\n",
              " 0.47000000000000003,\n",
              " 0.46,\n",
              " 0.44,\n",
              " 0.44,\n",
              " 0.48,\n",
              " 0.49]"
            ]
          },
          "metadata": {},
          "execution_count": 62
        }
      ]
    },
    {
      "cell_type": "markdown",
      "metadata": {
        "id": "kQBnVZKtj5l0"
      },
      "source": [
        "### Validation ROC Curves"
      ]
    },
    {
      "cell_type": "code",
      "metadata": {
        "colab": {
          "base_uri": "https://localhost:8080/",
          "height": 505
        },
        "id": "W1WZEvQrd9A-",
        "outputId": "94389d8f-ebe7-4e5b-fdcd-1cae4a50f75e"
      },
      "source": [
        "tprs = []\n",
        "base_fpr = np.linspace(0, 1, 101)\n",
        "\n",
        "plt.figure(figsize=(5, 5))\n",
        "\n",
        "for i in range(10):\n",
        "  train_labels = y_train.to_numpy() # train is statified so stratifying on train_labels should be stratified to whole set\n",
        "  X_train, X_val, y_train, y_val = train_test_split(X_train, y_train, random_state = i, test_size = 0.1, stratify = train_labels)\n",
        "  \n",
        "  X_val = X_val.reset_index(drop = True)\n",
        "  y_val = y_val.reset_index(drop = True)\n",
        "\n",
        "  clf = SVC(kernel = 'rbf', probability = True, class_weight = 'balanced', C = 100)\n",
        "  clf.fit(X_train, y_train)\n",
        "\n",
        "  y_pred = (clf.predict_proba(X_val)[:,1] >= thresh_arr[i]).astype(int) # optimal thresh is 0.59\n",
        "  curr_acc = accuracy_score(y_val, y_pred)\n",
        "  print(curr_acc)\n",
        "\n",
        "  fpr, tpr, _ = roc_curve(y_val, y_pred)\n",
        "  plt.plot(fpr, tpr, 'b', alpha=0.15)\n",
        "  tpr = interp(base_fpr, fpr, tpr)\n",
        "  tpr[0] = 0.0\n",
        "  tprs.append(tpr)\n",
        "\n",
        "\n",
        "tprs = np.array(tprs)\n",
        "mean_tprs = tprs.mean(axis=0)\n",
        "std = tprs.std(axis=0)\n",
        "\n",
        "tprs_upper = np.minimum(mean_tprs + std, 1)\n",
        "tprs_lower = mean_tprs - std\n",
        "\n",
        "\n",
        "plt.plot(base_fpr, mean_tprs, 'b')\n",
        "plt.fill_between(base_fpr, tprs_lower, tprs_upper, color='grey', alpha=0.3)\n",
        "\n",
        "plt.plot([0, 1], [0, 1],'r--')\n",
        "plt.xlim([-0.01, 1.01])\n",
        "plt.ylim([-0.01, 1.01])\n",
        "plt.ylabel('True Positive Rate')\n",
        "plt.xlabel('False Positive Rate')\n",
        "plt.axes().set_aspect('equal', 'datalim')\n",
        "plt.show()"
      ],
      "execution_count": 63,
      "outputs": [
        {
          "output_type": "stream",
          "name": "stdout",
          "text": [
            "0.8275862068965517\n",
            "0.8076923076923077\n",
            "0.875\n",
            "0.8571428571428571\n",
            "0.9473684210526315\n",
            "0.7058823529411765\n",
            "0.8\n",
            "0.7857142857142857\n",
            "0.8461538461538461\n",
            "1.0\n"
          ]
        },
        {
          "output_type": "display_data",
          "data": {
            "image/png": "[encoded data removed]",
            "text/plain": [
              "<Figure size 360x360 with 1 Axes>"
            ]
          },
          "metadata": {
            "needs_background": "light"
          }
        }
      ]
    },
    {
      "cell_type": "code",
      "metadata": {
        "id": "aCu84Rmdexbf"
      },
      "source": [
        ""
      ],
      "execution_count": 63,
      "outputs": []
    },
    {
      "cell_type": "code",
      "metadata": {
        "id": "yAeRpKpRj_E7"
      },
      "source": [
        ""
      ],
      "execution_count": 63,
      "outputs": []
    },
    {
      "cell_type": "markdown",
      "metadata": {
        "id": "o59Hkwzaj_l_"
      },
      "source": [
        "## **Test Set Results**"
      ]
    },
    {
      "cell_type": "code",
      "metadata": {
        "colab": {
          "base_uri": "https://localhost:8080/"
        },
        "id": "8IR3IPSvtvGQ",
        "outputId": "a12264e5-62d3-4de1-9068-dd20fbda34c1"
      },
      "source": [
        "clf = LogisticRegression(penalty='elasticnet', C = 0.01, class_weight='balanced', random_state = None, solver = 'saga', fit_intercept = True, l1_ratio = 0.5)\n",
        "clf.fit(X_train, y_train)"
      ],
      "execution_count": 64,
      "outputs": [
        {
          "output_type": "execute_result",
          "data": {
            "text/plain": [
              "LogisticRegression(C=0.01, class_weight='balanced', dual=False,\n",
              "                   fit_intercept=True, intercept_scaling=1, l1_ratio=0.5,\n",
              "                   max_iter=100, multi_class='auto', n_jobs=None,\n",
              "                   penalty='elasticnet', random_state=None, solver='saga',\n",
              "                   tol=0.0001, verbose=0, warm_start=False)"
            ]
          },
          "metadata": {},
          "execution_count": 64
        }
      ]
    },
    {
      "cell_type": "code",
      "metadata": {
        "colab": {
          "base_uri": "https://localhost:8080/"
        },
        "id": "V0V8n_0AiI4r",
        "outputId": "3b3e03f3-1b16-4436-cc90-3bc8c49dc8a8"
      },
      "source": [
        "thresholds = list(np.arange(0, 1, 0.01))\n",
        "\n",
        "best_thresh_acc = 0.0\n",
        "best_thresh = 0.0\n",
        "\n",
        "for thresh in thresholds:\n",
        "  threshold_pred = (clf.predict_proba(X_test)[:,1] >= thresh).astype(int)\n",
        "  threshold_acc = accuracy_score(y_test, threshold_pred)\n",
        "\n",
        "  if threshold_acc >= best_thresh_acc:\n",
        "    best_thresh_acc = threshold_acc\n",
        "    best_thresh = thresh\n",
        "\n",
        "print(best_thresh, best_thresh_acc)"
      ],
      "execution_count": 65,
      "outputs": [
        {
          "output_type": "stream",
          "name": "stdout",
          "text": [
            "0.5 0.8775510204081632\n"
          ]
        }
      ]
    },
    {
      "cell_type": "code",
      "metadata": {
        "id": "xEfvQ1XgjtaI"
      },
      "source": [
        "y_pred = (clf.predict_proba(X_test)[:,1] >= best_thresh).astype(int)\n",
        "y_probas = clf.predict_proba(X_test)[:,1]"
      ],
      "execution_count": 66,
      "outputs": []
    },
    {
      "cell_type": "code",
      "metadata": {
        "colab": {
          "base_uri": "https://localhost:8080/"
        },
        "id": "iqRg5h-vlEMG",
        "outputId": "9b863041-907c-4d06-ad25-b6f00b182593"
      },
      "source": [
        "roc_auc_score(y_test, y_probas)"
      ],
      "execution_count": 67,
      "outputs": [
        {
          "output_type": "execute_result",
          "data": {
            "text/plain": [
              "0.8256777108433735"
            ]
          },
          "metadata": {},
          "execution_count": 67
        }
      ]
    },
    {
      "cell_type": "code",
      "metadata": {
        "id": "aKZ9J7Zvjs6T"
      },
      "source": [
        "target_names = ['Control', 'PD']\n",
        "results = classification_report(y_test, y_pred, target_names = target_names, output_dict=True)\n",
        "results = pd.DataFrame(results).transpose()\n",
        "conf_mat = confusion_matrix(y_test, y_pred)"
      ],
      "execution_count": 68,
      "outputs": []
    },
    {
      "cell_type": "code",
      "metadata": {
        "colab": {
          "base_uri": "https://localhost:8080/"
        },
        "id": "YA4vR0fAj1bH",
        "outputId": "1851351b-42df-4e2c-fabb-3d7074ab8632"
      },
      "source": [
        "conf_mat"
      ],
      "execution_count": 69,
      "outputs": [
        {
          "output_type": "execute_result",
          "data": {
            "text/plain": [
              "array([[46, 18],\n",
              "       [ 0, 83]])"
            ]
          },
          "metadata": {},
          "execution_count": 69
        }
      ]
    },
    {
      "cell_type": "code",
      "metadata": {
        "colab": {
          "base_uri": "https://localhost:8080/"
        },
        "id": "UNggpPAIjoku",
        "outputId": "17a3e3c7-821c-4cb0-94a7-184cf255b79a"
      },
      "source": [
        "TN, FP, FN, TP = conf_mat.ravel()\n",
        "\n",
        "# Sensitivity, hit rate, recall, or true positive rate\n",
        "TPR = TP/(TP+FN)\n",
        "\n",
        "# Specificity or true negative rate\n",
        "TNR = TN/(TN+FP) \n",
        "\n",
        "# Precision or positive predictive value\n",
        "PPV = TP/(TP+FP)\n",
        "\n",
        "# Negative predictive value\n",
        "NPV = TN/(TN+FN)\n",
        "\n",
        "# Fall out or false positive rate\n",
        "FPR = FP/(FP+TN)\n",
        "\n",
        "# False negative rate\n",
        "FNR = FN/(TP+FN)\n",
        "\n",
        "# False discovery rate\n",
        "FDR = FP/(TP+FP)\n",
        "\n",
        "print(\"TP: \", TP)\n",
        "print(\"TN: \", TN)\n",
        "print(\"FP: \", FP)\n",
        "print(\"FN: \", FN)\n",
        "\n",
        "print(\"Sensitivity: \", TPR)\n",
        "print(\"Specificity: \", TNR)\n",
        "print(\"NPV: \", NPV)\n",
        "print(\"PPV: \", PPV)"
      ],
      "execution_count": 70,
      "outputs": [
        {
          "output_type": "stream",
          "name": "stdout",
          "text": [
            "TP:  83\n",
            "TN:  46\n",
            "FP:  18\n",
            "FN:  0\n",
            "Sensitivity:  1.0\n",
            "Specificity:  0.71875\n",
            "NPV:  1.0\n",
            "PPV:  0.8217821782178217\n"
          ]
        }
      ]
    },
    {
      "cell_type": "code",
      "metadata": {
        "id": "HPj0wO_1jgPa"
      },
      "source": [
        ""
      ],
      "execution_count": 70,
      "outputs": []
    }
  ]
}