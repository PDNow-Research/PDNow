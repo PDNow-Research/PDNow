{
  "nbformat": 4,
  "nbformat_minor": 0,
  "metadata": {
    "colab": {
      "name": "SVM_Exact_Replication_Experiment1.ipynb",
      "provenance": [],
      "collapsed_sections": [],
      "authorship_tag": "ABX9TyPd9Glv4SGvSoZjUxQ/YYwW",
      "include_colab_link": true
    },
    "kernelspec": {
      "name": "python3",
      "display_name": "Python 3"
    },
    "language_info": {
      "name": "python"
    }
  },
  "cells": [
    {
      "cell_type": "markdown",
      "metadata": {
        "id": "view-in-github",
        "colab_type": "text"
      },
      "source": [
        "<a href=\"https://colab.research.google.com/github/PDNow-Research/PDNow/blob/main/HandPD/SVM_Exact_Replication_Experiment1.ipynb\" target=\"_parent\"><img src=\"https://colab.research.google.com/assets/colab-badge.svg\" alt=\"Open In Colab\"/></a>"
      ]
    },
    {
      "cell_type": "code",
      "metadata": {
        "colab": {
          "base_uri": "https://localhost:8080/"
        },
        "id": "QE4ruysJCQn7",
        "outputId": "c51797d8-db5e-41d6-bd8b-7006c2e02d4a"
      },
      "source": [
        "from google.colab import drive\n",
        "drive.mount(\"/content/drive\")"
      ],
      "execution_count": 1,
      "outputs": [
        {
          "output_type": "stream",
          "text": [
            "Mounted at /content/drive\n"
          ],
          "name": "stdout"
        }
      ]
    },
    {
      "cell_type": "code",
      "metadata": {
        "id": "v9Y4RF0dDEV2"
      },
      "source": [
        "# Data Science\n",
        "import re\n",
        "import csv\n",
        "import json\n",
        "import itertools\n",
        "from tqdm import tqdm\n",
        "import numpy as np\n",
        "import pandas as pd\n",
        "import seaborn as sns\n",
        "import matplotlib.pyplot as plt\n",
        "\n",
        "# General\n",
        "import os\n",
        "import sys\n",
        "import time\n",
        "import math\n",
        "import random\n",
        "from datetime import date\n",
        "import warnings\n",
        "current_date = date.today()\n",
        "warnings.filterwarnings(\"ignore\")\n",
        "\n",
        "# SVM\n",
        "from sklearn.svm import SVC\n",
        "from sklearn.preprocessing import StandardScaler\n",
        "from sklearn.pipeline import make_pipeline\n",
        "from sklearn.model_selection import train_test_split\n",
        "from sklearn.metrics import confusion_matrix, average_precision_score, classification_report"
      ],
      "execution_count": 2,
      "outputs": []
    },
    {
      "cell_type": "code",
      "metadata": {
        "id": "-ZTgvIpSDSKk"
      },
      "source": [
        "#NewSpiral is from the new HandPD dataset. The new one also comes with images and such, but we are using the data that has the exact same features from old HandPd dataset, except also includes patient ID.\n",
        "spiral_df = pd.read_csv('/content/drive/My Drive/Data/HandPD-Replication/NewSpiral.csv')"
      ],
      "execution_count": 12,
      "outputs": []
    },
    {
      "cell_type": "code",
      "metadata": {
        "colab": {
          "base_uri": "https://localhost:8080/"
        },
        "id": "RsaVCT9v8rvE",
        "outputId": "d2bfb623-e2f2-40cb-d113-95ed209473be"
      },
      "source": [
        "spiral_df.shape"
      ],
      "execution_count": 13,
      "outputs": [
        {
          "output_type": "execute_result",
          "data": {
            "text/plain": [
              "(264, 16)"
            ]
          },
          "metadata": {
            "tags": []
          },
          "execution_count": 13
        }
      ]
    },
    {
      "cell_type": "code",
      "metadata": {
        "colab": {
          "base_uri": "https://localhost:8080/"
        },
        "id": "7z1jjSTTpaVK",
        "outputId": "c04a4926-330d-4325-d808-f6231ff42bf1"
      },
      "source": [
        "spiral_df['CLASS_TYPE'].value_counts()"
      ],
      "execution_count": 14,
      "outputs": [
        {
          "output_type": "execute_result",
          "data": {
            "text/plain": [
              "1    140\n",
              "2    124\n",
              "Name: CLASS_TYPE, dtype: int64"
            ]
          },
          "metadata": {
            "tags": []
          },
          "execution_count": 14
        }
      ]
    },
    {
      "cell_type": "code",
      "metadata": {
        "id": "2Ka51zlVEk7r"
      },
      "source": [
        "meander_df = pd.read_csv('/content/drive/My Drive/Data/HandPD-Replication/NewMeander.csv')"
      ],
      "execution_count": 9,
      "outputs": []
    },
    {
      "cell_type": "code",
      "metadata": {
        "colab": {
          "base_uri": "https://localhost:8080/"
        },
        "id": "ubfz_BuCILmn",
        "outputId": "55e30157-2680-4c14-bfdb-233f0e441f8b"
      },
      "source": [
        "meander_df.columns"
      ],
      "execution_count": 10,
      "outputs": [
        {
          "output_type": "execute_result",
          "data": {
            "text/plain": [
              "Index(['_ID_EXAM', 'IMAGE_NAME', 'ID_PATIENT', 'CLASS_TYPE', 'GENDER',\n",
              "       'RIGH/LEFT-HANDED', 'AGE', 'RMS', 'MAX_BETWEEN_ET_HT',\n",
              "       'MIN_BETWEEN_ET_HT', 'STD_DEVIATION_ET_HT', 'MRT', 'MAX_HT', 'MIN_HT',\n",
              "       'STD_HT', 'CHANGES_FROM_NEGATIVE_TO_POSITIVE_BETWEEN_ET_HT'],\n",
              "      dtype='object')"
            ]
          },
          "metadata": {
            "tags": []
          },
          "execution_count": 10
        }
      ]
    },
    {
      "cell_type": "code",
      "metadata": {
        "colab": {
          "base_uri": "https://localhost:8080/"
        },
        "id": "PIH0dQZTsZnG",
        "outputId": "85e3c619-187a-4fd8-baff-deb0a76c474f"
      },
      "source": [
        "spiral_df['ID_PATIENT'].unique().tolist()"
      ],
      "execution_count": 15,
      "outputs": [
        {
          "output_type": "execute_result",
          "data": {
            "text/plain": [
              "[59,\n",
              " 76,\n",
              " 301,\n",
              " 102,\n",
              " 305,\n",
              " 104,\n",
              " 127,\n",
              " 297,\n",
              " 299,\n",
              " 98,\n",
              " 78,\n",
              " 80,\n",
              " 86,\n",
              " 1,\n",
              " 2,\n",
              " 3,\n",
              " 4,\n",
              " 5,\n",
              " 6,\n",
              " 7,\n",
              " 8,\n",
              " 9,\n",
              " 11,\n",
              " 12,\n",
              " 13,\n",
              " 14,\n",
              " 15,\n",
              " 16,\n",
              " 17,\n",
              " 18,\n",
              " 19,\n",
              " 20,\n",
              " 21,\n",
              " 22,\n",
              " 23,\n",
              " 143,\n",
              " 31,\n",
              " 38,\n",
              " 47,\n",
              " 53,\n",
              " 235,\n",
              " 253,\n",
              " 261,\n",
              " 268,\n",
              " 273,\n",
              " 281,\n",
              " 247,\n",
              " 149,\n",
              " 157,\n",
              " 165,\n",
              " 186,\n",
              " 192,\n",
              " 196,\n",
              " 207,\n",
              " 218,\n",
              " 203,\n",
              " 224,\n",
              " 153,\n",
              " 176,\n",
              " 181,\n",
              " 230,\n",
              " 138,\n",
              " 187]"
            ]
          },
          "metadata": {
            "tags": []
          },
          "execution_count": 15
        }
      ]
    },
    {
      "cell_type": "code",
      "metadata": {
        "colab": {
          "base_uri": "https://localhost:8080/",
          "height": 470
        },
        "id": "tIxpAqfNr2GB",
        "outputId": "9ce78044-f945-44e7-eae9-f2be9168b5e5"
      },
      "source": [
        "spiral_df[spiral_df['ID_PATIENT'] == 31]"
      ],
      "execution_count": 16,
      "outputs": [
        {
          "output_type": "execute_result",
          "data": {
            "text/html": [
              "<div>\n",
              "<style scoped>\n",
              "    .dataframe tbody tr th:only-of-type {\n",
              "        vertical-align: middle;\n",
              "    }\n",
              "\n",
              "    .dataframe tbody tr th {\n",
              "        vertical-align: top;\n",
              "    }\n",
              "\n",
              "    .dataframe thead th {\n",
              "        text-align: right;\n",
              "    }\n",
              "</style>\n",
              "<table border=\"1\" class=\"dataframe\">\n",
              "  <thead>\n",
              "    <tr style=\"text-align: right;\">\n",
              "      <th></th>\n",
              "      <th>_ID_EXAM</th>\n",
              "      <th>IMAGE_NAME</th>\n",
              "      <th>ID_PATIENT</th>\n",
              "      <th>CLASS_TYPE</th>\n",
              "      <th>GENDER</th>\n",
              "      <th>RIGH/LEFT-HANDED</th>\n",
              "      <th>AGE</th>\n",
              "      <th>RMS</th>\n",
              "      <th>MAX_BETWEEN_ET_HT</th>\n",
              "      <th>MIN_BETWEEN_ET_HT</th>\n",
              "      <th>STD_DEVIATION_ET_HT</th>\n",
              "      <th>MRT</th>\n",
              "      <th>MAX_HT</th>\n",
              "      <th>MIN_HT</th>\n",
              "      <th>STD_HT</th>\n",
              "      <th>CHANGES_FROM_NEGATIVE_TO_POSITIVE_BETWEEN_ET_HT</th>\n",
              "    </tr>\n",
              "  </thead>\n",
              "  <tbody>\n",
              "    <tr>\n",
              "      <th>141</th>\n",
              "      <td>P2</td>\n",
              "      <td>mea1-P2.jpg</td>\n",
              "      <td>31</td>\n",
              "      <td>2</td>\n",
              "      <td>F</td>\n",
              "      <td>R</td>\n",
              "      <td>59</td>\n",
              "      <td>3726.488067</td>\n",
              "      <td>5893.347008</td>\n",
              "      <td>37785.94529</td>\n",
              "      <td>0.306602</td>\n",
              "      <td>24.403343</td>\n",
              "      <td>179.554888</td>\n",
              "      <td>0.008474</td>\n",
              "      <td>1739.851476</td>\n",
              "      <td>0.267742</td>\n",
              "    </tr>\n",
              "    <tr>\n",
              "      <th>164</th>\n",
              "      <td>P26</td>\n",
              "      <td>mea1-P26.jpg</td>\n",
              "      <td>31</td>\n",
              "      <td>2</td>\n",
              "      <td>F</td>\n",
              "      <td>L</td>\n",
              "      <td>59</td>\n",
              "      <td>4587.166408</td>\n",
              "      <td>6561.231877</td>\n",
              "      <td>37033.96196</td>\n",
              "      <td>0.018378</td>\n",
              "      <td>22.328549</td>\n",
              "      <td>184.806500</td>\n",
              "      <td>0.057158</td>\n",
              "      <td>1388.315960</td>\n",
              "      <td>0.266871</td>\n",
              "    </tr>\n",
              "    <tr>\n",
              "      <th>172</th>\n",
              "      <td>P2</td>\n",
              "      <td>mea2-P2.jpg</td>\n",
              "      <td>31</td>\n",
              "      <td>2</td>\n",
              "      <td>F</td>\n",
              "      <td>R</td>\n",
              "      <td>59</td>\n",
              "      <td>3469.841548</td>\n",
              "      <td>5282.395889</td>\n",
              "      <td>33582.16916</td>\n",
              "      <td>0.000129</td>\n",
              "      <td>18.103416</td>\n",
              "      <td>170.531514</td>\n",
              "      <td>0.045752</td>\n",
              "      <td>1130.591703</td>\n",
              "      <td>0.204545</td>\n",
              "    </tr>\n",
              "    <tr>\n",
              "      <th>195</th>\n",
              "      <td>P26</td>\n",
              "      <td>mea2-P26.jpg</td>\n",
              "      <td>31</td>\n",
              "      <td>2</td>\n",
              "      <td>F</td>\n",
              "      <td>L</td>\n",
              "      <td>59</td>\n",
              "      <td>6210.596735</td>\n",
              "      <td>7365.102809</td>\n",
              "      <td>37813.01828</td>\n",
              "      <td>0.002359</td>\n",
              "      <td>20.958406</td>\n",
              "      <td>160.395258</td>\n",
              "      <td>0.024497</td>\n",
              "      <td>1281.094994</td>\n",
              "      <td>0.128205</td>\n",
              "    </tr>\n",
              "    <tr>\n",
              "      <th>203</th>\n",
              "      <td>P2</td>\n",
              "      <td>mea3-P2.jpg</td>\n",
              "      <td>31</td>\n",
              "      <td>2</td>\n",
              "      <td>F</td>\n",
              "      <td>R</td>\n",
              "      <td>59</td>\n",
              "      <td>5066.989293</td>\n",
              "      <td>7463.980609</td>\n",
              "      <td>35307.01259</td>\n",
              "      <td>0.000000</td>\n",
              "      <td>22.643151</td>\n",
              "      <td>176.392744</td>\n",
              "      <td>0.008650</td>\n",
              "      <td>1614.293957</td>\n",
              "      <td>0.246711</td>\n",
              "    </tr>\n",
              "    <tr>\n",
              "      <th>226</th>\n",
              "      <td>P26</td>\n",
              "      <td>mea3-P26.jpg</td>\n",
              "      <td>31</td>\n",
              "      <td>2</td>\n",
              "      <td>F</td>\n",
              "      <td>L</td>\n",
              "      <td>59</td>\n",
              "      <td>6544.571924</td>\n",
              "      <td>8612.729092</td>\n",
              "      <td>36154.08597</td>\n",
              "      <td>0.013198</td>\n",
              "      <td>27.237956</td>\n",
              "      <td>180.306815</td>\n",
              "      <td>0.003577</td>\n",
              "      <td>1761.998890</td>\n",
              "      <td>0.243421</td>\n",
              "    </tr>\n",
              "    <tr>\n",
              "      <th>234</th>\n",
              "      <td>P2</td>\n",
              "      <td>mea4-P2.jpg</td>\n",
              "      <td>31</td>\n",
              "      <td>2</td>\n",
              "      <td>F</td>\n",
              "      <td>R</td>\n",
              "      <td>59</td>\n",
              "      <td>3748.920825</td>\n",
              "      <td>6607.203671</td>\n",
              "      <td>36244.36135</td>\n",
              "      <td>0.001141</td>\n",
              "      <td>24.606020</td>\n",
              "      <td>179.208863</td>\n",
              "      <td>0.028543</td>\n",
              "      <td>1782.895068</td>\n",
              "      <td>0.263158</td>\n",
              "    </tr>\n",
              "    <tr>\n",
              "      <th>257</th>\n",
              "      <td>P26</td>\n",
              "      <td>mea4-P26.jpg</td>\n",
              "      <td>31</td>\n",
              "      <td>2</td>\n",
              "      <td>F</td>\n",
              "      <td>L</td>\n",
              "      <td>59</td>\n",
              "      <td>4921.267695</td>\n",
              "      <td>6948.380564</td>\n",
              "      <td>35304.08954</td>\n",
              "      <td>0.017636</td>\n",
              "      <td>25.699685</td>\n",
              "      <td>182.482156</td>\n",
              "      <td>0.055527</td>\n",
              "      <td>1698.122391</td>\n",
              "      <td>0.235915</td>\n",
              "    </tr>\n",
              "  </tbody>\n",
              "</table>\n",
              "</div>"
            ],
            "text/plain": [
              "    _ID_EXAM  ... CHANGES_FROM_NEGATIVE_TO_POSITIVE_BETWEEN_ET_HT\n",
              "141       P2  ...                                        0.267742\n",
              "164      P26  ...                                        0.266871\n",
              "172       P2  ...                                        0.204545\n",
              "195      P26  ...                                        0.128205\n",
              "203       P2  ...                                        0.246711\n",
              "226      P26  ...                                        0.243421\n",
              "234       P2  ...                                        0.263158\n",
              "257      P26  ...                                        0.235915\n",
              "\n",
              "[8 rows x 16 columns]"
            ]
          },
          "metadata": {
            "tags": []
          },
          "execution_count": 16
        }
      ]
    },
    {
      "cell_type": "markdown",
      "metadata": {
        "id": "Mtd63MORsMew"
      },
      "source": [
        "From the above, we can see that there are two patients with the ID of 31. So we're going to give one of them an ID of 32 instead, as that ID does not belong to any other."
      ]
    },
    {
      "cell_type": "code",
      "metadata": {
        "id": "lA93lE-IwPMp"
      },
      "source": [
        "spiral_df['ID_PATIENT'][spiral_df['_ID_EXAM'] == \"P26\"] = 32"
      ],
      "execution_count": 17,
      "outputs": []
    },
    {
      "cell_type": "code",
      "metadata": {
        "colab": {
          "base_uri": "https://localhost:8080/",
          "height": 278
        },
        "id": "aoXUXu9GuHUC",
        "outputId": "c72c5d78-49c0-4c06-d2e8-89c274846eb2"
      },
      "source": [
        "spiral_df[spiral_df['ID_PATIENT'] == 32]"
      ],
      "execution_count": 18,
      "outputs": [
        {
          "output_type": "execute_result",
          "data": {
            "text/html": [
              "<div>\n",
              "<style scoped>\n",
              "    .dataframe tbody tr th:only-of-type {\n",
              "        vertical-align: middle;\n",
              "    }\n",
              "\n",
              "    .dataframe tbody tr th {\n",
              "        vertical-align: top;\n",
              "    }\n",
              "\n",
              "    .dataframe thead th {\n",
              "        text-align: right;\n",
              "    }\n",
              "</style>\n",
              "<table border=\"1\" class=\"dataframe\">\n",
              "  <thead>\n",
              "    <tr style=\"text-align: right;\">\n",
              "      <th></th>\n",
              "      <th>_ID_EXAM</th>\n",
              "      <th>IMAGE_NAME</th>\n",
              "      <th>ID_PATIENT</th>\n",
              "      <th>CLASS_TYPE</th>\n",
              "      <th>GENDER</th>\n",
              "      <th>RIGH/LEFT-HANDED</th>\n",
              "      <th>AGE</th>\n",
              "      <th>RMS</th>\n",
              "      <th>MAX_BETWEEN_ET_HT</th>\n",
              "      <th>MIN_BETWEEN_ET_HT</th>\n",
              "      <th>STD_DEVIATION_ET_HT</th>\n",
              "      <th>MRT</th>\n",
              "      <th>MAX_HT</th>\n",
              "      <th>MIN_HT</th>\n",
              "      <th>STD_HT</th>\n",
              "      <th>CHANGES_FROM_NEGATIVE_TO_POSITIVE_BETWEEN_ET_HT</th>\n",
              "    </tr>\n",
              "  </thead>\n",
              "  <tbody>\n",
              "    <tr>\n",
              "      <th>164</th>\n",
              "      <td>P26</td>\n",
              "      <td>mea1-P26.jpg</td>\n",
              "      <td>32</td>\n",
              "      <td>2</td>\n",
              "      <td>F</td>\n",
              "      <td>L</td>\n",
              "      <td>59</td>\n",
              "      <td>4587.166408</td>\n",
              "      <td>6561.231877</td>\n",
              "      <td>37033.96196</td>\n",
              "      <td>0.018378</td>\n",
              "      <td>22.328549</td>\n",
              "      <td>184.806500</td>\n",
              "      <td>0.057158</td>\n",
              "      <td>1388.315960</td>\n",
              "      <td>0.266871</td>\n",
              "    </tr>\n",
              "    <tr>\n",
              "      <th>195</th>\n",
              "      <td>P26</td>\n",
              "      <td>mea2-P26.jpg</td>\n",
              "      <td>32</td>\n",
              "      <td>2</td>\n",
              "      <td>F</td>\n",
              "      <td>L</td>\n",
              "      <td>59</td>\n",
              "      <td>6210.596735</td>\n",
              "      <td>7365.102809</td>\n",
              "      <td>37813.01828</td>\n",
              "      <td>0.002359</td>\n",
              "      <td>20.958406</td>\n",
              "      <td>160.395258</td>\n",
              "      <td>0.024497</td>\n",
              "      <td>1281.094994</td>\n",
              "      <td>0.128205</td>\n",
              "    </tr>\n",
              "    <tr>\n",
              "      <th>226</th>\n",
              "      <td>P26</td>\n",
              "      <td>mea3-P26.jpg</td>\n",
              "      <td>32</td>\n",
              "      <td>2</td>\n",
              "      <td>F</td>\n",
              "      <td>L</td>\n",
              "      <td>59</td>\n",
              "      <td>6544.571924</td>\n",
              "      <td>8612.729092</td>\n",
              "      <td>36154.08597</td>\n",
              "      <td>0.013198</td>\n",
              "      <td>27.237956</td>\n",
              "      <td>180.306815</td>\n",
              "      <td>0.003577</td>\n",
              "      <td>1761.998890</td>\n",
              "      <td>0.243421</td>\n",
              "    </tr>\n",
              "    <tr>\n",
              "      <th>257</th>\n",
              "      <td>P26</td>\n",
              "      <td>mea4-P26.jpg</td>\n",
              "      <td>32</td>\n",
              "      <td>2</td>\n",
              "      <td>F</td>\n",
              "      <td>L</td>\n",
              "      <td>59</td>\n",
              "      <td>4921.267695</td>\n",
              "      <td>6948.380564</td>\n",
              "      <td>35304.08954</td>\n",
              "      <td>0.017636</td>\n",
              "      <td>25.699685</td>\n",
              "      <td>182.482156</td>\n",
              "      <td>0.055527</td>\n",
              "      <td>1698.122391</td>\n",
              "      <td>0.235915</td>\n",
              "    </tr>\n",
              "  </tbody>\n",
              "</table>\n",
              "</div>"
            ],
            "text/plain": [
              "    _ID_EXAM  ... CHANGES_FROM_NEGATIVE_TO_POSITIVE_BETWEEN_ET_HT\n",
              "164      P26  ...                                        0.266871\n",
              "195      P26  ...                                        0.128205\n",
              "226      P26  ...                                        0.243421\n",
              "257      P26  ...                                        0.235915\n",
              "\n",
              "[4 rows x 16 columns]"
            ]
          },
          "metadata": {
            "tags": []
          },
          "execution_count": 18
        }
      ]
    },
    {
      "cell_type": "markdown",
      "metadata": {
        "id": "UYbNZkMjkfdw"
      },
      "source": [
        "##**Preprocessing**"
      ]
    },
    {
      "cell_type": "markdown",
      "metadata": {
        "id": "WcwtQpQfktl7"
      },
      "source": [
        "###Normalization\n",
        "\n",
        "fi' = (fi - avg)/std"
      ]
    },
    {
      "cell_type": "code",
      "metadata": {
        "id": "VTfbmKgjjFEt"
      },
      "source": [
        "# normalization with the paper's method (formula above)\n",
        "def feature_normalization(df):\n",
        "  df_dup = df.copy()\n",
        "\n",
        "  df1 = df_dup[['RMS', 'MAX_BETWEEN_ET_HT',\n",
        "       'MIN_BETWEEN_ET_HT', 'STD_DEVIATION_ET_HT', 'MRT', 'MAX_HT', 'MIN_HT',\n",
        "       'STD_HT', 'CHANGES_FROM_NEGATIVE_TO_POSITIVE_BETWEEN_ET_HT']]\n",
        "\n",
        "  df2 = df_dup[['_ID_EXAM', 'IMAGE_NAME', 'ID_PATIENT', 'CLASS_TYPE', 'GENDER',\n",
        "       'RIGH/LEFT-HANDED', 'AGE']]\n",
        "  avg_dev = df1.mad(axis = 0)\n",
        "  std_dev = df1.std(axis = 0)\n",
        "\n",
        "  df1 = df1.sub(avg_dev)\n",
        "  df1 = df1.divide(std_dev)\n",
        "\n",
        "  return df2, df1"
      ],
      "execution_count": 19,
      "outputs": []
    },
    {
      "cell_type": "code",
      "metadata": {
        "id": "U4px6A393Q__"
      },
      "source": [
        "# normalizing spiral_df\n",
        "spiral_df = pd.concat(feature_normalization(spiral_df), axis = 1)"
      ],
      "execution_count": 20,
      "outputs": []
    },
    {
      "cell_type": "code",
      "metadata": {
        "id": "Yi7MJQt53h3-"
      },
      "source": [
        "# normalizing X_meander\n",
        "meander_df =  pd.concat(feature_normalization(meander_df), axis = 1)"
      ],
      "execution_count": 21,
      "outputs": []
    },
    {
      "cell_type": "markdown",
      "metadata": {
        "id": "cJCDFecAEwW5"
      },
      "source": [
        "###Data Splitting\n",
        "\"The first one [experiment] uses 75% of the dataset for training purposes and the remaining 25% for the classification phase. However, instead of partitioning the dataset randomly, we created four subsets in order to guarantee that each individual will be represented in the dataset with its 3 spirals/meanders, with the remaining one being used for classification purposes. In this experiment, the spiral- and meander-based datasets are used individually.\""
      ]
    },
    {
      "cell_type": "code",
      "metadata": {
        "id": "LmmIx7xYki-3"
      },
      "source": [
        "def split_data(df, dfarr):\n",
        "  df_IDs = df['ID_PATIENT'].unique().tolist()\n",
        "\n",
        "  for x in df_IDs:\n",
        "    for i in range(len(dfarr)):\n",
        "      row = df[df['ID_PATIENT'] == x].iloc[i]\n",
        "      dfarr[i] = dfarr[i].append(row)\n",
        "\n",
        "  return dfarr"
      ],
      "execution_count": 200,
      "outputs": []
    },
    {
      "cell_type": "code",
      "metadata": {
        "id": "PkHQQQxMivU6"
      },
      "source": [
        "def represented_train_test_split(df):\n",
        "\n",
        "  test = pd.DataFrame(columns = df.columns)\n",
        "  train = pd.DataFrame(columns = df.columns)\n",
        "\n",
        "  dfarr = [] # creating list of lists with 4 lists\n",
        "  for i in range(4):\n",
        "    dfarr.append(pd.DataFrame(columns = df.columns))\n",
        "\n",
        "  # Some patients may have multiple test IDs so we must base this on Patient ID, which can be same for PD and Ctrl groups. So we split them.\n",
        "  ctrl_df = df.query('CLASS_TYPE == 1')\n",
        "  pd_df = df.query('CLASS_TYPE == 2')\n",
        "\n",
        "  # we can append very easily because each of the IDs are different in ctrl_df and pd_df, since we split from X_spiral, which has all unique IDs\n",
        "  dfarr = split_data(ctrl_df, dfarr)\n",
        "  dfarr = split_data(pd_df, dfarr)\n",
        "\n",
        "  test = dfarr[0]\n",
        "  test = test.reset_index(drop=True)\n",
        "\n",
        "\n",
        "  train = pd.concat(dfarr[0:3]) # excludes 0\n",
        "  train = train.reset_index(drop=True)\n",
        "\n",
        "  return test, train"
      ],
      "execution_count": 211,
      "outputs": []
    },
    {
      "cell_type": "code",
      "metadata": {
        "id": "Phtl1I2zj_3y"
      },
      "source": [
        "spiral_test, spiral_train = represented_train_test_split(spiral_df)"
      ],
      "execution_count": 212,
      "outputs": []
    },
    {
      "cell_type": "code",
      "metadata": {
        "colab": {
          "base_uri": "https://localhost:8080/"
        },
        "id": "bdu8PFDZQd0u",
        "outputId": "01e7efa5-ed81-48e4-af8a-8717658b5671"
      },
      "source": [
        "spiral_test.shape"
      ],
      "execution_count": 213,
      "outputs": [
        {
          "output_type": "execute_result",
          "data": {
            "text/plain": [
              "(66, 16)"
            ]
          },
          "metadata": {
            "tags": []
          },
          "execution_count": 213
        }
      ]
    },
    {
      "cell_type": "code",
      "metadata": {
        "colab": {
          "base_uri": "https://localhost:8080/"
        },
        "id": "VPbMiPLmqouA",
        "outputId": "d020a01e-c60e-4270-fdff-3215ab19557e"
      },
      "source": [
        "spiral_train.shape"
      ],
      "execution_count": 214,
      "outputs": [
        {
          "output_type": "execute_result",
          "data": {
            "text/plain": [
              "(198, 16)"
            ]
          },
          "metadata": {
            "tags": []
          },
          "execution_count": 214
        }
      ]
    },
    {
      "cell_type": "code",
      "metadata": {
        "colab": {
          "base_uri": "https://localhost:8080/"
        },
        "id": "lCp72TO7z6WR",
        "outputId": "1727a61b-3aaa-4a30-e2b5-6566c2f35d67"
      },
      "source": [
        "spiral_test.shape"
      ],
      "execution_count": 26,
      "outputs": [
        {
          "output_type": "execute_result",
          "data": {
            "text/plain": [
              "(66, 16)"
            ]
          },
          "metadata": {
            "tags": []
          },
          "execution_count": 26
        }
      ]
    },
    {
      "cell_type": "code",
      "metadata": {
        "colab": {
          "base_uri": "https://localhost:8080/"
        },
        "id": "t1QOWapFqSfh",
        "outputId": "fd902234-56a5-4823-8276-ff9132bfed39"
      },
      "source": [
        "spiral_test['ID_PATIENT'].value_counts()"
      ],
      "execution_count": 215,
      "outputs": [
        {
          "output_type": "execute_result",
          "data": {
            "text/plain": [
              "5      2\n",
              "23     2\n",
              "14     1\n",
              "17     1\n",
              "38     1\n",
              "      ..\n",
              "53     1\n",
              "181    1\n",
              "305    1\n",
              "176    1\n",
              "1      1\n",
              "Name: ID_PATIENT, Length: 64, dtype: int64"
            ]
          },
          "metadata": {
            "tags": []
          },
          "execution_count": 215
        }
      ]
    },
    {
      "cell_type": "code",
      "metadata": {
        "colab": {
          "base_uri": "https://localhost:8080/"
        },
        "id": "263BoCFSqapT",
        "outputId": "338fd63e-9f59-45dd-908e-d885e059eaee"
      },
      "source": [
        "spiral_train['ID_PATIENT'].value_counts()"
      ],
      "execution_count": 216,
      "outputs": [
        {
          "output_type": "execute_result",
          "data": {
            "text/plain": [
              "5      6\n",
              "23     6\n",
              "14     3\n",
              "17     3\n",
              "38     3\n",
              "      ..\n",
              "53     3\n",
              "181    3\n",
              "305    3\n",
              "176    3\n",
              "1      3\n",
              "Name: ID_PATIENT, Length: 64, dtype: int64"
            ]
          },
          "metadata": {
            "tags": []
          },
          "execution_count": 216
        }
      ]
    },
    {
      "cell_type": "markdown",
      "metadata": {
        "id": "HD6jTJrFz_4e"
      },
      "source": [
        "As can be seen, we end up with only 2 IDs that are duplicated in PD and control patients: 5 and 23."
      ]
    },
    {
      "cell_type": "markdown",
      "metadata": {
        "id": "gbeBsENVlQka"
      },
      "source": [
        "###Train-Test-Split into X and y"
      ]
    },
    {
      "cell_type": "code",
      "metadata": {
        "colab": {
          "base_uri": "https://localhost:8080/"
        },
        "id": "X7_Hwqpj1kVc",
        "outputId": "5c922014-56de-483d-ea96-aaecc0c7c862"
      },
      "source": [
        "spiral_train.columns"
      ],
      "execution_count": 29,
      "outputs": [
        {
          "output_type": "execute_result",
          "data": {
            "text/plain": [
              "Index(['_ID_EXAM', 'IMAGE_NAME', 'ID_PATIENT', 'CLASS_TYPE', 'GENDER',\n",
              "       'RIGH/LEFT-HANDED', 'AGE', 'RMS', 'MAX_BETWEEN_ET_HT',\n",
              "       'MIN_BETWEEN_ET_HT', 'STD_DEVIATION_ET_HT', 'MRT', 'MAX_HT', 'MIN_HT',\n",
              "       'STD_HT', 'CHANGES_FROM_NEGATIVE_TO_POSITIVE_BETWEEN_ET_HT'],\n",
              "      dtype='object')"
            ]
          },
          "metadata": {
            "tags": []
          },
          "execution_count": 29
        }
      ]
    },
    {
      "cell_type": "code",
      "metadata": {
        "id": "hX5-ZM5twVUw"
      },
      "source": [
        "# creating our final training dataset with spiral drawings\n",
        "X_spiral_train = spiral_train[['RMS', 'MAX_BETWEEN_ET_HT', 'MIN_BETWEEN_ET_HT', 'STD_DEVIATION_ET_HT', 'MRT', 'MAX_HT', 'MIN_HT', 'STD_HT', 'CHANGES_FROM_NEGATIVE_TO_POSITIVE_BETWEEN_ET_HT']]\n",
        "y_spiral_train = spiral_train['CLASS_TYPE']\n",
        "\n",
        "y_spiral_train = pd.DataFrame(y_spiral_train)"
      ],
      "execution_count": 30,
      "outputs": []
    },
    {
      "cell_type": "code",
      "metadata": {
        "id": "j5LoRggSlWmb"
      },
      "source": [
        "# creating our final testing dataset with spiral drawings\n",
        "X_spiral_test = spiral_test[['RMS', 'MAX_BETWEEN_ET_HT', 'MIN_BETWEEN_ET_HT', 'STD_DEVIATION_ET_HT', 'MRT', 'MAX_HT', 'MIN_HT', 'STD_HT', 'CHANGES_FROM_NEGATIVE_TO_POSITIVE_BETWEEN_ET_HT']]\n",
        "y_spiral_test = spiral_test['CLASS_TYPE']\n",
        "\n",
        "y_spiral_test = pd.DataFrame(y_spiral_test)"
      ],
      "execution_count": 31,
      "outputs": []
    },
    {
      "cell_type": "markdown",
      "metadata": {
        "id": "lk6pv-0Vlpjz"
      },
      "source": [
        "###Quick Check"
      ]
    },
    {
      "cell_type": "code",
      "metadata": {
        "colab": {
          "base_uri": "https://localhost:8080/"
        },
        "id": "UvM6vqR6Ko52",
        "outputId": "9c6d6069-e7a8-48ba-839b-454592fa067c"
      },
      "source": [
        "y_spiral_train.value_counts()"
      ],
      "execution_count": 32,
      "outputs": [
        {
          "output_type": "execute_result",
          "data": {
            "text/plain": [
              "CLASS_TYPE\n",
              "1             105\n",
              "2              93\n",
              "dtype: int64"
            ]
          },
          "metadata": {
            "tags": []
          },
          "execution_count": 32
        }
      ]
    },
    {
      "cell_type": "code",
      "metadata": {
        "colab": {
          "base_uri": "https://localhost:8080/"
        },
        "id": "b783Fe5KKqXX",
        "outputId": "b4e0d803-04c8-4f52-d336-d655ae58dac2"
      },
      "source": [
        "y_spiral_test.value_counts()"
      ],
      "execution_count": 33,
      "outputs": [
        {
          "output_type": "execute_result",
          "data": {
            "text/plain": [
              "CLASS_TYPE\n",
              "1             35\n",
              "2             31\n",
              "dtype: int64"
            ]
          },
          "metadata": {
            "tags": []
          },
          "execution_count": 33
        }
      ]
    },
    {
      "cell_type": "markdown",
      "metadata": {
        "id": "b1QF9geMGuV2"
      },
      "source": [
        "##**SVM Implementation**"
      ]
    },
    {
      "cell_type": "markdown",
      "metadata": {
        "id": "I_gFuMTHnkSU"
      },
      "source": [
        "###**Training**"
      ]
    },
    {
      "cell_type": "code",
      "metadata": {
        "id": "7vpTfqLuIkBT",
        "colab": {
          "base_uri": "https://localhost:8080/"
        },
        "outputId": "6910479c-c49b-4005-e0eb-79886d1a41df"
      },
      "source": [
        "clf = SVC(kernel = 'rbf', probability = True, class_weight = 'balanced')\n",
        "clf.fit(X_spiral_train, y_spiral_train)"
      ],
      "execution_count": 34,
      "outputs": [
        {
          "output_type": "execute_result",
          "data": {
            "text/plain": [
              "SVC(C=1.0, break_ties=False, cache_size=200, class_weight='balanced', coef0=0.0,\n",
              "    decision_function_shape='ovr', degree=3, gamma='scale', kernel='rbf',\n",
              "    max_iter=-1, probability=True, random_state=None, shrinking=True, tol=0.001,\n",
              "    verbose=False)"
            ]
          },
          "metadata": {
            "tags": []
          },
          "execution_count": 34
        }
      ]
    },
    {
      "cell_type": "markdown",
      "metadata": {
        "id": "QJ7asLzl7hiI"
      },
      "source": [
        "To note, it may be useful to look at the weights for this model (see which features are most valuable), but these are only relevant for a linear kernel. RBF kernel does not have relevant/interpretable weights. And of course, linear kernel is not very helpful and good in predicting (51% accuracy). The features are not linearly separable."
      ]
    },
    {
      "cell_type": "code",
      "metadata": {
        "id": "hzs7YGmBGwm9"
      },
      "source": [
        "y_spiral_pred = clf.predict(X_spiral_test)\n",
        "y_spiral_proba = clf.predict_proba(X_spiral_test)"
      ],
      "execution_count": 151,
      "outputs": []
    },
    {
      "cell_type": "code",
      "metadata": {
        "id": "8sgC95rQPQJ2"
      },
      "source": [
        "y_spiral_pred = pd.Series(y_spiral_pred)"
      ],
      "execution_count": 81,
      "outputs": []
    },
    {
      "cell_type": "code",
      "metadata": {
        "colab": {
          "base_uri": "https://localhost:8080/"
        },
        "id": "OB592ZV2JsFH",
        "outputId": "f3c28d7d-47c3-4623-bf47-8a44a1c43235"
      },
      "source": [
        "y_spiral_proba"
      ],
      "execution_count": 152,
      "outputs": [
        {
          "output_type": "execute_result",
          "data": {
            "text/plain": [
              "array([[0.99895935, 0.00104065],\n",
              "       [0.76576917, 0.23423083],\n",
              "       [0.99566507, 0.00433493],\n",
              "       [0.5826891 , 0.4173109 ],\n",
              "       [0.70784483, 0.29215517],\n",
              "       [0.33551129, 0.66448871],\n",
              "       [0.38530444, 0.61469556],\n",
              "       [0.33688005, 0.66311995],\n",
              "       [0.3354091 , 0.6645909 ],\n",
              "       [0.64445386, 0.35554614],\n",
              "       [0.27663295, 0.72336705],\n",
              "       [0.20930562, 0.79069438],\n",
              "       [0.33327959, 0.66672041],\n",
              "       [0.2936485 , 0.7063515 ],\n",
              "       [0.35876601, 0.64123399],\n",
              "       [0.48083895, 0.51916105],\n",
              "       [0.29585993, 0.70414007],\n",
              "       [0.63633983, 0.36366017],\n",
              "       [0.56735444, 0.43264556],\n",
              "       [0.73034009, 0.26965991],\n",
              "       [0.97833417, 0.02166583],\n",
              "       [0.33395153, 0.66604847],\n",
              "       [0.74778493, 0.25221507],\n",
              "       [0.48343181, 0.51656819],\n",
              "       [0.37038538, 0.62961462],\n",
              "       [0.55388041, 0.44611959],\n",
              "       [0.68226635, 0.31773365],\n",
              "       [0.99048319, 0.00951681],\n",
              "       [0.94060436, 0.05939564],\n",
              "       [0.99627507, 0.00372493],\n",
              "       [0.67903668, 0.32096332],\n",
              "       [0.98251171, 0.01748829],\n",
              "       [0.4263162 , 0.5736838 ],\n",
              "       [0.43493056, 0.56506944],\n",
              "       [0.77920528, 0.22079472],\n",
              "       [0.40774952, 0.59225048],\n",
              "       [0.27266381, 0.72733619],\n",
              "       [0.30245029, 0.69754971],\n",
              "       [0.38432858, 0.61567142],\n",
              "       [0.46611922, 0.53388078],\n",
              "       [0.56472953, 0.43527047],\n",
              "       [0.39138431, 0.60861569],\n",
              "       [0.56472953, 0.43527047],\n",
              "       [0.39138431, 0.60861569],\n",
              "       [0.74817365, 0.25182635],\n",
              "       [0.29187453, 0.70812547],\n",
              "       [0.2134691 , 0.7865309 ],\n",
              "       [0.39985679, 0.60014321],\n",
              "       [0.33480998, 0.66519002],\n",
              "       [0.29245277, 0.70754723],\n",
              "       [0.17006994, 0.82993006],\n",
              "       [0.25735997, 0.74264003],\n",
              "       [0.27855666, 0.72144334],\n",
              "       [0.41873589, 0.58126411],\n",
              "       [0.2691984 , 0.7308016 ],\n",
              "       [0.38154622, 0.61845378],\n",
              "       [0.31123589, 0.68876411],\n",
              "       [0.41821321, 0.58178679],\n",
              "       [0.30849546, 0.69150454],\n",
              "       [0.27102421, 0.72897579],\n",
              "       [0.19424238, 0.80575762],\n",
              "       [0.23934662, 0.76065338],\n",
              "       [0.42647471, 0.57352529],\n",
              "       [0.25328517, 0.74671483],\n",
              "       [0.42647471, 0.57352529],\n",
              "       [0.25328517, 0.74671483]])"
            ]
          },
          "metadata": {
            "tags": []
          },
          "execution_count": 152
        }
      ]
    },
    {
      "cell_type": "code",
      "metadata": {
        "colab": {
          "base_uri": "https://localhost:8080/"
        },
        "id": "rypYACAsHs_k",
        "outputId": "193c5a00-66ad-4f66-ec4d-b960056a880a"
      },
      "source": [
        "len([i for i in y_spiral_proba if i < 0.2775])\n"
      ],
      "execution_count": 159,
      "outputs": [
        {
          "output_type": "execute_result",
          "data": {
            "text/plain": [
              "array([1, 1, 1, 2, 2, 2, 2, 2, 2, 2, 2, 2, 2, 2, 2, 2, 2, 2, 2, 1, 1, 2,\n",
              "       1, 2, 2, 2, 2, 1, 1, 1, 2, 1, 2, 2, 1, 2, 2, 2, 2, 2, 2, 2, 2, 2,\n",
              "       1, 2, 2, 2, 2, 2, 2, 2, 2, 2, 2, 2, 2, 2, 2, 2, 2, 2, 2, 2, 2, 2])"
            ]
          },
          "metadata": {
            "tags": []
          },
          "execution_count": 159
        }
      ]
    },
    {
      "cell_type": "markdown",
      "metadata": {
        "id": "y1SDNLlenfUX"
      },
      "source": [
        "##**Results**"
      ]
    },
    {
      "cell_type": "markdown",
      "metadata": {
        "id": "uwxR8fPlNEz5"
      },
      "source": [
        "#### Deviance of probabilites from 100/0 depending on class"
      ]
    },
    {
      "cell_type": "code",
      "metadata": {
        "id": "WQpRxLEUHJT8"
      },
      "source": [
        "# flattening y_spiral_proba & removing the second percentage we don't need\n",
        "\n",
        "# y_spiral_proba = [x for list in y_spiral_proba for x in list]\n",
        "y_spiral_proba = y_spiral_proba[0::2] # takes every other element starting from the first element"
      ],
      "execution_count": 153,
      "outputs": []
    },
    {
      "cell_type": "code",
      "metadata": {
        "colab": {
          "base_uri": "https://localhost:8080/"
        },
        "id": "3xPExxC_JnIK",
        "outputId": "bc232fe4-d0e3-4861-8151-9659bacaa374"
      },
      "source": [
        "y_spiral_proba"
      ],
      "execution_count": 154,
      "outputs": [
        {
          "output_type": "execute_result",
          "data": {
            "text/plain": [
              "[0.9989593501926906,\n",
              " 0.7657691737400566,\n",
              " 0.995665066877425,\n",
              " 0.5826891008680899,\n",
              " 0.7078448261262179,\n",
              " 0.3355112910628663,\n",
              " 0.38530444320491547,\n",
              " 0.33688005174320407,\n",
              " 0.3354091041216158,\n",
              " 0.6444538555257089,\n",
              " 0.2766329500044335,\n",
              " 0.20930562430301605,\n",
              " 0.3332795872446732,\n",
              " 0.2936485010004472,\n",
              " 0.3587660078503655,\n",
              " 0.48083894728789106,\n",
              " 0.2958599298149011,\n",
              " 0.6363398349971425,\n",
              " 0.5673544406535503,\n",
              " 0.7303400885579483,\n",
              " 0.9783341669979735,\n",
              " 0.3339515312511905,\n",
              " 0.7477849319442436,\n",
              " 0.4834318107070946,\n",
              " 0.37038537880353595,\n",
              " 0.553880408680958,\n",
              " 0.6822663549766973,\n",
              " 0.9904831942662662,\n",
              " 0.9406043596541583,\n",
              " 0.9962750705502315,\n",
              " 0.6790366841003395,\n",
              " 0.9825117079137469,\n",
              " 0.42631619591310893,\n",
              " 0.43493055737245134,\n",
              " 0.7792052757676815,\n",
              " 0.4077495188636984,\n",
              " 0.27266381465310235,\n",
              " 0.3024502860402416,\n",
              " 0.3843285848807891,\n",
              " 0.4661192207979928,\n",
              " 0.5647295335677937,\n",
              " 0.39138430781865213,\n",
              " 0.5647295335677937,\n",
              " 0.39138430781865213,\n",
              " 0.7481736458542284,\n",
              " 0.2918745262165278,\n",
              " 0.21346910488841814,\n",
              " 0.3998567906553723,\n",
              " 0.3348099844685264,\n",
              " 0.29245277037512657,\n",
              " 0.17006993937449905,\n",
              " 0.25735997476932676,\n",
              " 0.2785566610342905,\n",
              " 0.418735887411339,\n",
              " 0.269198397178617,\n",
              " 0.3815462230788933,\n",
              " 0.31123588823861115,\n",
              " 0.4182132102967517,\n",
              " 0.3084954580576968,\n",
              " 0.27102421444549313,\n",
              " 0.1942423810126744,\n",
              " 0.23934662357118025,\n",
              " 0.42647470860486036,\n",
              " 0.25328516987809513,\n",
              " 0.42647470860486036,\n",
              " 0.25328516987809513]"
            ]
          },
          "metadata": {
            "tags": []
          },
          "execution_count": 154
        }
      ]
    },
    {
      "cell_type": "code",
      "metadata": {
        "colab": {
          "base_uri": "https://localhost:8080/"
        },
        "id": "ldWFn6RYHiAH",
        "outputId": "3755ab53-d99c-42ae-de53-6f5d7fd4ba5f"
      },
      "source": [
        "len(y_spiral_proba)"
      ],
      "execution_count": 155,
      "outputs": [
        {
          "output_type": "execute_result",
          "data": {
            "text/plain": [
              "66"
            ]
          },
          "metadata": {
            "tags": []
          },
          "execution_count": 155
        }
      ]
    },
    {
      "cell_type": "code",
      "metadata": {
        "id": "vOO5v94vDEvn"
      },
      "source": [
        "# calculating standard dev \n",
        "\n",
        "proba1 = [i for i in y_spiral_proba if i < 0.5]\n",
        "proba2 = [i for i in y_spiral_proba if i > 0.5]"
      ],
      "execution_count": 160,
      "outputs": []
    },
    {
      "cell_type": "code",
      "metadata": {
        "colab": {
          "base_uri": "https://localhost:8080/"
        },
        "id": "yQIobQ4PMco1",
        "outputId": "54b6cd34-53f7-4722-e3f6-426d36338c7b"
      },
      "source": [
        "print(proba2)"
      ],
      "execution_count": 164,
      "outputs": [
        {
          "output_type": "stream",
          "text": [
            "[0.9989593501926906, 0.7657691737400566, 0.995665066877425, 0.5826891008680899, 0.7078448261262179, 0.6444538555257089, 0.6363398349971425, 0.5673544406535503, 0.7303400885579483, 0.9783341669979735, 0.7477849319442436, 0.553880408680958, 0.6822663549766973, 0.9904831942662662, 0.9406043596541583, 0.9962750705502315, 0.6790366841003395, 0.9825117079137469, 0.7792052757676815, 0.5647295335677937, 0.5647295335677937, 0.7481736458542284]\n"
          ],
          "name": "stdout"
        }
      ]
    },
    {
      "cell_type": "code",
      "metadata": {
        "colab": {
          "base_uri": "https://localhost:8080/"
        },
        "id": "_RQmDMxeIwV9",
        "outputId": "be994238-569b-4add-ae5d-34cf471f0044"
      },
      "source": [
        "meanval =0\n",
        "\n",
        "for i in proba1:\n",
        "  meanval += (i)\n",
        "\n",
        "meanval /= len(proba1)\n",
        "\n",
        "meanval"
      ],
      "execution_count": 175,
      "outputs": [
        {
          "output_type": "execute_result",
          "data": {
            "text/plain": [
              "0.33446681237722947"
            ]
          },
          "metadata": {
            "tags": []
          },
          "execution_count": 175
        }
      ]
    },
    {
      "cell_type": "code",
      "metadata": {
        "colab": {
          "base_uri": "https://localhost:8080/"
        },
        "id": "Dquv-ArUI_Ls",
        "outputId": "e00a62de-21d9-4dff-ffac-f1b28a7f880c"
      },
      "source": [
        "len(proba2)"
      ],
      "execution_count": 162,
      "outputs": [
        {
          "output_type": "execute_result",
          "data": {
            "text/plain": [
              "22"
            ]
          },
          "metadata": {
            "tags": []
          },
          "execution_count": 162
        }
      ]
    },
    {
      "cell_type": "markdown",
      "metadata": {
        "id": "BI-rcWuANPfE"
      },
      "source": [
        "#### Y Spiral Results"
      ]
    },
    {
      "cell_type": "code",
      "metadata": {
        "id": "SLrbKO744X8b"
      },
      "source": [
        "y_spiral_test = y_spiral_test['CLASS_TYPE'].astype(str).astype(int)"
      ],
      "execution_count": 37,
      "outputs": []
    },
    {
      "cell_type": "code",
      "metadata": {
        "colab": {
          "base_uri": "https://localhost:8080/"
        },
        "id": "wcz85pZi6YjR",
        "outputId": "8c93473e-009e-442e-d573-f71092343fa2"
      },
      "source": [
        "y_spiral_test.dtypes"
      ],
      "execution_count": 38,
      "outputs": [
        {
          "output_type": "execute_result",
          "data": {
            "text/plain": [
              "dtype('int64')"
            ]
          },
          "metadata": {
            "tags": []
          },
          "execution_count": 38
        }
      ]
    },
    {
      "cell_type": "code",
      "metadata": {
        "colab": {
          "base_uri": "https://localhost:8080/"
        },
        "id": "su5RMaC_MaPF",
        "outputId": "2d93e3fc-9bd6-4e4e-c2e6-4ea2c4061ad5"
      },
      "source": [
        "clf.score(X_spiral_test, y_spiral_test)"
      ],
      "execution_count": 39,
      "outputs": [
        {
          "output_type": "execute_result",
          "data": {
            "text/plain": [
              "0.6212121212121212"
            ]
          },
          "metadata": {
            "tags": []
          },
          "execution_count": 39
        }
      ]
    },
    {
      "cell_type": "code",
      "metadata": {
        "id": "wZf0iMccM767"
      },
      "source": [
        "target_names = ['Control', 'PD']\n",
        "results = classification_report(y_spiral_test, y_spiral_pred, target_names = target_names, output_dict=True)\n",
        "results = pd.DataFrame(results).transpose()\n",
        "conf_mat = confusion_matrix(y_spiral_test, y_spiral_pred)"
      ],
      "execution_count": 40,
      "outputs": []
    },
    {
      "cell_type": "code",
      "metadata": {
        "colab": {
          "base_uri": "https://localhost:8080/",
          "height": 204
        },
        "id": "thzR3k3lMz31",
        "outputId": "ec28ad4c-0b85-4215-9923-9a120bef2285"
      },
      "source": [
        "results"
      ],
      "execution_count": 41,
      "outputs": [
        {
          "output_type": "execute_result",
          "data": {
            "text/html": [
              "<div>\n",
              "<style scoped>\n",
              "    .dataframe tbody tr th:only-of-type {\n",
              "        vertical-align: middle;\n",
              "    }\n",
              "\n",
              "    .dataframe tbody tr th {\n",
              "        vertical-align: top;\n",
              "    }\n",
              "\n",
              "    .dataframe thead th {\n",
              "        text-align: right;\n",
              "    }\n",
              "</style>\n",
              "<table border=\"1\" class=\"dataframe\">\n",
              "  <thead>\n",
              "    <tr style=\"text-align: right;\">\n",
              "      <th></th>\n",
              "      <th>precision</th>\n",
              "      <th>recall</th>\n",
              "      <th>f1-score</th>\n",
              "      <th>support</th>\n",
              "    </tr>\n",
              "  </thead>\n",
              "  <tbody>\n",
              "    <tr>\n",
              "      <th>Control</th>\n",
              "      <td>0.916667</td>\n",
              "      <td>0.314286</td>\n",
              "      <td>0.468085</td>\n",
              "      <td>35.000000</td>\n",
              "    </tr>\n",
              "    <tr>\n",
              "      <th>PD</th>\n",
              "      <td>0.555556</td>\n",
              "      <td>0.967742</td>\n",
              "      <td>0.705882</td>\n",
              "      <td>31.000000</td>\n",
              "    </tr>\n",
              "    <tr>\n",
              "      <th>accuracy</th>\n",
              "      <td>0.621212</td>\n",
              "      <td>0.621212</td>\n",
              "      <td>0.621212</td>\n",
              "      <td>0.621212</td>\n",
              "    </tr>\n",
              "    <tr>\n",
              "      <th>macro avg</th>\n",
              "      <td>0.736111</td>\n",
              "      <td>0.641014</td>\n",
              "      <td>0.586984</td>\n",
              "      <td>66.000000</td>\n",
              "    </tr>\n",
              "    <tr>\n",
              "      <th>weighted avg</th>\n",
              "      <td>0.747054</td>\n",
              "      <td>0.621212</td>\n",
              "      <td>0.579778</td>\n",
              "      <td>66.000000</td>\n",
              "    </tr>\n",
              "  </tbody>\n",
              "</table>\n",
              "</div>"
            ],
            "text/plain": [
              "              precision    recall  f1-score    support\n",
              "Control        0.916667  0.314286  0.468085  35.000000\n",
              "PD             0.555556  0.967742  0.705882  31.000000\n",
              "accuracy       0.621212  0.621212  0.621212   0.621212\n",
              "macro avg      0.736111  0.641014  0.586984  66.000000\n",
              "weighted avg   0.747054  0.621212  0.579778  66.000000"
            ]
          },
          "metadata": {
            "tags": []
          },
          "execution_count": 41
        }
      ]
    },
    {
      "cell_type": "code",
      "metadata": {
        "colab": {
          "base_uri": "https://localhost:8080/"
        },
        "id": "zAXqc2uPNeq5",
        "outputId": "0ea272e5-464e-486c-d03e-027dc6cad9ca"
      },
      "source": [
        "conf_mat"
      ],
      "execution_count": 42,
      "outputs": [
        {
          "output_type": "execute_result",
          "data": {
            "text/plain": [
              "array([[11, 24],\n",
              "       [ 1, 30]])"
            ]
          },
          "metadata": {
            "tags": []
          },
          "execution_count": 42
        }
      ]
    },
    {
      "cell_type": "code",
      "metadata": {
        "colab": {
          "base_uri": "https://localhost:8080/"
        },
        "id": "vwthqW4OQD2z",
        "outputId": "5afb0519-649e-41bf-c6eb-cd91a222141b"
      },
      "source": [
        "TN, FP, FN, TP = conf_mat.ravel()\n",
        "\n",
        "# Sensitivity, hit rate, recall, or true positive rate\n",
        "TPR = TP/(TP+FN)\n",
        "\n",
        "# Specificity or true negative rate\n",
        "TNR = TN/(TN+FP) \n",
        "\n",
        "# Precision or positive predictive value\n",
        "PPV = TP/(TP+FP)\n",
        "\n",
        "# Negative predictive value\n",
        "NPV = TN/(TN+FN)\n",
        "\n",
        "# Fall out or false positive rate\n",
        "FPR = FP/(FP+TN)\n",
        "\n",
        "# False negative rate\n",
        "FNR = FN/(TP+FN)\n",
        "\n",
        "# False discovery rate\n",
        "FDR = FP/(TP+FP)\n",
        "\n",
        "print(\"TP: \", TP)\n",
        "print(\"TN: \", TN)\n",
        "print(\"FP: \", FP)\n",
        "print(\"FN: \", FN)\n",
        "\n",
        "print(\"Sensitivity: \", TPR)\n",
        "print(\"Specificity: \", TNR)\n",
        "print(\"NPV: \", NPV)\n",
        "print(\"PPV: \", PPV)"
      ],
      "execution_count": 43,
      "outputs": [
        {
          "output_type": "stream",
          "text": [
            "TP:  30\n",
            "TN:  11\n",
            "FP:  24\n",
            "FN:  1\n",
            "Sensitivity:  0.967741935483871\n",
            "Specificity:  0.3142857142857143\n",
            "NPV:  0.9166666666666666\n",
            "PPV:  0.5555555555555556\n"
          ],
          "name": "stdout"
        }
      ]
    },
    {
      "cell_type": "markdown",
      "metadata": {
        "id": "6q-82qHV56E3"
      },
      "source": [
        "Can we somehow get the weights for the model to learn which features are considered most useful?"
      ]
    }
  ]
}