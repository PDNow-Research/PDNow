{
  "nbformat": 4,
  "nbformat_minor": 0,
  "metadata": {
    "colab": {
      "name": "SVM_Exact_Replication_Experiment1.ipynb",
      "provenance": [],
      "collapsed_sections": [],
      "authorship_tag": "ABX9TyN2jpKtRdJUaf8fdIfK0NMz",
      "include_colab_link": true
    },
    "kernelspec": {
      "name": "python3",
      "display_name": "Python 3"
    },
    "language_info": {
      "name": "python"
    }
  },
  "cells": [
    {
      "cell_type": "markdown",
      "metadata": {
        "id": "view-in-github",
        "colab_type": "text"
      },
      "source": [
        "<a href=\"https://colab.research.google.com/github/PDNow-Research/PDNow/blob/main/HandPD/SVM_Exact_Replication_Experiment1.ipynb\" target=\"_parent\"><img src=\"https://colab.research.google.com/assets/colab-badge.svg\" alt=\"Open In Colab\"/></a>"
      ]
    },
    {
      "cell_type": "code",
      "metadata": {
        "colab": {
          "base_uri": "https://localhost:8080/"
        },
        "id": "QE4ruysJCQn7",
        "outputId": "1fb929e7-aa32-4103-f59e-cb977520e641"
      },
      "source": [
        "from google.colab import drive\n",
        "drive.mount(\"/content/drive\")"
      ],
      "execution_count": 1,
      "outputs": [
        {
          "output_type": "stream",
          "text": [
            "Drive already mounted at /content/drive; to attempt to forcibly remount, call drive.mount(\"/content/drive\", force_remount=True).\n"
          ],
          "name": "stdout"
        }
      ]
    },
    {
      "cell_type": "code",
      "metadata": {
        "id": "v9Y4RF0dDEV2"
      },
      "source": [
        "# Data Science\n",
        "import re\n",
        "import csv\n",
        "import json\n",
        "import itertools\n",
        "from tqdm import tqdm\n",
        "import numpy as np\n",
        "import pandas as pd\n",
        "import seaborn as sns\n",
        "import matplotlib.pyplot as plt\n",
        "\n",
        "# General\n",
        "import os\n",
        "import sys\n",
        "import time\n",
        "import math\n",
        "import random\n",
        "from datetime import date\n",
        "import warnings\n",
        "current_date = date.today()\n",
        "warnings.filterwarnings(\"ignore\")\n",
        "\n",
        "# SVM\n",
        "from sklearn.svm import SVC\n",
        "from sklearn.preprocessing import StandardScaler\n",
        "from sklearn.pipeline import make_pipeline\n",
        "from sklearn.model_selection import train_test_split\n",
        "from sklearn.metrics import confusion_matrix, average_precision_score, classification_report"
      ],
      "execution_count": 1,
      "outputs": []
    },
    {
      "cell_type": "code",
      "metadata": {
        "id": "-ZTgvIpSDSKk"
      },
      "source": [
        "#NewSpiral is from the new HandPD dataset. The new one also comes with images and such, but we are using the data that has the exact same features from old HandPd dataset, except also includes patient ID.\n",
        "spiral_df = pd.read_csv('/content/drive/My Drive/Data/HandPD-Replication/NewSpiral.csv')"
      ],
      "execution_count": 116,
      "outputs": []
    },
    {
      "cell_type": "code",
      "metadata": {
        "colab": {
          "base_uri": "https://localhost:8080/"
        },
        "id": "7z1jjSTTpaVK",
        "outputId": "cf65e9f4-86a5-4b45-fc70-552da6462c3a"
      },
      "source": [
        "spiral_df['CLASS_TYPE'].value_counts()"
      ],
      "execution_count": 117,
      "outputs": [
        {
          "output_type": "execute_result",
          "data": {
            "text/plain": [
              "1    140\n",
              "2    124\n",
              "Name: CLASS_TYPE, dtype: int64"
            ]
          },
          "metadata": {
            "tags": []
          },
          "execution_count": 117
        }
      ]
    },
    {
      "cell_type": "code",
      "metadata": {
        "id": "2Ka51zlVEk7r"
      },
      "source": [
        "meander_df = pd.read_csv('/content/drive/My Drive/Data/HandPD-Replication/NewMeander.csv')"
      ],
      "execution_count": 118,
      "outputs": []
    },
    {
      "cell_type": "code",
      "metadata": {
        "colab": {
          "base_uri": "https://localhost:8080/"
        },
        "id": "ubfz_BuCILmn",
        "outputId": "8b67c41d-9d56-40da-f92f-716e7b567230"
      },
      "source": [
        "meander_df.columns"
      ],
      "execution_count": 119,
      "outputs": [
        {
          "output_type": "execute_result",
          "data": {
            "text/plain": [
              "Index(['_ID_EXAM', 'IMAGE_NAME', 'ID_PATIENT', 'CLASS_TYPE', 'GENDER',\n",
              "       'RIGH/LEFT-HANDED', 'AGE', 'RMS', 'MAX_BETWEEN_ET_HT',\n",
              "       'MIN_BETWEEN_ET_HT', 'STD_DEVIATION_ET_HT', 'MRT', 'MAX_HT', 'MIN_HT',\n",
              "       'STD_HT', 'CHANGES_FROM_NEGATIVE_TO_POSITIVE_BETWEEN_ET_HT'],\n",
              "      dtype='object')"
            ]
          },
          "metadata": {
            "tags": []
          },
          "execution_count": 119
        }
      ]
    },
    {
      "cell_type": "code",
      "metadata": {
        "id": "PIH0dQZTsZnG"
      },
      "source": [
        "spiral_df['ID_PATIENT'].unique().tolist()"
      ],
      "execution_count": null,
      "outputs": []
    },
    {
      "cell_type": "code",
      "metadata": {
        "colab": {
          "base_uri": "https://localhost:8080/",
          "height": 470
        },
        "id": "tIxpAqfNr2GB",
        "outputId": "c536b34d-aa4b-4a6c-ed2b-0756caf5b65e"
      },
      "source": [
        "spiral_df[spiral_df['ID_PATIENT'] == 31]"
      ],
      "execution_count": 121,
      "outputs": [
        {
          "output_type": "execute_result",
          "data": {
            "text/html": [
              "<div>\n",
              "<style scoped>\n",
              "    .dataframe tbody tr th:only-of-type {\n",
              "        vertical-align: middle;\n",
              "    }\n",
              "\n",
              "    .dataframe tbody tr th {\n",
              "        vertical-align: top;\n",
              "    }\n",
              "\n",
              "    .dataframe thead th {\n",
              "        text-align: right;\n",
              "    }\n",
              "</style>\n",
              "<table border=\"1\" class=\"dataframe\">\n",
              "  <thead>\n",
              "    <tr style=\"text-align: right;\">\n",
              "      <th></th>\n",
              "      <th>_ID_EXAM</th>\n",
              "      <th>IMAGE_NAME</th>\n",
              "      <th>ID_PATIENT</th>\n",
              "      <th>CLASS_TYPE</th>\n",
              "      <th>GENDER</th>\n",
              "      <th>RIGH/LEFT-HANDED</th>\n",
              "      <th>AGE</th>\n",
              "      <th>RMS</th>\n",
              "      <th>MAX_BETWEEN_ET_HT</th>\n",
              "      <th>MIN_BETWEEN_ET_HT</th>\n",
              "      <th>STD_DEVIATION_ET_HT</th>\n",
              "      <th>MRT</th>\n",
              "      <th>MAX_HT</th>\n",
              "      <th>MIN_HT</th>\n",
              "      <th>STD_HT</th>\n",
              "      <th>CHANGES_FROM_NEGATIVE_TO_POSITIVE_BETWEEN_ET_HT</th>\n",
              "    </tr>\n",
              "  </thead>\n",
              "  <tbody>\n",
              "    <tr>\n",
              "      <th>141</th>\n",
              "      <td>P2</td>\n",
              "      <td>mea1-P2.jpg</td>\n",
              "      <td>31</td>\n",
              "      <td>2</td>\n",
              "      <td>F</td>\n",
              "      <td>R</td>\n",
              "      <td>59</td>\n",
              "      <td>3726.488067</td>\n",
              "      <td>5893.347008</td>\n",
              "      <td>37785.94529</td>\n",
              "      <td>0.306602</td>\n",
              "      <td>24.403343</td>\n",
              "      <td>179.554888</td>\n",
              "      <td>0.008474</td>\n",
              "      <td>1739.851476</td>\n",
              "      <td>0.267742</td>\n",
              "    </tr>\n",
              "    <tr>\n",
              "      <th>164</th>\n",
              "      <td>P26</td>\n",
              "      <td>mea1-P26.jpg</td>\n",
              "      <td>31</td>\n",
              "      <td>2</td>\n",
              "      <td>F</td>\n",
              "      <td>L</td>\n",
              "      <td>59</td>\n",
              "      <td>4587.166408</td>\n",
              "      <td>6561.231877</td>\n",
              "      <td>37033.96196</td>\n",
              "      <td>0.018378</td>\n",
              "      <td>22.328549</td>\n",
              "      <td>184.806500</td>\n",
              "      <td>0.057158</td>\n",
              "      <td>1388.315960</td>\n",
              "      <td>0.266871</td>\n",
              "    </tr>\n",
              "    <tr>\n",
              "      <th>172</th>\n",
              "      <td>P2</td>\n",
              "      <td>mea2-P2.jpg</td>\n",
              "      <td>31</td>\n",
              "      <td>2</td>\n",
              "      <td>F</td>\n",
              "      <td>R</td>\n",
              "      <td>59</td>\n",
              "      <td>3469.841548</td>\n",
              "      <td>5282.395889</td>\n",
              "      <td>33582.16916</td>\n",
              "      <td>0.000129</td>\n",
              "      <td>18.103416</td>\n",
              "      <td>170.531514</td>\n",
              "      <td>0.045752</td>\n",
              "      <td>1130.591703</td>\n",
              "      <td>0.204545</td>\n",
              "    </tr>\n",
              "    <tr>\n",
              "      <th>195</th>\n",
              "      <td>P26</td>\n",
              "      <td>mea2-P26.jpg</td>\n",
              "      <td>31</td>\n",
              "      <td>2</td>\n",
              "      <td>F</td>\n",
              "      <td>L</td>\n",
              "      <td>59</td>\n",
              "      <td>6210.596735</td>\n",
              "      <td>7365.102809</td>\n",
              "      <td>37813.01828</td>\n",
              "      <td>0.002359</td>\n",
              "      <td>20.958406</td>\n",
              "      <td>160.395258</td>\n",
              "      <td>0.024497</td>\n",
              "      <td>1281.094994</td>\n",
              "      <td>0.128205</td>\n",
              "    </tr>\n",
              "    <tr>\n",
              "      <th>203</th>\n",
              "      <td>P2</td>\n",
              "      <td>mea3-P2.jpg</td>\n",
              "      <td>31</td>\n",
              "      <td>2</td>\n",
              "      <td>F</td>\n",
              "      <td>R</td>\n",
              "      <td>59</td>\n",
              "      <td>5066.989293</td>\n",
              "      <td>7463.980609</td>\n",
              "      <td>35307.01259</td>\n",
              "      <td>0.000000</td>\n",
              "      <td>22.643151</td>\n",
              "      <td>176.392744</td>\n",
              "      <td>0.008650</td>\n",
              "      <td>1614.293957</td>\n",
              "      <td>0.246711</td>\n",
              "    </tr>\n",
              "    <tr>\n",
              "      <th>226</th>\n",
              "      <td>P26</td>\n",
              "      <td>mea3-P26.jpg</td>\n",
              "      <td>31</td>\n",
              "      <td>2</td>\n",
              "      <td>F</td>\n",
              "      <td>L</td>\n",
              "      <td>59</td>\n",
              "      <td>6544.571924</td>\n",
              "      <td>8612.729092</td>\n",
              "      <td>36154.08597</td>\n",
              "      <td>0.013198</td>\n",
              "      <td>27.237956</td>\n",
              "      <td>180.306815</td>\n",
              "      <td>0.003577</td>\n",
              "      <td>1761.998890</td>\n",
              "      <td>0.243421</td>\n",
              "    </tr>\n",
              "    <tr>\n",
              "      <th>234</th>\n",
              "      <td>P2</td>\n",
              "      <td>mea4-P2.jpg</td>\n",
              "      <td>31</td>\n",
              "      <td>2</td>\n",
              "      <td>F</td>\n",
              "      <td>R</td>\n",
              "      <td>59</td>\n",
              "      <td>3748.920825</td>\n",
              "      <td>6607.203671</td>\n",
              "      <td>36244.36135</td>\n",
              "      <td>0.001141</td>\n",
              "      <td>24.606020</td>\n",
              "      <td>179.208863</td>\n",
              "      <td>0.028543</td>\n",
              "      <td>1782.895068</td>\n",
              "      <td>0.263158</td>\n",
              "    </tr>\n",
              "    <tr>\n",
              "      <th>257</th>\n",
              "      <td>P26</td>\n",
              "      <td>mea4-P26.jpg</td>\n",
              "      <td>31</td>\n",
              "      <td>2</td>\n",
              "      <td>F</td>\n",
              "      <td>L</td>\n",
              "      <td>59</td>\n",
              "      <td>4921.267695</td>\n",
              "      <td>6948.380564</td>\n",
              "      <td>35304.08954</td>\n",
              "      <td>0.017636</td>\n",
              "      <td>25.699685</td>\n",
              "      <td>182.482156</td>\n",
              "      <td>0.055527</td>\n",
              "      <td>1698.122391</td>\n",
              "      <td>0.235915</td>\n",
              "    </tr>\n",
              "  </tbody>\n",
              "</table>\n",
              "</div>"
            ],
            "text/plain": [
              "    _ID_EXAM  ... CHANGES_FROM_NEGATIVE_TO_POSITIVE_BETWEEN_ET_HT\n",
              "141       P2  ...                                        0.267742\n",
              "164      P26  ...                                        0.266871\n",
              "172       P2  ...                                        0.204545\n",
              "195      P26  ...                                        0.128205\n",
              "203       P2  ...                                        0.246711\n",
              "226      P26  ...                                        0.243421\n",
              "234       P2  ...                                        0.263158\n",
              "257      P26  ...                                        0.235915\n",
              "\n",
              "[8 rows x 16 columns]"
            ]
          },
          "metadata": {
            "tags": []
          },
          "execution_count": 121
        }
      ]
    },
    {
      "cell_type": "markdown",
      "metadata": {
        "id": "Mtd63MORsMew"
      },
      "source": [
        "From the above, we can see that there are two patients with the ID of 31. So we're going to give one of them an ID of 32 instead, as that ID does not belong to any other."
      ]
    },
    {
      "cell_type": "code",
      "metadata": {
        "id": "lA93lE-IwPMp"
      },
      "source": [
        "spiral_df['ID_PATIENT'][spiral_df['_ID_EXAM'] == \"P26\"] = 32"
      ],
      "execution_count": 122,
      "outputs": []
    },
    {
      "cell_type": "code",
      "metadata": {
        "colab": {
          "base_uri": "https://localhost:8080/",
          "height": 278
        },
        "id": "aoXUXu9GuHUC",
        "outputId": "200f978e-df4a-457a-a19a-a27dbff77f74"
      },
      "source": [
        "spiral_df[spiral_df['ID_PATIENT'] == 32]"
      ],
      "execution_count": 123,
      "outputs": [
        {
          "output_type": "execute_result",
          "data": {
            "text/html": [
              "<div>\n",
              "<style scoped>\n",
              "    .dataframe tbody tr th:only-of-type {\n",
              "        vertical-align: middle;\n",
              "    }\n",
              "\n",
              "    .dataframe tbody tr th {\n",
              "        vertical-align: top;\n",
              "    }\n",
              "\n",
              "    .dataframe thead th {\n",
              "        text-align: right;\n",
              "    }\n",
              "</style>\n",
              "<table border=\"1\" class=\"dataframe\">\n",
              "  <thead>\n",
              "    <tr style=\"text-align: right;\">\n",
              "      <th></th>\n",
              "      <th>_ID_EXAM</th>\n",
              "      <th>IMAGE_NAME</th>\n",
              "      <th>ID_PATIENT</th>\n",
              "      <th>CLASS_TYPE</th>\n",
              "      <th>GENDER</th>\n",
              "      <th>RIGH/LEFT-HANDED</th>\n",
              "      <th>AGE</th>\n",
              "      <th>RMS</th>\n",
              "      <th>MAX_BETWEEN_ET_HT</th>\n",
              "      <th>MIN_BETWEEN_ET_HT</th>\n",
              "      <th>STD_DEVIATION_ET_HT</th>\n",
              "      <th>MRT</th>\n",
              "      <th>MAX_HT</th>\n",
              "      <th>MIN_HT</th>\n",
              "      <th>STD_HT</th>\n",
              "      <th>CHANGES_FROM_NEGATIVE_TO_POSITIVE_BETWEEN_ET_HT</th>\n",
              "    </tr>\n",
              "  </thead>\n",
              "  <tbody>\n",
              "    <tr>\n",
              "      <th>164</th>\n",
              "      <td>P26</td>\n",
              "      <td>mea1-P26.jpg</td>\n",
              "      <td>32</td>\n",
              "      <td>2</td>\n",
              "      <td>F</td>\n",
              "      <td>L</td>\n",
              "      <td>59</td>\n",
              "      <td>4587.166408</td>\n",
              "      <td>6561.231877</td>\n",
              "      <td>37033.96196</td>\n",
              "      <td>0.018378</td>\n",
              "      <td>22.328549</td>\n",
              "      <td>184.806500</td>\n",
              "      <td>0.057158</td>\n",
              "      <td>1388.315960</td>\n",
              "      <td>0.266871</td>\n",
              "    </tr>\n",
              "    <tr>\n",
              "      <th>195</th>\n",
              "      <td>P26</td>\n",
              "      <td>mea2-P26.jpg</td>\n",
              "      <td>32</td>\n",
              "      <td>2</td>\n",
              "      <td>F</td>\n",
              "      <td>L</td>\n",
              "      <td>59</td>\n",
              "      <td>6210.596735</td>\n",
              "      <td>7365.102809</td>\n",
              "      <td>37813.01828</td>\n",
              "      <td>0.002359</td>\n",
              "      <td>20.958406</td>\n",
              "      <td>160.395258</td>\n",
              "      <td>0.024497</td>\n",
              "      <td>1281.094994</td>\n",
              "      <td>0.128205</td>\n",
              "    </tr>\n",
              "    <tr>\n",
              "      <th>226</th>\n",
              "      <td>P26</td>\n",
              "      <td>mea3-P26.jpg</td>\n",
              "      <td>32</td>\n",
              "      <td>2</td>\n",
              "      <td>F</td>\n",
              "      <td>L</td>\n",
              "      <td>59</td>\n",
              "      <td>6544.571924</td>\n",
              "      <td>8612.729092</td>\n",
              "      <td>36154.08597</td>\n",
              "      <td>0.013198</td>\n",
              "      <td>27.237956</td>\n",
              "      <td>180.306815</td>\n",
              "      <td>0.003577</td>\n",
              "      <td>1761.998890</td>\n",
              "      <td>0.243421</td>\n",
              "    </tr>\n",
              "    <tr>\n",
              "      <th>257</th>\n",
              "      <td>P26</td>\n",
              "      <td>mea4-P26.jpg</td>\n",
              "      <td>32</td>\n",
              "      <td>2</td>\n",
              "      <td>F</td>\n",
              "      <td>L</td>\n",
              "      <td>59</td>\n",
              "      <td>4921.267695</td>\n",
              "      <td>6948.380564</td>\n",
              "      <td>35304.08954</td>\n",
              "      <td>0.017636</td>\n",
              "      <td>25.699685</td>\n",
              "      <td>182.482156</td>\n",
              "      <td>0.055527</td>\n",
              "      <td>1698.122391</td>\n",
              "      <td>0.235915</td>\n",
              "    </tr>\n",
              "  </tbody>\n",
              "</table>\n",
              "</div>"
            ],
            "text/plain": [
              "    _ID_EXAM  ... CHANGES_FROM_NEGATIVE_TO_POSITIVE_BETWEEN_ET_HT\n",
              "164      P26  ...                                        0.266871\n",
              "195      P26  ...                                        0.128205\n",
              "226      P26  ...                                        0.243421\n",
              "257      P26  ...                                        0.235915\n",
              "\n",
              "[4 rows x 16 columns]"
            ]
          },
          "metadata": {
            "tags": []
          },
          "execution_count": 123
        }
      ]
    },
    {
      "cell_type": "markdown",
      "metadata": {
        "id": "UYbNZkMjkfdw"
      },
      "source": [
        "##**Preprocessing**"
      ]
    },
    {
      "cell_type": "markdown",
      "metadata": {
        "id": "WcwtQpQfktl7"
      },
      "source": [
        "###Normalization\n",
        "\n",
        "fi' = (fi - avg)/std"
      ]
    },
    {
      "cell_type": "code",
      "metadata": {
        "id": "VTfbmKgjjFEt"
      },
      "source": [
        "# normalization with the paper's method (formula above)\n",
        "def feature_normalization(df):\n",
        "  df_dup = df.copy()\n",
        "\n",
        "  df1 = df_dup[['RMS', 'MAX_BETWEEN_ET_HT',\n",
        "       'MIN_BETWEEN_ET_HT', 'STD_DEVIATION_ET_HT', 'MRT', 'MAX_HT', 'MIN_HT',\n",
        "       'STD_HT', 'CHANGES_FROM_NEGATIVE_TO_POSITIVE_BETWEEN_ET_HT']]\n",
        "\n",
        "  df2 = df_dup[['_ID_EXAM', 'IMAGE_NAME', 'ID_PATIENT', 'CLASS_TYPE', 'GENDER',\n",
        "       'RIGH/LEFT-HANDED', 'AGE']]\n",
        "  avg_dev = df1.mad(axis = 0)\n",
        "  std_dev = df1.std(axis = 0)\n",
        "\n",
        "  df1 = df1.sub(avg_dev)\n",
        "  df1 = df1.divide(std_dev)\n",
        "\n",
        "  return df2, df1"
      ],
      "execution_count": 124,
      "outputs": []
    },
    {
      "cell_type": "code",
      "metadata": {
        "id": "U4px6A393Q__"
      },
      "source": [
        "# normalizing X_spiral\n",
        "X_spiral = pd.concat(feature_normalization(spiral_df), axis = 1)"
      ],
      "execution_count": 125,
      "outputs": []
    },
    {
      "cell_type": "code",
      "metadata": {
        "id": "Yi7MJQt53h3-"
      },
      "source": [
        "# normalizing X_meander\n",
        "X_meander =  pd.concat(feature_normalization(meander_df), axis = 1)"
      ],
      "execution_count": 126,
      "outputs": []
    },
    {
      "cell_type": "markdown",
      "metadata": {
        "id": "cJCDFecAEwW5"
      },
      "source": [
        "###Data Splitting\n",
        "The first one uses 75% of the dataset for training purposes and the remaining 25% for the classification phase. However, instead of partitioning the dataset randomly, we created four subsets in order to guarantee that each individual will be represented in the dataset with its 3 spirals/meanders, with the remaining one being used for classification purposes. In this experiment, the spiral- and meander-based datasets are used individually."
      ]
    },
    {
      "cell_type": "code",
      "metadata": {
        "id": "LmmIx7xYki-3"
      },
      "source": [
        "def split_data(df, app_df, drop_df):\n",
        "  df_IDs = df['ID_PATIENT'].unique().tolist()\n",
        "\n",
        "  for x in df_IDs:\n",
        "    row1 = df[df['ID_PATIENT'] == x].iloc[0]\n",
        "    app_df = app_df.append(row1)\n",
        "    drop_df = drop_df.drop(row1.name)\n",
        "\n",
        "  return app_df, drop_df"
      ],
      "execution_count": 149,
      "outputs": []
    },
    {
      "cell_type": "code",
      "metadata": {
        "id": "PkHQQQxMivU6"
      },
      "source": [
        "def represented_train_test_split(df):\n",
        "\n",
        "  test = pd.DataFrame(columns = df.columns)\n",
        "  train = df.copy()\n",
        "\n",
        "  # Some patients may have multiple test IDs so we must base this on Patient ID, which can be same for PD and Ctrl groups. So we split them.\n",
        "  ctrl_df = df.query('CLASS_TYPE == 1')\n",
        "  pd_df = df.query('CLASS_TYPE == 2')\n",
        "\n",
        "  # we can append very easily because each of the IDs are different in ctrl_df and pd_df, since we split from X_spiral, which has all unique IDs\n",
        "  test, train = split_data(ctrl_df, test, train)\n",
        "  test, train = split_data(pd_df, test, train)\n",
        "\n",
        "  test = test.reset_index(drop=True)\n",
        "  train = train.reset_index(drop=True)\n",
        "\n",
        "  return test, train"
      ],
      "execution_count": 150,
      "outputs": []
    },
    {
      "cell_type": "code",
      "metadata": {
        "id": "Phtl1I2zj_3y"
      },
      "source": [
        "spiral_test, spiral_train = represented_train_test_split(X_spiral)"
      ],
      "execution_count": 151,
      "outputs": []
    },
    {
      "cell_type": "code",
      "metadata": {
        "colab": {
          "base_uri": "https://localhost:8080/"
        },
        "id": "VPbMiPLmqouA",
        "outputId": "e8ac67fa-cb8a-4129-caea-530cab5bda90"
      },
      "source": [
        "spiral_train.shape"
      ],
      "execution_count": 153,
      "outputs": [
        {
          "output_type": "execute_result",
          "data": {
            "text/plain": [
              "(198, 16)"
            ]
          },
          "metadata": {
            "tags": []
          },
          "execution_count": 153
        }
      ]
    },
    {
      "cell_type": "code",
      "metadata": {
        "colab": {
          "base_uri": "https://localhost:8080/"
        },
        "id": "lCp72TO7z6WR",
        "outputId": "97d922c4-e36b-4aca-99af-c841b058deaa"
      },
      "source": [
        "spiral_test.shape"
      ],
      "execution_count": 162,
      "outputs": [
        {
          "output_type": "execute_result",
          "data": {
            "text/plain": [
              "(66, 16)"
            ]
          },
          "metadata": {
            "tags": []
          },
          "execution_count": 162
        }
      ]
    },
    {
      "cell_type": "code",
      "metadata": {
        "colab": {
          "base_uri": "https://localhost:8080/"
        },
        "id": "t1QOWapFqSfh",
        "outputId": "c8e02ba2-4125-418c-a08a-786f1f5da6fe"
      },
      "source": [
        "spiral_test['ID_PATIENT'].value_counts()"
      ],
      "execution_count": 164,
      "outputs": [
        {
          "output_type": "execute_result",
          "data": {
            "text/plain": [
              "5      2\n",
              "23     2\n",
              "14     1\n",
              "17     1\n",
              "38     1\n",
              "      ..\n",
              "53     1\n",
              "181    1\n",
              "305    1\n",
              "176    1\n",
              "1      1\n",
              "Name: ID_PATIENT, Length: 64, dtype: int64"
            ]
          },
          "metadata": {
            "tags": []
          },
          "execution_count": 164
        }
      ]
    },
    {
      "cell_type": "code",
      "metadata": {
        "colab": {
          "base_uri": "https://localhost:8080/"
        },
        "id": "263BoCFSqapT",
        "outputId": "f52484ae-3edf-441b-a30a-6c9f9c3cc6ce"
      },
      "source": [
        "spiral_train['ID_PATIENT'].value_counts()"
      ],
      "execution_count": 163,
      "outputs": [
        {
          "output_type": "execute_result",
          "data": {
            "text/plain": [
              "5      6\n",
              "23     6\n",
              "253    3\n",
              "18     3\n",
              "301    3\n",
              "      ..\n",
              "80     3\n",
              "78     3\n",
              "268    3\n",
              "76     3\n",
              "1      3\n",
              "Name: ID_PATIENT, Length: 64, dtype: int64"
            ]
          },
          "metadata": {
            "tags": []
          },
          "execution_count": 163
        }
      ]
    },
    {
      "cell_type": "markdown",
      "metadata": {
        "id": "HD6jTJrFz_4e"
      },
      "source": [
        "As can be seen, we end up with only 2 IDs that are duplicated in PD and control patients: 5 and 23."
      ]
    },
    {
      "cell_type": "markdown",
      "metadata": {
        "id": "gbeBsENVlQka"
      },
      "source": [
        "###Train-Test-Split"
      ]
    },
    {
      "cell_type": "code",
      "metadata": {
        "id": "hX5-ZM5twVUw"
      },
      "source": [
        "# creating our final dataset with control and PD Spiral patients and control Meander patients\n",
        "X = pd.concat([X_spiral, X_meander])\n",
        "y = pd.concat([y_spiral, y_meander])"
      ],
      "execution_count": null,
      "outputs": []
    },
    {
      "cell_type": "code",
      "metadata": {
        "id": "j5LoRggSlWmb"
      },
      "source": [
        "# Train-Test Split, 80% train, 20% test, stratification across PD diagnosis (label)\n",
        "y_label = y.to_numpy()\n",
        "X_train, X_test, y_train, y_test = train_test_split(X, y, random_state = 0, test_size = 0.2, stratify = y_label)"
      ],
      "execution_count": null,
      "outputs": []
    },
    {
      "cell_type": "code",
      "metadata": {
        "id": "f-1hFnrflXcY"
      },
      "source": [
        "X_train = X_train.reset_index(drop = True)\n",
        "X_test = X_test.reset_index(drop = True)"
      ],
      "execution_count": null,
      "outputs": []
    },
    {
      "cell_type": "code",
      "metadata": {
        "id": "dzmGJ3zcKV6v"
      },
      "source": [
        "y_train = y_train.reset_index(drop = True)\n",
        "y_test = y_test.reset_index(drop = True)"
      ],
      "execution_count": null,
      "outputs": []
    },
    {
      "cell_type": "markdown",
      "metadata": {
        "id": "lk6pv-0Vlpjz"
      },
      "source": [
        "###**Quick Check**"
      ]
    },
    {
      "cell_type": "code",
      "metadata": {
        "colab": {
          "base_uri": "https://localhost:8080/"
        },
        "id": "UvM6vqR6Ko52",
        "outputId": "64784baf-f00d-463a-9361-e724a597bc1b"
      },
      "source": [
        "y_train.value_counts()"
      ],
      "execution_count": null,
      "outputs": [
        {
          "output_type": "execute_result",
          "data": {
            "text/plain": [
              "Label\n",
              "2        237\n",
              "1        115\n",
              "dtype: int64"
            ]
          },
          "metadata": {
            "tags": []
          },
          "execution_count": 36
        }
      ]
    },
    {
      "cell_type": "code",
      "metadata": {
        "colab": {
          "base_uri": "https://localhost:8080/"
        },
        "id": "b783Fe5KKqXX",
        "outputId": "5b524fcc-0cc5-4b25-e86d-848b5f141940"
      },
      "source": [
        "y_test.value_counts()"
      ],
      "execution_count": null,
      "outputs": [
        {
          "output_type": "execute_result",
          "data": {
            "text/plain": [
              "Label\n",
              "2        59\n",
              "1        29\n",
              "dtype: int64"
            ]
          },
          "metadata": {
            "tags": []
          },
          "execution_count": 37
        }
      ]
    },
    {
      "cell_type": "markdown",
      "metadata": {
        "id": "b1QF9geMGuV2"
      },
      "source": [
        "##**SVM Implementation**"
      ]
    },
    {
      "cell_type": "markdown",
      "metadata": {
        "id": "I_gFuMTHnkSU"
      },
      "source": [
        "##**Training**"
      ]
    },
    {
      "cell_type": "code",
      "metadata": {
        "id": "7vpTfqLuIkBT",
        "colab": {
          "base_uri": "https://localhost:8080/"
        },
        "outputId": "71e6d461-6464-4295-c572-92aeea4e873b"
      },
      "source": [
        "clf = SVC(kernel = 'rbf', probability = True, class_weight = 'balanced')\n",
        "clf.fit(X_train, y_train)"
      ],
      "execution_count": null,
      "outputs": [
        {
          "output_type": "execute_result",
          "data": {
            "text/plain": [
              "SVC(C=1.0, break_ties=False, cache_size=200, class_weight='balanced', coef0=0.0,\n",
              "    decision_function_shape='ovr', degree=3, gamma='scale', kernel='rbf',\n",
              "    max_iter=-1, probability=True, random_state=None, shrinking=True, tol=0.001,\n",
              "    verbose=False)"
            ]
          },
          "metadata": {
            "tags": []
          },
          "execution_count": 38
        }
      ]
    },
    {
      "cell_type": "markdown",
      "metadata": {
        "id": "QJ7asLzl7hiI"
      },
      "source": [
        "To note, it may be useful to look at the weights for this model (see which features are most valuable), but these are only relevant for a linear kernel. RBF kernel does not have relevant/interpretable weights. And of course, linear kernel is not very helpful and good in predicting (51% accuracy). The features are not linearly separable."
      ]
    },
    {
      "cell_type": "code",
      "metadata": {
        "id": "hzs7YGmBGwm9"
      },
      "source": [
        "y_pred = clf.predict(X_test)\n",
        "y_proba = clf.predict_proba(X_test)"
      ],
      "execution_count": null,
      "outputs": []
    },
    {
      "cell_type": "code",
      "metadata": {
        "id": "8sgC95rQPQJ2"
      },
      "source": [
        "y_pred = pd.Series(y_pred)"
      ],
      "execution_count": null,
      "outputs": []
    },
    {
      "cell_type": "markdown",
      "metadata": {
        "id": "y1SDNLlenfUX"
      },
      "source": [
        "##**Results**"
      ]
    },
    {
      "cell_type": "code",
      "metadata": {
        "colab": {
          "base_uri": "https://localhost:8080/"
        },
        "id": "su5RMaC_MaPF",
        "outputId": "6d4e17c5-a672-4415-8ac0-a67206f36e25"
      },
      "source": [
        "clf.score(X_test, y_test)"
      ],
      "execution_count": null,
      "outputs": [
        {
          "output_type": "execute_result",
          "data": {
            "text/plain": [
              "0.8636363636363636"
            ]
          },
          "metadata": {
            "tags": []
          },
          "execution_count": 40
        }
      ]
    },
    {
      "cell_type": "code",
      "metadata": {
        "id": "wZf0iMccM767"
      },
      "source": [
        "target_names = ['Control', 'PD']\n",
        "results = classification_report(y_test, y_pred, target_names = target_names, output_dict=True)\n",
        "results = pd.DataFrame(results).transpose()\n",
        "conf_mat = confusion_matrix(y_test, y_pred)"
      ],
      "execution_count": null,
      "outputs": []
    },
    {
      "cell_type": "code",
      "metadata": {
        "colab": {
          "base_uri": "https://localhost:8080/",
          "height": 204
        },
        "id": "thzR3k3lMz31",
        "outputId": "3059c80c-2959-469b-cf98-2c45419e875b"
      },
      "source": [
        "results"
      ],
      "execution_count": null,
      "outputs": [
        {
          "output_type": "execute_result",
          "data": {
            "text/html": [
              "<div>\n",
              "<style scoped>\n",
              "    .dataframe tbody tr th:only-of-type {\n",
              "        vertical-align: middle;\n",
              "    }\n",
              "\n",
              "    .dataframe tbody tr th {\n",
              "        vertical-align: top;\n",
              "    }\n",
              "\n",
              "    .dataframe thead th {\n",
              "        text-align: right;\n",
              "    }\n",
              "</style>\n",
              "<table border=\"1\" class=\"dataframe\">\n",
              "  <thead>\n",
              "    <tr style=\"text-align: right;\">\n",
              "      <th></th>\n",
              "      <th>precision</th>\n",
              "      <th>recall</th>\n",
              "      <th>f1-score</th>\n",
              "      <th>support</th>\n",
              "    </tr>\n",
              "  </thead>\n",
              "  <tbody>\n",
              "    <tr>\n",
              "      <th>Control</th>\n",
              "      <td>1.000000</td>\n",
              "      <td>0.586207</td>\n",
              "      <td>0.739130</td>\n",
              "      <td>29.000000</td>\n",
              "    </tr>\n",
              "    <tr>\n",
              "      <th>PD</th>\n",
              "      <td>0.830986</td>\n",
              "      <td>1.000000</td>\n",
              "      <td>0.907692</td>\n",
              "      <td>59.000000</td>\n",
              "    </tr>\n",
              "    <tr>\n",
              "      <th>accuracy</th>\n",
              "      <td>0.863636</td>\n",
              "      <td>0.863636</td>\n",
              "      <td>0.863636</td>\n",
              "      <td>0.863636</td>\n",
              "    </tr>\n",
              "    <tr>\n",
              "      <th>macro avg</th>\n",
              "      <td>0.915493</td>\n",
              "      <td>0.793103</td>\n",
              "      <td>0.823411</td>\n",
              "      <td>88.000000</td>\n",
              "    </tr>\n",
              "    <tr>\n",
              "      <th>weighted avg</th>\n",
              "      <td>0.886684</td>\n",
              "      <td>0.863636</td>\n",
              "      <td>0.852144</td>\n",
              "      <td>88.000000</td>\n",
              "    </tr>\n",
              "  </tbody>\n",
              "</table>\n",
              "</div>"
            ],
            "text/plain": [
              "              precision    recall  f1-score    support\n",
              "Control        1.000000  0.586207  0.739130  29.000000\n",
              "PD             0.830986  1.000000  0.907692  59.000000\n",
              "accuracy       0.863636  0.863636  0.863636   0.863636\n",
              "macro avg      0.915493  0.793103  0.823411  88.000000\n",
              "weighted avg   0.886684  0.863636  0.852144  88.000000"
            ]
          },
          "metadata": {
            "tags": []
          },
          "execution_count": 44
        }
      ]
    },
    {
      "cell_type": "code",
      "metadata": {
        "colab": {
          "base_uri": "https://localhost:8080/"
        },
        "id": "zAXqc2uPNeq5",
        "outputId": "24a44eae-74e8-4de1-aded-2454cb3109b6"
      },
      "source": [
        "conf_mat"
      ],
      "execution_count": null,
      "outputs": [
        {
          "output_type": "execute_result",
          "data": {
            "text/plain": [
              "array([[17, 12],\n",
              "       [ 0, 59]])"
            ]
          },
          "metadata": {
            "tags": []
          },
          "execution_count": 45
        }
      ]
    },
    {
      "cell_type": "code",
      "metadata": {
        "colab": {
          "base_uri": "https://localhost:8080/"
        },
        "id": "vwthqW4OQD2z",
        "outputId": "39381965-74db-49dc-a4a5-cdd1ff6304cb"
      },
      "source": [
        "TN, FP, FN, TP = conf_mat.ravel()\n",
        "\n",
        "# Sensitivity, hit rate, recall, or true positive rate\n",
        "TPR = TP/(TP+FN)\n",
        "\n",
        "# Specificity or true negative rate\n",
        "TNR = TN/(TN+FP) \n",
        "\n",
        "# Precision or positive predictive value\n",
        "PPV = TP/(TP+FP)\n",
        "\n",
        "# Negative predictive value\n",
        "NPV = TN/(TN+FN)\n",
        "\n",
        "# Fall out or false positive rate\n",
        "FPR = FP/(FP+TN)\n",
        "\n",
        "# False negative rate\n",
        "FNR = FN/(TP+FN)\n",
        "\n",
        "# False discovery rate\n",
        "FDR = FP/(TP+FP)\n",
        "\n",
        "print(\"TP: \", TP)\n",
        "print(\"TN: \", TN)\n",
        "print(\"FP: \", FP)\n",
        "print(\"FN: \", FN)\n",
        "\n",
        "print(\"Sensitivity: \", TPR)\n",
        "print(\"Specificity: \", TNR)\n",
        "print(\"NPV: \", NPV)\n",
        "print(\"PPV: \", PPV)"
      ],
      "execution_count": null,
      "outputs": [
        {
          "output_type": "stream",
          "text": [
            "TP:  59\n",
            "TN:  17\n",
            "FP:  12\n",
            "FN:  0\n",
            "Sensitivity:  1.0\n",
            "Specificity:  0.5862068965517241\n",
            "NPV:  1.0\n",
            "PPV:  0.8309859154929577\n"
          ],
          "name": "stdout"
        }
      ]
    },
    {
      "cell_type": "markdown",
      "metadata": {
        "id": "6q-82qHV56E3"
      },
      "source": [
        "Can we somehow get the weights for the model to learn which features are considered most useful?"
      ]
    }
  ]
}