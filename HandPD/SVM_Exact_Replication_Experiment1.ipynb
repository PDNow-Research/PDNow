{
  "nbformat": 4,
  "nbformat_minor": 0,
  "metadata": {
    "colab": {
      "name": "SVM_Exact_Replication_Experiment1.ipynb",
      "provenance": [],
      "collapsed_sections": [],
      "authorship_tag": "ABX9TyOyDBnjZ9cHSBPodDiWqGIK",
      "include_colab_link": true
    },
    "kernelspec": {
      "name": "python3",
      "display_name": "Python 3"
    },
    "language_info": {
      "name": "python"
    }
  },
  "cells": [
    {
      "cell_type": "markdown",
      "metadata": {
        "id": "view-in-github",
        "colab_type": "text"
      },
      "source": [
        "<a href=\"https://colab.research.google.com/github/PDNow-Research/PDNow/blob/main/HandPD/SVM_Exact_Replication_Experiment1.ipynb\" target=\"_parent\"><img src=\"https://colab.research.google.com/assets/colab-badge.svg\" alt=\"Open In Colab\"/></a>"
      ]
    },
    {
      "cell_type": "code",
      "metadata": {
        "colab": {
          "base_uri": "https://localhost:8080/"
        },
        "id": "QE4ruysJCQn7",
        "outputId": "c51797d8-db5e-41d6-bd8b-7006c2e02d4a"
      },
      "source": [
        "from google.colab import drive\n",
        "drive.mount(\"/content/drive\")"
      ],
      "execution_count": 1,
      "outputs": [
        {
          "output_type": "stream",
          "text": [
            "Mounted at /content/drive\n"
          ],
          "name": "stdout"
        }
      ]
    },
    {
      "cell_type": "code",
      "metadata": {
        "id": "v9Y4RF0dDEV2"
      },
      "source": [
        "# Data Science\n",
        "import re\n",
        "import csv\n",
        "import json\n",
        "import itertools\n",
        "from tqdm import tqdm\n",
        "import numpy as np\n",
        "import pandas as pd\n",
        "import seaborn as sns\n",
        "import matplotlib.pyplot as plt\n",
        "\n",
        "# General\n",
        "import os\n",
        "import sys\n",
        "import time\n",
        "import math\n",
        "import random\n",
        "from datetime import date\n",
        "import warnings\n",
        "current_date = date.today()\n",
        "warnings.filterwarnings(\"ignore\")\n",
        "\n",
        "# SVM\n",
        "from sklearn.svm import SVC\n",
        "from sklearn.preprocessing import StandardScaler\n",
        "from sklearn.pipeline import make_pipeline\n",
        "from sklearn.model_selection import train_test_split\n",
        "from sklearn.metrics import confusion_matrix, average_precision_score, classification_report"
      ],
      "execution_count": 2,
      "outputs": []
    },
    {
      "cell_type": "code",
      "metadata": {
        "id": "-ZTgvIpSDSKk"
      },
      "source": [
        "#NewSpiral is from the new HandPD dataset. The new one also comes with images and such, but we are using the data that has the exact same features from old HandPd dataset, except also includes patient ID.\n",
        "spiral_df = pd.read_csv('/content/drive/My Drive/Data/HandPD-Replication/NewSpiral.csv')"
      ],
      "execution_count": 12,
      "outputs": []
    },
    {
      "cell_type": "code",
      "metadata": {
        "colab": {
          "base_uri": "https://localhost:8080/"
        },
        "id": "RsaVCT9v8rvE",
        "outputId": "d2bfb623-e2f2-40cb-d113-95ed209473be"
      },
      "source": [
        "spiral_df.shape"
      ],
      "execution_count": 13,
      "outputs": [
        {
          "output_type": "execute_result",
          "data": {
            "text/plain": [
              "(264, 16)"
            ]
          },
          "metadata": {
            "tags": []
          },
          "execution_count": 13
        }
      ]
    },
    {
      "cell_type": "code",
      "metadata": {
        "colab": {
          "base_uri": "https://localhost:8080/"
        },
        "id": "7z1jjSTTpaVK",
        "outputId": "c04a4926-330d-4325-d808-f6231ff42bf1"
      },
      "source": [
        "spiral_df['CLASS_TYPE'].value_counts()"
      ],
      "execution_count": 14,
      "outputs": [
        {
          "output_type": "execute_result",
          "data": {
            "text/plain": [
              "1    140\n",
              "2    124\n",
              "Name: CLASS_TYPE, dtype: int64"
            ]
          },
          "metadata": {
            "tags": []
          },
          "execution_count": 14
        }
      ]
    },
    {
      "cell_type": "code",
      "metadata": {
        "id": "2Ka51zlVEk7r"
      },
      "source": [
        "meander_df = pd.read_csv('/content/drive/My Drive/Data/HandPD-Replication/NewMeander.csv')"
      ],
      "execution_count": 9,
      "outputs": []
    },
    {
      "cell_type": "code",
      "metadata": {
        "colab": {
          "base_uri": "https://localhost:8080/"
        },
        "id": "ubfz_BuCILmn",
        "outputId": "55e30157-2680-4c14-bfdb-233f0e441f8b"
      },
      "source": [
        "meander_df.columns"
      ],
      "execution_count": 10,
      "outputs": [
        {
          "output_type": "execute_result",
          "data": {
            "text/plain": [
              "Index(['_ID_EXAM', 'IMAGE_NAME', 'ID_PATIENT', 'CLASS_TYPE', 'GENDER',\n",
              "       'RIGH/LEFT-HANDED', 'AGE', 'RMS', 'MAX_BETWEEN_ET_HT',\n",
              "       'MIN_BETWEEN_ET_HT', 'STD_DEVIATION_ET_HT', 'MRT', 'MAX_HT', 'MIN_HT',\n",
              "       'STD_HT', 'CHANGES_FROM_NEGATIVE_TO_POSITIVE_BETWEEN_ET_HT'],\n",
              "      dtype='object')"
            ]
          },
          "metadata": {
            "tags": []
          },
          "execution_count": 10
        }
      ]
    },
    {
      "cell_type": "code",
      "metadata": {
        "colab": {
          "base_uri": "https://localhost:8080/"
        },
        "id": "PIH0dQZTsZnG",
        "outputId": "85e3c619-187a-4fd8-baff-deb0a76c474f"
      },
      "source": [
        "spiral_df['ID_PATIENT'].unique().tolist()"
      ],
      "execution_count": 15,
      "outputs": [
        {
          "output_type": "execute_result",
          "data": {
            "text/plain": [
              "[59,\n",
              " 76,\n",
              " 301,\n",
              " 102,\n",
              " 305,\n",
              " 104,\n",
              " 127,\n",
              " 297,\n",
              " 299,\n",
              " 98,\n",
              " 78,\n",
              " 80,\n",
              " 86,\n",
              " 1,\n",
              " 2,\n",
              " 3,\n",
              " 4,\n",
              " 5,\n",
              " 6,\n",
              " 7,\n",
              " 8,\n",
              " 9,\n",
              " 11,\n",
              " 12,\n",
              " 13,\n",
              " 14,\n",
              " 15,\n",
              " 16,\n",
              " 17,\n",
              " 18,\n",
              " 19,\n",
              " 20,\n",
              " 21,\n",
              " 22,\n",
              " 23,\n",
              " 143,\n",
              " 31,\n",
              " 38,\n",
              " 47,\n",
              " 53,\n",
              " 235,\n",
              " 253,\n",
              " 261,\n",
              " 268,\n",
              " 273,\n",
              " 281,\n",
              " 247,\n",
              " 149,\n",
              " 157,\n",
              " 165,\n",
              " 186,\n",
              " 192,\n",
              " 196,\n",
              " 207,\n",
              " 218,\n",
              " 203,\n",
              " 224,\n",
              " 153,\n",
              " 176,\n",
              " 181,\n",
              " 230,\n",
              " 138,\n",
              " 187]"
            ]
          },
          "metadata": {
            "tags": []
          },
          "execution_count": 15
        }
      ]
    },
    {
      "cell_type": "code",
      "metadata": {
        "colab": {
          "base_uri": "https://localhost:8080/",
          "height": 470
        },
        "id": "tIxpAqfNr2GB",
        "outputId": "9ce78044-f945-44e7-eae9-f2be9168b5e5"
      },
      "source": [
        "spiral_df[spiral_df['ID_PATIENT'] == 31]"
      ],
      "execution_count": 16,
      "outputs": [
        {
          "output_type": "execute_result",
          "data": {
            "text/html": [
              "<div>\n",
              "<style scoped>\n",
              "    .dataframe tbody tr th:only-of-type {\n",
              "        vertical-align: middle;\n",
              "    }\n",
              "\n",
              "    .dataframe tbody tr th {\n",
              "        vertical-align: top;\n",
              "    }\n",
              "\n",
              "    .dataframe thead th {\n",
              "        text-align: right;\n",
              "    }\n",
              "</style>\n",
              "<table border=\"1\" class=\"dataframe\">\n",
              "  <thead>\n",
              "    <tr style=\"text-align: right;\">\n",
              "      <th></th>\n",
              "      <th>_ID_EXAM</th>\n",
              "      <th>IMAGE_NAME</th>\n",
              "      <th>ID_PATIENT</th>\n",
              "      <th>CLASS_TYPE</th>\n",
              "      <th>GENDER</th>\n",
              "      <th>RIGH/LEFT-HANDED</th>\n",
              "      <th>AGE</th>\n",
              "      <th>RMS</th>\n",
              "      <th>MAX_BETWEEN_ET_HT</th>\n",
              "      <th>MIN_BETWEEN_ET_HT</th>\n",
              "      <th>STD_DEVIATION_ET_HT</th>\n",
              "      <th>MRT</th>\n",
              "      <th>MAX_HT</th>\n",
              "      <th>MIN_HT</th>\n",
              "      <th>STD_HT</th>\n",
              "      <th>CHANGES_FROM_NEGATIVE_TO_POSITIVE_BETWEEN_ET_HT</th>\n",
              "    </tr>\n",
              "  </thead>\n",
              "  <tbody>\n",
              "    <tr>\n",
              "      <th>141</th>\n",
              "      <td>P2</td>\n",
              "      <td>mea1-P2.jpg</td>\n",
              "      <td>31</td>\n",
              "      <td>2</td>\n",
              "      <td>F</td>\n",
              "      <td>R</td>\n",
              "      <td>59</td>\n",
              "      <td>3726.488067</td>\n",
              "      <td>5893.347008</td>\n",
              "      <td>37785.94529</td>\n",
              "      <td>0.306602</td>\n",
              "      <td>24.403343</td>\n",
              "      <td>179.554888</td>\n",
              "      <td>0.008474</td>\n",
              "      <td>1739.851476</td>\n",
              "      <td>0.267742</td>\n",
              "    </tr>\n",
              "    <tr>\n",
              "      <th>164</th>\n",
              "      <td>P26</td>\n",
              "      <td>mea1-P26.jpg</td>\n",
              "      <td>31</td>\n",
              "      <td>2</td>\n",
              "      <td>F</td>\n",
              "      <td>L</td>\n",
              "      <td>59</td>\n",
              "      <td>4587.166408</td>\n",
              "      <td>6561.231877</td>\n",
              "      <td>37033.96196</td>\n",
              "      <td>0.018378</td>\n",
              "      <td>22.328549</td>\n",
              "      <td>184.806500</td>\n",
              "      <td>0.057158</td>\n",
              "      <td>1388.315960</td>\n",
              "      <td>0.266871</td>\n",
              "    </tr>\n",
              "    <tr>\n",
              "      <th>172</th>\n",
              "      <td>P2</td>\n",
              "      <td>mea2-P2.jpg</td>\n",
              "      <td>31</td>\n",
              "      <td>2</td>\n",
              "      <td>F</td>\n",
              "      <td>R</td>\n",
              "      <td>59</td>\n",
              "      <td>3469.841548</td>\n",
              "      <td>5282.395889</td>\n",
              "      <td>33582.16916</td>\n",
              "      <td>0.000129</td>\n",
              "      <td>18.103416</td>\n",
              "      <td>170.531514</td>\n",
              "      <td>0.045752</td>\n",
              "      <td>1130.591703</td>\n",
              "      <td>0.204545</td>\n",
              "    </tr>\n",
              "    <tr>\n",
              "      <th>195</th>\n",
              "      <td>P26</td>\n",
              "      <td>mea2-P26.jpg</td>\n",
              "      <td>31</td>\n",
              "      <td>2</td>\n",
              "      <td>F</td>\n",
              "      <td>L</td>\n",
              "      <td>59</td>\n",
              "      <td>6210.596735</td>\n",
              "      <td>7365.102809</td>\n",
              "      <td>37813.01828</td>\n",
              "      <td>0.002359</td>\n",
              "      <td>20.958406</td>\n",
              "      <td>160.395258</td>\n",
              "      <td>0.024497</td>\n",
              "      <td>1281.094994</td>\n",
              "      <td>0.128205</td>\n",
              "    </tr>\n",
              "    <tr>\n",
              "      <th>203</th>\n",
              "      <td>P2</td>\n",
              "      <td>mea3-P2.jpg</td>\n",
              "      <td>31</td>\n",
              "      <td>2</td>\n",
              "      <td>F</td>\n",
              "      <td>R</td>\n",
              "      <td>59</td>\n",
              "      <td>5066.989293</td>\n",
              "      <td>7463.980609</td>\n",
              "      <td>35307.01259</td>\n",
              "      <td>0.000000</td>\n",
              "      <td>22.643151</td>\n",
              "      <td>176.392744</td>\n",
              "      <td>0.008650</td>\n",
              "      <td>1614.293957</td>\n",
              "      <td>0.246711</td>\n",
              "    </tr>\n",
              "    <tr>\n",
              "      <th>226</th>\n",
              "      <td>P26</td>\n",
              "      <td>mea3-P26.jpg</td>\n",
              "      <td>31</td>\n",
              "      <td>2</td>\n",
              "      <td>F</td>\n",
              "      <td>L</td>\n",
              "      <td>59</td>\n",
              "      <td>6544.571924</td>\n",
              "      <td>8612.729092</td>\n",
              "      <td>36154.08597</td>\n",
              "      <td>0.013198</td>\n",
              "      <td>27.237956</td>\n",
              "      <td>180.306815</td>\n",
              "      <td>0.003577</td>\n",
              "      <td>1761.998890</td>\n",
              "      <td>0.243421</td>\n",
              "    </tr>\n",
              "    <tr>\n",
              "      <th>234</th>\n",
              "      <td>P2</td>\n",
              "      <td>mea4-P2.jpg</td>\n",
              "      <td>31</td>\n",
              "      <td>2</td>\n",
              "      <td>F</td>\n",
              "      <td>R</td>\n",
              "      <td>59</td>\n",
              "      <td>3748.920825</td>\n",
              "      <td>6607.203671</td>\n",
              "      <td>36244.36135</td>\n",
              "      <td>0.001141</td>\n",
              "      <td>24.606020</td>\n",
              "      <td>179.208863</td>\n",
              "      <td>0.028543</td>\n",
              "      <td>1782.895068</td>\n",
              "      <td>0.263158</td>\n",
              "    </tr>\n",
              "    <tr>\n",
              "      <th>257</th>\n",
              "      <td>P26</td>\n",
              "      <td>mea4-P26.jpg</td>\n",
              "      <td>31</td>\n",
              "      <td>2</td>\n",
              "      <td>F</td>\n",
              "      <td>L</td>\n",
              "      <td>59</td>\n",
              "      <td>4921.267695</td>\n",
              "      <td>6948.380564</td>\n",
              "      <td>35304.08954</td>\n",
              "      <td>0.017636</td>\n",
              "      <td>25.699685</td>\n",
              "      <td>182.482156</td>\n",
              "      <td>0.055527</td>\n",
              "      <td>1698.122391</td>\n",
              "      <td>0.235915</td>\n",
              "    </tr>\n",
              "  </tbody>\n",
              "</table>\n",
              "</div>"
            ],
            "text/plain": [
              "    _ID_EXAM  ... CHANGES_FROM_NEGATIVE_TO_POSITIVE_BETWEEN_ET_HT\n",
              "141       P2  ...                                        0.267742\n",
              "164      P26  ...                                        0.266871\n",
              "172       P2  ...                                        0.204545\n",
              "195      P26  ...                                        0.128205\n",
              "203       P2  ...                                        0.246711\n",
              "226      P26  ...                                        0.243421\n",
              "234       P2  ...                                        0.263158\n",
              "257      P26  ...                                        0.235915\n",
              "\n",
              "[8 rows x 16 columns]"
            ]
          },
          "metadata": {
            "tags": []
          },
          "execution_count": 16
        }
      ]
    },
    {
      "cell_type": "markdown",
      "metadata": {
        "id": "Mtd63MORsMew"
      },
      "source": [
        "From the above, we can see that there are two patients with the ID of 31. So we're going to give one of them an ID of 32 instead, as that ID does not belong to any other."
      ]
    },
    {
      "cell_type": "code",
      "metadata": {
        "id": "lA93lE-IwPMp"
      },
      "source": [
        "spiral_df['ID_PATIENT'][spiral_df['_ID_EXAM'] == \"P26\"] = 32"
      ],
      "execution_count": 17,
      "outputs": []
    },
    {
      "cell_type": "code",
      "metadata": {
        "colab": {
          "base_uri": "https://localhost:8080/",
          "height": 278
        },
        "id": "aoXUXu9GuHUC",
        "outputId": "c72c5d78-49c0-4c06-d2e8-89c274846eb2"
      },
      "source": [
        "spiral_df[spiral_df['ID_PATIENT'] == 32]"
      ],
      "execution_count": 18,
      "outputs": [
        {
          "output_type": "execute_result",
          "data": {
            "text/html": [
              "<div>\n",
              "<style scoped>\n",
              "    .dataframe tbody tr th:only-of-type {\n",
              "        vertical-align: middle;\n",
              "    }\n",
              "\n",
              "    .dataframe tbody tr th {\n",
              "        vertical-align: top;\n",
              "    }\n",
              "\n",
              "    .dataframe thead th {\n",
              "        text-align: right;\n",
              "    }\n",
              "</style>\n",
              "<table border=\"1\" class=\"dataframe\">\n",
              "  <thead>\n",
              "    <tr style=\"text-align: right;\">\n",
              "      <th></th>\n",
              "      <th>_ID_EXAM</th>\n",
              "      <th>IMAGE_NAME</th>\n",
              "      <th>ID_PATIENT</th>\n",
              "      <th>CLASS_TYPE</th>\n",
              "      <th>GENDER</th>\n",
              "      <th>RIGH/LEFT-HANDED</th>\n",
              "      <th>AGE</th>\n",
              "      <th>RMS</th>\n",
              "      <th>MAX_BETWEEN_ET_HT</th>\n",
              "      <th>MIN_BETWEEN_ET_HT</th>\n",
              "      <th>STD_DEVIATION_ET_HT</th>\n",
              "      <th>MRT</th>\n",
              "      <th>MAX_HT</th>\n",
              "      <th>MIN_HT</th>\n",
              "      <th>STD_HT</th>\n",
              "      <th>CHANGES_FROM_NEGATIVE_TO_POSITIVE_BETWEEN_ET_HT</th>\n",
              "    </tr>\n",
              "  </thead>\n",
              "  <tbody>\n",
              "    <tr>\n",
              "      <th>164</th>\n",
              "      <td>P26</td>\n",
              "      <td>mea1-P26.jpg</td>\n",
              "      <td>32</td>\n",
              "      <td>2</td>\n",
              "      <td>F</td>\n",
              "      <td>L</td>\n",
              "      <td>59</td>\n",
              "      <td>4587.166408</td>\n",
              "      <td>6561.231877</td>\n",
              "      <td>37033.96196</td>\n",
              "      <td>0.018378</td>\n",
              "      <td>22.328549</td>\n",
              "      <td>184.806500</td>\n",
              "      <td>0.057158</td>\n",
              "      <td>1388.315960</td>\n",
              "      <td>0.266871</td>\n",
              "    </tr>\n",
              "    <tr>\n",
              "      <th>195</th>\n",
              "      <td>P26</td>\n",
              "      <td>mea2-P26.jpg</td>\n",
              "      <td>32</td>\n",
              "      <td>2</td>\n",
              "      <td>F</td>\n",
              "      <td>L</td>\n",
              "      <td>59</td>\n",
              "      <td>6210.596735</td>\n",
              "      <td>7365.102809</td>\n",
              "      <td>37813.01828</td>\n",
              "      <td>0.002359</td>\n",
              "      <td>20.958406</td>\n",
              "      <td>160.395258</td>\n",
              "      <td>0.024497</td>\n",
              "      <td>1281.094994</td>\n",
              "      <td>0.128205</td>\n",
              "    </tr>\n",
              "    <tr>\n",
              "      <th>226</th>\n",
              "      <td>P26</td>\n",
              "      <td>mea3-P26.jpg</td>\n",
              "      <td>32</td>\n",
              "      <td>2</td>\n",
              "      <td>F</td>\n",
              "      <td>L</td>\n",
              "      <td>59</td>\n",
              "      <td>6544.571924</td>\n",
              "      <td>8612.729092</td>\n",
              "      <td>36154.08597</td>\n",
              "      <td>0.013198</td>\n",
              "      <td>27.237956</td>\n",
              "      <td>180.306815</td>\n",
              "      <td>0.003577</td>\n",
              "      <td>1761.998890</td>\n",
              "      <td>0.243421</td>\n",
              "    </tr>\n",
              "    <tr>\n",
              "      <th>257</th>\n",
              "      <td>P26</td>\n",
              "      <td>mea4-P26.jpg</td>\n",
              "      <td>32</td>\n",
              "      <td>2</td>\n",
              "      <td>F</td>\n",
              "      <td>L</td>\n",
              "      <td>59</td>\n",
              "      <td>4921.267695</td>\n",
              "      <td>6948.380564</td>\n",
              "      <td>35304.08954</td>\n",
              "      <td>0.017636</td>\n",
              "      <td>25.699685</td>\n",
              "      <td>182.482156</td>\n",
              "      <td>0.055527</td>\n",
              "      <td>1698.122391</td>\n",
              "      <td>0.235915</td>\n",
              "    </tr>\n",
              "  </tbody>\n",
              "</table>\n",
              "</div>"
            ],
            "text/plain": [
              "    _ID_EXAM  ... CHANGES_FROM_NEGATIVE_TO_POSITIVE_BETWEEN_ET_HT\n",
              "164      P26  ...                                        0.266871\n",
              "195      P26  ...                                        0.128205\n",
              "226      P26  ...                                        0.243421\n",
              "257      P26  ...                                        0.235915\n",
              "\n",
              "[4 rows x 16 columns]"
            ]
          },
          "metadata": {
            "tags": []
          },
          "execution_count": 18
        }
      ]
    },
    {
      "cell_type": "markdown",
      "metadata": {
        "id": "UYbNZkMjkfdw"
      },
      "source": [
        "##**Preprocessing**"
      ]
    },
    {
      "cell_type": "markdown",
      "metadata": {
        "id": "WcwtQpQfktl7"
      },
      "source": [
        "###Normalization\n",
        "\n",
        "fi' = (fi - avg)/std"
      ]
    },
    {
      "cell_type": "code",
      "metadata": {
        "id": "VTfbmKgjjFEt"
      },
      "source": [
        "# normalization with the paper's method (formula above)\n",
        "def feature_normalization(df):\n",
        "  df_dup = df.copy()\n",
        "\n",
        "  df1 = df_dup[['RMS', 'MAX_BETWEEN_ET_HT',\n",
        "       'MIN_BETWEEN_ET_HT', 'STD_DEVIATION_ET_HT', 'MRT', 'MAX_HT', 'MIN_HT',\n",
        "       'STD_HT', 'CHANGES_FROM_NEGATIVE_TO_POSITIVE_BETWEEN_ET_HT']]\n",
        "\n",
        "  df2 = df_dup[['_ID_EXAM', 'IMAGE_NAME', 'ID_PATIENT', 'CLASS_TYPE', 'GENDER',\n",
        "       'RIGH/LEFT-HANDED', 'AGE']]\n",
        "  avg_dev = df1.mad(axis = 0)\n",
        "  std_dev = df1.std(axis = 0)\n",
        "\n",
        "  df1 = df1.sub(avg_dev)\n",
        "  df1 = df1.divide(std_dev)\n",
        "\n",
        "  return df2, df1"
      ],
      "execution_count": 19,
      "outputs": []
    },
    {
      "cell_type": "code",
      "metadata": {
        "id": "U4px6A393Q__"
      },
      "source": [
        "# normalizing spiral_df\n",
        "spiral_df = pd.concat(feature_normalization(spiral_df), axis = 1)"
      ],
      "execution_count": 20,
      "outputs": []
    },
    {
      "cell_type": "code",
      "metadata": {
        "id": "Yi7MJQt53h3-"
      },
      "source": [
        "# normalizing X_meander\n",
        "meander_df =  pd.concat(feature_normalization(meander_df), axis = 1)"
      ],
      "execution_count": 21,
      "outputs": []
    },
    {
      "cell_type": "markdown",
      "metadata": {
        "id": "cJCDFecAEwW5"
      },
      "source": [
        "###Data Splitting\n",
        "\"The first one [experiment] uses 75% of the dataset for training purposes and the remaining 25% for the classification phase. However, instead of partitioning the dataset randomly, we created four subsets in order to guarantee that each individual will be represented in the dataset with its 3 spirals/meanders, with the remaining one being used for classification purposes. In this experiment, the spiral- and meander-based datasets are used individually.\""
      ]
    },
    {
      "cell_type": "code",
      "metadata": {
        "id": "LmmIx7xYki-3"
      },
      "source": [
        "def split_data(df, dfarr):\n",
        "  df_IDs = df['ID_PATIENT'].unique().tolist()\n",
        "\n",
        "  for x in df_IDs:\n",
        "    for i in range(len(dfarr)):\n",
        "      row = df[df['ID_PATIENT'] == x].iloc[i]\n",
        "      dfarr[i] = dfarr[i].append(row)\n",
        "\n",
        "  return dfarr"
      ],
      "execution_count": 218,
      "outputs": []
    },
    {
      "cell_type": "code",
      "metadata": {
        "id": "PkHQQQxMivU6"
      },
      "source": [
        "def represented_train_test_split(df, arrnum):\n",
        "\n",
        "  test = pd.DataFrame(columns = df.columns)\n",
        "  train = pd.DataFrame(columns = df.columns)\n",
        "\n",
        "  dfarr = [] # creating list of lists with 4 lists\n",
        "  for i in range(4):\n",
        "    dfarr.append(pd.DataFrame(columns = df.columns))\n",
        "\n",
        "  # Some patients may have multiple test IDs so we must base this on Patient ID, which can be same for PD and Ctrl groups. So we split them.\n",
        "  ctrl_df = df.query('CLASS_TYPE == 1')\n",
        "  pd_df = df.query('CLASS_TYPE == 2')\n",
        "\n",
        "  # we can append very easily because each of the IDs are different in ctrl_df and pd_df, since we split from X_spiral, which has all unique IDs\n",
        "  dfarr = split_data(ctrl_df, dfarr)\n",
        "  dfarr = split_data(pd_df, dfarr)\n",
        "\n",
        "\n",
        "  test = dfarr[arrnum]\n",
        "  test = test.reset_index(drop=True)\n",
        "\n",
        "  dfarr.pop(arrnum)\n",
        "\n",
        "  train = pd.concat(dfarr) # after droppage of arrnum used for test\n",
        "  train = train.reset_index(drop=True)\n",
        "\n",
        "  return test, train"
      ],
      "execution_count": 223,
      "outputs": []
    },
    {
      "cell_type": "code",
      "metadata": {
        "id": "Phtl1I2zj_3y"
      },
      "source": [
        "spiral_test, spiral_train = represented_train_test_split(spiral_df, 0)"
      ],
      "execution_count": 224,
      "outputs": []
    },
    {
      "cell_type": "code",
      "metadata": {
        "colab": {
          "base_uri": "https://localhost:8080/"
        },
        "id": "bdu8PFDZQd0u",
        "outputId": "0cc54b4d-be2c-4c0c-faac-8bd9d3f943a4"
      },
      "source": [
        "spiral_test.shape"
      ],
      "execution_count": 225,
      "outputs": [
        {
          "output_type": "execute_result",
          "data": {
            "text/plain": [
              "(66, 16)"
            ]
          },
          "metadata": {
            "tags": []
          },
          "execution_count": 225
        }
      ]
    },
    {
      "cell_type": "code",
      "metadata": {
        "colab": {
          "base_uri": "https://localhost:8080/"
        },
        "id": "VPbMiPLmqouA",
        "outputId": "a83e37fd-e605-4f71-963b-d0d18eb81a94"
      },
      "source": [
        "spiral_train.shape"
      ],
      "execution_count": 226,
      "outputs": [
        {
          "output_type": "execute_result",
          "data": {
            "text/plain": [
              "(198, 16)"
            ]
          },
          "metadata": {
            "tags": []
          },
          "execution_count": 226
        }
      ]
    },
    {
      "cell_type": "code",
      "metadata": {
        "colab": {
          "base_uri": "https://localhost:8080/"
        },
        "id": "t1QOWapFqSfh",
        "outputId": "8806b50d-230e-4f59-ed3d-789a17a965c9"
      },
      "source": [
        "spiral_test['ID_PATIENT'].value_counts()"
      ],
      "execution_count": 227,
      "outputs": [
        {
          "output_type": "execute_result",
          "data": {
            "text/plain": [
              "5      2\n",
              "23     2\n",
              "14     1\n",
              "17     1\n",
              "38     1\n",
              "      ..\n",
              "53     1\n",
              "181    1\n",
              "305    1\n",
              "176    1\n",
              "1      1\n",
              "Name: ID_PATIENT, Length: 64, dtype: int64"
            ]
          },
          "metadata": {
            "tags": []
          },
          "execution_count": 227
        }
      ]
    },
    {
      "cell_type": "code",
      "metadata": {
        "colab": {
          "base_uri": "https://localhost:8080/"
        },
        "id": "263BoCFSqapT",
        "outputId": "a49d49cf-7331-4d93-caaf-64f6e89fc484"
      },
      "source": [
        "spiral_train['ID_PATIENT'].value_counts()"
      ],
      "execution_count": 228,
      "outputs": [
        {
          "output_type": "execute_result",
          "data": {
            "text/plain": [
              "5      6\n",
              "23     6\n",
              "14     3\n",
              "17     3\n",
              "38     3\n",
              "      ..\n",
              "53     3\n",
              "181    3\n",
              "305    3\n",
              "176    3\n",
              "1      3\n",
              "Name: ID_PATIENT, Length: 64, dtype: int64"
            ]
          },
          "metadata": {
            "tags": []
          },
          "execution_count": 228
        }
      ]
    },
    {
      "cell_type": "markdown",
      "metadata": {
        "id": "HD6jTJrFz_4e"
      },
      "source": [
        "As can be seen, we end up with only 2 IDs that are duplicated in PD and control patients: 5 and 23."
      ]
    },
    {
      "cell_type": "markdown",
      "metadata": {
        "id": "gbeBsENVlQka"
      },
      "source": [
        "###Train-Test-Split into X and y"
      ]
    },
    {
      "cell_type": "code",
      "metadata": {
        "colab": {
          "base_uri": "https://localhost:8080/"
        },
        "id": "X7_Hwqpj1kVc",
        "outputId": "5c922014-56de-483d-ea96-aaecc0c7c862"
      },
      "source": [
        "spiral_train.columns"
      ],
      "execution_count": 29,
      "outputs": [
        {
          "output_type": "execute_result",
          "data": {
            "text/plain": [
              "Index(['_ID_EXAM', 'IMAGE_NAME', 'ID_PATIENT', 'CLASS_TYPE', 'GENDER',\n",
              "       'RIGH/LEFT-HANDED', 'AGE', 'RMS', 'MAX_BETWEEN_ET_HT',\n",
              "       'MIN_BETWEEN_ET_HT', 'STD_DEVIATION_ET_HT', 'MRT', 'MAX_HT', 'MIN_HT',\n",
              "       'STD_HT', 'CHANGES_FROM_NEGATIVE_TO_POSITIVE_BETWEEN_ET_HT'],\n",
              "      dtype='object')"
            ]
          },
          "metadata": {
            "tags": []
          },
          "execution_count": 29
        }
      ]
    },
    {
      "cell_type": "code",
      "metadata": {
        "id": "hX5-ZM5twVUw"
      },
      "source": [
        "def final_train_test_split(train, test):\n",
        "  # creating our final training dataset with spiral drawings\n",
        "  X_train = train[['RMS', 'MAX_BETWEEN_ET_HT', 'MIN_BETWEEN_ET_HT', 'STD_DEVIATION_ET_HT', 'MRT', 'MAX_HT', 'MIN_HT', 'STD_HT', 'CHANGES_FROM_NEGATIVE_TO_POSITIVE_BETWEEN_ET_HT']]\n",
        "  y_train = train['CLASS_TYPE']\n",
        "\n",
        "  y_train = pd.DataFrame(y_train)\n",
        "\n",
        "\n",
        "  # creating our final testing dataset with spiral drawings\n",
        "  X_test = test[['RMS', 'MAX_BETWEEN_ET_HT', 'MIN_BETWEEN_ET_HT', 'STD_DEVIATION_ET_HT', 'MRT', 'MAX_HT', 'MIN_HT', 'STD_HT', 'CHANGES_FROM_NEGATIVE_TO_POSITIVE_BETWEEN_ET_HT']]\n",
        "  y_test = test['CLASS_TYPE']\n",
        "\n",
        "  y_test = pd.DataFrame(y_test)\n",
        "\n",
        "  return X_train, y_train, X_test, y_test"
      ],
      "execution_count": 238,
      "outputs": []
    },
    {
      "cell_type": "code",
      "metadata": {
        "id": "j5LoRggSlWmb"
      },
      "source": [
        "X_spiral_train, y_spiral_train, X_spiral_test, y_spiral_test = final_train_test_split(spiral_train, spiral_test)"
      ],
      "execution_count": 239,
      "outputs": []
    },
    {
      "cell_type": "code",
      "metadata": {
        "id": "AgxeHkPsXQWs"
      },
      "source": [
        "# converting to type SVM can understand - int instead of object\n",
        "\n",
        "y_spiral_train['CLASS_TYPE'] = pd.to_numeric(y_spiral_train['CLASS_TYPE'])\n",
        "y_spiral_test['CLASS_TYPE'] = pd.to_numeric(y_spiral_test['CLASS_TYPE'])"
      ],
      "execution_count": 259,
      "outputs": []
    },
    {
      "cell_type": "markdown",
      "metadata": {
        "id": "lk6pv-0Vlpjz"
      },
      "source": [
        "###Quick Check"
      ]
    },
    {
      "cell_type": "code",
      "metadata": {
        "colab": {
          "base_uri": "https://localhost:8080/"
        },
        "id": "UvM6vqR6Ko52",
        "outputId": "488a2a50-6597-4695-cb02-ca1be027014b"
      },
      "source": [
        "y_spiral_train.value_counts()"
      ],
      "execution_count": 260,
      "outputs": [
        {
          "output_type": "execute_result",
          "data": {
            "text/plain": [
              "CLASS_TYPE\n",
              "1             105\n",
              "2              93\n",
              "dtype: int64"
            ]
          },
          "metadata": {
            "tags": []
          },
          "execution_count": 260
        }
      ]
    },
    {
      "cell_type": "code",
      "metadata": {
        "colab": {
          "base_uri": "https://localhost:8080/"
        },
        "id": "b783Fe5KKqXX",
        "outputId": "1fc03848-0468-4390-82de-2f6051d34550"
      },
      "source": [
        "y_spiral_test.value_counts()"
      ],
      "execution_count": 261,
      "outputs": [
        {
          "output_type": "execute_result",
          "data": {
            "text/plain": [
              "CLASS_TYPE\n",
              "1             35\n",
              "2             31\n",
              "dtype: int64"
            ]
          },
          "metadata": {
            "tags": []
          },
          "execution_count": 261
        }
      ]
    },
    {
      "cell_type": "markdown",
      "metadata": {
        "id": "b1QF9geMGuV2"
      },
      "source": [
        "##**SVM Implementation**"
      ]
    },
    {
      "cell_type": "markdown",
      "metadata": {
        "id": "I_gFuMTHnkSU"
      },
      "source": [
        "###**Training**"
      ]
    },
    {
      "cell_type": "code",
      "metadata": {
        "id": "PiWW08fLaJGY"
      },
      "source": [
        ""
      ],
      "execution_count": null,
      "outputs": []
    },
    {
      "cell_type": "code",
      "metadata": {
        "id": "7vpTfqLuIkBT",
        "colab": {
          "base_uri": "https://localhost:8080/"
        },
        "outputId": "d1371b46-2cd6-4e94-a4a6-f414518b4550"
      },
      "source": [
        "clf = SVC(kernel = 'rbf', probability = True, class_weight = 'balanced')\n",
        "clf.fit(X_spiral_train, y_spiral_train)"
      ],
      "execution_count": 262,
      "outputs": [
        {
          "output_type": "execute_result",
          "data": {
            "text/plain": [
              "SVC(C=1.0, break_ties=False, cache_size=200, class_weight='balanced', coef0=0.0,\n",
              "    decision_function_shape='ovr', degree=3, gamma='scale', kernel='rbf',\n",
              "    max_iter=-1, probability=True, random_state=None, shrinking=True, tol=0.001,\n",
              "    verbose=False)"
            ]
          },
          "metadata": {
            "tags": []
          },
          "execution_count": 262
        }
      ]
    },
    {
      "cell_type": "markdown",
      "metadata": {
        "id": "QJ7asLzl7hiI"
      },
      "source": [
        "To note, it may be useful to look at the weights for this model (see which features are most valuable), but these are only relevant for a linear kernel. RBF kernel does not have relevant/interpretable weights. And of course, linear kernel is not very helpful and good in predicting (51% accuracy). The features are not linearly separable."
      ]
    },
    {
      "cell_type": "code",
      "metadata": {
        "id": "hzs7YGmBGwm9"
      },
      "source": [
        "y_spiral_pred = clf.predict(X_spiral_test)\n",
        "y_spiral_proba = clf.predict_proba(X_spiral_test)"
      ],
      "execution_count": 263,
      "outputs": []
    },
    {
      "cell_type": "code",
      "metadata": {
        "id": "8sgC95rQPQJ2"
      },
      "source": [
        "y_spiral_pred = pd.Series(y_spiral_pred)"
      ],
      "execution_count": 264,
      "outputs": []
    },
    {
      "cell_type": "code",
      "metadata": {
        "id": "oS6mlmkTZln_"
      },
      "source": [
        ""
      ],
      "execution_count": null,
      "outputs": []
    },
    {
      "cell_type": "markdown",
      "metadata": {
        "id": "y1SDNLlenfUX"
      },
      "source": [
        "##**Results**"
      ]
    },
    {
      "cell_type": "markdown",
      "metadata": {
        "id": "uwxR8fPlNEz5"
      },
      "source": [
        "#### Deviance of probabilites from 100/0 depending on class"
      ]
    },
    {
      "cell_type": "code",
      "metadata": {
        "id": "WQpRxLEUHJT8"
      },
      "source": [
        "# flattening y_spiral_proba & removing the second percentage we don't need\n",
        "\n",
        "# y_spiral_proba = [x for list in y_spiral_proba for x in list]\n",
        "y_spiral_proba = y_spiral_proba[0::2] # takes every other element starting from the first element"
      ],
      "execution_count": 153,
      "outputs": []
    },
    {
      "cell_type": "code",
      "metadata": {
        "colab": {
          "base_uri": "https://localhost:8080/"
        },
        "id": "3xPExxC_JnIK",
        "outputId": "bc232fe4-d0e3-4861-8151-9659bacaa374"
      },
      "source": [
        "y_spiral_proba"
      ],
      "execution_count": 154,
      "outputs": [
        {
          "output_type": "execute_result",
          "data": {
            "text/plain": [
              "[0.9989593501926906,\n",
              " 0.7657691737400566,\n",
              " 0.995665066877425,\n",
              " 0.5826891008680899,\n",
              " 0.7078448261262179,\n",
              " 0.3355112910628663,\n",
              " 0.38530444320491547,\n",
              " 0.33688005174320407,\n",
              " 0.3354091041216158,\n",
              " 0.6444538555257089,\n",
              " 0.2766329500044335,\n",
              " 0.20930562430301605,\n",
              " 0.3332795872446732,\n",
              " 0.2936485010004472,\n",
              " 0.3587660078503655,\n",
              " 0.48083894728789106,\n",
              " 0.2958599298149011,\n",
              " 0.6363398349971425,\n",
              " 0.5673544406535503,\n",
              " 0.7303400885579483,\n",
              " 0.9783341669979735,\n",
              " 0.3339515312511905,\n",
              " 0.7477849319442436,\n",
              " 0.4834318107070946,\n",
              " 0.37038537880353595,\n",
              " 0.553880408680958,\n",
              " 0.6822663549766973,\n",
              " 0.9904831942662662,\n",
              " 0.9406043596541583,\n",
              " 0.9962750705502315,\n",
              " 0.6790366841003395,\n",
              " 0.9825117079137469,\n",
              " 0.42631619591310893,\n",
              " 0.43493055737245134,\n",
              " 0.7792052757676815,\n",
              " 0.4077495188636984,\n",
              " 0.27266381465310235,\n",
              " 0.3024502860402416,\n",
              " 0.3843285848807891,\n",
              " 0.4661192207979928,\n",
              " 0.5647295335677937,\n",
              " 0.39138430781865213,\n",
              " 0.5647295335677937,\n",
              " 0.39138430781865213,\n",
              " 0.7481736458542284,\n",
              " 0.2918745262165278,\n",
              " 0.21346910488841814,\n",
              " 0.3998567906553723,\n",
              " 0.3348099844685264,\n",
              " 0.29245277037512657,\n",
              " 0.17006993937449905,\n",
              " 0.25735997476932676,\n",
              " 0.2785566610342905,\n",
              " 0.418735887411339,\n",
              " 0.269198397178617,\n",
              " 0.3815462230788933,\n",
              " 0.31123588823861115,\n",
              " 0.4182132102967517,\n",
              " 0.3084954580576968,\n",
              " 0.27102421444549313,\n",
              " 0.1942423810126744,\n",
              " 0.23934662357118025,\n",
              " 0.42647470860486036,\n",
              " 0.25328516987809513,\n",
              " 0.42647470860486036,\n",
              " 0.25328516987809513]"
            ]
          },
          "metadata": {
            "tags": []
          },
          "execution_count": 154
        }
      ]
    },
    {
      "cell_type": "code",
      "metadata": {
        "colab": {
          "base_uri": "https://localhost:8080/"
        },
        "id": "ldWFn6RYHiAH",
        "outputId": "3755ab53-d99c-42ae-de53-6f5d7fd4ba5f"
      },
      "source": [
        "len(y_spiral_proba)"
      ],
      "execution_count": 155,
      "outputs": [
        {
          "output_type": "execute_result",
          "data": {
            "text/plain": [
              "66"
            ]
          },
          "metadata": {
            "tags": []
          },
          "execution_count": 155
        }
      ]
    },
    {
      "cell_type": "code",
      "metadata": {
        "id": "vOO5v94vDEvn"
      },
      "source": [
        "# calculating standard dev \n",
        "\n",
        "proba1 = [i for i in y_spiral_proba if i < 0.5]\n",
        "proba2 = [i for i in y_spiral_proba if i > 0.5]"
      ],
      "execution_count": 160,
      "outputs": []
    },
    {
      "cell_type": "code",
      "metadata": {
        "colab": {
          "base_uri": "https://localhost:8080/"
        },
        "id": "yQIobQ4PMco1",
        "outputId": "54b6cd34-53f7-4722-e3f6-426d36338c7b"
      },
      "source": [
        "print(proba2)"
      ],
      "execution_count": 164,
      "outputs": [
        {
          "output_type": "stream",
          "text": [
            "[0.9989593501926906, 0.7657691737400566, 0.995665066877425, 0.5826891008680899, 0.7078448261262179, 0.6444538555257089, 0.6363398349971425, 0.5673544406535503, 0.7303400885579483, 0.9783341669979735, 0.7477849319442436, 0.553880408680958, 0.6822663549766973, 0.9904831942662662, 0.9406043596541583, 0.9962750705502315, 0.6790366841003395, 0.9825117079137469, 0.7792052757676815, 0.5647295335677937, 0.5647295335677937, 0.7481736458542284]\n"
          ],
          "name": "stdout"
        }
      ]
    },
    {
      "cell_type": "code",
      "metadata": {
        "colab": {
          "base_uri": "https://localhost:8080/"
        },
        "id": "_RQmDMxeIwV9",
        "outputId": "be994238-569b-4add-ae5d-34cf471f0044"
      },
      "source": [
        "meanval =0\n",
        "\n",
        "for i in proba1:\n",
        "  meanval += (i)\n",
        "\n",
        "meanval /= len(proba1)\n",
        "\n",
        "meanval"
      ],
      "execution_count": 175,
      "outputs": [
        {
          "output_type": "execute_result",
          "data": {
            "text/plain": [
              "0.33446681237722947"
            ]
          },
          "metadata": {
            "tags": []
          },
          "execution_count": 175
        }
      ]
    },
    {
      "cell_type": "code",
      "metadata": {
        "colab": {
          "base_uri": "https://localhost:8080/"
        },
        "id": "Dquv-ArUI_Ls",
        "outputId": "e00a62de-21d9-4dff-ffac-f1b28a7f880c"
      },
      "source": [
        "len(proba2)"
      ],
      "execution_count": 162,
      "outputs": [
        {
          "output_type": "execute_result",
          "data": {
            "text/plain": [
              "22"
            ]
          },
          "metadata": {
            "tags": []
          },
          "execution_count": 162
        }
      ]
    },
    {
      "cell_type": "markdown",
      "metadata": {
        "id": "BI-rcWuANPfE"
      },
      "source": [
        "#### Y Spiral Results"
      ]
    },
    {
      "cell_type": "code",
      "metadata": {
        "id": "SLrbKO744X8b"
      },
      "source": [
        "y_spiral_test = y_spiral_test['CLASS_TYPE'].astype(str).astype(int)"
      ],
      "execution_count": 267,
      "outputs": []
    },
    {
      "cell_type": "code",
      "metadata": {
        "colab": {
          "base_uri": "https://localhost:8080/"
        },
        "id": "wcz85pZi6YjR",
        "outputId": "321b5427-98e5-4647-fdb4-f809a9760516"
      },
      "source": [
        "y_spiral_test.dtypes"
      ],
      "execution_count": 268,
      "outputs": [
        {
          "output_type": "execute_result",
          "data": {
            "text/plain": [
              "dtype('int64')"
            ]
          },
          "metadata": {
            "tags": []
          },
          "execution_count": 268
        }
      ]
    },
    {
      "cell_type": "code",
      "metadata": {
        "colab": {
          "base_uri": "https://localhost:8080/"
        },
        "id": "su5RMaC_MaPF",
        "outputId": "e0cba760-404b-4736-8225-57e88e052c04"
      },
      "source": [
        "clf.score(X_spiral_test, y_spiral_test)"
      ],
      "execution_count": 269,
      "outputs": [
        {
          "output_type": "execute_result",
          "data": {
            "text/plain": [
              "0.6212121212121212"
            ]
          },
          "metadata": {
            "tags": []
          },
          "execution_count": 269
        }
      ]
    },
    {
      "cell_type": "code",
      "metadata": {
        "id": "wZf0iMccM767"
      },
      "source": [
        "target_names = ['Control', 'PD']\n",
        "results = classification_report(y_spiral_test, y_spiral_pred, target_names = target_names, output_dict=True)\n",
        "results = pd.DataFrame(results).transpose()\n",
        "conf_mat = confusion_matrix(y_spiral_test, y_spiral_pred)"
      ],
      "execution_count": 270,
      "outputs": []
    },
    {
      "cell_type": "code",
      "metadata": {
        "colab": {
          "base_uri": "https://localhost:8080/",
          "height": 204
        },
        "id": "thzR3k3lMz31",
        "outputId": "ec28ad4c-0b85-4215-9923-9a120bef2285"
      },
      "source": [
        "results"
      ],
      "execution_count": 41,
      "outputs": [
        {
          "output_type": "execute_result",
          "data": {
            "text/html": [
              "<div>\n",
              "<style scoped>\n",
              "    .dataframe tbody tr th:only-of-type {\n",
              "        vertical-align: middle;\n",
              "    }\n",
              "\n",
              "    .dataframe tbody tr th {\n",
              "        vertical-align: top;\n",
              "    }\n",
              "\n",
              "    .dataframe thead th {\n",
              "        text-align: right;\n",
              "    }\n",
              "</style>\n",
              "<table border=\"1\" class=\"dataframe\">\n",
              "  <thead>\n",
              "    <tr style=\"text-align: right;\">\n",
              "      <th></th>\n",
              "      <th>precision</th>\n",
              "      <th>recall</th>\n",
              "      <th>f1-score</th>\n",
              "      <th>support</th>\n",
              "    </tr>\n",
              "  </thead>\n",
              "  <tbody>\n",
              "    <tr>\n",
              "      <th>Control</th>\n",
              "      <td>0.916667</td>\n",
              "      <td>0.314286</td>\n",
              "      <td>0.468085</td>\n",
              "      <td>35.000000</td>\n",
              "    </tr>\n",
              "    <tr>\n",
              "      <th>PD</th>\n",
              "      <td>0.555556</td>\n",
              "      <td>0.967742</td>\n",
              "      <td>0.705882</td>\n",
              "      <td>31.000000</td>\n",
              "    </tr>\n",
              "    <tr>\n",
              "      <th>accuracy</th>\n",
              "      <td>0.621212</td>\n",
              "      <td>0.621212</td>\n",
              "      <td>0.621212</td>\n",
              "      <td>0.621212</td>\n",
              "    </tr>\n",
              "    <tr>\n",
              "      <th>macro avg</th>\n",
              "      <td>0.736111</td>\n",
              "      <td>0.641014</td>\n",
              "      <td>0.586984</td>\n",
              "      <td>66.000000</td>\n",
              "    </tr>\n",
              "    <tr>\n",
              "      <th>weighted avg</th>\n",
              "      <td>0.747054</td>\n",
              "      <td>0.621212</td>\n",
              "      <td>0.579778</td>\n",
              "      <td>66.000000</td>\n",
              "    </tr>\n",
              "  </tbody>\n",
              "</table>\n",
              "</div>"
            ],
            "text/plain": [
              "              precision    recall  f1-score    support\n",
              "Control        0.916667  0.314286  0.468085  35.000000\n",
              "PD             0.555556  0.967742  0.705882  31.000000\n",
              "accuracy       0.621212  0.621212  0.621212   0.621212\n",
              "macro avg      0.736111  0.641014  0.586984  66.000000\n",
              "weighted avg   0.747054  0.621212  0.579778  66.000000"
            ]
          },
          "metadata": {
            "tags": []
          },
          "execution_count": 41
        }
      ]
    },
    {
      "cell_type": "code",
      "metadata": {
        "colab": {
          "base_uri": "https://localhost:8080/"
        },
        "id": "zAXqc2uPNeq5",
        "outputId": "0ea272e5-464e-486c-d03e-027dc6cad9ca"
      },
      "source": [
        "conf_mat"
      ],
      "execution_count": 42,
      "outputs": [
        {
          "output_type": "execute_result",
          "data": {
            "text/plain": [
              "array([[11, 24],\n",
              "       [ 1, 30]])"
            ]
          },
          "metadata": {
            "tags": []
          },
          "execution_count": 42
        }
      ]
    },
    {
      "cell_type": "code",
      "metadata": {
        "colab": {
          "base_uri": "https://localhost:8080/"
        },
        "id": "vwthqW4OQD2z",
        "outputId": "5afb0519-649e-41bf-c6eb-cd91a222141b"
      },
      "source": [
        "TN, FP, FN, TP = conf_mat.ravel()\n",
        "\n",
        "# Sensitivity, hit rate, recall, or true positive rate\n",
        "TPR = TP/(TP+FN)\n",
        "\n",
        "# Specificity or true negative rate\n",
        "TNR = TN/(TN+FP) \n",
        "\n",
        "# Precision or positive predictive value\n",
        "PPV = TP/(TP+FP)\n",
        "\n",
        "# Negative predictive value\n",
        "NPV = TN/(TN+FN)\n",
        "\n",
        "# Fall out or false positive rate\n",
        "FPR = FP/(FP+TN)\n",
        "\n",
        "# False negative rate\n",
        "FNR = FN/(TP+FN)\n",
        "\n",
        "# False discovery rate\n",
        "FDR = FP/(TP+FP)\n",
        "\n",
        "print(\"TP: \", TP)\n",
        "print(\"TN: \", TN)\n",
        "print(\"FP: \", FP)\n",
        "print(\"FN: \", FN)\n",
        "\n",
        "print(\"Sensitivity: \", TPR)\n",
        "print(\"Specificity: \", TNR)\n",
        "print(\"NPV: \", NPV)\n",
        "print(\"PPV: \", PPV)"
      ],
      "execution_count": 43,
      "outputs": [
        {
          "output_type": "stream",
          "text": [
            "TP:  30\n",
            "TN:  11\n",
            "FP:  24\n",
            "FN:  1\n",
            "Sensitivity:  0.967741935483871\n",
            "Specificity:  0.3142857142857143\n",
            "NPV:  0.9166666666666666\n",
            "PPV:  0.5555555555555556\n"
          ],
          "name": "stdout"
        }
      ]
    },
    {
      "cell_type": "markdown",
      "metadata": {
        "id": "6q-82qHV56E3"
      },
      "source": [
        "Can we somehow get the weights for the model to learn which features are considered most useful?"
      ]
    }
  ]
}